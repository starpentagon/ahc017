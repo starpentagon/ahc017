{
 "cells": [
  {
   "cell_type": "markdown",
   "metadata": {},
   "source": [
    "# コストの下限を求める\n"
   ]
  },
  {
   "cell_type": "code",
   "execution_count": 1,
   "metadata": {},
   "outputs": [],
   "source": [
    "import os\n",
    "\n",
    "import time\n",
    "import datetime\n",
    "\n",
    "import subprocess\n",
    "import logging\n",
    "from concurrent import futures\n",
    "\n",
    "import numpy as np\n",
    "import pandas as pd"
   ]
  },
  {
   "cell_type": "code",
   "execution_count": 2,
   "metadata": {},
   "outputs": [],
   "source": [
    "TESTSET_DIR = os.path.join('/home', 'jupyter', 'work', '01_testset')\n",
    "PRJ_DIR = os.path.join('/home', 'jupyter', 'work', '02_cost_lower_bound')"
   ]
  },
  {
   "cell_type": "markdown",
   "metadata": {},
   "source": [
    "## 実行するロジックの指定"
   ]
  },
  {
   "cell_type": "code",
   "execution_count": 3,
   "metadata": {},
   "outputs": [],
   "source": [
    "def solve(seed, N, M, D, K, problem, prog_path):\n",
    "    start_time = time.perf_counter()\n",
    "    \n",
    "    command_str = 'echo {} | {}'.format(problem, prog_path)\n",
    "    res = subprocess.run(command_str, stdout=subprocess.PIPE, stderr=subprocess.PIPE, shell=True)\n",
    "\n",
    "    # 経過時間(ミリ秒単位)\n",
    "    e_time = time.perf_counter() - start_time\n",
    "    e_time = int(1000 * e_time)    \n",
    "    #print('{}'.format(prob_id))    \n",
    "    return (seed, N, M, D, K, e_time, res)"
   ]
  },
  {
   "cell_type": "code",
   "execution_count": 4,
   "metadata": {},
   "outputs": [],
   "source": [
    "def run_test(testset_name):\n",
    "    result_df = pd.DataFrame()\n",
    "    future_list = []\n",
    "\n",
    "    logger.info('Start')\n",
    "    \n",
    "    testset_path = os.path.join(TESTSET_DIR, testset_name+'.csv')\n",
    "    testset_df = pd.read_csv(testset_path)\n",
    "\n",
    "    with futures.ThreadPoolExecutor(max_workers=12) as executor:\n",
    "        for _, row in testset_df.iterrows():\n",
    "            seed, N, M, D, K, problem = row\n",
    "\n",
    "            # バッチ実行\n",
    "            future = executor.submit(solve, seed=seed,  N=N, M=M, D=D, K=K, problem=problem, prog_path=prog_path)\n",
    "            future_list.append(future)\n",
    "\n",
    "        _ = futures.as_completed(fs=future_list)\n",
    "\n",
    "    for future in future_list:\n",
    "        seed, N, M, D, K, e_time, res = future.result()\n",
    "\n",
    "        # 結果をまとめる\n",
    "        solve_result = []\n",
    "        \n",
    "        solve_result.append(testset_name)\n",
    "\n",
    "        # 問題パラメタ\n",
    "        solve_result.append(seed)\n",
    "        solve_result.append(N)\n",
    "        solve_result.append(M)\n",
    "        solve_result.append(K)\n",
    "        solve_result.append(D)\n",
    "\n",
    "        # 経過時間\n",
    "        solve_result.append(e_time)\n",
    "\n",
    "        try:\n",
    "            # コストの下限\n",
    "            cost_lb = int(res.stderr.decode('utf-8'))\n",
    "                       \n",
    "        except Exception as e:\n",
    "            print('Error: seed={}'.format(seed))\n",
    "            print(e)\n",
    "            return\n",
    "\n",
    "        solve_result.append(cost_lb)\n",
    "\n",
    "        result_df = pd.concat([result_df, pd.DataFrame(solve_result).T], axis=0)\n",
    "\n",
    "    logger.info('finish!')\n",
    "    \n",
    "    # 結果を整形\n",
    "    result_df.index = range(result_df.shape[0])\n",
    "    result_df.columns = ['testset', 'seed', 'N', 'M', 'D', 'K', 'time', 'cost_lb']\n",
    "\n",
    "    return result_df"
   ]
  },
  {
   "cell_type": "code",
   "execution_count": 5,
   "metadata": {},
   "outputs": [],
   "source": [
    "logger = logging.getLogger(__name__)\n",
    "\n",
    "fmt = \"%(asctime)s: %(message)s\"\n",
    "logging.basicConfig(level=logging.INFO, format=fmt)"
   ]
  },
  {
   "cell_type": "code",
   "execution_count": 6,
   "metadata": {},
   "outputs": [
    {
     "name": "stderr",
     "output_type": "stream",
     "text": [
      "2023-01-30 03:53:00,806: Start\n",
      "2023-01-30 04:02:04,570: finish!\n"
     ]
    }
   ],
   "source": [
    "PROG_NAME_LIST = ['main']\n",
    "#TEST_LIST = ['03_test_stress']\n",
    "TEST_LIST = ['01_test_pre']\n",
    "#TEST_LIST = ['00_test_mini']\n",
    "\n",
    "result_dict = {}\n",
    "summary_all_dict = {}\n",
    "\n",
    "for PROG_NAME in PROG_NAME_LIST:\n",
    "    prog_path = os.path.join(PRJ_DIR, PROG_NAME)\n",
    "    \n",
    "    result_df = pd.DataFrame()\n",
    "    \n",
    "    for testset_name in TEST_LIST:\n",
    "        testset_result_df = run_test(testset_name)\n",
    "        result_df = pd.concat([result_df, testset_result_df], axis=0)"
   ]
  },
  {
   "cell_type": "code",
   "execution_count": null,
   "metadata": {},
   "outputs": [],
   "source": []
  },
  {
   "cell_type": "markdown",
   "metadata": {},
   "source": [
    "# 結果ログの保存"
   ]
  },
  {
   "cell_type": "code",
   "execution_count": 8,
   "metadata": {},
   "outputs": [],
   "source": [
    "output_path = os.path.join(TESTSET_DIR, TEST_LIST[0] + '_cost_lb.csv')\n",
    "result_df.to_csv(output_path, index=False)"
   ]
  },
  {
   "cell_type": "code",
   "execution_count": null,
   "metadata": {},
   "outputs": [],
   "source": []
  }
 ],
 "metadata": {
  "kernelspec": {
   "display_name": "Python 3",
   "language": "python",
   "name": "python3"
  },
  "language_info": {
   "codemirror_mode": {
    "name": "ipython",
    "version": 3
   },
   "file_extension": ".py",
   "mimetype": "text/x-python",
   "name": "python",
   "nbconvert_exporter": "python",
   "pygments_lexer": "ipython3",
   "version": "3.8.10"
  }
 },
 "nbformat": 4,
 "nbformat_minor": 4
}
