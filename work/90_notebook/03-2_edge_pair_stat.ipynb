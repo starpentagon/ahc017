{
 "cells": [
  {
   "cell_type": "markdown",
   "metadata": {},
   "source": [
    "# 辺のペアを削除した時の挙動確認"
   ]
  },
  {
   "cell_type": "code",
   "execution_count": 124,
   "metadata": {},
   "outputs": [],
   "source": [
    "import plotly.graph_objects as go\n",
    "import networkx as nx\n",
    "import pandas as pd\n",
    "\n",
    "from matplotlib import pyplot as plt"
   ]
  },
  {
   "cell_type": "code",
   "execution_count": 125,
   "metadata": {},
   "outputs": [],
   "source": [
    "GRAPH_INPUT = '../s7_mini_seed7427.txt'\n",
    "\n",
    "with open(GRAPH_INPUT, 'r') as f:\n",
    "    graph_def_str = f.readline().replace('\\n', '')\n",
    "    \n",
    "graph_def = list(map(int, graph_def_str.split()))    "
   ]
  },
  {
   "cell_type": "code",
   "execution_count": 126,
   "metadata": {},
   "outputs": [],
   "source": [
    "N, M, D, K = graph_def[:4]\n",
    "graph_def = graph_def[4:]\n",
    "\n",
    "edge_info_list = {}\n",
    "edge_list = []\n",
    "\n",
    "for i in range(M):\n",
    "    u = graph_def.pop(0)\n",
    "    v = graph_def.pop(0)\n",
    "    w = graph_def.pop(0)\n",
    "    \n",
    "    if u not in edge_info_list.keys():\n",
    "        edge_info_list[u] = []\n",
    "        \n",
    "    if v not in edge_info_list.keys():\n",
    "        edge_info_list[v] = []\n",
    "\n",
    "    edge_info_list[u].append((i,v,w))\n",
    "    edge_info_list[v].append((i,u,w))\n",
    "    \n",
    "    edge_list.append((u, v, w))\n",
    "\n",
    "pos_list = {}\n",
    "\n",
    "for i in range(N):\n",
    "    u = i + 1\n",
    "    x = graph_def.pop(0)\n",
    "    y = graph_def.pop(0)\n",
    "    \n",
    "    pos_list[u] = (x, y)"
   ]
  },
  {
   "cell_type": "code",
   "execution_count": 127,
   "metadata": {},
   "outputs": [],
   "source": [
    "G = nx.Graph()\n",
    "G.add_weighted_edges_from(edge_list)"
   ]
  },
  {
   "cell_type": "code",
   "execution_count": 128,
   "metadata": {},
   "outputs": [],
   "source": [
    "edge_pair_cost_diff_df = pd.read_csv('../05_EdgePairStat/mini_seed7427.csv')\n",
    "\n",
    "edge_pair_cost_diff_df.columns = ['e1', 'e2', 'cost_diff']\n",
    "edge_pair_cost_diff_df = edge_pair_cost_diff_df.query('cost_diff != 0')"
   ]
  },
  {
   "cell_type": "code",
   "execution_count": 129,
   "metadata": {},
   "outputs": [
    {
     "data": {
      "text/plain": [
       "count    2.852370e+05\n",
       "mean     2.082922e+03\n",
       "std      4.393357e+04\n",
       "min     -1.799297e+06\n",
       "25%      1.000000e+00\n",
       "50%      1.000000e+00\n",
       "75%      2.700000e+01\n",
       "max      3.191379e+06\n",
       "Name: cost_diff, dtype: float64"
      ]
     },
     "execution_count": 129,
     "metadata": {},
     "output_type": "execute_result"
    }
   ],
   "source": [
    "edge_pair_cost_diff_df['cost_diff'].describe()"
   ]
  },
  {
   "cell_type": "markdown",
   "metadata": {},
   "source": [
    "## コスト増/減のケースで確認"
   ]
  },
  {
   "cell_type": "code",
   "execution_count": 153,
   "metadata": {},
   "outputs": [],
   "source": [
    "cost_down = True"
   ]
  },
  {
   "cell_type": "code",
   "execution_count": 181,
   "metadata": {},
   "outputs": [
    {
     "data": {
      "text/html": [
       "<div>\n",
       "<style scoped>\n",
       "    .dataframe tbody tr th:only-of-type {\n",
       "        vertical-align: middle;\n",
       "    }\n",
       "\n",
       "    .dataframe tbody tr th {\n",
       "        vertical-align: top;\n",
       "    }\n",
       "\n",
       "    .dataframe thead th {\n",
       "        text-align: right;\n",
       "    }\n",
       "</style>\n",
       "<table border=\"1\" class=\"dataframe\">\n",
       "  <thead>\n",
       "    <tr style=\"text-align: right;\">\n",
       "      <th></th>\n",
       "      <th>e1</th>\n",
       "      <th>e2</th>\n",
       "      <th>cost_diff</th>\n",
       "    </tr>\n",
       "  </thead>\n",
       "  <tbody>\n",
       "    <tr>\n",
       "      <th>376754</th>\n",
       "      <td>554</td>\n",
       "      <td>867</td>\n",
       "      <td>-1799297</td>\n",
       "    </tr>\n",
       "    <tr>\n",
       "      <th>376595</th>\n",
       "      <td>554</td>\n",
       "      <td>708</td>\n",
       "      <td>-1565737</td>\n",
       "    </tr>\n",
       "    <tr>\n",
       "      <th>426727</th>\n",
       "      <td>708</td>\n",
       "      <td>867</td>\n",
       "      <td>-1524688</td>\n",
       "    </tr>\n",
       "    <tr>\n",
       "      <th>62639</th>\n",
       "      <td>67</td>\n",
       "      <td>867</td>\n",
       "      <td>-1519038</td>\n",
       "    </tr>\n",
       "    <tr>\n",
       "      <th>419950</th>\n",
       "      <td>682</td>\n",
       "      <td>863</td>\n",
       "      <td>-1500530</td>\n",
       "    </tr>\n",
       "    <tr>\n",
       "      <th>62326</th>\n",
       "      <td>67</td>\n",
       "      <td>554</td>\n",
       "      <td>-1467931</td>\n",
       "    </tr>\n",
       "    <tr>\n",
       "      <th>394931</th>\n",
       "      <td>602</td>\n",
       "      <td>924</td>\n",
       "      <td>-1397590</td>\n",
       "    </tr>\n",
       "    <tr>\n",
       "      <th>175787</th>\n",
       "      <td>205</td>\n",
       "      <td>924</td>\n",
       "      <td>-1329842</td>\n",
       "    </tr>\n",
       "    <tr>\n",
       "      <th>175465</th>\n",
       "      <td>205</td>\n",
       "      <td>602</td>\n",
       "      <td>-1324838</td>\n",
       "    </tr>\n",
       "    <tr>\n",
       "      <th>175222</th>\n",
       "      <td>205</td>\n",
       "      <td>359</td>\n",
       "      <td>-1300325</td>\n",
       "    </tr>\n",
       "  </tbody>\n",
       "</table>\n",
       "</div>"
      ],
      "text/plain": [
       "         e1   e2  cost_diff\n",
       "376754  554  867   -1799297\n",
       "376595  554  708   -1565737\n",
       "426727  708  867   -1524688\n",
       "62639    67  867   -1519038\n",
       "419950  682  863   -1500530\n",
       "62326    67  554   -1467931\n",
       "394931  602  924   -1397590\n",
       "175787  205  924   -1329842\n",
       "175465  205  602   -1324838\n",
       "175222  205  359   -1300325"
      ]
     },
     "execution_count": 181,
     "metadata": {},
     "output_type": "execute_result"
    }
   ],
   "source": [
    "edge_pair_cost_diff_df.sort_values('cost_diff', ascending=cost_down, inplace=True)\n",
    "edge_pair_cost_diff_df[:10]"
   ]
  },
  {
   "cell_type": "code",
   "execution_count": 192,
   "metadata": {},
   "outputs": [
    {
     "data": {
      "text/html": [
       "<div>\n",
       "<style scoped>\n",
       "    .dataframe tbody tr th:only-of-type {\n",
       "        vertical-align: middle;\n",
       "    }\n",
       "\n",
       "    .dataframe tbody tr th {\n",
       "        vertical-align: top;\n",
       "    }\n",
       "\n",
       "    .dataframe thead th {\n",
       "        text-align: right;\n",
       "    }\n",
       "</style>\n",
       "<table border=\"1\" class=\"dataframe\">\n",
       "  <thead>\n",
       "    <tr style=\"text-align: right;\">\n",
       "      <th></th>\n",
       "      <th>e1</th>\n",
       "      <th>e2</th>\n",
       "      <th>cost_diff</th>\n",
       "    </tr>\n",
       "  </thead>\n",
       "  <tbody>\n",
       "    <tr>\n",
       "      <th>87709</th>\n",
       "      <td>96</td>\n",
       "      <td>591</td>\n",
       "      <td>-509048</td>\n",
       "    </tr>\n",
       "    <tr>\n",
       "      <th>87736</th>\n",
       "      <td>96</td>\n",
       "      <td>618</td>\n",
       "      <td>-474408</td>\n",
       "    </tr>\n",
       "    <tr>\n",
       "      <th>87563</th>\n",
       "      <td>96</td>\n",
       "      <td>445</td>\n",
       "      <td>-468479</td>\n",
       "    </tr>\n",
       "    <tr>\n",
       "      <th>87636</th>\n",
       "      <td>96</td>\n",
       "      <td>518</td>\n",
       "      <td>-214810</td>\n",
       "    </tr>\n",
       "    <tr>\n",
       "      <th>87391</th>\n",
       "      <td>96</td>\n",
       "      <td>273</td>\n",
       "      <td>-158542</td>\n",
       "    </tr>\n",
       "    <tr>\n",
       "      <th>87695</th>\n",
       "      <td>96</td>\n",
       "      <td>577</td>\n",
       "      <td>-152728</td>\n",
       "    </tr>\n",
       "    <tr>\n",
       "      <th>87368</th>\n",
       "      <td>96</td>\n",
       "      <td>250</td>\n",
       "      <td>-152420</td>\n",
       "    </tr>\n",
       "    <tr>\n",
       "      <th>87802</th>\n",
       "      <td>96</td>\n",
       "      <td>684</td>\n",
       "      <td>-137287</td>\n",
       "    </tr>\n",
       "    <tr>\n",
       "      <th>87890</th>\n",
       "      <td>96</td>\n",
       "      <td>772</td>\n",
       "      <td>-131257</td>\n",
       "    </tr>\n",
       "    <tr>\n",
       "      <th>87648</th>\n",
       "      <td>96</td>\n",
       "      <td>530</td>\n",
       "      <td>-128420</td>\n",
       "    </tr>\n",
       "  </tbody>\n",
       "</table>\n",
       "</div>"
      ],
      "text/plain": [
       "       e1   e2  cost_diff\n",
       "87709  96  591    -509048\n",
       "87736  96  618    -474408\n",
       "87563  96  445    -468479\n",
       "87636  96  518    -214810\n",
       "87391  96  273    -158542\n",
       "87695  96  577    -152728\n",
       "87368  96  250    -152420\n",
       "87802  96  684    -137287\n",
       "87890  96  772    -131257\n",
       "87648  96  530    -128420"
      ]
     },
     "execution_count": 192,
     "metadata": {},
     "output_type": "execute_result"
    }
   ],
   "source": [
    "e = 96\n",
    "edge_pair_cost_diff_df.query('e1=={} or e2=={}'.format(e, e))[:10]"
   ]
  },
  {
   "cell_type": "code",
   "execution_count": 155,
   "metadata": {},
   "outputs": [
    {
     "data": {
      "text/plain": [
       "(554, 867)"
      ]
     },
     "execution_count": 155,
     "metadata": {},
     "output_type": "execute_result"
    }
   ],
   "source": [
    "K = 0\n",
    "\n",
    "e1 = edge_pair_cost_diff_df['e1'].to_list()[K]\n",
    "e2 = edge_pair_cost_diff_df['e2'].to_list()[K]\n",
    "\n",
    "e1, e2"
   ]
  },
  {
   "cell_type": "code",
   "execution_count": 156,
   "metadata": {},
   "outputs": [
    {
     "name": "stdout",
     "output_type": "stream",
     "text": [
      "u=200, v=244, w=26627\n",
      "u=(421, 498), v=(436, 476)\n"
     ]
    }
   ],
   "source": [
    "u1, v1, w1 = edge_list[e1]\n",
    "print('u={}, v={}, w={}'.format(u1, v1, w1))\n",
    "\n",
    "ux, uy = pos_list[u1]\n",
    "vx, vy = pos_list[v1]\n",
    "print('u=({}, {}), v=({}, {})'.format(ux, uy, vx, vy))"
   ]
  },
  {
   "cell_type": "code",
   "execution_count": 157,
   "metadata": {},
   "outputs": [
    {
     "name": "stdout",
     "output_type": "stream",
     "text": [
      "u=200, v=220, w=53075\n",
      "u=(421, 498), v=(385, 537)\n"
     ]
    }
   ],
   "source": [
    "u2, v2, w2 = edge_list[e2]\n",
    "print('u={}, v={}, w={}'.format(u2, v2, w2))\n",
    "\n",
    "ux, uy = pos_list[u2]\n",
    "vx, vy = pos_list[v2]\n",
    "print('u=({}, {}), v=({}, {})'.format(ux, uy, vx, vy))"
   ]
  },
  {
   "cell_type": "code",
   "execution_count": 158,
   "metadata": {},
   "outputs": [],
   "source": [
    "del_edge = set()\n",
    "\n",
    "del_edge.add((u1, v1))\n",
    "del_edge.add((v1, u1))\n",
    "\n",
    "del_edge.add((u2, v2))\n",
    "del_edge.add((v2, u2))"
   ]
  },
  {
   "cell_type": "code",
   "execution_count": 159,
   "metadata": {},
   "outputs": [],
   "source": [
    "orig_all_path_cost = dict(nx.all_pairs_dijkstra_path_length(G))\n",
    "\n",
    "del_G1 = G.copy()\n",
    "del_G1.remove_edge(u1, v1)\n",
    "\n",
    "del_G1_all_path_cost = dict(nx.all_pairs_dijkstra_path_length(del_G1))\n",
    "\n",
    "del_G2 = G.copy()\n",
    "del_G2.remove_edge(u2, v2)\n",
    "\n",
    "del_G2_all_path_cost = dict(nx.all_pairs_dijkstra_path_length(del_G2))\n",
    "\n",
    "del_G12 = G.copy()\n",
    "del_G12.remove_edge(u1, v1)\n",
    "del_G12.remove_edge(u2, v2)\n",
    "\n",
    "del_G12_all_path_cost = dict(nx.all_pairs_dijkstra_path_length(del_G12))"
   ]
  },
  {
   "cell_type": "code",
   "execution_count": 160,
   "metadata": {},
   "outputs": [],
   "source": [
    "node_up_cost_list = []\n",
    "\n",
    "for node in range(1, N+1):\n",
    "    up_cost_1 = sum(del_G1_all_path_cost[node].values())\n",
    "    up_cost_1 -= sum(orig_all_path_cost[node].values())\n",
    "    up_cost_1 *= 1000\n",
    "    up_cost_1 /= N * (N-1)\n",
    "    \n",
    "    up_cost_2 = sum(del_G2_all_path_cost[node].values())\n",
    "    up_cost_2 -= sum(orig_all_path_cost[node].values())\n",
    "    up_cost_2 *= 1000\n",
    "    up_cost_2 /= N * (N-1)\n",
    "\n",
    "    up_cost_12 = sum(del_G12_all_path_cost[node].values())\n",
    "    up_cost_12 -= sum(orig_all_path_cost[node].values())\n",
    "    up_cost_12 *= 1000\n",
    "    up_cost_12 /= N * (N-1)\n",
    "    \n",
    "    up_cost_12 -= up_cost_1 + up_cost_2\n",
    "    \n",
    "    node_up_cost_list.append(up_cost_12)"
   ]
  },
  {
   "cell_type": "code",
   "execution_count": 161,
   "metadata": {},
   "outputs": [
    {
     "data": {
      "image/png": "[encoded data removed]",
      "text/plain": [
       "<Figure size 432x288 with 1 Axes>"
      ]
     },
     "metadata": {
      "needs_background": "light"
     },
     "output_type": "display_data"
    }
   ],
   "source": [
    "node_cost_up_df = pd.DataFrame()\n",
    "\n",
    "node_cost_up_df['N'] = [i for i in range(1, N+1)]\n",
    "node_cost_up_df['cost_up'] = node_up_cost_list\n",
    "\n",
    "node_cost_up_df.sort_values('cost_up', ascending=cost_down, inplace=True)\n",
    "\n",
    "K= 5\n",
    "plt.bar(range(K), node_cost_up_df[:K]['cost_up']);"
   ]
  },
  {
   "cell_type": "code",
   "execution_count": 162,
   "metadata": {},
   "outputs": [
    {
     "data": {
      "text/html": [
       "<div>\n",
       "<style scoped>\n",
       "    .dataframe tbody tr th:only-of-type {\n",
       "        vertical-align: middle;\n",
       "    }\n",
       "\n",
       "    .dataframe tbody tr th {\n",
       "        vertical-align: top;\n",
       "    }\n",
       "\n",
       "    .dataframe thead th {\n",
       "        text-align: right;\n",
       "    }\n",
       "</style>\n",
       "<table border=\"1\" class=\"dataframe\">\n",
       "  <thead>\n",
       "    <tr style=\"text-align: right;\">\n",
       "      <th></th>\n",
       "      <th>N</th>\n",
       "      <th>cost_up</th>\n",
       "    </tr>\n",
       "  </thead>\n",
       "  <tbody>\n",
       "    <tr>\n",
       "      <th>219</th>\n",
       "      <td>220</td>\n",
       "      <td>-36031.959920</td>\n",
       "    </tr>\n",
       "    <tr>\n",
       "      <th>243</th>\n",
       "      <td>244</td>\n",
       "      <td>-35195.583166</td>\n",
       "    </tr>\n",
       "    <tr>\n",
       "      <th>47</th>\n",
       "      <td>48</td>\n",
       "      <td>-22891.402806</td>\n",
       "    </tr>\n",
       "    <tr>\n",
       "      <th>186</th>\n",
       "      <td>187</td>\n",
       "      <td>-22132.757515</td>\n",
       "    </tr>\n",
       "    <tr>\n",
       "      <th>9</th>\n",
       "      <td>10</td>\n",
       "      <td>-22132.757515</td>\n",
       "    </tr>\n",
       "  </tbody>\n",
       "</table>\n",
       "</div>"
      ],
      "text/plain": [
       "       N       cost_up\n",
       "219  220 -36031.959920\n",
       "243  244 -35195.583166\n",
       "47    48 -22891.402806\n",
       "186  187 -22132.757515\n",
       "9     10 -22132.757515"
      ]
     },
     "execution_count": 162,
     "metadata": {},
     "output_type": "execute_result"
    }
   ],
   "source": [
    "node_cost_up_df[:K]"
   ]
  },
  {
   "cell_type": "code",
   "execution_count": 163,
   "metadata": {},
   "outputs": [
    {
     "data": {
      "text/plain": [
       "220"
      ]
     },
     "execution_count": 163,
     "metadata": {},
     "output_type": "execute_result"
    }
   ],
   "source": [
    "target_N = node_cost_up_df['N'].to_list()[0]\n",
    "target_N"
   ]
  },
  {
   "cell_type": "code",
   "execution_count": 164,
   "metadata": {},
   "outputs": [],
   "source": [
    "orig_shortest_path = nx.shortest_path(G, source=target_N, weight='weight')\n",
    "\n",
    "del_G1_shortest_path = nx.shortest_path(del_G1, source=target_N, weight='weight')\n",
    "del_G2_shortest_path = nx.shortest_path(del_G2, source=target_N, weight='weight')\n",
    "del_G12_shortest_path = nx.shortest_path(del_G12, source=target_N, weight='weight')"
   ]
  },
  {
   "cell_type": "code",
   "execution_count": 171,
   "metadata": {},
   "outputs": [],
   "source": [
    "orig_node_pair = set()\n",
    "\n",
    "del_G1_node_pair = set()\n",
    "del_G2_node_pair = set()\n",
    "del_G12_node_pair = set()\n",
    "\n",
    "for node in range(1, N+1):\n",
    "    for i in range(1, len(orig_shortest_path[node])):\n",
    "        n1 = orig_shortest_path[node][i-1]\n",
    "        n2 = orig_shortest_path[node][i]\n",
    "        \n",
    "        orig_node_pair.add((n1, n2))\n",
    "        orig_node_pair.add((n2, n1))\n",
    "\n",
    "    for i in range(1, len(del_G1_shortest_path[node])):\n",
    "        n1 = del_G1_shortest_path[node][i-1]\n",
    "        n2 = del_G1_shortest_path[node][i]\n",
    "        \n",
    "        del_G1_node_pair.add((n1, n2))\n",
    "        del_G1_node_pair.add((n2, n1))\n",
    "        \n",
    "    for i in range(1, len(del_G2_shortest_path[node])):\n",
    "        n1 = del_G2_shortest_path[node][i-1]\n",
    "        n2 = del_G2_shortest_path[node][i]\n",
    "        \n",
    "        del_G2_node_pair.add((n1, n2))\n",
    "        del_G2_node_pair.add((n2, n1))\n",
    "        \n",
    "    for i in range(1, len(del_G12_shortest_path[node])):\n",
    "        n1 = del_G12_shortest_path[node][i-1]\n",
    "        n2 = del_G12_shortest_path[node][i]\n",
    "        \n",
    "        del_G12_node_pair.add((n1, n2))\n",
    "        del_G12_node_pair.add((n2, n1))        \n"
   ]
  },
  {
   "cell_type": "code",
   "execution_count": 172,
   "metadata": {},
   "outputs": [],
   "source": [
    "def in_path_node(orig_shortest_path, check_path, node_list):\n",
    "    for node in range(1, N+1):\n",
    "        if orig_shortest_path[node] ==  check_path[node]:\n",
    "            continue\n",
    "\n",
    "        orig_list = orig_shortest_path[node].copy()\n",
    "        del_list = check_path[node].copy()\n",
    "\n",
    "        while True:\n",
    "            if len(orig_list) == 0 or len(del_list) == 0:\n",
    "                break\n",
    "\n",
    "            if orig_list[-1] != del_list[-1]:\n",
    "                break\n",
    "\n",
    "            orig_list.pop()\n",
    "            del_list.pop()\n",
    "\n",
    "        for n in orig_list:\n",
    "            node_list.add(n)\n",
    "\n",
    "        for n in del_list:\n",
    "            node_list.add(n)    "
   ]
  },
  {
   "cell_type": "code",
   "execution_count": 173,
   "metadata": {},
   "outputs": [],
   "source": [
    "node_list = set()\n",
    "\n",
    "in_path_node(orig_shortest_path, del_G1_shortest_path, node_list)\n",
    "in_path_node(orig_shortest_path, del_G2_shortest_path, node_list)\n",
    "in_path_node(orig_shortest_path, del_G12_shortest_path, node_list)"
   ]
  },
  {
   "cell_type": "code",
   "execution_count": 174,
   "metadata": {},
   "outputs": [],
   "source": [
    "draw_node_list = set(node_list.copy())\n",
    "\n",
    "for node in node_list:\n",
    "    for i, to, w in edge_info_list[node]:\n",
    "        draw_node_list.add(to)"
   ]
  },
  {
   "cell_type": "code",
   "execution_count": 175,
   "metadata": {},
   "outputs": [
    {
     "data": {
      "application/vnd.plotly.v1+json": {
       "config": {
        "plotlyServerURL": "https://plot.ly"
       },
       "data": [
        {
         "marker": {
          "color": "#333333",
          "size": 6
         },
         "mode": "markers+text",
         "name": "",
         "text": [
          "4",
          "10",
          "12",
          "16",
          "17",
          "18",
          "20",
          "22",
          "27",
          "29",
          "30",
          "34",
          "35",
          "37",
          "38",
          "44",
          "45",
          "48",
          "49",
          "55",
          "56",
          "58",
          "59",
          "60",
          "61",
          "62",
          "64",
          "68",
          "69",
          "70",
          "71",
          "75",
          "77",
          "80",
          "81",
          "82",
          "84",
          "85",
          "91",
          "92",
          "93",
          "96",
          "97",
          "99",
          "101",
          "103",
          "106",
          "108",
          "109",
          "110",
          "112",
          "114",
          "122",
          "124",
          "128",
          "129",
          "132",
          "133",
          "134",
          "138",
          "141",
          "146",
          "147",
          "148",
          "152",
          "153",
          "155",
          "162",
          "163",
          "164",
          "166",
          "171",
          "172",
          "177",
          "181",
          "186",
          "187",
          "188",
          "190",
          "199",
          "200",
          "202",
          "206",
          "207",
          "211",
          "213",
          "214",
          "216",
          "219",
          "220",
          "222",
          "229",
          "233",
          "235",
          "238",
          "244",
          "247",
          "248",
          "249",
          "251",
          "254",
          "255",
          "259",
          "263",
          "264",
          "265",
          "266",
          "268",
          "270",
          "273",
          "274",
          "275",
          "277",
          "281",
          "282",
          "283",
          "284",
          "285",
          "287",
          "288",
          "290",
          "294",
          "295",
          "296",
          "297",
          "303",
          "307",
          "313",
          "316",
          "321",
          "322",
          "324",
          "325",
          "329",
          "333",
          "338",
          "339",
          "341",
          "343",
          "344",
          "348",
          "350",
          "352",
          "355",
          "357",
          "358",
          "359",
          "361",
          "363",
          "364",
          "365",
          "368",
          "369",
          "370",
          "374",
          "376",
          "378",
          "380",
          "382",
          "383",
          "385",
          "386",
          "388",
          "390",
          "398",
          "399",
          "402",
          "407",
          "409",
          "410",
          "414",
          "418",
          "420",
          "422",
          "423",
          "427",
          "429",
          "430",
          "432",
          "438",
          "441",
          "444",
          "445",
          "446",
          "448",
          "449",
          "451",
          "454",
          "455",
          "457",
          "460",
          "461",
          "466",
          "471",
          "472",
          "473",
          "476",
          "477",
          "479",
          "480",
          "483",
          "485",
          "487",
          "488",
          "491",
          "493",
          "495",
          "497",
          "498",
          "499",
          "500"
         ],
         "textposition": "top left",
         "type": "scatter",
         "x": [
          283,
          428,
          573,
          735,
          827,
          204,
          634,
          232,
          785,
          479,
          573,
          524,
          350,
          487,
          588,
          578,
          804,
          465,
          309,
          534,
          848,
          375,
          369,
          803,
          121,
          591,
          500,
          785,
          442,
          535,
          864,
          334,
          686,
          589,
          524,
          502,
          388,
          486,
          222,
          485,
          591,
          551,
          228,
          506,
          804,
          661,
          607,
          644,
          504,
          642,
          689,
          798,
          704,
          357,
          418,
          294,
          774,
          166,
          201,
          749,
          391,
          842,
          541,
          365,
          673,
          337,
          248,
          835,
          531,
          269,
          344,
          330,
          231,
          503,
          254,
          718,
          430,
          532,
          544,
          350,
          421,
          392,
          485,
          837,
          230,
          565,
          771,
          933,
          250,
          385,
          370,
          839,
          251,
          469,
          443,
          436,
          580,
          686,
          825,
          618,
          712,
          793,
          292,
          435,
          357,
          604,
          365,
          190,
          495,
          240,
          596,
          521,
          716,
          479,
          325,
          346,
          417,
          243,
          553,
          570,
          483,
          607,
          99,
          513,
          668,
          383,
          509,
          600,
          830,
          755,
          801,
          570,
          420,
          694,
          594,
          720,
          604,
          375,
          922,
          498,
          621,
          546,
          364,
          883,
          646,
          478,
          601,
          215,
          897,
          787,
          767,
          678,
          702,
          910,
          519,
          305,
          536,
          312,
          410,
          494,
          215,
          525,
          596,
          283,
          556,
          404,
          409,
          505,
          327,
          391,
          472,
          723,
          821,
          571,
          202,
          155,
          621,
          924,
          607,
          289,
          509,
          238,
          246,
          411,
          655,
          552,
          297,
          323,
          413,
          528,
          617,
          508,
          368,
          611,
          714,
          619,
          391,
          487,
          643,
          356,
          405,
          532,
          175,
          412,
          326,
          611,
          538,
          445,
          189,
          328,
          458
         ],
         "y": [
          281,
          396,
          418,
          183,
          124,
          336,
          399,
          354,
          503,
          113,
          187,
          297,
          550,
          225,
          640,
          289,
          470,
          449,
          463,
          403,
          339,
          564,
          228,
          204,
          400,
          157,
          105,
          485,
          562,
          342,
          275,
          288,
          496,
          372,
          52,
          252,
          456,
          489,
          376,
          172,
          427,
          254,
          419,
          196,
          416,
          370,
          303,
          382,
          373,
          597,
          361,
          434,
          321,
          506,
          270,
          375,
          294,
          388,
          225,
          307,
          178,
          290,
          261,
          246,
          222,
          524,
          468,
          242,
          372,
          145,
          618,
          312,
          168,
          541,
          356,
          536,
          421,
          315,
          319,
          392,
          498,
          258,
          455,
          301,
          397,
          508,
          207,
          324,
          441,
          537,
          205,
          353,
          452,
          104,
          324,
          476,
          266,
          159,
          326,
          592,
          228,
          617,
          517,
          230,
          463,
          591,
          621,
          270,
          418,
          231,
          116,
          447,
          419,
          536,
          258,
          212,
          436,
          328,
          577,
          401,
          546,
          334,
          332,
          602,
          504,
          433,
          242,
          212,
          207,
          449,
          285,
          265,
          159,
          281,
          132,
          476,
          433,
          274,
          235,
          386,
          403,
          403,
          541,
          190,
          583,
          131,
          513,
          247,
          285,
          188,
          623,
          388,
          293,
          263,
          329,
          550,
          122,
          231,
          397,
          182,
          368,
          178,
          390,
          350,
          296,
          590,
          313,
          118,
          462,
          394,
          553,
          239,
          445,
          456,
          190,
          165,
          552,
          382,
          445,
          192,
          565,
          246,
          182,
          600,
          253,
          219,
          248,
          325,
          539,
          225,
          280,
          360,
          130,
          425,
          434,
          305,
          297,
          366,
          287,
          197,
          253,
          142,
          483,
          553,
          375,
          242,
          105,
          619,
          215,
          423,
          265
         ]
        },
        {
         "line": {
          "color": "#00d5ff",
          "width": 2
         },
         "mode": "lines",
         "name": "",
         "type": "scatter",
         "x": [
          283,
          243
         ],
         "y": [
          281,
          328
         ]
        },
        {
         "line": {
          "color": "#333333",
          "width": 2
         },
         "mode": "lines",
         "name": "",
         "type": "scatter",
         "x": [
          283,
          330
         ],
         "y": [
          281,
          312
         ]
        },
        {
         "line": {
          "color": "#00d5ff",
          "width": 2
         },
         "mode": "lines",
         "name": "",
         "type": "scatter",
         "x": [
          283,
          297
         ],
         "y": [
          281,
          248
         ]
        },
        {
         "line": {
          "color": "#00d5ff",
          "width": 2
         },
         "mode": "lines",
         "name": "",
         "type": "scatter",
         "x": [
          428,
          498
         ],
         "y": [
          396,
          386
         ]
        },
        {
         "line": {
          "color": "#00d5ff",
          "width": 2
         },
         "mode": "lines",
         "name": "",
         "type": "scatter",
         "x": [
          428,
          443
         ],
         "y": [
          396,
          324
         ]
        },
        {
         "line": {
          "color": "#00d5ff",
          "width": 2
         },
         "mode": "lines",
         "name": "",
         "type": "scatter",
         "x": [
          428,
          430
         ],
         "y": [
          396,
          421
         ]
        },
        {
         "line": {
          "color": "#00d5ff",
          "width": 2
         },
         "mode": "lines",
         "name": "",
         "type": "scatter",
         "x": [
          232,
          215
         ],
         "y": [
          354,
          368
         ]
        },
        {
         "line": {
          "color": "#00d5ff",
          "width": 2
         },
         "mode": "lines",
         "name": "",
         "type": "scatter",
         "x": [
          232,
          222
         ],
         "y": [
          354,
          376
         ]
        },
        {
         "line": {
          "color": "#333333",
          "width": 2
         },
         "mode": "lines",
         "name": "",
         "type": "scatter",
         "x": [
          232,
          243
         ],
         "y": [
          354,
          328
         ]
        },
        {
         "line": {
          "color": "#00d5ff",
          "width": 2
         },
         "mode": "lines",
         "name": "",
         "type": "scatter",
         "x": [
          232,
          254
         ],
         "y": [
          354,
          356
         ]
        },
        {
         "line": {
          "color": "#00d5ff",
          "width": 2
         },
         "mode": "lines",
         "name": "",
         "type": "scatter",
         "x": [
          479,
          500
         ],
         "y": [
          113,
          105
         ]
        },
        {
         "line": {
          "color": "#00d5ff",
          "width": 2
         },
         "mode": "lines",
         "name": "",
         "type": "scatter",
         "x": [
          479,
          478
         ],
         "y": [
          113,
          131
         ]
        },
        {
         "line": {
          "color": "#333333",
          "width": 2
         },
         "mode": "lines",
         "name": "",
         "type": "scatter",
         "x": [
          479,
          505
         ],
         "y": [
          113,
          118
         ]
        },
        {
         "line": {
          "color": "#333333",
          "width": 2
         },
         "mode": "lines",
         "name": "",
         "type": "scatter",
         "x": [
          524,
          556
         ],
         "y": [
          297,
          296
         ]
        },
        {
         "line": {
          "color": "#00d5ff",
          "width": 2
         },
         "mode": "lines",
         "name": "",
         "type": "scatter",
         "x": [
          524,
          502
         ],
         "y": [
          297,
          252
         ]
        },
        {
         "line": {
          "color": "#00d5ff",
          "width": 2
         },
         "mode": "lines",
         "name": "",
         "type": "scatter",
         "x": [
          524,
          443
         ],
         "y": [
          297,
          324
         ]
        },
        {
         "line": {
          "color": "#00d5ff",
          "width": 2
         },
         "mode": "lines",
         "name": "",
         "type": "scatter",
         "x": [
          487,
          458
         ],
         "y": [
          225,
          265
         ]
        },
        {
         "line": {
          "color": "#00d5ff",
          "width": 2
         },
         "mode": "lines",
         "name": "",
         "type": "scatter",
         "x": [
          487,
          509
         ],
         "y": [
          225,
          242
         ]
        },
        {
         "line": {
          "color": "#333333",
          "width": 2
         },
         "mode": "lines",
         "name": "",
         "type": "scatter",
         "x": [
          487,
          528
         ],
         "y": [
          225,
          225
         ]
        },
        {
         "line": {
          "color": "#00d5ff",
          "width": 2
         },
         "mode": "lines",
         "name": "",
         "type": "scatter",
         "x": [
          487,
          506
         ],
         "y": [
          225,
          196
         ]
        },
        {
         "line": {
          "color": "#333333",
          "width": 2
         },
         "mode": "lines",
         "name": "",
         "type": "scatter",
         "x": [
          487,
          435
         ],
         "y": [
          225,
          230
         ]
        },
        {
         "line": {
          "color": "#00d5ff",
          "width": 2
         },
         "mode": "lines",
         "name": "",
         "type": "scatter",
         "x": [
          487,
          485
         ],
         "y": [
          225,
          172
         ]
        },
        {
         "line": {
          "color": "#00d5ff",
          "width": 2
         },
         "mode": "lines",
         "name": "",
         "type": "scatter",
         "x": [
          578,
          617
         ],
         "y": [
          289,
          280
         ]
        },
        {
         "line": {
          "color": "#00d5ff",
          "width": 2
         },
         "mode": "lines",
         "name": "",
         "type": "scatter",
         "x": [
          578,
          607
         ],
         "y": [
          289,
          303
         ]
        },
        {
         "line": {
          "color": "#00d5ff",
          "width": 2
         },
         "mode": "lines",
         "name": "",
         "type": "scatter",
         "x": [
          578,
          556
         ],
         "y": [
          289,
          296
         ]
        },
        {
         "line": {
          "color": "#333333",
          "width": 2
         },
         "mode": "lines",
         "name": "",
         "type": "scatter",
         "x": [
          578,
          607
         ],
         "y": [
          289,
          334
         ]
        },
        {
         "line": {
          "color": "#00d5ff",
          "width": 2
         },
         "mode": "lines",
         "name": "",
         "type": "scatter",
         "x": [
          465,
          430
         ],
         "y": [
          449,
          421
         ]
        },
        {
         "line": {
          "color": "#00d5ff",
          "width": 2
         },
         "mode": "lines",
         "name": "",
         "type": "scatter",
         "x": [
          465,
          436
         ],
         "y": [
          449,
          476
         ]
        },
        {
         "line": {
          "color": "#00d5ff",
          "width": 2
         },
         "mode": "lines",
         "name": "",
         "type": "scatter",
         "x": [
          465,
          485
         ],
         "y": [
          449,
          455
         ]
        },
        {
         "line": {
          "color": "#00d5ff",
          "width": 2
         },
         "mode": "lines",
         "name": "",
         "type": "scatter",
         "x": [
          309,
          251
         ],
         "y": [
          463,
          452
         ]
        },
        {
         "line": {
          "color": "#00d5ff",
          "width": 2
         },
         "mode": "lines",
         "name": "",
         "type": "scatter",
         "x": [
          309,
          250
         ],
         "y": [
          463,
          441
         ]
        },
        {
         "line": {
          "color": "#00d5ff",
          "width": 2
         },
         "mode": "lines",
         "name": "",
         "type": "scatter",
         "x": [
          309,
          337
         ],
         "y": [
          463,
          524
         ]
        },
        {
         "line": {
          "color": "#333333",
          "width": 2
         },
         "mode": "lines",
         "name": "",
         "type": "scatter",
         "x": [
          309,
          292
         ],
         "y": [
          463,
          517
         ]
        },
        {
         "line": {
          "color": "#00d5ff",
          "width": 2
         },
         "mode": "lines",
         "name": "",
         "type": "scatter",
         "x": [
          309,
          248
         ],
         "y": [
          463,
          468
         ]
        },
        {
         "line": {
          "color": "#00d5ff",
          "width": 2
         },
         "mode": "lines",
         "name": "",
         "type": "scatter",
         "x": [
          534,
          531
         ],
         "y": [
          403,
          372
         ]
        },
        {
         "line": {
          "color": "#00d5ff",
          "width": 2
         },
         "mode": "lines",
         "name": "",
         "type": "scatter",
         "x": [
          534,
          495
         ],
         "y": [
          403,
          418
         ]
        },
        {
         "line": {
          "color": "#333333",
          "width": 2
         },
         "mode": "lines",
         "name": "",
         "type": "scatter",
         "x": [
          534,
          498
         ],
         "y": [
          403,
          386
         ]
        },
        {
         "line": {
          "color": "#00d5ff",
          "width": 2
         },
         "mode": "lines",
         "name": "",
         "type": "scatter",
         "x": [
          848,
          933
         ],
         "y": [
          339,
          324
         ]
        },
        {
         "line": {
          "color": "#00d5ff",
          "width": 2
         },
         "mode": "lines",
         "name": "",
         "type": "scatter",
         "x": [
          848,
          825
         ],
         "y": [
          339,
          326
         ]
        },
        {
         "line": {
          "color": "#00d5ff",
          "width": 2
         },
         "mode": "lines",
         "name": "",
         "type": "scatter",
         "x": [
          848,
          924
         ],
         "y": [
          339,
          382
         ]
        },
        {
         "line": {
          "color": "#00d5ff",
          "width": 2
         },
         "mode": "lines",
         "name": "",
         "type": "scatter",
         "x": [
          848,
          839
         ],
         "y": [
          339,
          353
         ]
        },
        {
         "line": {
          "color": "#00d5ff",
          "width": 2
         },
         "mode": "lines",
         "name": "",
         "type": "scatter",
         "x": [
          375,
          385
         ],
         "y": [
          564,
          537
         ]
        },
        {
         "line": {
          "color": "#333333",
          "width": 2
         },
         "mode": "lines",
         "name": "",
         "type": "scatter",
         "x": [
          375,
          412
         ],
         "y": [
          564,
          553
         ]
        },
        {
         "line": {
          "color": "#00d5ff",
          "width": 2
         },
         "mode": "lines",
         "name": "",
         "type": "scatter",
         "x": [
          375,
          404
         ],
         "y": [
          564,
          590
         ]
        },
        {
         "line": {
          "color": "#00d5ff",
          "width": 2
         },
         "mode": "lines",
         "name": "",
         "type": "scatter",
         "x": [
          375,
          364
         ],
         "y": [
          564,
          541
         ]
        },
        {
         "line": {
          "color": "#00d5ff",
          "width": 2
         },
         "mode": "lines",
         "name": "",
         "type": "scatter",
         "x": [
          375,
          344
         ],
         "y": [
          564,
          618
         ]
        },
        {
         "line": {
          "color": "#00d5ff",
          "width": 2
         },
         "mode": "lines",
         "name": "",
         "type": "scatter",
         "x": [
          375,
          365
         ],
         "y": [
          564,
          621
         ]
        },
        {
         "line": {
          "color": "#00d5ff",
          "width": 2
         },
         "mode": "lines",
         "name": "",
         "type": "scatter",
         "x": [
          375,
          350
         ],
         "y": [
          564,
          550
         ]
        },
        {
         "line": {
          "color": "#00d5ff",
          "width": 2
         },
         "mode": "lines",
         "name": "",
         "type": "scatter",
         "x": [
          803,
          830
         ],
         "y": [
          204,
          207
         ]
        },
        {
         "line": {
          "color": "#333333",
          "width": 2
         },
         "mode": "lines",
         "name": "",
         "type": "scatter",
         "x": [
          803,
          787
         ],
         "y": [
          204,
          188
         ]
        },
        {
         "line": {
          "color": "#00d5ff",
          "width": 2
         },
         "mode": "lines",
         "name": "",
         "type": "scatter",
         "x": [
          803,
          771
         ],
         "y": [
          204,
          207
         ]
        },
        {
         "line": {
          "color": "#333333",
          "width": 2
         },
         "mode": "lines",
         "name": "",
         "type": "scatter",
         "x": [
          500,
          469
         ],
         "y": [
          105,
          104
         ]
        },
        {
         "line": {
          "color": "#333333",
          "width": 2
         },
         "mode": "lines",
         "name": "",
         "type": "scatter",
         "x": [
          500,
          505
         ],
         "y": [
          105,
          118
         ]
        },
        {
         "line": {
          "color": "#00d5ff",
          "width": 2
         },
         "mode": "lines",
         "name": "",
         "type": "scatter",
         "x": [
          500,
          524
         ],
         "y": [
          105,
          52
         ]
        },
        {
         "line": {
          "color": "#00d5ff",
          "width": 2
         },
         "mode": "lines",
         "name": "",
         "type": "scatter",
         "x": [
          442,
          412
         ],
         "y": [
          562,
          553
         ]
        },
        {
         "line": {
          "color": "#333333",
          "width": 2
         },
         "mode": "lines",
         "name": "",
         "type": "scatter",
         "x": [
          442,
          413
         ],
         "y": [
          562,
          539
         ]
        },
        {
         "line": {
          "color": "#00d5ff",
          "width": 2
         },
         "mode": "lines",
         "name": "",
         "type": "scatter",
         "x": [
          442,
          411
         ],
         "y": [
          562,
          600
         ]
        },
        {
         "line": {
          "color": "#00d5ff",
          "width": 2
         },
         "mode": "lines",
         "name": "",
         "type": "scatter",
         "x": [
          442,
          472
         ],
         "y": [
          562,
          553
         ]
        },
        {
         "line": {
          "color": "#00d5ff",
          "width": 2
         },
         "mode": "lines",
         "name": "",
         "type": "scatter",
         "x": [
          442,
          445
         ],
         "y": [
          562,
          619
         ]
        },
        {
         "line": {
          "color": "#00d5ff",
          "width": 2
         },
         "mode": "lines",
         "name": "",
         "type": "scatter",
         "x": [
          535,
          544
         ],
         "y": [
          342,
          319
         ]
        },
        {
         "line": {
          "color": "#00d5ff",
          "width": 2
         },
         "mode": "lines",
         "name": "",
         "type": "scatter",
         "x": [
          535,
          532
         ],
         "y": [
          342,
          315
         ]
        },
        {
         "line": {
          "color": "#00d5ff",
          "width": 2
         },
         "mode": "lines",
         "name": "",
         "type": "scatter",
         "x": [
          535,
          519
         ],
         "y": [
          342,
          329
         ]
        },
        {
         "line": {
          "color": "#00d5ff",
          "width": 2
         },
         "mode": "lines",
         "name": "",
         "type": "scatter",
         "x": [
          535,
          531
         ],
         "y": [
          342,
          372
         ]
        },
        {
         "line": {
          "color": "#333333",
          "width": 2
         },
         "mode": "lines",
         "name": "",
         "type": "scatter",
         "x": [
          535,
          508
         ],
         "y": [
          342,
          360
         ]
        },
        {
         "line": {
          "color": "#00d5ff",
          "width": 2
         },
         "mode": "lines",
         "name": "",
         "type": "scatter",
         "x": [
          502,
          541
         ],
         "y": [
          252,
          261
         ]
        },
        {
         "line": {
          "color": "#333333",
          "width": 2
         },
         "mode": "lines",
         "name": "",
         "type": "scatter",
         "x": [
          502,
          458
         ],
         "y": [
          252,
          265
         ]
        },
        {
         "line": {
          "color": "#333333",
          "width": 2
         },
         "mode": "lines",
         "name": "",
         "type": "scatter",
         "x": [
          388,
          357
         ],
         "y": [
          456,
          463
         ]
        },
        {
         "line": {
          "color": "#333333",
          "width": 2
         },
         "mode": "lines",
         "name": "",
         "type": "scatter",
         "x": [
          388,
          417
         ],
         "y": [
          456,
          436
         ]
        },
        {
         "line": {
          "color": "#00d5ff",
          "width": 2
         },
         "mode": "lines",
         "name": "",
         "type": "scatter",
         "x": [
          388,
          436
         ],
         "y": [
          456,
          476
         ]
        },
        {
         "line": {
          "color": "#00d5ff",
          "width": 2
         },
         "mode": "lines",
         "name": "",
         "type": "scatter",
         "x": [
          486,
          436
         ],
         "y": [
          489,
          476
         ]
        },
        {
         "line": {
          "color": "#333333",
          "width": 2
         },
         "mode": "lines",
         "name": "",
         "type": "scatter",
         "x": [
          486,
          479
         ],
         "y": [
          489,
          536
         ]
        },
        {
         "line": {
          "color": "#333333",
          "width": 2
         },
         "mode": "lines",
         "name": "",
         "type": "scatter",
         "x": [
          486,
          503
         ],
         "y": [
          489,
          541
         ]
        },
        {
         "line": {
          "color": "#333333",
          "width": 2
         },
         "mode": "lines",
         "name": "",
         "type": "scatter",
         "x": [
          486,
          485
         ],
         "y": [
          489,
          455
         ]
        },
        {
         "line": {
          "color": "#333333",
          "width": 2
         },
         "mode": "lines",
         "name": "",
         "type": "scatter",
         "x": [
          485,
          494
         ],
         "y": [
          172,
          182
         ]
        },
        {
         "line": {
          "color": "#333333",
          "width": 2
         },
         "mode": "lines",
         "name": "",
         "type": "scatter",
         "x": [
          485,
          420
         ],
         "y": [
          172,
          159
         ]
        },
        {
         "line": {
          "color": "#333333",
          "width": 2
         },
         "mode": "lines",
         "name": "",
         "type": "scatter",
         "x": [
          485,
          525
         ],
         "y": [
          172,
          178
         ]
        },
        {
         "line": {
          "color": "#00d5ff",
          "width": 2
         },
         "mode": "lines",
         "name": "",
         "type": "scatter",
         "x": [
          485,
          532
         ],
         "y": [
          172,
          142
         ]
        },
        {
         "line": {
          "color": "#00d5ff",
          "width": 2
         },
         "mode": "lines",
         "name": "",
         "type": "scatter",
         "x": [
          591,
          604
         ],
         "y": [
          427,
          433
         ]
        },
        {
         "line": {
          "color": "#00d5ff",
          "width": 2
         },
         "mode": "lines",
         "name": "",
         "type": "scatter",
         "x": [
          591,
          596
         ],
         "y": [
          427,
          390
         ]
        },
        {
         "line": {
          "color": "#333333",
          "width": 2
         },
         "mode": "lines",
         "name": "",
         "type": "scatter",
         "x": [
          591,
          607
         ],
         "y": [
          427,
          445
         ]
        },
        {
         "line": {
          "color": "#00d5ff",
          "width": 2
         },
         "mode": "lines",
         "name": "",
         "type": "scatter",
         "x": [
          591,
          571
         ],
         "y": [
          427,
          456
         ]
        },
        {
         "line": {
          "color": "#00d5ff",
          "width": 2
         },
         "mode": "lines",
         "name": "",
         "type": "scatter",
         "x": [
          228,
          166
         ],
         "y": [
          419,
          388
         ]
        },
        {
         "line": {
          "color": "#333333",
          "width": 2
         },
         "mode": "lines",
         "name": "",
         "type": "scatter",
         "x": [
          228,
          175
         ],
         "y": [
          419,
          483
         ]
        },
        {
         "line": {
          "color": "#333333",
          "width": 2
         },
         "mode": "lines",
         "name": "",
         "type": "scatter",
         "x": [
          228,
          251
         ],
         "y": [
          419,
          452
         ]
        },
        {
         "line": {
          "color": "#00d5ff",
          "width": 2
         },
         "mode": "lines",
         "name": "",
         "type": "scatter",
         "x": [
          228,
          250
         ],
         "y": [
          419,
          441
         ]
        },
        {
         "line": {
          "color": "#00d5ff",
          "width": 2
         },
         "mode": "lines",
         "name": "",
         "type": "scatter",
         "x": [
          804,
          755
         ],
         "y": [
          416,
          449
         ]
        },
        {
         "line": {
          "color": "#333333",
          "width": 2
         },
         "mode": "lines",
         "name": "",
         "type": "scatter",
         "x": [
          804,
          749
         ],
         "y": [
          416,
          307
         ]
        },
        {
         "line": {
          "color": "#333333",
          "width": 2
         },
         "mode": "lines",
         "name": "",
         "type": "scatter",
         "x": [
          804,
          825
         ],
         "y": [
          416,
          326
         ]
        },
        {
         "line": {
          "color": "#333333",
          "width": 2
         },
         "mode": "lines",
         "name": "",
         "type": "scatter",
         "x": [
          804,
          839
         ],
         "y": [
          416,
          353
         ]
        },
        {
         "line": {
          "color": "#333333",
          "width": 2
         },
         "mode": "lines",
         "name": "",
         "type": "scatter",
         "x": [
          804,
          821
         ],
         "y": [
          416,
          445
         ]
        },
        {
         "line": {
          "color": "#00d5ff",
          "width": 2
         },
         "mode": "lines",
         "name": "",
         "type": "scatter",
         "x": [
          661,
          643
         ],
         "y": [
          370,
          287
         ]
        },
        {
         "line": {
          "color": "#333333",
          "width": 2
         },
         "mode": "lines",
         "name": "",
         "type": "scatter",
         "x": [
          661,
          619
         ],
         "y": [
          370,
          305
         ]
        },
        {
         "line": {
          "color": "#00d5ff",
          "width": 2
         },
         "mode": "lines",
         "name": "",
         "type": "scatter",
         "x": [
          661,
          689
         ],
         "y": [
          370,
          361
         ]
        },
        {
         "line": {
          "color": "#00d5ff",
          "width": 2
         },
         "mode": "lines",
         "name": "",
         "type": "scatter",
         "x": [
          661,
          644
         ],
         "y": [
          370,
          382
         ]
        },
        {
         "line": {
          "color": "#00d5ff",
          "width": 2
         },
         "mode": "lines",
         "name": "",
         "type": "scatter",
         "x": [
          661,
          704
         ],
         "y": [
          370,
          321
         ]
        },
        {
         "line": {
          "color": "#333333",
          "width": 2
         },
         "mode": "lines",
         "name": "",
         "type": "scatter",
         "x": [
          661,
          678
         ],
         "y": [
          370,
          388
         ]
        },
        {
         "line": {
          "color": "#00d5ff",
          "width": 2
         },
         "mode": "lines",
         "name": "",
         "type": "scatter",
         "x": [
          644,
          621
         ],
         "y": [
          382,
          403
         ]
        },
        {
         "line": {
          "color": "#333333",
          "width": 2
         },
         "mode": "lines",
         "name": "",
         "type": "scatter",
         "x": [
          644,
          589
         ],
         "y": [
          382,
          372
         ]
        },
        {
         "line": {
          "color": "#333333",
          "width": 2
         },
         "mode": "lines",
         "name": "",
         "type": "scatter",
         "x": [
          644,
          678
         ],
         "y": [
          382,
          388
         ]
        },
        {
         "line": {
          "color": "#333333",
          "width": 2
         },
         "mode": "lines",
         "name": "",
         "type": "scatter",
         "x": [
          644,
          596
         ],
         "y": [
          382,
          390
         ]
        },
        {
         "line": {
          "color": "#333333",
          "width": 2
         },
         "mode": "lines",
         "name": "",
         "type": "scatter",
         "x": [
          689,
          704
         ],
         "y": [
          361,
          321
         ]
        },
        {
         "line": {
          "color": "#00d5ff",
          "width": 2
         },
         "mode": "lines",
         "name": "",
         "type": "scatter",
         "x": [
          689,
          749
         ],
         "y": [
          361,
          307
         ]
        },
        {
         "line": {
          "color": "#00d5ff",
          "width": 2
         },
         "mode": "lines",
         "name": "",
         "type": "scatter",
         "x": [
          357,
          357
         ],
         "y": [
          506,
          463
         ]
        },
        {
         "line": {
          "color": "#00d5ff",
          "width": 2
         },
         "mode": "lines",
         "name": "",
         "type": "scatter",
         "x": [
          357,
          337
         ],
         "y": [
          506,
          524
         ]
        },
        {
         "line": {
          "color": "#00d5ff",
          "width": 2
         },
         "mode": "lines",
         "name": "",
         "type": "scatter",
         "x": [
          357,
          327
         ],
         "y": [
          506,
          462
         ]
        },
        {
         "line": {
          "color": "#00d5ff",
          "width": 2
         },
         "mode": "lines",
         "name": "",
         "type": "scatter",
         "x": [
          418,
          443
         ],
         "y": [
          270,
          324
         ]
        },
        {
         "line": {
          "color": "#333333",
          "width": 2
         },
         "mode": "lines",
         "name": "",
         "type": "scatter",
         "x": [
          418,
          391
         ],
         "y": [
          270,
          297
         ]
        },
        {
         "line": {
          "color": "#00d5ff",
          "width": 2
         },
         "mode": "lines",
         "name": "",
         "type": "scatter",
         "x": [
          418,
          405
         ],
         "y": [
          270,
          253
         ]
        },
        {
         "line": {
          "color": "#00d5ff",
          "width": 2
         },
         "mode": "lines",
         "name": "",
         "type": "scatter",
         "x": [
          418,
          458
         ],
         "y": [
          270,
          265
         ]
        },
        {
         "line": {
          "color": "#00d5ff",
          "width": 2
         },
         "mode": "lines",
         "name": "",
         "type": "scatter",
         "x": [
          418,
          435
         ],
         "y": [
          270,
          230
         ]
        },
        {
         "line": {
          "color": "#333333",
          "width": 2
         },
         "mode": "lines",
         "name": "",
         "type": "scatter",
         "x": [
          166,
          222
         ],
         "y": [
          388,
          376
         ]
        },
        {
         "line": {
          "color": "#333333",
          "width": 2
         },
         "mode": "lines",
         "name": "",
         "type": "scatter",
         "x": [
          166,
          215
         ],
         "y": [
          388,
          368
         ]
        },
        {
         "line": {
          "color": "#333333",
          "width": 2
         },
         "mode": "lines",
         "name": "",
         "type": "scatter",
         "x": [
          166,
          230
         ],
         "y": [
          388,
          397
         ]
        },
        {
         "line": {
          "color": "#00d5ff",
          "width": 2
         },
         "mode": "lines",
         "name": "",
         "type": "scatter",
         "x": [
          166,
          121
         ],
         "y": [
          388,
          400
         ]
        },
        {
         "line": {
          "color": "#00d5ff",
          "width": 2
         },
         "mode": "lines",
         "name": "",
         "type": "scatter",
         "x": [
          201,
          189
         ],
         "y": [
          225,
          215
         ]
        },
        {
         "line": {
          "color": "#00d5ff",
          "width": 2
         },
         "mode": "lines",
         "name": "",
         "type": "scatter",
         "x": [
          201,
          240
         ],
         "y": [
          225,
          231
         ]
        },
        {
         "line": {
          "color": "#00d5ff",
          "width": 2
         },
         "mode": "lines",
         "name": "",
         "type": "scatter",
         "x": [
          201,
          190
         ],
         "y": [
          225,
          270
         ]
        },
        {
         "line": {
          "color": "#00d5ff",
          "width": 2
         },
         "mode": "lines",
         "name": "",
         "type": "scatter",
         "x": [
          201,
          202
         ],
         "y": [
          225,
          190
         ]
        },
        {
         "line": {
          "color": "#333333",
          "width": 2
         },
         "mode": "lines",
         "name": "",
         "type": "scatter",
         "x": [
          201,
          215
         ],
         "y": [
          225,
          247
         ]
        },
        {
         "line": {
          "color": "#333333",
          "width": 2
         },
         "mode": "lines",
         "name": "",
         "type": "scatter",
         "x": [
          749,
          716
         ],
         "y": [
          307,
          419
         ]
        },
        {
         "line": {
          "color": "#333333",
          "width": 2
         },
         "mode": "lines",
         "name": "",
         "type": "scatter",
         "x": [
          749,
          702
         ],
         "y": [
          307,
          293
         ]
        },
        {
         "line": {
          "color": "#00d5ff",
          "width": 2
         },
         "mode": "lines",
         "name": "",
         "type": "scatter",
         "x": [
          749,
          825
         ],
         "y": [
          307,
          326
         ]
        },
        {
         "line": {
          "color": "#333333",
          "width": 2
         },
         "mode": "lines",
         "name": "",
         "type": "scatter",
         "x": [
          749,
          704
         ],
         "y": [
          307,
          321
         ]
        },
        {
         "line": {
          "color": "#00d5ff",
          "width": 2
         },
         "mode": "lines",
         "name": "",
         "type": "scatter",
         "x": [
          842,
          837
         ],
         "y": [
          290,
          301
         ]
        },
        {
         "line": {
          "color": "#00d5ff",
          "width": 2
         },
         "mode": "lines",
         "name": "",
         "type": "scatter",
         "x": [
          842,
          864
         ],
         "y": [
          290,
          275
         ]
        },
        {
         "line": {
          "color": "#00d5ff",
          "width": 2
         },
         "mode": "lines",
         "name": "",
         "type": "scatter",
         "x": [
          842,
          835
         ],
         "y": [
          290,
          242
         ]
        },
        {
         "line": {
          "color": "#333333",
          "width": 2
         },
         "mode": "lines",
         "name": "",
         "type": "scatter",
         "x": [
          842,
          801
         ],
         "y": [
          290,
          285
         ]
        },
        {
         "line": {
          "color": "#333333",
          "width": 2
         },
         "mode": "lines",
         "name": "",
         "type": "scatter",
         "x": [
          541,
          528
         ],
         "y": [
          261,
          225
         ]
        },
        {
         "line": {
          "color": "#00d5ff",
          "width": 2
         },
         "mode": "lines",
         "name": "",
         "type": "scatter",
         "x": [
          541,
          551
         ],
         "y": [
          261,
          254
         ]
        },
        {
         "line": {
          "color": "#333333",
          "width": 2
         },
         "mode": "lines",
         "name": "",
         "type": "scatter",
         "x": [
          541,
          509
         ],
         "y": [
          261,
          242
         ]
        },
        {
         "line": {
          "color": "#333333",
          "width": 2
         },
         "mode": "lines",
         "name": "",
         "type": "scatter",
         "x": [
          365,
          375
         ],
         "y": [
          246,
          274
         ]
        },
        {
         "line": {
          "color": "#333333",
          "width": 2
         },
         "mode": "lines",
         "name": "",
         "type": "scatter",
         "x": [
          365,
          334
         ],
         "y": [
          246,
          288
         ]
        },
        {
         "line": {
          "color": "#00d5ff",
          "width": 2
         },
         "mode": "lines",
         "name": "",
         "type": "scatter",
         "x": [
          365,
          325
         ],
         "y": [
          246,
          258
         ]
        },
        {
         "line": {
          "color": "#333333",
          "width": 2
         },
         "mode": "lines",
         "name": "",
         "type": "scatter",
         "x": [
          365,
          369
         ],
         "y": [
          246,
          228
         ]
        },
        {
         "line": {
          "color": "#00d5ff",
          "width": 2
         },
         "mode": "lines",
         "name": "",
         "type": "scatter",
         "x": [
          365,
          392
         ],
         "y": [
          246,
          258
         ]
        },
        {
         "line": {
          "color": "#00d5ff",
          "width": 2
         },
         "mode": "lines",
         "name": "",
         "type": "scatter",
         "x": [
          673,
          686
         ],
         "y": [
          222,
          159
         ]
        },
        {
         "line": {
          "color": "#00d5ff",
          "width": 2
         },
         "mode": "lines",
         "name": "",
         "type": "scatter",
         "x": [
          673,
          712
         ],
         "y": [
          222,
          228
         ]
        },
        {
         "line": {
          "color": "#00d5ff",
          "width": 2
         },
         "mode": "lines",
         "name": "",
         "type": "scatter",
         "x": [
          673,
          655
         ],
         "y": [
          222,
          253
         ]
        },
        {
         "line": {
          "color": "#333333",
          "width": 2
         },
         "mode": "lines",
         "name": "",
         "type": "scatter",
         "x": [
          673,
          694
         ],
         "y": [
          222,
          281
         ]
        },
        {
         "line": {
          "color": "#333333",
          "width": 2
         },
         "mode": "lines",
         "name": "",
         "type": "scatter",
         "x": [
          673,
          600
         ],
         "y": [
          222,
          212
         ]
        },
        {
         "line": {
          "color": "#333333",
          "width": 2
         },
         "mode": "lines",
         "name": "",
         "type": "scatter",
         "x": [
          673,
          611
         ],
         "y": [
          222,
          242
         ]
        },
        {
         "line": {
          "color": "#00d5ff",
          "width": 2
         },
         "mode": "lines",
         "name": "",
         "type": "scatter",
         "x": [
          337,
          364
         ],
         "y": [
          524,
          541
         ]
        },
        {
         "line": {
          "color": "#333333",
          "width": 2
         },
         "mode": "lines",
         "name": "",
         "type": "scatter",
         "x": [
          337,
          350
         ],
         "y": [
          524,
          550
         ]
        },
        {
         "line": {
          "color": "#333333",
          "width": 2
         },
         "mode": "lines",
         "name": "",
         "type": "scatter",
         "x": [
          337,
          305
         ],
         "y": [
          524,
          550
         ]
        },
        {
         "line": {
          "color": "#00d5ff",
          "width": 2
         },
         "mode": "lines",
         "name": "",
         "type": "scatter",
         "x": [
          337,
          292
         ],
         "y": [
          524,
          517
         ]
        },
        {
         "line": {
          "color": "#333333",
          "width": 2
         },
         "mode": "lines",
         "name": "",
         "type": "scatter",
         "x": [
          835,
          801
         ],
         "y": [
          242,
          285
         ]
        },
        {
         "line": {
          "color": "#333333",
          "width": 2
         },
         "mode": "lines",
         "name": "",
         "type": "scatter",
         "x": [
          835,
          864
         ],
         "y": [
          242,
          275
         ]
        },
        {
         "line": {
          "color": "#00d5ff",
          "width": 2
         },
         "mode": "lines",
         "name": "",
         "type": "scatter",
         "x": [
          835,
          910
         ],
         "y": [
          242,
          263
         ]
        },
        {
         "line": {
          "color": "#333333",
          "width": 2
         },
         "mode": "lines",
         "name": "",
         "type": "scatter",
         "x": [
          835,
          830
         ],
         "y": [
          242,
          207
         ]
        },
        {
         "line": {
          "color": "#333333",
          "width": 2
         },
         "mode": "lines",
         "name": "",
         "type": "scatter",
         "x": [
          531,
          570
         ],
         "y": [
          372,
          401
         ]
        },
        {
         "line": {
          "color": "#333333",
          "width": 2
         },
         "mode": "lines",
         "name": "",
         "type": "scatter",
         "x": [
          531,
          504
         ],
         "y": [
          372,
          373
         ]
        },
        {
         "line": {
          "color": "#00d5ff",
          "width": 2
         },
         "mode": "lines",
         "name": "",
         "type": "scatter",
         "x": [
          531,
          546
         ],
         "y": [
          372,
          403
         ]
        },
        {
         "line": {
          "color": "#333333",
          "width": 2
         },
         "mode": "lines",
         "name": "",
         "type": "scatter",
         "x": [
          531,
          498
         ],
         "y": [
          372,
          386
         ]
        },
        {
         "line": {
          "color": "#333333",
          "width": 2
         },
         "mode": "lines",
         "name": "",
         "type": "scatter",
         "x": [
          231,
          269
         ],
         "y": [
          168,
          145
         ]
        },
        {
         "line": {
          "color": "#00d5ff",
          "width": 2
         },
         "mode": "lines",
         "name": "",
         "type": "scatter",
         "x": [
          231,
          202
         ],
         "y": [
          168,
          190
         ]
        },
        {
         "line": {
          "color": "#333333",
          "width": 2
         },
         "mode": "lines",
         "name": "",
         "type": "scatter",
         "x": [
          231,
          155
         ],
         "y": [
          168,
          165
         ]
        },
        {
         "line": {
          "color": "#333333",
          "width": 2
         },
         "mode": "lines",
         "name": "",
         "type": "scatter",
         "x": [
          503,
          553
         ],
         "y": [
          541,
          577
         ]
        },
        {
         "line": {
          "color": "#00d5ff",
          "width": 2
         },
         "mode": "lines",
         "name": "",
         "type": "scatter",
         "x": [
          503,
          565
         ],
         "y": [
          541,
          508
         ]
        },
        {
         "line": {
          "color": "#00d5ff",
          "width": 2
         },
         "mode": "lines",
         "name": "",
         "type": "scatter",
         "x": [
          503,
          483
         ],
         "y": [
          541,
          546
         ]
        },
        {
         "line": {
          "color": "#00d5ff",
          "width": 2
         },
         "mode": "lines",
         "name": "",
         "type": "scatter",
         "x": [
          254,
          283
         ],
         "y": [
          356,
          350
         ]
        },
        {
         "line": {
          "color": "#00d5ff",
          "width": 2
         },
         "mode": "lines",
         "name": "",
         "type": "scatter",
         "x": [
          254,
          230
         ],
         "y": [
          356,
          397
         ]
        },
        {
         "line": {
          "color": "#00d5ff",
          "width": 2
         },
         "mode": "lines",
         "name": "",
         "type": "scatter",
         "x": [
          254,
          243
         ],
         "y": [
          356,
          328
         ]
        },
        {
         "line": {
          "color": "#00d5ff",
          "width": 2
         },
         "mode": "lines",
         "name": "",
         "type": "scatter",
         "x": [
          718,
          720
         ],
         "y": [
          536,
          476
         ]
        },
        {
         "line": {
          "color": "#00d5ff",
          "width": 2
         },
         "mode": "lines",
         "name": "",
         "type": "scatter",
         "x": [
          718,
          646
         ],
         "y": [
          536,
          583
         ]
        },
        {
         "line": {
          "color": "#333333",
          "width": 2
         },
         "mode": "lines",
         "name": "",
         "type": "scatter",
         "x": [
          718,
          686
         ],
         "y": [
          536,
          496
         ]
        },
        {
         "line": {
          "color": "#333333",
          "width": 2
         },
         "mode": "lines",
         "name": "",
         "type": "scatter",
         "x": [
          718,
          793
         ],
         "y": [
          536,
          617
         ]
        },
        {
         "line": {
          "color": "#333333",
          "width": 2
         },
         "mode": "lines",
         "name": "",
         "type": "scatter",
         "x": [
          718,
          767
         ],
         "y": [
          536,
          623
         ]
        },
        {
         "line": {
          "color": "#00d5ff",
          "width": 2
         },
         "mode": "lines",
         "name": "",
         "type": "scatter",
         "x": [
          430,
          410
         ],
         "y": [
          421,
          397
         ]
        },
        {
         "line": {
          "color": "#333333",
          "width": 2
         },
         "mode": "lines",
         "name": "",
         "type": "scatter",
         "x": [
          544,
          532
         ],
         "y": [
          319,
          315
         ]
        },
        {
         "line": {
          "color": "#00d5ff",
          "width": 2
         },
         "mode": "lines",
         "name": "",
         "type": "scatter",
         "x": [
          544,
          607
         ],
         "y": [
          319,
          334
         ]
        },
        {
         "line": {
          "color": "#333333",
          "width": 2
         },
         "mode": "lines",
         "name": "",
         "type": "scatter",
         "x": [
          544,
          589
         ],
         "y": [
          319,
          372
         ]
        },
        {
         "line": {
          "color": "#00d5ff",
          "width": 2
         },
         "mode": "lines",
         "name": "",
         "type": "scatter",
         "x": [
          544,
          556
         ],
         "y": [
          319,
          296
         ]
        },
        {
         "line": {
          "color": "#00d5ff",
          "width": 2
         },
         "mode": "lines",
         "name": "",
         "type": "scatter",
         "x": [
          350,
          326
         ],
         "y": [
          392,
          375
         ]
        },
        {
         "line": {
          "color": "#333333",
          "width": 2
         },
         "mode": "lines",
         "name": "",
         "type": "scatter",
         "x": [
          350,
          409
         ],
         "y": [
          392,
          313
         ]
        },
        {
         "line": {
          "color": "#00d5ff",
          "width": 2
         },
         "mode": "lines",
         "name": "",
         "type": "scatter",
         "x": [
          350,
          323
         ],
         "y": [
          392,
          325
         ]
        },
        {
         "line": {
          "color": "#333333",
          "width": 2
         },
         "mode": "lines",
         "name": "",
         "type": "scatter",
         "x": [
          350,
          391
         ],
         "y": [
          392,
          394
         ]
        },
        {
         "line": {
          "color": "#00d5ff",
          "width": 2
         },
         "mode": "lines",
         "name": "",
         "type": "scatter",
         "x": [
          350,
          383
         ],
         "y": [
          392,
          433
         ]
        },
        {
         "line": {
          "color": "#333333",
          "width": 2
         },
         "mode": "lines",
         "name": "",
         "type": "scatter",
         "x": [
          350,
          328
         ],
         "y": [
          392,
          423
         ]
        },
        {
         "line": {
          "color": "#333333",
          "width": 2
         },
         "mode": "lines",
         "name": "",
         "type": "scatter",
         "x": [
          421,
          479
         ],
         "y": [
          498,
          536
         ]
        },
        {
         "line": {
          "color": "#00d5ff",
          "width": 2
         },
         "mode": "lines",
         "name": "",
         "type": "scatter",
         "x": [
          421,
          436
         ],
         "y": [
          498,
          476
         ]
        },
        {
         "line": {
          "color": "#00d5ff",
          "width": 2
         },
         "mode": "lines",
         "name": "",
         "type": "scatter",
         "x": [
          421,
          385
         ],
         "y": [
          498,
          537
         ]
        },
        {
         "line": {
          "color": "#00d5ff",
          "width": 2
         },
         "mode": "lines",
         "name": "",
         "type": "scatter",
         "x": [
          392,
          369
         ],
         "y": [
          258,
          228
         ]
        },
        {
         "line": {
          "color": "#00d5ff",
          "width": 2
         },
         "mode": "lines",
         "name": "",
         "type": "scatter",
         "x": [
          392,
          375
         ],
         "y": [
          258,
          274
         ]
        },
        {
         "line": {
          "color": "#333333",
          "width": 2
         },
         "mode": "lines",
         "name": "",
         "type": "scatter",
         "x": [
          392,
          405
         ],
         "y": [
          258,
          253
         ]
        },
        {
         "line": {
          "color": "#00d5ff",
          "width": 2
         },
         "mode": "lines",
         "name": "",
         "type": "scatter",
         "x": [
          392,
          391
         ],
         "y": [
          258,
          297
         ]
        },
        {
         "line": {
          "color": "#00d5ff",
          "width": 2
         },
         "mode": "lines",
         "name": "",
         "type": "scatter",
         "x": [
          485,
          495
         ],
         "y": [
          455,
          418
         ]
        },
        {
         "line": {
          "color": "#00d5ff",
          "width": 2
         },
         "mode": "lines",
         "name": "",
         "type": "scatter",
         "x": [
          837,
          897
         ],
         "y": [
          301,
          285
         ]
        },
        {
         "line": {
          "color": "#00d5ff",
          "width": 2
         },
         "mode": "lines",
         "name": "",
         "type": "scatter",
         "x": [
          837,
          825
         ],
         "y": [
          301,
          326
         ]
        },
        {
         "line": {
          "color": "#00d5ff",
          "width": 2
         },
         "mode": "lines",
         "name": "",
         "type": "scatter",
         "x": [
          565,
          601
         ],
         "y": [
          508,
          513
         ]
        },
        {
         "line": {
          "color": "#333333",
          "width": 2
         },
         "mode": "lines",
         "name": "",
         "type": "scatter",
         "x": [
          565,
          553
         ],
         "y": [
          508,
          577
         ]
        },
        {
         "line": {
          "color": "#00d5ff",
          "width": 2
         },
         "mode": "lines",
         "name": "",
         "type": "scatter",
         "x": [
          771,
          723
         ],
         "y": [
          207,
          239
         ]
        },
        {
         "line": {
          "color": "#333333",
          "width": 2
         },
         "mode": "lines",
         "name": "",
         "type": "scatter",
         "x": [
          771,
          774
         ],
         "y": [
          207,
          294
         ]
        },
        {
         "line": {
          "color": "#333333",
          "width": 2
         },
         "mode": "lines",
         "name": "",
         "type": "scatter",
         "x": [
          771,
          735
         ],
         "y": [
          207,
          183
         ]
        },
        {
         "line": {
          "color": "#333333",
          "width": 2
         },
         "mode": "lines",
         "name": "",
         "type": "scatter",
         "x": [
          250,
          328
         ],
         "y": [
          441,
          423
         ]
        },
        {
         "line": {
          "color": "#333333",
          "width": 2
         },
         "mode": "lines",
         "name": "",
         "type": "scatter",
         "x": [
          250,
          294
         ],
         "y": [
          441,
          375
         ]
        },
        {
         "line": {
          "color": "#333333",
          "width": 2
         },
         "mode": "lines",
         "name": "",
         "type": "scatter",
         "x": [
          250,
          251
         ],
         "y": [
          441,
          452
         ]
        },
        {
         "line": {
          "color": "#00d5ff",
          "width": 2
         },
         "mode": "lines",
         "name": "",
         "type": "scatter",
         "x": [
          385,
          412
         ],
         "y": [
          537,
          553
         ]
        },
        {
         "line": {
          "color": "#333333",
          "width": 2
         },
         "mode": "lines",
         "name": "",
         "type": "scatter",
         "x": [
          443,
          487
         ],
         "y": [
          324,
          366
         ]
        },
        {
         "line": {
          "color": "#333333",
          "width": 2
         },
         "mode": "lines",
         "name": "",
         "type": "scatter",
         "x": [
          443,
          410
         ],
         "y": [
          324,
          397
         ]
        },
        {
         "line": {
          "color": "#00d5ff",
          "width": 2
         },
         "mode": "lines",
         "name": "",
         "type": "scatter",
         "x": [
          436,
          417
         ],
         "y": [
          476,
          436
         ]
        },
        {
         "line": {
          "color": "#00d5ff",
          "width": 2
         },
         "mode": "lines",
         "name": "",
         "type": "scatter",
         "x": [
          825,
          801
         ],
         "y": [
          326,
          285
         ]
        },
        {
         "line": {
          "color": "#333333",
          "width": 2
         },
         "mode": "lines",
         "name": "",
         "type": "scatter",
         "x": [
          825,
          774
         ],
         "y": [
          326,
          294
         ]
        },
        {
         "line": {
          "color": "#333333",
          "width": 2
         },
         "mode": "lines",
         "name": "",
         "type": "scatter",
         "x": [
          618,
          604
         ],
         "y": [
          592,
          591
         ]
        },
        {
         "line": {
          "color": "#00d5ff",
          "width": 2
         },
         "mode": "lines",
         "name": "",
         "type": "scatter",
         "x": [
          618,
          646
         ],
         "y": [
          592,
          583
         ]
        },
        {
         "line": {
          "color": "#00d5ff",
          "width": 2
         },
         "mode": "lines",
         "name": "",
         "type": "scatter",
         "x": [
          618,
          621
         ],
         "y": [
          592,
          552
         ]
        },
        {
         "line": {
          "color": "#00d5ff",
          "width": 2
         },
         "mode": "lines",
         "name": "",
         "type": "scatter",
         "x": [
          618,
          642
         ],
         "y": [
          592,
          597
         ]
        },
        {
         "line": {
          "color": "#00d5ff",
          "width": 2
         },
         "mode": "lines",
         "name": "",
         "type": "scatter",
         "x": [
          712,
          723
         ],
         "y": [
          228,
          239
         ]
        },
        {
         "line": {
          "color": "#333333",
          "width": 2
         },
         "mode": "lines",
         "name": "",
         "type": "scatter",
         "x": [
          712,
          694
         ],
         "y": [
          228,
          281
         ]
        },
        {
         "line": {
          "color": "#00d5ff",
          "width": 2
         },
         "mode": "lines",
         "name": "",
         "type": "scatter",
         "x": [
          712,
          735
         ],
         "y": [
          228,
          183
         ]
        },
        {
         "line": {
          "color": "#333333",
          "width": 2
         },
         "mode": "lines",
         "name": "",
         "type": "scatter",
         "x": [
          435,
          405
         ],
         "y": [
          230,
          253
         ]
        },
        {
         "line": {
          "color": "#00d5ff",
          "width": 2
         },
         "mode": "lines",
         "name": "",
         "type": "scatter",
         "x": [
          435,
          420
         ],
         "y": [
          230,
          159
         ]
        },
        {
         "line": {
          "color": "#333333",
          "width": 2
         },
         "mode": "lines",
         "name": "",
         "type": "scatter",
         "x": [
          435,
          369
         ],
         "y": [
          230,
          228
         ]
        },
        {
         "line": {
          "color": "#333333",
          "width": 2
         },
         "mode": "lines",
         "name": "",
         "type": "scatter",
         "x": [
          435,
          370
         ],
         "y": [
          230,
          205
         ]
        },
        {
         "line": {
          "color": "#333333",
          "width": 2
         },
         "mode": "lines",
         "name": "",
         "type": "scatter",
         "x": [
          357,
          327
         ],
         "y": [
          463,
          462
         ]
        },
        {
         "line": {
          "color": "#333333",
          "width": 2
         },
         "mode": "lines",
         "name": "",
         "type": "scatter",
         "x": [
          357,
          383
         ],
         "y": [
          463,
          433
         ]
        },
        {
         "line": {
          "color": "#333333",
          "width": 2
         },
         "mode": "lines",
         "name": "",
         "type": "scatter",
         "x": [
          190,
          215
         ],
         "y": [
          270,
          247
         ]
        },
        {
         "line": {
          "color": "#00d5ff",
          "width": 2
         },
         "mode": "lines",
         "name": "",
         "type": "scatter",
         "x": [
          190,
          243
         ],
         "y": [
          270,
          328
         ]
        },
        {
         "line": {
          "color": "#333333",
          "width": 2
         },
         "mode": "lines",
         "name": "",
         "type": "scatter",
         "x": [
          190,
          238
         ],
         "y": [
          270,
          246
         ]
        },
        {
         "line": {
          "color": "#333333",
          "width": 2
         },
         "mode": "lines",
         "name": "",
         "type": "scatter",
         "x": [
          190,
          99
         ],
         "y": [
          270,
          332
         ]
        },
        {
         "line": {
          "color": "#00d5ff",
          "width": 2
         },
         "mode": "lines",
         "name": "",
         "type": "scatter",
         "x": [
          495,
          521
         ],
         "y": [
          418,
          447
         ]
        },
        {
         "line": {
          "color": "#00d5ff",
          "width": 2
         },
         "mode": "lines",
         "name": "",
         "type": "scatter",
         "x": [
          521,
          571
         ],
         "y": [
          447,
          456
         ]
        },
        {
         "line": {
          "color": "#00d5ff",
          "width": 2
         },
         "mode": "lines",
         "name": "",
         "type": "scatter",
         "x": [
          521,
          573
         ],
         "y": [
          447,
          418
         ]
        },
        {
         "line": {
          "color": "#00d5ff",
          "width": 2
         },
         "mode": "lines",
         "name": "",
         "type": "scatter",
         "x": [
          479,
          483
         ],
         "y": [
          536,
          546
         ]
        },
        {
         "line": {
          "color": "#00d5ff",
          "width": 2
         },
         "mode": "lines",
         "name": "",
         "type": "scatter",
         "x": [
          479,
          413
         ],
         "y": [
          536,
          539
         ]
        },
        {
         "line": {
          "color": "#00d5ff",
          "width": 2
         },
         "mode": "lines",
         "name": "",
         "type": "scatter",
         "x": [
          325,
          312
         ],
         "y": [
          258,
          231
         ]
        },
        {
         "line": {
          "color": "#333333",
          "width": 2
         },
         "mode": "lines",
         "name": "",
         "type": "scatter",
         "x": [
          325,
          346
         ],
         "y": [
          258,
          212
         ]
        },
        {
         "line": {
          "color": "#00d5ff",
          "width": 2
         },
         "mode": "lines",
         "name": "",
         "type": "scatter",
         "x": [
          417,
          383
         ],
         "y": [
          436,
          433
         ]
        },
        {
         "line": {
          "color": "#00d5ff",
          "width": 2
         },
         "mode": "lines",
         "name": "",
         "type": "scatter",
         "x": [
          243,
          238
         ],
         "y": [
          328,
          246
         ]
        },
        {
         "line": {
          "color": "#00d5ff",
          "width": 2
         },
         "mode": "lines",
         "name": "",
         "type": "scatter",
         "x": [
          243,
          204
         ],
         "y": [
          328,
          336
         ]
        },
        {
         "line": {
          "color": "#00d5ff",
          "width": 2
         },
         "mode": "lines",
         "name": "",
         "type": "scatter",
         "x": [
          553,
          588
         ],
         "y": [
          577,
          640
         ]
        },
        {
         "line": {
          "color": "#00d5ff",
          "width": 2
         },
         "mode": "lines",
         "name": "",
         "type": "scatter",
         "x": [
          553,
          621
         ],
         "y": [
          577,
          552
         ]
        },
        {
         "line": {
          "color": "#00d5ff",
          "width": 2
         },
         "mode": "lines",
         "name": "",
         "type": "scatter",
         "x": [
          553,
          509
         ],
         "y": [
          577,
          565
         ]
        },
        {
         "line": {
          "color": "#333333",
          "width": 2
         },
         "mode": "lines",
         "name": "",
         "type": "scatter",
         "x": [
          553,
          513
         ],
         "y": [
          577,
          602
         ]
        },
        {
         "line": {
          "color": "#333333",
          "width": 2
         },
         "mode": "lines",
         "name": "",
         "type": "scatter",
         "x": [
          483,
          509
         ],
         "y": [
          546,
          565
         ]
        },
        {
         "line": {
          "color": "#00d5ff",
          "width": 2
         },
         "mode": "lines",
         "name": "",
         "type": "scatter",
         "x": [
          830,
          827
         ],
         "y": [
          207,
          124
         ]
        },
        {
         "line": {
          "color": "#00d5ff",
          "width": 2
         },
         "mode": "lines",
         "name": "",
         "type": "scatter",
         "x": [
          830,
          883
         ],
         "y": [
          207,
          190
         ]
        },
        {
         "line": {
          "color": "#00d5ff",
          "width": 2
         },
         "mode": "lines",
         "name": "",
         "type": "scatter",
         "x": [
          755,
          804
         ],
         "y": [
          449,
          470
         ]
        },
        {
         "line": {
          "color": "#333333",
          "width": 2
         },
         "mode": "lines",
         "name": "",
         "type": "scatter",
         "x": [
          755,
          785
         ],
         "y": [
          449,
          485
         ]
        },
        {
         "line": {
          "color": "#333333",
          "width": 2
         },
         "mode": "lines",
         "name": "",
         "type": "scatter",
         "x": [
          755,
          716
         ],
         "y": [
          449,
          419
         ]
        },
        {
         "line": {
          "color": "#00d5ff",
          "width": 2
         },
         "mode": "lines",
         "name": "",
         "type": "scatter",
         "x": [
          755,
          798
         ],
         "y": [
          449,
          434
         ]
        },
        {
         "line": {
          "color": "#00d5ff",
          "width": 2
         },
         "mode": "lines",
         "name": "",
         "type": "scatter",
         "x": [
          755,
          720
         ],
         "y": [
          449,
          476
         ]
        },
        {
         "line": {
          "color": "#00d5ff",
          "width": 2
         },
         "mode": "lines",
         "name": "",
         "type": "scatter",
         "x": [
          570,
          552
         ],
         "y": [
          265,
          219
         ]
        },
        {
         "line": {
          "color": "#00d5ff",
          "width": 2
         },
         "mode": "lines",
         "name": "",
         "type": "scatter",
         "x": [
          570,
          556
         ],
         "y": [
          265,
          296
         ]
        },
        {
         "line": {
          "color": "#00d5ff",
          "width": 2
         },
         "mode": "lines",
         "name": "",
         "type": "scatter",
         "x": [
          570,
          580
         ],
         "y": [
          265,
          266
         ]
        },
        {
         "line": {
          "color": "#333333",
          "width": 2
         },
         "mode": "lines",
         "name": "",
         "type": "scatter",
         "x": [
          420,
          391
         ],
         "y": [
          159,
          178
         ]
        },
        {
         "line": {
          "color": "#00d5ff",
          "width": 2
         },
         "mode": "lines",
         "name": "",
         "type": "scatter",
         "x": [
          420,
          368
         ],
         "y": [
          159,
          130
         ]
        },
        {
         "line": {
          "color": "#00d5ff",
          "width": 2
         },
         "mode": "lines",
         "name": "",
         "type": "scatter",
         "x": [
          420,
          478
         ],
         "y": [
          159,
          131
         ]
        },
        {
         "line": {
          "color": "#00d5ff",
          "width": 2
         },
         "mode": "lines",
         "name": "",
         "type": "scatter",
         "x": [
          720,
          785
         ],
         "y": [
          476,
          485
         ]
        },
        {
         "line": {
          "color": "#00d5ff",
          "width": 2
         },
         "mode": "lines",
         "name": "",
         "type": "scatter",
         "x": [
          720,
          785
         ],
         "y": [
          476,
          503
         ]
        },
        {
         "line": {
          "color": "#333333",
          "width": 2
         },
         "mode": "lines",
         "name": "",
         "type": "scatter",
         "x": [
          720,
          714
         ],
         "y": [
          476,
          434
         ]
        },
        {
         "line": {
          "color": "#00d5ff",
          "width": 2
         },
         "mode": "lines",
         "name": "",
         "type": "scatter",
         "x": [
          604,
          611
         ],
         "y": [
          433,
          425
         ]
        },
        {
         "line": {
          "color": "#333333",
          "width": 2
         },
         "mode": "lines",
         "name": "",
         "type": "scatter",
         "x": [
          604,
          607
         ],
         "y": [
          433,
          445
         ]
        },
        {
         "line": {
          "color": "#333333",
          "width": 2
         },
         "mode": "lines",
         "name": "",
         "type": "scatter",
         "x": [
          621,
          634
         ],
         "y": [
          403,
          399
         ]
        },
        {
         "line": {
          "color": "#00d5ff",
          "width": 2
         },
         "mode": "lines",
         "name": "",
         "type": "scatter",
         "x": [
          621,
          611
         ],
         "y": [
          403,
          425
         ]
        },
        {
         "line": {
          "color": "#333333",
          "width": 2
         },
         "mode": "lines",
         "name": "",
         "type": "scatter",
         "x": [
          364,
          350
         ],
         "y": [
          541,
          550
         ]
        },
        {
         "line": {
          "color": "#00d5ff",
          "width": 2
         },
         "mode": "lines",
         "name": "",
         "type": "scatter",
         "x": [
          883,
          922
         ],
         "y": [
          190,
          235
         ]
        },
        {
         "line": {
          "color": "#333333",
          "width": 2
         },
         "mode": "lines",
         "name": "",
         "type": "scatter",
         "x": [
          883,
          827
         ],
         "y": [
          190,
          124
         ]
        },
        {
         "line": {
          "color": "#333333",
          "width": 2
         },
         "mode": "lines",
         "name": "",
         "type": "scatter",
         "x": [
          646,
          668
         ],
         "y": [
          583,
          504
         ]
        },
        {
         "line": {
          "color": "#333333",
          "width": 2
         },
         "mode": "lines",
         "name": "",
         "type": "scatter",
         "x": [
          646,
          642
         ],
         "y": [
          583,
          597
         ]
        },
        {
         "line": {
          "color": "#333333",
          "width": 2
         },
         "mode": "lines",
         "name": "",
         "type": "scatter",
         "x": [
          646,
          767
         ],
         "y": [
          583,
          623
         ]
        },
        {
         "line": {
          "color": "#00d5ff",
          "width": 2
         },
         "mode": "lines",
         "name": "",
         "type": "scatter",
         "x": [
          478,
          505
         ],
         "y": [
          131,
          118
         ]
        },
        {
         "line": {
          "color": "#00d5ff",
          "width": 2
         },
         "mode": "lines",
         "name": "",
         "type": "scatter",
         "x": [
          478,
          469
         ],
         "y": [
          131,
          104
         ]
        },
        {
         "line": {
          "color": "#333333",
          "width": 2
         },
         "mode": "lines",
         "name": "",
         "type": "scatter",
         "x": [
          478,
          532
         ],
         "y": [
          131,
          142
         ]
        },
        {
         "line": {
          "color": "#00d5ff",
          "width": 2
         },
         "mode": "lines",
         "name": "",
         "type": "scatter",
         "x": [
          601,
          668
         ],
         "y": [
          513,
          504
         ]
        },
        {
         "line": {
          "color": "#333333",
          "width": 2
         },
         "mode": "lines",
         "name": "",
         "type": "scatter",
         "x": [
          601,
          621
         ],
         "y": [
          513,
          552
         ]
        },
        {
         "line": {
          "color": "#00d5ff",
          "width": 2
         },
         "mode": "lines",
         "name": "",
         "type": "scatter",
         "x": [
          601,
          607
         ],
         "y": [
          513,
          445
         ]
        },
        {
         "line": {
          "color": "#333333",
          "width": 2
         },
         "mode": "lines",
         "name": "",
         "type": "scatter",
         "x": [
          601,
          571
         ],
         "y": [
          513,
          456
         ]
        },
        {
         "line": {
          "color": "#333333",
          "width": 2
         },
         "mode": "lines",
         "name": "",
         "type": "scatter",
         "x": [
          910,
          933
         ],
         "y": [
          263,
          324
         ]
        },
        {
         "line": {
          "color": "#333333",
          "width": 2
         },
         "mode": "lines",
         "name": "",
         "type": "scatter",
         "x": [
          910,
          922
         ],
         "y": [
          263,
          235
         ]
        },
        {
         "line": {
          "color": "#333333",
          "width": 2
         },
         "mode": "lines",
         "name": "",
         "type": "scatter",
         "x": [
          536,
          594
         ],
         "y": [
          122,
          132
         ]
        },
        {
         "line": {
          "color": "#333333",
          "width": 2
         },
         "mode": "lines",
         "name": "",
         "type": "scatter",
         "x": [
          536,
          505
         ],
         "y": [
          122,
          118
         ]
        },
        {
         "line": {
          "color": "#00d5ff",
          "width": 2
         },
         "mode": "lines",
         "name": "",
         "type": "scatter",
         "x": [
          536,
          538
         ],
         "y": [
          122,
          105
         ]
        },
        {
         "line": {
          "color": "#00d5ff",
          "width": 2
         },
         "mode": "lines",
         "name": "",
         "type": "scatter",
         "x": [
          536,
          532
         ],
         "y": [
          122,
          142
         ]
        },
        {
         "line": {
          "color": "#00d5ff",
          "width": 2
         },
         "mode": "lines",
         "name": "",
         "type": "scatter",
         "x": [
          312,
          289
         ],
         "y": [
          231,
          192
         ]
        },
        {
         "line": {
          "color": "#333333",
          "width": 2
         },
         "mode": "lines",
         "name": "",
         "type": "scatter",
         "x": [
          312,
          297
         ],
         "y": [
          231,
          248
         ]
        },
        {
         "line": {
          "color": "#00d5ff",
          "width": 2
         },
         "mode": "lines",
         "name": "",
         "type": "scatter",
         "x": [
          410,
          409
         ],
         "y": [
          397,
          313
         ]
        },
        {
         "line": {
          "color": "#00d5ff",
          "width": 2
         },
         "mode": "lines",
         "name": "",
         "type": "scatter",
         "x": [
          410,
          391
         ],
         "y": [
          397,
          394
         ]
        },
        {
         "line": {
          "color": "#333333",
          "width": 2
         },
         "mode": "lines",
         "name": "",
         "type": "scatter",
         "x": [
          525,
          494
         ],
         "y": [
          178,
          182
         ]
        },
        {
         "line": {
          "color": "#333333",
          "width": 2
         },
         "mode": "lines",
         "name": "",
         "type": "scatter",
         "x": [
          525,
          532
         ],
         "y": [
          178,
          142
         ]
        },
        {
         "line": {
          "color": "#333333",
          "width": 2
         },
         "mode": "lines",
         "name": "",
         "type": "scatter",
         "x": [
          525,
          573
         ],
         "y": [
          178,
          187
         ]
        },
        {
         "line": {
          "color": "#00d5ff",
          "width": 2
         },
         "mode": "lines",
         "name": "",
         "type": "scatter",
         "x": [
          525,
          528
         ],
         "y": [
          178,
          225
         ]
        },
        {
         "line": {
          "color": "#00d5ff",
          "width": 2
         },
         "mode": "lines",
         "name": "",
         "type": "scatter",
         "x": [
          283,
          326
         ],
         "y": [
          350,
          375
         ]
        },
        {
         "line": {
          "color": "#333333",
          "width": 2
         },
         "mode": "lines",
         "name": "",
         "type": "scatter",
         "x": [
          283,
          294
         ],
         "y": [
          350,
          375
         ]
        },
        {
         "line": {
          "color": "#333333",
          "width": 2
         },
         "mode": "lines",
         "name": "",
         "type": "scatter",
         "x": [
          556,
          532
         ],
         "y": [
          296,
          315
         ]
        },
        {
         "line": {
          "color": "#333333",
          "width": 2
         },
         "mode": "lines",
         "name": "",
         "type": "scatter",
         "x": [
          409,
          391
         ],
         "y": [
          313,
          394
         ]
        },
        {
         "line": {
          "color": "#00d5ff",
          "width": 2
         },
         "mode": "lines",
         "name": "",
         "type": "scatter",
         "x": [
          409,
          391
         ],
         "y": [
          313,
          297
         ]
        },
        {
         "line": {
          "color": "#00d5ff",
          "width": 2
         },
         "mode": "lines",
         "name": "",
         "type": "scatter",
         "x": [
          409,
          330
         ],
         "y": [
          313,
          312
         ]
        },
        {
         "line": {
          "color": "#333333",
          "width": 2
         },
         "mode": "lines",
         "name": "",
         "type": "scatter",
         "x": [
          409,
          323
         ],
         "y": [
          313,
          325
         ]
        },
        {
         "line": {
          "color": "#00d5ff",
          "width": 2
         },
         "mode": "lines",
         "name": "",
         "type": "scatter",
         "x": [
          327,
          328
         ],
         "y": [
          462,
          423
         ]
        },
        {
         "line": {
          "color": "#00d5ff",
          "width": 2
         },
         "mode": "lines",
         "name": "",
         "type": "scatter",
         "x": [
          472,
          509
         ],
         "y": [
          553,
          565
         ]
        },
        {
         "line": {
          "color": "#00d5ff",
          "width": 2
         },
         "mode": "lines",
         "name": "",
         "type": "scatter",
         "x": [
          472,
          513
         ],
         "y": [
          553,
          602
         ]
        },
        {
         "line": {
          "color": "#00d5ff",
          "width": 2
         },
         "mode": "lines",
         "name": "",
         "type": "scatter",
         "x": [
          723,
          774
         ],
         "y": [
          239,
          294
         ]
        },
        {
         "line": {
          "color": "#333333",
          "width": 2
         },
         "mode": "lines",
         "name": "",
         "type": "scatter",
         "x": [
          202,
          189
         ],
         "y": [
          190,
          215
         ]
        },
        {
         "line": {
          "color": "#333333",
          "width": 2
         },
         "mode": "lines",
         "name": "",
         "type": "scatter",
         "x": [
          202,
          155
         ],
         "y": [
          190,
          165
         ]
        },
        {
         "line": {
          "color": "#333333",
          "width": 2
         },
         "mode": "lines",
         "name": "",
         "type": "scatter",
         "x": [
          621,
          668
         ],
         "y": [
          552,
          504
         ]
        },
        {
         "line": {
          "color": "#00d5ff",
          "width": 2
         },
         "mode": "lines",
         "name": "",
         "type": "scatter",
         "x": [
          621,
          604
         ],
         "y": [
          552,
          591
         ]
        },
        {
         "line": {
          "color": "#00d5ff",
          "width": 2
         },
         "mode": "lines",
         "name": "",
         "type": "scatter",
         "x": [
          607,
          686
         ],
         "y": [
          445,
          496
         ]
        },
        {
         "line": {
          "color": "#333333",
          "width": 2
         },
         "mode": "lines",
         "name": "",
         "type": "scatter",
         "x": [
          289,
          240
         ],
         "y": [
          192,
          231
         ]
        },
        {
         "line": {
          "color": "#00d5ff",
          "width": 2
         },
         "mode": "lines",
         "name": "",
         "type": "scatter",
         "x": [
          289,
          246
         ],
         "y": [
          192,
          182
         ]
        },
        {
         "line": {
          "color": "#333333",
          "width": 2
         },
         "mode": "lines",
         "name": "",
         "type": "scatter",
         "x": [
          289,
          356
         ],
         "y": [
          192,
          197
         ]
        },
        {
         "line": {
          "color": "#333333",
          "width": 2
         },
         "mode": "lines",
         "name": "",
         "type": "scatter",
         "x": [
          246,
          240
         ],
         "y": [
          182,
          231
         ]
        },
        {
         "line": {
          "color": "#00d5ff",
          "width": 2
         },
         "mode": "lines",
         "name": "",
         "type": "scatter",
         "x": [
          246,
          269
         ],
         "y": [
          182,
          145
         ]
        },
        {
         "line": {
          "color": "#00d5ff",
          "width": 2
         },
         "mode": "lines",
         "name": "",
         "type": "scatter",
         "x": [
          655,
          694
         ],
         "y": [
          253,
          281
         ]
        },
        {
         "line": {
          "color": "#00d5ff",
          "width": 2
         },
         "mode": "lines",
         "name": "",
         "type": "scatter",
         "x": [
          655,
          617
         ],
         "y": [
          253,
          280
         ]
        },
        {
         "line": {
          "color": "#333333",
          "width": 2
         },
         "mode": "lines",
         "name": "",
         "type": "scatter",
         "x": [
          552,
          580
         ],
         "y": [
          219,
          266
         ]
        },
        {
         "line": {
          "color": "#333333",
          "width": 2
         },
         "mode": "lines",
         "name": "",
         "type": "scatter",
         "x": [
          552,
          551
         ],
         "y": [
          219,
          254
         ]
        },
        {
         "line": {
          "color": "#00d5ff",
          "width": 2
         },
         "mode": "lines",
         "name": "",
         "type": "scatter",
         "x": [
          552,
          528
         ],
         "y": [
          219,
          225
         ]
        },
        {
         "line": {
          "color": "#00d5ff",
          "width": 2
         },
         "mode": "lines",
         "name": "",
         "type": "scatter",
         "x": [
          552,
          600
         ],
         "y": [
          219,
          212
         ]
        },
        {
         "line": {
          "color": "#333333",
          "width": 2
         },
         "mode": "lines",
         "name": "",
         "type": "scatter",
         "x": [
          297,
          238
         ],
         "y": [
          248,
          246
         ]
        },
        {
         "line": {
          "color": "#00d5ff",
          "width": 2
         },
         "mode": "lines",
         "name": "",
         "type": "scatter",
         "x": [
          413,
          412
         ],
         "y": [
          539,
          553
         ]
        },
        {
         "line": {
          "color": "#333333",
          "width": 2
         },
         "mode": "lines",
         "name": "",
         "type": "scatter",
         "x": [
          528,
          509
         ],
         "y": [
          225,
          242
         ]
        },
        {
         "line": {
          "color": "#333333",
          "width": 2
         },
         "mode": "lines",
         "name": "",
         "type": "scatter",
         "x": [
          528,
          551
         ],
         "y": [
          225,
          254
         ]
        },
        {
         "line": {
          "color": "#333333",
          "width": 2
         },
         "mode": "lines",
         "name": "",
         "type": "scatter",
         "x": [
          528,
          506
         ],
         "y": [
          225,
          196
         ]
        },
        {
         "line": {
          "color": "#333333",
          "width": 2
         },
         "mode": "lines",
         "name": "",
         "type": "scatter",
         "x": [
          617,
          619
         ],
         "y": [
          280,
          305
         ]
        },
        {
         "line": {
          "color": "#333333",
          "width": 2
         },
         "mode": "lines",
         "name": "",
         "type": "scatter",
         "x": [
          617,
          607
         ],
         "y": [
          280,
          303
         ]
        },
        {
         "line": {
          "color": "#333333",
          "width": 2
         },
         "mode": "lines",
         "name": "",
         "type": "scatter",
         "x": [
          617,
          611
         ],
         "y": [
          280,
          242
         ]
        },
        {
         "line": {
          "color": "#00d5ff",
          "width": 2
         },
         "mode": "lines",
         "name": "",
         "type": "scatter",
         "x": [
          611,
          634
         ],
         "y": [
          425,
          399
         ]
        },
        {
         "line": {
          "color": "#333333",
          "width": 2
         },
         "mode": "lines",
         "name": "",
         "type": "scatter",
         "x": [
          532,
          591
         ],
         "y": [
          142,
          157
         ]
        },
        {
         "line": {
          "color": "#00d5ff",
          "width": 2
         },
         "mode": "lines",
         "name": "",
         "type": "scatter",
         "x": [
          532,
          594
         ],
         "y": [
          142,
          132
         ]
        },
        {
         "line": {
          "color": "#333333",
          "width": 2
         },
         "mode": "lines",
         "name": "",
         "type": "scatter",
         "x": [
          412,
          404
         ],
         "y": [
          553,
          590
         ]
        },
        {
         "line": {
          "color": "#333333",
          "width": 2
         },
         "mode": "lines",
         "name": "",
         "type": "scatter",
         "x": [
          326,
          323
         ],
         "y": [
          375,
          325
         ]
        },
        {
         "line": {
          "color": "#333333",
          "width": 2
         },
         "mode": "lines",
         "name": "",
         "type": "scatter",
         "x": [
          326,
          328
         ],
         "y": [
          375,
          423
         ]
        },
        {
         "line": {
          "color": "#00d5ff",
          "width": 2
         },
         "mode": "lines",
         "name": "",
         "type": "scatter",
         "x": [
          326,
          294
         ],
         "y": [
          375,
          375
         ]
        },
        {
         "line": {
          "color": "#333333",
          "width": 2
         },
         "mode": "lines",
         "name": "",
         "type": "scatter",
         "x": [
          538,
          524
         ],
         "y": [
          105,
          52
         ]
        },
        {
         "line": {
          "color": "#333333",
          "width": 2
         },
         "mode": "lines",
         "name": "",
         "type": "scatter",
         "x": [
          538,
          596
         ],
         "y": [
          105,
          116
         ]
        }
       ],
       "layout": {
        "height": 750,
        "plot_bgcolor": "white",
        "showlegend": false,
        "template": {
         "data": {
          "bar": [
           {
            "error_x": {
             "color": "#2a3f5f"
            },
            "error_y": {
             "color": "#2a3f5f"
            },
            "marker": {
             "line": {
              "color": "#E5ECF6",
              "width": 0.5
             },
             "pattern": {
              "fillmode": "overlay",
              "size": 10,
              "solidity": 0.2
             }
            },
            "type": "bar"
           }
          ],
          "barpolar": [
           {
            "marker": {
             "line": {
              "color": "#E5ECF6",
              "width": 0.5
             },
             "pattern": {
              "fillmode": "overlay",
              "size": 10,
              "solidity": 0.2
             }
            },
            "type": "barpolar"
           }
          ],
          "carpet": [
           {
            "aaxis": {
             "endlinecolor": "#2a3f5f",
             "gridcolor": "white",
             "linecolor": "white",
             "minorgridcolor": "white",
             "startlinecolor": "#2a3f5f"
            },
            "baxis": {
             "endlinecolor": "#2a3f5f",
             "gridcolor": "white",
             "linecolor": "white",
             "minorgridcolor": "white",
             "startlinecolor": "#2a3f5f"
            },
            "type": "carpet"
           }
          ],
          "choropleth": [
           {
            "colorbar": {
             "outlinewidth": 0,
             "ticks": ""
            },
            "type": "choropleth"
           }
          ],
          "contour": [
           {
            "colorbar": {
             "outlinewidth": 0,
             "ticks": ""
            },
            "colorscale": [
             [
              0,
              "#0d0887"
             ],
             [
              0.1111111111111111,
              "#46039f"
             ],
             [
              0.2222222222222222,
              "#7201a8"
             ],
             [
              0.3333333333333333,
              "#9c179e"
             ],
             [
              0.4444444444444444,
              "#bd3786"
             ],
             [
              0.5555555555555556,
              "#d8576b"
             ],
             [
              0.6666666666666666,
              "#ed7953"
             ],
             [
              0.7777777777777778,
              "#fb9f3a"
             ],
             [
              0.8888888888888888,
              "#fdca26"
             ],
             [
              1,
              "#f0f921"
             ]
            ],
            "type": "contour"
           }
          ],
          "contourcarpet": [
           {
            "colorbar": {
             "outlinewidth": 0,
             "ticks": ""
            },
            "type": "contourcarpet"
           }
          ],
          "heatmap": [
           {
            "colorbar": {
             "outlinewidth": 0,
             "ticks": ""
            },
            "colorscale": [
             [
              0,
              "#0d0887"
             ],
             [
              0.1111111111111111,
              "#46039f"
             ],
             [
              0.2222222222222222,
              "#7201a8"
             ],
             [
              0.3333333333333333,
              "#9c179e"
             ],
             [
              0.4444444444444444,
              "#bd3786"
             ],
             [
              0.5555555555555556,
              "#d8576b"
             ],
             [
              0.6666666666666666,
              "#ed7953"
             ],
             [
              0.7777777777777778,
              "#fb9f3a"
             ],
             [
              0.8888888888888888,
              "#fdca26"
             ],
             [
              1,
              "#f0f921"
             ]
            ],
            "type": "heatmap"
           }
          ],
          "heatmapgl": [
           {
            "colorbar": {
             "outlinewidth": 0,
             "ticks": ""
            },
            "colorscale": [
             [
              0,
              "#0d0887"
             ],
             [
              0.1111111111111111,
              "#46039f"
             ],
             [
              0.2222222222222222,
              "#7201a8"
             ],
             [
              0.3333333333333333,
              "#9c179e"
             ],
             [
              0.4444444444444444,
              "#bd3786"
             ],
             [
              0.5555555555555556,
              "#d8576b"
             ],
             [
              0.6666666666666666,
              "#ed7953"
             ],
             [
              0.7777777777777778,
              "#fb9f3a"
             ],
             [
              0.8888888888888888,
              "#fdca26"
             ],
             [
              1,
              "#f0f921"
             ]
            ],
            "type": "heatmapgl"
           }
          ],
          "histogram": [
           {
            "marker": {
             "pattern": {
              "fillmode": "overlay",
              "size": 10,
              "solidity": 0.2
             }
            },
            "type": "histogram"
           }
          ],
          "histogram2d": [
           {
            "colorbar": {
             "outlinewidth": 0,
             "ticks": ""
            },
            "colorscale": [
             [
              0,
              "#0d0887"
             ],
             [
              0.1111111111111111,
              "#46039f"
             ],
             [
              0.2222222222222222,
              "#7201a8"
             ],
             [
              0.3333333333333333,
              "#9c179e"
             ],
             [
              0.4444444444444444,
              "#bd3786"
             ],
             [
              0.5555555555555556,
              "#d8576b"
             ],
             [
              0.6666666666666666,
              "#ed7953"
             ],
             [
              0.7777777777777778,
              "#fb9f3a"
             ],
             [
              0.8888888888888888,
              "#fdca26"
             ],
             [
              1,
              "#f0f921"
             ]
            ],
            "type": "histogram2d"
           }
          ],
          "histogram2dcontour": [
           {
            "colorbar": {
             "outlinewidth": 0,
             "ticks": ""
            },
            "colorscale": [
             [
              0,
              "#0d0887"
             ],
             [
              0.1111111111111111,
              "#46039f"
             ],
             [
              0.2222222222222222,
              "#7201a8"
             ],
             [
              0.3333333333333333,
              "#9c179e"
             ],
             [
              0.4444444444444444,
              "#bd3786"
             ],
             [
              0.5555555555555556,
              "#d8576b"
             ],
             [
              0.6666666666666666,
              "#ed7953"
             ],
             [
              0.7777777777777778,
              "#fb9f3a"
             ],
             [
              0.8888888888888888,
              "#fdca26"
             ],
             [
              1,
              "#f0f921"
             ]
            ],
            "type": "histogram2dcontour"
           }
          ],
          "mesh3d": [
           {
            "colorbar": {
             "outlinewidth": 0,
             "ticks": ""
            },
            "type": "mesh3d"
           }
          ],
          "parcoords": [
           {
            "line": {
             "colorbar": {
              "outlinewidth": 0,
              "ticks": ""
             }
            },
            "type": "parcoords"
           }
          ],
          "pie": [
           {
            "automargin": true,
            "type": "pie"
           }
          ],
          "scatter": [
           {
            "fillpattern": {
             "fillmode": "overlay",
             "size": 10,
             "solidity": 0.2
            },
            "type": "scatter"
           }
          ],
          "scatter3d": [
           {
            "line": {
             "colorbar": {
              "outlinewidth": 0,
              "ticks": ""
             }
            },
            "marker": {
             "colorbar": {
              "outlinewidth": 0,
              "ticks": ""
             }
            },
            "type": "scatter3d"
           }
          ],
          "scattercarpet": [
           {
            "marker": {
             "colorbar": {
              "outlinewidth": 0,
              "ticks": ""
             }
            },
            "type": "scattercarpet"
           }
          ],
          "scattergeo": [
           {
            "marker": {
             "colorbar": {
              "outlinewidth": 0,
              "ticks": ""
             }
            },
            "type": "scattergeo"
           }
          ],
          "scattergl": [
           {
            "marker": {
             "colorbar": {
              "outlinewidth": 0,
              "ticks": ""
             }
            },
            "type": "scattergl"
           }
          ],
          "scattermapbox": [
           {
            "marker": {
             "colorbar": {
              "outlinewidth": 0,
              "ticks": ""
             }
            },
            "type": "scattermapbox"
           }
          ],
          "scatterpolar": [
           {
            "marker": {
             "colorbar": {
              "outlinewidth": 0,
              "ticks": ""
             }
            },
            "type": "scatterpolar"
           }
          ],
          "scatterpolargl": [
           {
            "marker": {
             "colorbar": {
              "outlinewidth": 0,
              "ticks": ""
             }
            },
            "type": "scatterpolargl"
           }
          ],
          "scatterternary": [
           {
            "marker": {
             "colorbar": {
              "outlinewidth": 0,
              "ticks": ""
             }
            },
            "type": "scatterternary"
           }
          ],
          "surface": [
           {
            "colorbar": {
             "outlinewidth": 0,
             "ticks": ""
            },
            "colorscale": [
             [
              0,
              "#0d0887"
             ],
             [
              0.1111111111111111,
              "#46039f"
             ],
             [
              0.2222222222222222,
              "#7201a8"
             ],
             [
              0.3333333333333333,
              "#9c179e"
             ],
             [
              0.4444444444444444,
              "#bd3786"
             ],
             [
              0.5555555555555556,
              "#d8576b"
             ],
             [
              0.6666666666666666,
              "#ed7953"
             ],
             [
              0.7777777777777778,
              "#fb9f3a"
             ],
             [
              0.8888888888888888,
              "#fdca26"
             ],
             [
              1,
              "#f0f921"
             ]
            ],
            "type": "surface"
           }
          ],
          "table": [
           {
            "cells": {
             "fill": {
              "color": "#EBF0F8"
             },
             "line": {
              "color": "white"
             }
            },
            "header": {
             "fill": {
              "color": "#C8D4E3"
             },
             "line": {
              "color": "white"
             }
            },
            "type": "table"
           }
          ]
         },
         "layout": {
          "annotationdefaults": {
           "arrowcolor": "#2a3f5f",
           "arrowhead": 0,
           "arrowwidth": 1
          },
          "autotypenumbers": "strict",
          "coloraxis": {
           "colorbar": {
            "outlinewidth": 0,
            "ticks": ""
           }
          },
          "colorscale": {
           "diverging": [
            [
             0,
             "#8e0152"
            ],
            [
             0.1,
             "#c51b7d"
            ],
            [
             0.2,
             "#de77ae"
            ],
            [
             0.3,
             "#f1b6da"
            ],
            [
             0.4,
             "#fde0ef"
            ],
            [
             0.5,
             "#f7f7f7"
            ],
            [
             0.6,
             "#e6f5d0"
            ],
            [
             0.7,
             "#b8e186"
            ],
            [
             0.8,
             "#7fbc41"
            ],
            [
             0.9,
             "#4d9221"
            ],
            [
             1,
             "#276419"
            ]
           ],
           "sequential": [
            [
             0,
             "#0d0887"
            ],
            [
             0.1111111111111111,
             "#46039f"
            ],
            [
             0.2222222222222222,
             "#7201a8"
            ],
            [
             0.3333333333333333,
             "#9c179e"
            ],
            [
             0.4444444444444444,
             "#bd3786"
            ],
            [
             0.5555555555555556,
             "#d8576b"
            ],
            [
             0.6666666666666666,
             "#ed7953"
            ],
            [
             0.7777777777777778,
             "#fb9f3a"
            ],
            [
             0.8888888888888888,
             "#fdca26"
            ],
            [
             1,
             "#f0f921"
            ]
           ],
           "sequentialminus": [
            [
             0,
             "#0d0887"
            ],
            [
             0.1111111111111111,
             "#46039f"
            ],
            [
             0.2222222222222222,
             "#7201a8"
            ],
            [
             0.3333333333333333,
             "#9c179e"
            ],
            [
             0.4444444444444444,
             "#bd3786"
            ],
            [
             0.5555555555555556,
             "#d8576b"
            ],
            [
             0.6666666666666666,
             "#ed7953"
            ],
            [
             0.7777777777777778,
             "#fb9f3a"
            ],
            [
             0.8888888888888888,
             "#fdca26"
            ],
            [
             1,
             "#f0f921"
            ]
           ]
          },
          "colorway": [
           "#636efa",
           "#EF553B",
           "#00cc96",
           "#ab63fa",
           "#FFA15A",
           "#19d3f3",
           "#FF6692",
           "#B6E880",
           "#FF97FF",
           "#FECB52"
          ],
          "font": {
           "color": "#2a3f5f"
          },
          "geo": {
           "bgcolor": "white",
           "lakecolor": "white",
           "landcolor": "#E5ECF6",
           "showlakes": true,
           "showland": true,
           "subunitcolor": "white"
          },
          "hoverlabel": {
           "align": "left"
          },
          "hovermode": "closest",
          "mapbox": {
           "style": "light"
          },
          "paper_bgcolor": "white",
          "plot_bgcolor": "#E5ECF6",
          "polar": {
           "angularaxis": {
            "gridcolor": "white",
            "linecolor": "white",
            "ticks": ""
           },
           "bgcolor": "#E5ECF6",
           "radialaxis": {
            "gridcolor": "white",
            "linecolor": "white",
            "ticks": ""
           }
          },
          "scene": {
           "xaxis": {
            "backgroundcolor": "#E5ECF6",
            "gridcolor": "white",
            "gridwidth": 2,
            "linecolor": "white",
            "showbackground": true,
            "ticks": "",
            "zerolinecolor": "white"
           },
           "yaxis": {
            "backgroundcolor": "#E5ECF6",
            "gridcolor": "white",
            "gridwidth": 2,
            "linecolor": "white",
            "showbackground": true,
            "ticks": "",
            "zerolinecolor": "white"
           },
           "zaxis": {
            "backgroundcolor": "#E5ECF6",
            "gridcolor": "white",
            "gridwidth": 2,
            "linecolor": "white",
            "showbackground": true,
            "ticks": "",
            "zerolinecolor": "white"
           }
          },
          "shapedefaults": {
           "line": {
            "color": "#2a3f5f"
           }
          },
          "ternary": {
           "aaxis": {
            "gridcolor": "white",
            "linecolor": "white",
            "ticks": ""
           },
           "baxis": {
            "gridcolor": "white",
            "linecolor": "white",
            "ticks": ""
           },
           "bgcolor": "#E5ECF6",
           "caxis": {
            "gridcolor": "white",
            "linecolor": "white",
            "ticks": ""
           }
          },
          "title": {
           "x": 0.05
          },
          "xaxis": {
           "automargin": true,
           "gridcolor": "white",
           "linecolor": "white",
           "ticks": "",
           "title": {
            "standoff": 15
           },
           "zerolinecolor": "white",
           "zerolinewidth": 2
          },
          "yaxis": {
           "automargin": true,
           "gridcolor": "white",
           "linecolor": "white",
           "ticks": "",
           "title": {
            "standoff": 15
           },
           "zerolinecolor": "white",
           "zerolinewidth": 2
          }
         }
        },
        "width": 750
       }
      },
      "text/html": [
       "<div>                            <div id=\"3f774b4a-0c54-4288-a1f9-8be388ef5b34\" class=\"plotly-graph-div\" style=\"height:750px; width:750px;\"></div>            <script type=\"text/javascript\">                require([\"plotly\"], function(Plotly) {                    window.PLOTLYENV=window.PLOTLYENV || {};                                    if (document.getElementById(\"3f774b4a-0c54-4288-a1f9-8be388ef5b34\")) {                    Plotly.newPlot(                        \"3f774b4a-0c54-4288-a1f9-8be388ef5b34\",                        [{\"marker\":{\"color\":\"#333333\",\"size\":6},\"mode\":\"markers+text\",\"name\":\"\",\"text\":[\"4\",\"10\",\"12\",\"16\",\"17\",\"18\",\"20\",\"22\",\"27\",\"29\",\"30\",\"34\",\"35\",\"37\",\"38\",\"44\",\"45\",\"48\",\"49\",\"55\",\"56\",\"58\",\"59\",\"60\",\"61\",\"62\",\"64\",\"68\",\"69\",\"70\",\"71\",\"75\",\"77\",\"80\",\"81\",\"82\",\"84\",\"85\",\"91\",\"92\",\"93\",\"96\",\"97\",\"99\",\"101\",\"103\",\"106\",\"108\",\"109\",\"110\",\"112\",\"114\",\"122\",\"124\",\"128\",\"129\",\"132\",\"133\",\"134\",\"138\",\"141\",\"146\",\"147\",\"148\",\"152\",\"153\",\"155\",\"162\",\"163\",\"164\",\"166\",\"171\",\"172\",\"177\",\"181\",\"186\",\"187\",\"188\",\"190\",\"199\",\"200\",\"202\",\"206\",\"207\",\"211\",\"213\",\"214\",\"216\",\"219\",\"220\",\"222\",\"229\",\"233\",\"235\",\"238\",\"244\",\"247\",\"248\",\"249\",\"251\",\"254\",\"255\",\"259\",\"263\",\"264\",\"265\",\"266\",\"268\",\"270\",\"273\",\"274\",\"275\",\"277\",\"281\",\"282\",\"283\",\"284\",\"285\",\"287\",\"288\",\"290\",\"294\",\"295\",\"296\",\"297\",\"303\",\"307\",\"313\",\"316\",\"321\",\"322\",\"324\",\"325\",\"329\",\"333\",\"338\",\"339\",\"341\",\"343\",\"344\",\"348\",\"350\",\"352\",\"355\",\"357\",\"358\",\"359\",\"361\",\"363\",\"364\",\"365\",\"368\",\"369\",\"370\",\"374\",\"376\",\"378\",\"380\",\"382\",\"383\",\"385\",\"386\",\"388\",\"390\",\"398\",\"399\",\"402\",\"407\",\"409\",\"410\",\"414\",\"418\",\"420\",\"422\",\"423\",\"427\",\"429\",\"430\",\"432\",\"438\",\"441\",\"444\",\"445\",\"446\",\"448\",\"449\",\"451\",\"454\",\"455\",\"457\",\"460\",\"461\",\"466\",\"471\",\"472\",\"473\",\"476\",\"477\",\"479\",\"480\",\"483\",\"485\",\"487\",\"488\",\"491\",\"493\",\"495\",\"497\",\"498\",\"499\",\"500\"],\"textposition\":\"top left\",\"x\":[283,428,573,735,827,204,634,232,785,479,573,524,350,487,588,578,804,465,309,534,848,375,369,803,121,591,500,785,442,535,864,334,686,589,524,502,388,486,222,485,591,551,228,506,804,661,607,644,504,642,689,798,704,357,418,294,774,166,201,749,391,842,541,365,673,337,248,835,531,269,344,330,231,503,254,718,430,532,544,350,421,392,485,837,230,565,771,933,250,385,370,839,251,469,443,436,580,686,825,618,712,793,292,435,357,604,365,190,495,240,596,521,716,479,325,346,417,243,553,570,483,607,99,513,668,383,509,600,830,755,801,570,420,694,594,720,604,375,922,498,621,546,364,883,646,478,601,215,897,787,767,678,702,910,519,305,536,312,410,494,215,525,596,283,556,404,409,505,327,391,472,723,821,571,202,155,621,924,607,289,509,238,246,411,655,552,297,323,413,528,617,508,368,611,714,619,391,487,643,356,405,532,175,412,326,611,538,445,189,328,458],\"y\":[281,396,418,183,124,336,399,354,503,113,187,297,550,225,640,289,470,449,463,403,339,564,228,204,400,157,105,485,562,342,275,288,496,372,52,252,456,489,376,172,427,254,419,196,416,370,303,382,373,597,361,434,321,506,270,375,294,388,225,307,178,290,261,246,222,524,468,242,372,145,618,312,168,541,356,536,421,315,319,392,498,258,455,301,397,508,207,324,441,537,205,353,452,104,324,476,266,159,326,592,228,617,517,230,463,591,621,270,418,231,116,447,419,536,258,212,436,328,577,401,546,334,332,602,504,433,242,212,207,449,285,265,159,281,132,476,433,274,235,386,403,403,541,190,583,131,513,247,285,188,623,388,293,263,329,550,122,231,397,182,368,178,390,350,296,590,313,118,462,394,553,239,445,456,190,165,552,382,445,192,565,246,182,600,253,219,248,325,539,225,280,360,130,425,434,305,297,366,287,197,253,142,483,553,375,242,105,619,215,423,265],\"type\":\"scatter\"},{\"line\":{\"color\":\"#00d5ff\",\"width\":2},\"mode\":\"lines\",\"name\":\"\",\"x\":[283,243],\"y\":[281,328],\"type\":\"scatter\"},{\"line\":{\"color\":\"#333333\",\"width\":2},\"mode\":\"lines\",\"name\":\"\",\"x\":[283,330],\"y\":[281,312],\"type\":\"scatter\"},{\"line\":{\"color\":\"#00d5ff\",\"width\":2},\"mode\":\"lines\",\"name\":\"\",\"x\":[283,297],\"y\":[281,248],\"type\":\"scatter\"},{\"line\":{\"color\":\"#00d5ff\",\"width\":2},\"mode\":\"lines\",\"name\":\"\",\"x\":[428,498],\"y\":[396,386],\"type\":\"scatter\"},{\"line\":{\"color\":\"#00d5ff\",\"width\":2},\"mode\":\"lines\",\"name\":\"\",\"x\":[428,443],\"y\":[396,324],\"type\":\"scatter\"},{\"line\":{\"color\":\"#00d5ff\",\"width\":2},\"mode\":\"lines\",\"name\":\"\",\"x\":[428,430],\"y\":[396,421],\"type\":\"scatter\"},{\"line\":{\"color\":\"#00d5ff\",\"width\":2},\"mode\":\"lines\",\"name\":\"\",\"x\":[232,215],\"y\":[354,368],\"type\":\"scatter\"},{\"line\":{\"color\":\"#00d5ff\",\"width\":2},\"mode\":\"lines\",\"name\":\"\",\"x\":[232,222],\"y\":[354,376],\"type\":\"scatter\"},{\"line\":{\"color\":\"#333333\",\"width\":2},\"mode\":\"lines\",\"name\":\"\",\"x\":[232,243],\"y\":[354,328],\"type\":\"scatter\"},{\"line\":{\"color\":\"#00d5ff\",\"width\":2},\"mode\":\"lines\",\"name\":\"\",\"x\":[232,254],\"y\":[354,356],\"type\":\"scatter\"},{\"line\":{\"color\":\"#00d5ff\",\"width\":2},\"mode\":\"lines\",\"name\":\"\",\"x\":[479,500],\"y\":[113,105],\"type\":\"scatter\"},{\"line\":{\"color\":\"#00d5ff\",\"width\":2},\"mode\":\"lines\",\"name\":\"\",\"x\":[479,478],\"y\":[113,131],\"type\":\"scatter\"},{\"line\":{\"color\":\"#333333\",\"width\":2},\"mode\":\"lines\",\"name\":\"\",\"x\":[479,505],\"y\":[113,118],\"type\":\"scatter\"},{\"line\":{\"color\":\"#333333\",\"width\":2},\"mode\":\"lines\",\"name\":\"\",\"x\":[524,556],\"y\":[297,296],\"type\":\"scatter\"},{\"line\":{\"color\":\"#00d5ff\",\"width\":2},\"mode\":\"lines\",\"name\":\"\",\"x\":[524,502],\"y\":[297,252],\"type\":\"scatter\"},{\"line\":{\"color\":\"#00d5ff\",\"width\":2},\"mode\":\"lines\",\"name\":\"\",\"x\":[524,443],\"y\":[297,324],\"type\":\"scatter\"},{\"line\":{\"color\":\"#00d5ff\",\"width\":2},\"mode\":\"lines\",\"name\":\"\",\"x\":[487,458],\"y\":[225,265],\"type\":\"scatter\"},{\"line\":{\"color\":\"#00d5ff\",\"width\":2},\"mode\":\"lines\",\"name\":\"\",\"x\":[487,509],\"y\":[225,242],\"type\":\"scatter\"},{\"line\":{\"color\":\"#333333\",\"width\":2},\"mode\":\"lines\",\"name\":\"\",\"x\":[487,528],\"y\":[225,225],\"type\":\"scatter\"},{\"line\":{\"color\":\"#00d5ff\",\"width\":2},\"mode\":\"lines\",\"name\":\"\",\"x\":[487,506],\"y\":[225,196],\"type\":\"scatter\"},{\"line\":{\"color\":\"#333333\",\"width\":2},\"mode\":\"lines\",\"name\":\"\",\"x\":[487,435],\"y\":[225,230],\"type\":\"scatter\"},{\"line\":{\"color\":\"#00d5ff\",\"width\":2},\"mode\":\"lines\",\"name\":\"\",\"x\":[487,485],\"y\":[225,172],\"type\":\"scatter\"},{\"line\":{\"color\":\"#00d5ff\",\"width\":2},\"mode\":\"lines\",\"name\":\"\",\"x\":[578,617],\"y\":[289,280],\"type\":\"scatter\"},{\"line\":{\"color\":\"#00d5ff\",\"width\":2},\"mode\":\"lines\",\"name\":\"\",\"x\":[578,607],\"y\":[289,303],\"type\":\"scatter\"},{\"line\":{\"color\":\"#00d5ff\",\"width\":2},\"mode\":\"lines\",\"name\":\"\",\"x\":[578,556],\"y\":[289,296],\"type\":\"scatter\"},{\"line\":{\"color\":\"#333333\",\"width\":2},\"mode\":\"lines\",\"name\":\"\",\"x\":[578,607],\"y\":[289,334],\"type\":\"scatter\"},{\"line\":{\"color\":\"#00d5ff\",\"width\":2},\"mode\":\"lines\",\"name\":\"\",\"x\":[465,430],\"y\":[449,421],\"type\":\"scatter\"},{\"line\":{\"color\":\"#00d5ff\",\"width\":2},\"mode\":\"lines\",\"name\":\"\",\"x\":[465,436],\"y\":[449,476],\"type\":\"scatter\"},{\"line\":{\"color\":\"#00d5ff\",\"width\":2},\"mode\":\"lines\",\"name\":\"\",\"x\":[465,485],\"y\":[449,455],\"type\":\"scatter\"},{\"line\":{\"color\":\"#00d5ff\",\"width\":2},\"mode\":\"lines\",\"name\":\"\",\"x\":[309,251],\"y\":[463,452],\"type\":\"scatter\"},{\"line\":{\"color\":\"#00d5ff\",\"width\":2},\"mode\":\"lines\",\"name\":\"\",\"x\":[309,250],\"y\":[463,441],\"type\":\"scatter\"},{\"line\":{\"color\":\"#00d5ff\",\"width\":2},\"mode\":\"lines\",\"name\":\"\",\"x\":[309,337],\"y\":[463,524],\"type\":\"scatter\"},{\"line\":{\"color\":\"#333333\",\"width\":2},\"mode\":\"lines\",\"name\":\"\",\"x\":[309,292],\"y\":[463,517],\"type\":\"scatter\"},{\"line\":{\"color\":\"#00d5ff\",\"width\":2},\"mode\":\"lines\",\"name\":\"\",\"x\":[309,248],\"y\":[463,468],\"type\":\"scatter\"},{\"line\":{\"color\":\"#00d5ff\",\"width\":2},\"mode\":\"lines\",\"name\":\"\",\"x\":[534,531],\"y\":[403,372],\"type\":\"scatter\"},{\"line\":{\"color\":\"#00d5ff\",\"width\":2},\"mode\":\"lines\",\"name\":\"\",\"x\":[534,495],\"y\":[403,418],\"type\":\"scatter\"},{\"line\":{\"color\":\"#333333\",\"width\":2},\"mode\":\"lines\",\"name\":\"\",\"x\":[534,498],\"y\":[403,386],\"type\":\"scatter\"},{\"line\":{\"color\":\"#00d5ff\",\"width\":2},\"mode\":\"lines\",\"name\":\"\",\"x\":[848,933],\"y\":[339,324],\"type\":\"scatter\"},{\"line\":{\"color\":\"#00d5ff\",\"width\":2},\"mode\":\"lines\",\"name\":\"\",\"x\":[848,825],\"y\":[339,326],\"type\":\"scatter\"},{\"line\":{\"color\":\"#00d5ff\",\"width\":2},\"mode\":\"lines\",\"name\":\"\",\"x\":[848,924],\"y\":[339,382],\"type\":\"scatter\"},{\"line\":{\"color\":\"#00d5ff\",\"width\":2},\"mode\":\"lines\",\"name\":\"\",\"x\":[848,839],\"y\":[339,353],\"type\":\"scatter\"},{\"line\":{\"color\":\"#00d5ff\",\"width\":2},\"mode\":\"lines\",\"name\":\"\",\"x\":[375,385],\"y\":[564,537],\"type\":\"scatter\"},{\"line\":{\"color\":\"#333333\",\"width\":2},\"mode\":\"lines\",\"name\":\"\",\"x\":[375,412],\"y\":[564,553],\"type\":\"scatter\"},{\"line\":{\"color\":\"#00d5ff\",\"width\":2},\"mode\":\"lines\",\"name\":\"\",\"x\":[375,404],\"y\":[564,590],\"type\":\"scatter\"},{\"line\":{\"color\":\"#00d5ff\",\"width\":2},\"mode\":\"lines\",\"name\":\"\",\"x\":[375,364],\"y\":[564,541],\"type\":\"scatter\"},{\"line\":{\"color\":\"#00d5ff\",\"width\":2},\"mode\":\"lines\",\"name\":\"\",\"x\":[375,344],\"y\":[564,618],\"type\":\"scatter\"},{\"line\":{\"color\":\"#00d5ff\",\"width\":2},\"mode\":\"lines\",\"name\":\"\",\"x\":[375,365],\"y\":[564,621],\"type\":\"scatter\"},{\"line\":{\"color\":\"#00d5ff\",\"width\":2},\"mode\":\"lines\",\"name\":\"\",\"x\":[375,350],\"y\":[564,550],\"type\":\"scatter\"},{\"line\":{\"color\":\"#00d5ff\",\"width\":2},\"mode\":\"lines\",\"name\":\"\",\"x\":[803,830],\"y\":[204,207],\"type\":\"scatter\"},{\"line\":{\"color\":\"#333333\",\"width\":2},\"mode\":\"lines\",\"name\":\"\",\"x\":[803,787],\"y\":[204,188],\"type\":\"scatter\"},{\"line\":{\"color\":\"#00d5ff\",\"width\":2},\"mode\":\"lines\",\"name\":\"\",\"x\":[803,771],\"y\":[204,207],\"type\":\"scatter\"},{\"line\":{\"color\":\"#333333\",\"width\":2},\"mode\":\"lines\",\"name\":\"\",\"x\":[500,469],\"y\":[105,104],\"type\":\"scatter\"},{\"line\":{\"color\":\"#333333\",\"width\":2},\"mode\":\"lines\",\"name\":\"\",\"x\":[500,505],\"y\":[105,118],\"type\":\"scatter\"},{\"line\":{\"color\":\"#00d5ff\",\"width\":2},\"mode\":\"lines\",\"name\":\"\",\"x\":[500,524],\"y\":[105,52],\"type\":\"scatter\"},{\"line\":{\"color\":\"#00d5ff\",\"width\":2},\"mode\":\"lines\",\"name\":\"\",\"x\":[442,412],\"y\":[562,553],\"type\":\"scatter\"},{\"line\":{\"color\":\"#333333\",\"width\":2},\"mode\":\"lines\",\"name\":\"\",\"x\":[442,413],\"y\":[562,539],\"type\":\"scatter\"},{\"line\":{\"color\":\"#00d5ff\",\"width\":2},\"mode\":\"lines\",\"name\":\"\",\"x\":[442,411],\"y\":[562,600],\"type\":\"scatter\"},{\"line\":{\"color\":\"#00d5ff\",\"width\":2},\"mode\":\"lines\",\"name\":\"\",\"x\":[442,472],\"y\":[562,553],\"type\":\"scatter\"},{\"line\":{\"color\":\"#00d5ff\",\"width\":2},\"mode\":\"lines\",\"name\":\"\",\"x\":[442,445],\"y\":[562,619],\"type\":\"scatter\"},{\"line\":{\"color\":\"#00d5ff\",\"width\":2},\"mode\":\"lines\",\"name\":\"\",\"x\":[535,544],\"y\":[342,319],\"type\":\"scatter\"},{\"line\":{\"color\":\"#00d5ff\",\"width\":2},\"mode\":\"lines\",\"name\":\"\",\"x\":[535,532],\"y\":[342,315],\"type\":\"scatter\"},{\"line\":{\"color\":\"#00d5ff\",\"width\":2},\"mode\":\"lines\",\"name\":\"\",\"x\":[535,519],\"y\":[342,329],\"type\":\"scatter\"},{\"line\":{\"color\":\"#00d5ff\",\"width\":2},\"mode\":\"lines\",\"name\":\"\",\"x\":[535,531],\"y\":[342,372],\"type\":\"scatter\"},{\"line\":{\"color\":\"#333333\",\"width\":2},\"mode\":\"lines\",\"name\":\"\",\"x\":[535,508],\"y\":[342,360],\"type\":\"scatter\"},{\"line\":{\"color\":\"#00d5ff\",\"width\":2},\"mode\":\"lines\",\"name\":\"\",\"x\":[502,541],\"y\":[252,261],\"type\":\"scatter\"},{\"line\":{\"color\":\"#333333\",\"width\":2},\"mode\":\"lines\",\"name\":\"\",\"x\":[502,458],\"y\":[252,265],\"type\":\"scatter\"},{\"line\":{\"color\":\"#333333\",\"width\":2},\"mode\":\"lines\",\"name\":\"\",\"x\":[388,357],\"y\":[456,463],\"type\":\"scatter\"},{\"line\":{\"color\":\"#333333\",\"width\":2},\"mode\":\"lines\",\"name\":\"\",\"x\":[388,417],\"y\":[456,436],\"type\":\"scatter\"},{\"line\":{\"color\":\"#00d5ff\",\"width\":2},\"mode\":\"lines\",\"name\":\"\",\"x\":[388,436],\"y\":[456,476],\"type\":\"scatter\"},{\"line\":{\"color\":\"#00d5ff\",\"width\":2},\"mode\":\"lines\",\"name\":\"\",\"x\":[486,436],\"y\":[489,476],\"type\":\"scatter\"},{\"line\":{\"color\":\"#333333\",\"width\":2},\"mode\":\"lines\",\"name\":\"\",\"x\":[486,479],\"y\":[489,536],\"type\":\"scatter\"},{\"line\":{\"color\":\"#333333\",\"width\":2},\"mode\":\"lines\",\"name\":\"\",\"x\":[486,503],\"y\":[489,541],\"type\":\"scatter\"},{\"line\":{\"color\":\"#333333\",\"width\":2},\"mode\":\"lines\",\"name\":\"\",\"x\":[486,485],\"y\":[489,455],\"type\":\"scatter\"},{\"line\":{\"color\":\"#333333\",\"width\":2},\"mode\":\"lines\",\"name\":\"\",\"x\":[485,494],\"y\":[172,182],\"type\":\"scatter\"},{\"line\":{\"color\":\"#333333\",\"width\":2},\"mode\":\"lines\",\"name\":\"\",\"x\":[485,420],\"y\":[172,159],\"type\":\"scatter\"},{\"line\":{\"color\":\"#333333\",\"width\":2},\"mode\":\"lines\",\"name\":\"\",\"x\":[485,525],\"y\":[172,178],\"type\":\"scatter\"},{\"line\":{\"color\":\"#00d5ff\",\"width\":2},\"mode\":\"lines\",\"name\":\"\",\"x\":[485,532],\"y\":[172,142],\"type\":\"scatter\"},{\"line\":{\"color\":\"#00d5ff\",\"width\":2},\"mode\":\"lines\",\"name\":\"\",\"x\":[591,604],\"y\":[427,433],\"type\":\"scatter\"},{\"line\":{\"color\":\"#00d5ff\",\"width\":2},\"mode\":\"lines\",\"name\":\"\",\"x\":[591,596],\"y\":[427,390],\"type\":\"scatter\"},{\"line\":{\"color\":\"#333333\",\"width\":2},\"mode\":\"lines\",\"name\":\"\",\"x\":[591,607],\"y\":[427,445],\"type\":\"scatter\"},{\"line\":{\"color\":\"#00d5ff\",\"width\":2},\"mode\":\"lines\",\"name\":\"\",\"x\":[591,571],\"y\":[427,456],\"type\":\"scatter\"},{\"line\":{\"color\":\"#00d5ff\",\"width\":2},\"mode\":\"lines\",\"name\":\"\",\"x\":[228,166],\"y\":[419,388],\"type\":\"scatter\"},{\"line\":{\"color\":\"#333333\",\"width\":2},\"mode\":\"lines\",\"name\":\"\",\"x\":[228,175],\"y\":[419,483],\"type\":\"scatter\"},{\"line\":{\"color\":\"#333333\",\"width\":2},\"mode\":\"lines\",\"name\":\"\",\"x\":[228,251],\"y\":[419,452],\"type\":\"scatter\"},{\"line\":{\"color\":\"#00d5ff\",\"width\":2},\"mode\":\"lines\",\"name\":\"\",\"x\":[228,250],\"y\":[419,441],\"type\":\"scatter\"},{\"line\":{\"color\":\"#00d5ff\",\"width\":2},\"mode\":\"lines\",\"name\":\"\",\"x\":[804,755],\"y\":[416,449],\"type\":\"scatter\"},{\"line\":{\"color\":\"#333333\",\"width\":2},\"mode\":\"lines\",\"name\":\"\",\"x\":[804,749],\"y\":[416,307],\"type\":\"scatter\"},{\"line\":{\"color\":\"#333333\",\"width\":2},\"mode\":\"lines\",\"name\":\"\",\"x\":[804,825],\"y\":[416,326],\"type\":\"scatter\"},{\"line\":{\"color\":\"#333333\",\"width\":2},\"mode\":\"lines\",\"name\":\"\",\"x\":[804,839],\"y\":[416,353],\"type\":\"scatter\"},{\"line\":{\"color\":\"#333333\",\"width\":2},\"mode\":\"lines\",\"name\":\"\",\"x\":[804,821],\"y\":[416,445],\"type\":\"scatter\"},{\"line\":{\"color\":\"#00d5ff\",\"width\":2},\"mode\":\"lines\",\"name\":\"\",\"x\":[661,643],\"y\":[370,287],\"type\":\"scatter\"},{\"line\":{\"color\":\"#333333\",\"width\":2},\"mode\":\"lines\",\"name\":\"\",\"x\":[661,619],\"y\":[370,305],\"type\":\"scatter\"},{\"line\":{\"color\":\"#00d5ff\",\"width\":2},\"mode\":\"lines\",\"name\":\"\",\"x\":[661,689],\"y\":[370,361],\"type\":\"scatter\"},{\"line\":{\"color\":\"#00d5ff\",\"width\":2},\"mode\":\"lines\",\"name\":\"\",\"x\":[661,644],\"y\":[370,382],\"type\":\"scatter\"},{\"line\":{\"color\":\"#00d5ff\",\"width\":2},\"mode\":\"lines\",\"name\":\"\",\"x\":[661,704],\"y\":[370,321],\"type\":\"scatter\"},{\"line\":{\"color\":\"#333333\",\"width\":2},\"mode\":\"lines\",\"name\":\"\",\"x\":[661,678],\"y\":[370,388],\"type\":\"scatter\"},{\"line\":{\"color\":\"#00d5ff\",\"width\":2},\"mode\":\"lines\",\"name\":\"\",\"x\":[644,621],\"y\":[382,403],\"type\":\"scatter\"},{\"line\":{\"color\":\"#333333\",\"width\":2},\"mode\":\"lines\",\"name\":\"\",\"x\":[644,589],\"y\":[382,372],\"type\":\"scatter\"},{\"line\":{\"color\":\"#333333\",\"width\":2},\"mode\":\"lines\",\"name\":\"\",\"x\":[644,678],\"y\":[382,388],\"type\":\"scatter\"},{\"line\":{\"color\":\"#333333\",\"width\":2},\"mode\":\"lines\",\"name\":\"\",\"x\":[644,596],\"y\":[382,390],\"type\":\"scatter\"},{\"line\":{\"color\":\"#333333\",\"width\":2},\"mode\":\"lines\",\"name\":\"\",\"x\":[689,704],\"y\":[361,321],\"type\":\"scatter\"},{\"line\":{\"color\":\"#00d5ff\",\"width\":2},\"mode\":\"lines\",\"name\":\"\",\"x\":[689,749],\"y\":[361,307],\"type\":\"scatter\"},{\"line\":{\"color\":\"#00d5ff\",\"width\":2},\"mode\":\"lines\",\"name\":\"\",\"x\":[357,357],\"y\":[506,463],\"type\":\"scatter\"},{\"line\":{\"color\":\"#00d5ff\",\"width\":2},\"mode\":\"lines\",\"name\":\"\",\"x\":[357,337],\"y\":[506,524],\"type\":\"scatter\"},{\"line\":{\"color\":\"#00d5ff\",\"width\":2},\"mode\":\"lines\",\"name\":\"\",\"x\":[357,327],\"y\":[506,462],\"type\":\"scatter\"},{\"line\":{\"color\":\"#00d5ff\",\"width\":2},\"mode\":\"lines\",\"name\":\"\",\"x\":[418,443],\"y\":[270,324],\"type\":\"scatter\"},{\"line\":{\"color\":\"#333333\",\"width\":2},\"mode\":\"lines\",\"name\":\"\",\"x\":[418,391],\"y\":[270,297],\"type\":\"scatter\"},{\"line\":{\"color\":\"#00d5ff\",\"width\":2},\"mode\":\"lines\",\"name\":\"\",\"x\":[418,405],\"y\":[270,253],\"type\":\"scatter\"},{\"line\":{\"color\":\"#00d5ff\",\"width\":2},\"mode\":\"lines\",\"name\":\"\",\"x\":[418,458],\"y\":[270,265],\"type\":\"scatter\"},{\"line\":{\"color\":\"#00d5ff\",\"width\":2},\"mode\":\"lines\",\"name\":\"\",\"x\":[418,435],\"y\":[270,230],\"type\":\"scatter\"},{\"line\":{\"color\":\"#333333\",\"width\":2},\"mode\":\"lines\",\"name\":\"\",\"x\":[166,222],\"y\":[388,376],\"type\":\"scatter\"},{\"line\":{\"color\":\"#333333\",\"width\":2},\"mode\":\"lines\",\"name\":\"\",\"x\":[166,215],\"y\":[388,368],\"type\":\"scatter\"},{\"line\":{\"color\":\"#333333\",\"width\":2},\"mode\":\"lines\",\"name\":\"\",\"x\":[166,230],\"y\":[388,397],\"type\":\"scatter\"},{\"line\":{\"color\":\"#00d5ff\",\"width\":2},\"mode\":\"lines\",\"name\":\"\",\"x\":[166,121],\"y\":[388,400],\"type\":\"scatter\"},{\"line\":{\"color\":\"#00d5ff\",\"width\":2},\"mode\":\"lines\",\"name\":\"\",\"x\":[201,189],\"y\":[225,215],\"type\":\"scatter\"},{\"line\":{\"color\":\"#00d5ff\",\"width\":2},\"mode\":\"lines\",\"name\":\"\",\"x\":[201,240],\"y\":[225,231],\"type\":\"scatter\"},{\"line\":{\"color\":\"#00d5ff\",\"width\":2},\"mode\":\"lines\",\"name\":\"\",\"x\":[201,190],\"y\":[225,270],\"type\":\"scatter\"},{\"line\":{\"color\":\"#00d5ff\",\"width\":2},\"mode\":\"lines\",\"name\":\"\",\"x\":[201,202],\"y\":[225,190],\"type\":\"scatter\"},{\"line\":{\"color\":\"#333333\",\"width\":2},\"mode\":\"lines\",\"name\":\"\",\"x\":[201,215],\"y\":[225,247],\"type\":\"scatter\"},{\"line\":{\"color\":\"#333333\",\"width\":2},\"mode\":\"lines\",\"name\":\"\",\"x\":[749,716],\"y\":[307,419],\"type\":\"scatter\"},{\"line\":{\"color\":\"#333333\",\"width\":2},\"mode\":\"lines\",\"name\":\"\",\"x\":[749,702],\"y\":[307,293],\"type\":\"scatter\"},{\"line\":{\"color\":\"#00d5ff\",\"width\":2},\"mode\":\"lines\",\"name\":\"\",\"x\":[749,825],\"y\":[307,326],\"type\":\"scatter\"},{\"line\":{\"color\":\"#333333\",\"width\":2},\"mode\":\"lines\",\"name\":\"\",\"x\":[749,704],\"y\":[307,321],\"type\":\"scatter\"},{\"line\":{\"color\":\"#00d5ff\",\"width\":2},\"mode\":\"lines\",\"name\":\"\",\"x\":[842,837],\"y\":[290,301],\"type\":\"scatter\"},{\"line\":{\"color\":\"#00d5ff\",\"width\":2},\"mode\":\"lines\",\"name\":\"\",\"x\":[842,864],\"y\":[290,275],\"type\":\"scatter\"},{\"line\":{\"color\":\"#00d5ff\",\"width\":2},\"mode\":\"lines\",\"name\":\"\",\"x\":[842,835],\"y\":[290,242],\"type\":\"scatter\"},{\"line\":{\"color\":\"#333333\",\"width\":2},\"mode\":\"lines\",\"name\":\"\",\"x\":[842,801],\"y\":[290,285],\"type\":\"scatter\"},{\"line\":{\"color\":\"#333333\",\"width\":2},\"mode\":\"lines\",\"name\":\"\",\"x\":[541,528],\"y\":[261,225],\"type\":\"scatter\"},{\"line\":{\"color\":\"#00d5ff\",\"width\":2},\"mode\":\"lines\",\"name\":\"\",\"x\":[541,551],\"y\":[261,254],\"type\":\"scatter\"},{\"line\":{\"color\":\"#333333\",\"width\":2},\"mode\":\"lines\",\"name\":\"\",\"x\":[541,509],\"y\":[261,242],\"type\":\"scatter\"},{\"line\":{\"color\":\"#333333\",\"width\":2},\"mode\":\"lines\",\"name\":\"\",\"x\":[365,375],\"y\":[246,274],\"type\":\"scatter\"},{\"line\":{\"color\":\"#333333\",\"width\":2},\"mode\":\"lines\",\"name\":\"\",\"x\":[365,334],\"y\":[246,288],\"type\":\"scatter\"},{\"line\":{\"color\":\"#00d5ff\",\"width\":2},\"mode\":\"lines\",\"name\":\"\",\"x\":[365,325],\"y\":[246,258],\"type\":\"scatter\"},{\"line\":{\"color\":\"#333333\",\"width\":2},\"mode\":\"lines\",\"name\":\"\",\"x\":[365,369],\"y\":[246,228],\"type\":\"scatter\"},{\"line\":{\"color\":\"#00d5ff\",\"width\":2},\"mode\":\"lines\",\"name\":\"\",\"x\":[365,392],\"y\":[246,258],\"type\":\"scatter\"},{\"line\":{\"color\":\"#00d5ff\",\"width\":2},\"mode\":\"lines\",\"name\":\"\",\"x\":[673,686],\"y\":[222,159],\"type\":\"scatter\"},{\"line\":{\"color\":\"#00d5ff\",\"width\":2},\"mode\":\"lines\",\"name\":\"\",\"x\":[673,712],\"y\":[222,228],\"type\":\"scatter\"},{\"line\":{\"color\":\"#00d5ff\",\"width\":2},\"mode\":\"lines\",\"name\":\"\",\"x\":[673,655],\"y\":[222,253],\"type\":\"scatter\"},{\"line\":{\"color\":\"#333333\",\"width\":2},\"mode\":\"lines\",\"name\":\"\",\"x\":[673,694],\"y\":[222,281],\"type\":\"scatter\"},{\"line\":{\"color\":\"#333333\",\"width\":2},\"mode\":\"lines\",\"name\":\"\",\"x\":[673,600],\"y\":[222,212],\"type\":\"scatter\"},{\"line\":{\"color\":\"#333333\",\"width\":2},\"mode\":\"lines\",\"name\":\"\",\"x\":[673,611],\"y\":[222,242],\"type\":\"scatter\"},{\"line\":{\"color\":\"#00d5ff\",\"width\":2},\"mode\":\"lines\",\"name\":\"\",\"x\":[337,364],\"y\":[524,541],\"type\":\"scatter\"},{\"line\":{\"color\":\"#333333\",\"width\":2},\"mode\":\"lines\",\"name\":\"\",\"x\":[337,350],\"y\":[524,550],\"type\":\"scatter\"},{\"line\":{\"color\":\"#333333\",\"width\":2},\"mode\":\"lines\",\"name\":\"\",\"x\":[337,305],\"y\":[524,550],\"type\":\"scatter\"},{\"line\":{\"color\":\"#00d5ff\",\"width\":2},\"mode\":\"lines\",\"name\":\"\",\"x\":[337,292],\"y\":[524,517],\"type\":\"scatter\"},{\"line\":{\"color\":\"#333333\",\"width\":2},\"mode\":\"lines\",\"name\":\"\",\"x\":[835,801],\"y\":[242,285],\"type\":\"scatter\"},{\"line\":{\"color\":\"#333333\",\"width\":2},\"mode\":\"lines\",\"name\":\"\",\"x\":[835,864],\"y\":[242,275],\"type\":\"scatter\"},{\"line\":{\"color\":\"#00d5ff\",\"width\":2},\"mode\":\"lines\",\"name\":\"\",\"x\":[835,910],\"y\":[242,263],\"type\":\"scatter\"},{\"line\":{\"color\":\"#333333\",\"width\":2},\"mode\":\"lines\",\"name\":\"\",\"x\":[835,830],\"y\":[242,207],\"type\":\"scatter\"},{\"line\":{\"color\":\"#333333\",\"width\":2},\"mode\":\"lines\",\"name\":\"\",\"x\":[531,570],\"y\":[372,401],\"type\":\"scatter\"},{\"line\":{\"color\":\"#333333\",\"width\":2},\"mode\":\"lines\",\"name\":\"\",\"x\":[531,504],\"y\":[372,373],\"type\":\"scatter\"},{\"line\":{\"color\":\"#00d5ff\",\"width\":2},\"mode\":\"lines\",\"name\":\"\",\"x\":[531,546],\"y\":[372,403],\"type\":\"scatter\"},{\"line\":{\"color\":\"#333333\",\"width\":2},\"mode\":\"lines\",\"name\":\"\",\"x\":[531,498],\"y\":[372,386],\"type\":\"scatter\"},{\"line\":{\"color\":\"#333333\",\"width\":2},\"mode\":\"lines\",\"name\":\"\",\"x\":[231,269],\"y\":[168,145],\"type\":\"scatter\"},{\"line\":{\"color\":\"#00d5ff\",\"width\":2},\"mode\":\"lines\",\"name\":\"\",\"x\":[231,202],\"y\":[168,190],\"type\":\"scatter\"},{\"line\":{\"color\":\"#333333\",\"width\":2},\"mode\":\"lines\",\"name\":\"\",\"x\":[231,155],\"y\":[168,165],\"type\":\"scatter\"},{\"line\":{\"color\":\"#333333\",\"width\":2},\"mode\":\"lines\",\"name\":\"\",\"x\":[503,553],\"y\":[541,577],\"type\":\"scatter\"},{\"line\":{\"color\":\"#00d5ff\",\"width\":2},\"mode\":\"lines\",\"name\":\"\",\"x\":[503,565],\"y\":[541,508],\"type\":\"scatter\"},{\"line\":{\"color\":\"#00d5ff\",\"width\":2},\"mode\":\"lines\",\"name\":\"\",\"x\":[503,483],\"y\":[541,546],\"type\":\"scatter\"},{\"line\":{\"color\":\"#00d5ff\",\"width\":2},\"mode\":\"lines\",\"name\":\"\",\"x\":[254,283],\"y\":[356,350],\"type\":\"scatter\"},{\"line\":{\"color\":\"#00d5ff\",\"width\":2},\"mode\":\"lines\",\"name\":\"\",\"x\":[254,230],\"y\":[356,397],\"type\":\"scatter\"},{\"line\":{\"color\":\"#00d5ff\",\"width\":2},\"mode\":\"lines\",\"name\":\"\",\"x\":[254,243],\"y\":[356,328],\"type\":\"scatter\"},{\"line\":{\"color\":\"#00d5ff\",\"width\":2},\"mode\":\"lines\",\"name\":\"\",\"x\":[718,720],\"y\":[536,476],\"type\":\"scatter\"},{\"line\":{\"color\":\"#00d5ff\",\"width\":2},\"mode\":\"lines\",\"name\":\"\",\"x\":[718,646],\"y\":[536,583],\"type\":\"scatter\"},{\"line\":{\"color\":\"#333333\",\"width\":2},\"mode\":\"lines\",\"name\":\"\",\"x\":[718,686],\"y\":[536,496],\"type\":\"scatter\"},{\"line\":{\"color\":\"#333333\",\"width\":2},\"mode\":\"lines\",\"name\":\"\",\"x\":[718,793],\"y\":[536,617],\"type\":\"scatter\"},{\"line\":{\"color\":\"#333333\",\"width\":2},\"mode\":\"lines\",\"name\":\"\",\"x\":[718,767],\"y\":[536,623],\"type\":\"scatter\"},{\"line\":{\"color\":\"#00d5ff\",\"width\":2},\"mode\":\"lines\",\"name\":\"\",\"x\":[430,410],\"y\":[421,397],\"type\":\"scatter\"},{\"line\":{\"color\":\"#333333\",\"width\":2},\"mode\":\"lines\",\"name\":\"\",\"x\":[544,532],\"y\":[319,315],\"type\":\"scatter\"},{\"line\":{\"color\":\"#00d5ff\",\"width\":2},\"mode\":\"lines\",\"name\":\"\",\"x\":[544,607],\"y\":[319,334],\"type\":\"scatter\"},{\"line\":{\"color\":\"#333333\",\"width\":2},\"mode\":\"lines\",\"name\":\"\",\"x\":[544,589],\"y\":[319,372],\"type\":\"scatter\"},{\"line\":{\"color\":\"#00d5ff\",\"width\":2},\"mode\":\"lines\",\"name\":\"\",\"x\":[544,556],\"y\":[319,296],\"type\":\"scatter\"},{\"line\":{\"color\":\"#00d5ff\",\"width\":2},\"mode\":\"lines\",\"name\":\"\",\"x\":[350,326],\"y\":[392,375],\"type\":\"scatter\"},{\"line\":{\"color\":\"#333333\",\"width\":2},\"mode\":\"lines\",\"name\":\"\",\"x\":[350,409],\"y\":[392,313],\"type\":\"scatter\"},{\"line\":{\"color\":\"#00d5ff\",\"width\":2},\"mode\":\"lines\",\"name\":\"\",\"x\":[350,323],\"y\":[392,325],\"type\":\"scatter\"},{\"line\":{\"color\":\"#333333\",\"width\":2},\"mode\":\"lines\",\"name\":\"\",\"x\":[350,391],\"y\":[392,394],\"type\":\"scatter\"},{\"line\":{\"color\":\"#00d5ff\",\"width\":2},\"mode\":\"lines\",\"name\":\"\",\"x\":[350,383],\"y\":[392,433],\"type\":\"scatter\"},{\"line\":{\"color\":\"#333333\",\"width\":2},\"mode\":\"lines\",\"name\":\"\",\"x\":[350,328],\"y\":[392,423],\"type\":\"scatter\"},{\"line\":{\"color\":\"#333333\",\"width\":2},\"mode\":\"lines\",\"name\":\"\",\"x\":[421,479],\"y\":[498,536],\"type\":\"scatter\"},{\"line\":{\"color\":\"#00d5ff\",\"width\":2},\"mode\":\"lines\",\"name\":\"\",\"x\":[421,436],\"y\":[498,476],\"type\":\"scatter\"},{\"line\":{\"color\":\"#00d5ff\",\"width\":2},\"mode\":\"lines\",\"name\":\"\",\"x\":[421,385],\"y\":[498,537],\"type\":\"scatter\"},{\"line\":{\"color\":\"#00d5ff\",\"width\":2},\"mode\":\"lines\",\"name\":\"\",\"x\":[392,369],\"y\":[258,228],\"type\":\"scatter\"},{\"line\":{\"color\":\"#00d5ff\",\"width\":2},\"mode\":\"lines\",\"name\":\"\",\"x\":[392,375],\"y\":[258,274],\"type\":\"scatter\"},{\"line\":{\"color\":\"#333333\",\"width\":2},\"mode\":\"lines\",\"name\":\"\",\"x\":[392,405],\"y\":[258,253],\"type\":\"scatter\"},{\"line\":{\"color\":\"#00d5ff\",\"width\":2},\"mode\":\"lines\",\"name\":\"\",\"x\":[392,391],\"y\":[258,297],\"type\":\"scatter\"},{\"line\":{\"color\":\"#00d5ff\",\"width\":2},\"mode\":\"lines\",\"name\":\"\",\"x\":[485,495],\"y\":[455,418],\"type\":\"scatter\"},{\"line\":{\"color\":\"#00d5ff\",\"width\":2},\"mode\":\"lines\",\"name\":\"\",\"x\":[837,897],\"y\":[301,285],\"type\":\"scatter\"},{\"line\":{\"color\":\"#00d5ff\",\"width\":2},\"mode\":\"lines\",\"name\":\"\",\"x\":[837,825],\"y\":[301,326],\"type\":\"scatter\"},{\"line\":{\"color\":\"#00d5ff\",\"width\":2},\"mode\":\"lines\",\"name\":\"\",\"x\":[565,601],\"y\":[508,513],\"type\":\"scatter\"},{\"line\":{\"color\":\"#333333\",\"width\":2},\"mode\":\"lines\",\"name\":\"\",\"x\":[565,553],\"y\":[508,577],\"type\":\"scatter\"},{\"line\":{\"color\":\"#00d5ff\",\"width\":2},\"mode\":\"lines\",\"name\":\"\",\"x\":[771,723],\"y\":[207,239],\"type\":\"scatter\"},{\"line\":{\"color\":\"#333333\",\"width\":2},\"mode\":\"lines\",\"name\":\"\",\"x\":[771,774],\"y\":[207,294],\"type\":\"scatter\"},{\"line\":{\"color\":\"#333333\",\"width\":2},\"mode\":\"lines\",\"name\":\"\",\"x\":[771,735],\"y\":[207,183],\"type\":\"scatter\"},{\"line\":{\"color\":\"#333333\",\"width\":2},\"mode\":\"lines\",\"name\":\"\",\"x\":[250,328],\"y\":[441,423],\"type\":\"scatter\"},{\"line\":{\"color\":\"#333333\",\"width\":2},\"mode\":\"lines\",\"name\":\"\",\"x\":[250,294],\"y\":[441,375],\"type\":\"scatter\"},{\"line\":{\"color\":\"#333333\",\"width\":2},\"mode\":\"lines\",\"name\":\"\",\"x\":[250,251],\"y\":[441,452],\"type\":\"scatter\"},{\"line\":{\"color\":\"#00d5ff\",\"width\":2},\"mode\":\"lines\",\"name\":\"\",\"x\":[385,412],\"y\":[537,553],\"type\":\"scatter\"},{\"line\":{\"color\":\"#333333\",\"width\":2},\"mode\":\"lines\",\"name\":\"\",\"x\":[443,487],\"y\":[324,366],\"type\":\"scatter\"},{\"line\":{\"color\":\"#333333\",\"width\":2},\"mode\":\"lines\",\"name\":\"\",\"x\":[443,410],\"y\":[324,397],\"type\":\"scatter\"},{\"line\":{\"color\":\"#00d5ff\",\"width\":2},\"mode\":\"lines\",\"name\":\"\",\"x\":[436,417],\"y\":[476,436],\"type\":\"scatter\"},{\"line\":{\"color\":\"#00d5ff\",\"width\":2},\"mode\":\"lines\",\"name\":\"\",\"x\":[825,801],\"y\":[326,285],\"type\":\"scatter\"},{\"line\":{\"color\":\"#333333\",\"width\":2},\"mode\":\"lines\",\"name\":\"\",\"x\":[825,774],\"y\":[326,294],\"type\":\"scatter\"},{\"line\":{\"color\":\"#333333\",\"width\":2},\"mode\":\"lines\",\"name\":\"\",\"x\":[618,604],\"y\":[592,591],\"type\":\"scatter\"},{\"line\":{\"color\":\"#00d5ff\",\"width\":2},\"mode\":\"lines\",\"name\":\"\",\"x\":[618,646],\"y\":[592,583],\"type\":\"scatter\"},{\"line\":{\"color\":\"#00d5ff\",\"width\":2},\"mode\":\"lines\",\"name\":\"\",\"x\":[618,621],\"y\":[592,552],\"type\":\"scatter\"},{\"line\":{\"color\":\"#00d5ff\",\"width\":2},\"mode\":\"lines\",\"name\":\"\",\"x\":[618,642],\"y\":[592,597],\"type\":\"scatter\"},{\"line\":{\"color\":\"#00d5ff\",\"width\":2},\"mode\":\"lines\",\"name\":\"\",\"x\":[712,723],\"y\":[228,239],\"type\":\"scatter\"},{\"line\":{\"color\":\"#333333\",\"width\":2},\"mode\":\"lines\",\"name\":\"\",\"x\":[712,694],\"y\":[228,281],\"type\":\"scatter\"},{\"line\":{\"color\":\"#00d5ff\",\"width\":2},\"mode\":\"lines\",\"name\":\"\",\"x\":[712,735],\"y\":[228,183],\"type\":\"scatter\"},{\"line\":{\"color\":\"#333333\",\"width\":2},\"mode\":\"lines\",\"name\":\"\",\"x\":[435,405],\"y\":[230,253],\"type\":\"scatter\"},{\"line\":{\"color\":\"#00d5ff\",\"width\":2},\"mode\":\"lines\",\"name\":\"\",\"x\":[435,420],\"y\":[230,159],\"type\":\"scatter\"},{\"line\":{\"color\":\"#333333\",\"width\":2},\"mode\":\"lines\",\"name\":\"\",\"x\":[435,369],\"y\":[230,228],\"type\":\"scatter\"},{\"line\":{\"color\":\"#333333\",\"width\":2},\"mode\":\"lines\",\"name\":\"\",\"x\":[435,370],\"y\":[230,205],\"type\":\"scatter\"},{\"line\":{\"color\":\"#333333\",\"width\":2},\"mode\":\"lines\",\"name\":\"\",\"x\":[357,327],\"y\":[463,462],\"type\":\"scatter\"},{\"line\":{\"color\":\"#333333\",\"width\":2},\"mode\":\"lines\",\"name\":\"\",\"x\":[357,383],\"y\":[463,433],\"type\":\"scatter\"},{\"line\":{\"color\":\"#333333\",\"width\":2},\"mode\":\"lines\",\"name\":\"\",\"x\":[190,215],\"y\":[270,247],\"type\":\"scatter\"},{\"line\":{\"color\":\"#00d5ff\",\"width\":2},\"mode\":\"lines\",\"name\":\"\",\"x\":[190,243],\"y\":[270,328],\"type\":\"scatter\"},{\"line\":{\"color\":\"#333333\",\"width\":2},\"mode\":\"lines\",\"name\":\"\",\"x\":[190,238],\"y\":[270,246],\"type\":\"scatter\"},{\"line\":{\"color\":\"#333333\",\"width\":2},\"mode\":\"lines\",\"name\":\"\",\"x\":[190,99],\"y\":[270,332],\"type\":\"scatter\"},{\"line\":{\"color\":\"#00d5ff\",\"width\":2},\"mode\":\"lines\",\"name\":\"\",\"x\":[495,521],\"y\":[418,447],\"type\":\"scatter\"},{\"line\":{\"color\":\"#00d5ff\",\"width\":2},\"mode\":\"lines\",\"name\":\"\",\"x\":[521,571],\"y\":[447,456],\"type\":\"scatter\"},{\"line\":{\"color\":\"#00d5ff\",\"width\":2},\"mode\":\"lines\",\"name\":\"\",\"x\":[521,573],\"y\":[447,418],\"type\":\"scatter\"},{\"line\":{\"color\":\"#00d5ff\",\"width\":2},\"mode\":\"lines\",\"name\":\"\",\"x\":[479,483],\"y\":[536,546],\"type\":\"scatter\"},{\"line\":{\"color\":\"#00d5ff\",\"width\":2},\"mode\":\"lines\",\"name\":\"\",\"x\":[479,413],\"y\":[536,539],\"type\":\"scatter\"},{\"line\":{\"color\":\"#00d5ff\",\"width\":2},\"mode\":\"lines\",\"name\":\"\",\"x\":[325,312],\"y\":[258,231],\"type\":\"scatter\"},{\"line\":{\"color\":\"#333333\",\"width\":2},\"mode\":\"lines\",\"name\":\"\",\"x\":[325,346],\"y\":[258,212],\"type\":\"scatter\"},{\"line\":{\"color\":\"#00d5ff\",\"width\":2},\"mode\":\"lines\",\"name\":\"\",\"x\":[417,383],\"y\":[436,433],\"type\":\"scatter\"},{\"line\":{\"color\":\"#00d5ff\",\"width\":2},\"mode\":\"lines\",\"name\":\"\",\"x\":[243,238],\"y\":[328,246],\"type\":\"scatter\"},{\"line\":{\"color\":\"#00d5ff\",\"width\":2},\"mode\":\"lines\",\"name\":\"\",\"x\":[243,204],\"y\":[328,336],\"type\":\"scatter\"},{\"line\":{\"color\":\"#00d5ff\",\"width\":2},\"mode\":\"lines\",\"name\":\"\",\"x\":[553,588],\"y\":[577,640],\"type\":\"scatter\"},{\"line\":{\"color\":\"#00d5ff\",\"width\":2},\"mode\":\"lines\",\"name\":\"\",\"x\":[553,621],\"y\":[577,552],\"type\":\"scatter\"},{\"line\":{\"color\":\"#00d5ff\",\"width\":2},\"mode\":\"lines\",\"name\":\"\",\"x\":[553,509],\"y\":[577,565],\"type\":\"scatter\"},{\"line\":{\"color\":\"#333333\",\"width\":2},\"mode\":\"lines\",\"name\":\"\",\"x\":[553,513],\"y\":[577,602],\"type\":\"scatter\"},{\"line\":{\"color\":\"#333333\",\"width\":2},\"mode\":\"lines\",\"name\":\"\",\"x\":[483,509],\"y\":[546,565],\"type\":\"scatter\"},{\"line\":{\"color\":\"#00d5ff\",\"width\":2},\"mode\":\"lines\",\"name\":\"\",\"x\":[830,827],\"y\":[207,124],\"type\":\"scatter\"},{\"line\":{\"color\":\"#00d5ff\",\"width\":2},\"mode\":\"lines\",\"name\":\"\",\"x\":[830,883],\"y\":[207,190],\"type\":\"scatter\"},{\"line\":{\"color\":\"#00d5ff\",\"width\":2},\"mode\":\"lines\",\"name\":\"\",\"x\":[755,804],\"y\":[449,470],\"type\":\"scatter\"},{\"line\":{\"color\":\"#333333\",\"width\":2},\"mode\":\"lines\",\"name\":\"\",\"x\":[755,785],\"y\":[449,485],\"type\":\"scatter\"},{\"line\":{\"color\":\"#333333\",\"width\":2},\"mode\":\"lines\",\"name\":\"\",\"x\":[755,716],\"y\":[449,419],\"type\":\"scatter\"},{\"line\":{\"color\":\"#00d5ff\",\"width\":2},\"mode\":\"lines\",\"name\":\"\",\"x\":[755,798],\"y\":[449,434],\"type\":\"scatter\"},{\"line\":{\"color\":\"#00d5ff\",\"width\":2},\"mode\":\"lines\",\"name\":\"\",\"x\":[755,720],\"y\":[449,476],\"type\":\"scatter\"},{\"line\":{\"color\":\"#00d5ff\",\"width\":2},\"mode\":\"lines\",\"name\":\"\",\"x\":[570,552],\"y\":[265,219],\"type\":\"scatter\"},{\"line\":{\"color\":\"#00d5ff\",\"width\":2},\"mode\":\"lines\",\"name\":\"\",\"x\":[570,556],\"y\":[265,296],\"type\":\"scatter\"},{\"line\":{\"color\":\"#00d5ff\",\"width\":2},\"mode\":\"lines\",\"name\":\"\",\"x\":[570,580],\"y\":[265,266],\"type\":\"scatter\"},{\"line\":{\"color\":\"#333333\",\"width\":2},\"mode\":\"lines\",\"name\":\"\",\"x\":[420,391],\"y\":[159,178],\"type\":\"scatter\"},{\"line\":{\"color\":\"#00d5ff\",\"width\":2},\"mode\":\"lines\",\"name\":\"\",\"x\":[420,368],\"y\":[159,130],\"type\":\"scatter\"},{\"line\":{\"color\":\"#00d5ff\",\"width\":2},\"mode\":\"lines\",\"name\":\"\",\"x\":[420,478],\"y\":[159,131],\"type\":\"scatter\"},{\"line\":{\"color\":\"#00d5ff\",\"width\":2},\"mode\":\"lines\",\"name\":\"\",\"x\":[720,785],\"y\":[476,485],\"type\":\"scatter\"},{\"line\":{\"color\":\"#00d5ff\",\"width\":2},\"mode\":\"lines\",\"name\":\"\",\"x\":[720,785],\"y\":[476,503],\"type\":\"scatter\"},{\"line\":{\"color\":\"#333333\",\"width\":2},\"mode\":\"lines\",\"name\":\"\",\"x\":[720,714],\"y\":[476,434],\"type\":\"scatter\"},{\"line\":{\"color\":\"#00d5ff\",\"width\":2},\"mode\":\"lines\",\"name\":\"\",\"x\":[604,611],\"y\":[433,425],\"type\":\"scatter\"},{\"line\":{\"color\":\"#333333\",\"width\":2},\"mode\":\"lines\",\"name\":\"\",\"x\":[604,607],\"y\":[433,445],\"type\":\"scatter\"},{\"line\":{\"color\":\"#333333\",\"width\":2},\"mode\":\"lines\",\"name\":\"\",\"x\":[621,634],\"y\":[403,399],\"type\":\"scatter\"},{\"line\":{\"color\":\"#00d5ff\",\"width\":2},\"mode\":\"lines\",\"name\":\"\",\"x\":[621,611],\"y\":[403,425],\"type\":\"scatter\"},{\"line\":{\"color\":\"#333333\",\"width\":2},\"mode\":\"lines\",\"name\":\"\",\"x\":[364,350],\"y\":[541,550],\"type\":\"scatter\"},{\"line\":{\"color\":\"#00d5ff\",\"width\":2},\"mode\":\"lines\",\"name\":\"\",\"x\":[883,922],\"y\":[190,235],\"type\":\"scatter\"},{\"line\":{\"color\":\"#333333\",\"width\":2},\"mode\":\"lines\",\"name\":\"\",\"x\":[883,827],\"y\":[190,124],\"type\":\"scatter\"},{\"line\":{\"color\":\"#333333\",\"width\":2},\"mode\":\"lines\",\"name\":\"\",\"x\":[646,668],\"y\":[583,504],\"type\":\"scatter\"},{\"line\":{\"color\":\"#333333\",\"width\":2},\"mode\":\"lines\",\"name\":\"\",\"x\":[646,642],\"y\":[583,597],\"type\":\"scatter\"},{\"line\":{\"color\":\"#333333\",\"width\":2},\"mode\":\"lines\",\"name\":\"\",\"x\":[646,767],\"y\":[583,623],\"type\":\"scatter\"},{\"line\":{\"color\":\"#00d5ff\",\"width\":2},\"mode\":\"lines\",\"name\":\"\",\"x\":[478,505],\"y\":[131,118],\"type\":\"scatter\"},{\"line\":{\"color\":\"#00d5ff\",\"width\":2},\"mode\":\"lines\",\"name\":\"\",\"x\":[478,469],\"y\":[131,104],\"type\":\"scatter\"},{\"line\":{\"color\":\"#333333\",\"width\":2},\"mode\":\"lines\",\"name\":\"\",\"x\":[478,532],\"y\":[131,142],\"type\":\"scatter\"},{\"line\":{\"color\":\"#00d5ff\",\"width\":2},\"mode\":\"lines\",\"name\":\"\",\"x\":[601,668],\"y\":[513,504],\"type\":\"scatter\"},{\"line\":{\"color\":\"#333333\",\"width\":2},\"mode\":\"lines\",\"name\":\"\",\"x\":[601,621],\"y\":[513,552],\"type\":\"scatter\"},{\"line\":{\"color\":\"#00d5ff\",\"width\":2},\"mode\":\"lines\",\"name\":\"\",\"x\":[601,607],\"y\":[513,445],\"type\":\"scatter\"},{\"line\":{\"color\":\"#333333\",\"width\":2},\"mode\":\"lines\",\"name\":\"\",\"x\":[601,571],\"y\":[513,456],\"type\":\"scatter\"},{\"line\":{\"color\":\"#333333\",\"width\":2},\"mode\":\"lines\",\"name\":\"\",\"x\":[910,933],\"y\":[263,324],\"type\":\"scatter\"},{\"line\":{\"color\":\"#333333\",\"width\":2},\"mode\":\"lines\",\"name\":\"\",\"x\":[910,922],\"y\":[263,235],\"type\":\"scatter\"},{\"line\":{\"color\":\"#333333\",\"width\":2},\"mode\":\"lines\",\"name\":\"\",\"x\":[536,594],\"y\":[122,132],\"type\":\"scatter\"},{\"line\":{\"color\":\"#333333\",\"width\":2},\"mode\":\"lines\",\"name\":\"\",\"x\":[536,505],\"y\":[122,118],\"type\":\"scatter\"},{\"line\":{\"color\":\"#00d5ff\",\"width\":2},\"mode\":\"lines\",\"name\":\"\",\"x\":[536,538],\"y\":[122,105],\"type\":\"scatter\"},{\"line\":{\"color\":\"#00d5ff\",\"width\":2},\"mode\":\"lines\",\"name\":\"\",\"x\":[536,532],\"y\":[122,142],\"type\":\"scatter\"},{\"line\":{\"color\":\"#00d5ff\",\"width\":2},\"mode\":\"lines\",\"name\":\"\",\"x\":[312,289],\"y\":[231,192],\"type\":\"scatter\"},{\"line\":{\"color\":\"#333333\",\"width\":2},\"mode\":\"lines\",\"name\":\"\",\"x\":[312,297],\"y\":[231,248],\"type\":\"scatter\"},{\"line\":{\"color\":\"#00d5ff\",\"width\":2},\"mode\":\"lines\",\"name\":\"\",\"x\":[410,409],\"y\":[397,313],\"type\":\"scatter\"},{\"line\":{\"color\":\"#00d5ff\",\"width\":2},\"mode\":\"lines\",\"name\":\"\",\"x\":[410,391],\"y\":[397,394],\"type\":\"scatter\"},{\"line\":{\"color\":\"#333333\",\"width\":2},\"mode\":\"lines\",\"name\":\"\",\"x\":[525,494],\"y\":[178,182],\"type\":\"scatter\"},{\"line\":{\"color\":\"#333333\",\"width\":2},\"mode\":\"lines\",\"name\":\"\",\"x\":[525,532],\"y\":[178,142],\"type\":\"scatter\"},{\"line\":{\"color\":\"#333333\",\"width\":2},\"mode\":\"lines\",\"name\":\"\",\"x\":[525,573],\"y\":[178,187],\"type\":\"scatter\"},{\"line\":{\"color\":\"#00d5ff\",\"width\":2},\"mode\":\"lines\",\"name\":\"\",\"x\":[525,528],\"y\":[178,225],\"type\":\"scatter\"},{\"line\":{\"color\":\"#00d5ff\",\"width\":2},\"mode\":\"lines\",\"name\":\"\",\"x\":[283,326],\"y\":[350,375],\"type\":\"scatter\"},{\"line\":{\"color\":\"#333333\",\"width\":2},\"mode\":\"lines\",\"name\":\"\",\"x\":[283,294],\"y\":[350,375],\"type\":\"scatter\"},{\"line\":{\"color\":\"#333333\",\"width\":2},\"mode\":\"lines\",\"name\":\"\",\"x\":[556,532],\"y\":[296,315],\"type\":\"scatter\"},{\"line\":{\"color\":\"#333333\",\"width\":2},\"mode\":\"lines\",\"name\":\"\",\"x\":[409,391],\"y\":[313,394],\"type\":\"scatter\"},{\"line\":{\"color\":\"#00d5ff\",\"width\":2},\"mode\":\"lines\",\"name\":\"\",\"x\":[409,391],\"y\":[313,297],\"type\":\"scatter\"},{\"line\":{\"color\":\"#00d5ff\",\"width\":2},\"mode\":\"lines\",\"name\":\"\",\"x\":[409,330],\"y\":[313,312],\"type\":\"scatter\"},{\"line\":{\"color\":\"#333333\",\"width\":2},\"mode\":\"lines\",\"name\":\"\",\"x\":[409,323],\"y\":[313,325],\"type\":\"scatter\"},{\"line\":{\"color\":\"#00d5ff\",\"width\":2},\"mode\":\"lines\",\"name\":\"\",\"x\":[327,328],\"y\":[462,423],\"type\":\"scatter\"},{\"line\":{\"color\":\"#00d5ff\",\"width\":2},\"mode\":\"lines\",\"name\":\"\",\"x\":[472,509],\"y\":[553,565],\"type\":\"scatter\"},{\"line\":{\"color\":\"#00d5ff\",\"width\":2},\"mode\":\"lines\",\"name\":\"\",\"x\":[472,513],\"y\":[553,602],\"type\":\"scatter\"},{\"line\":{\"color\":\"#00d5ff\",\"width\":2},\"mode\":\"lines\",\"name\":\"\",\"x\":[723,774],\"y\":[239,294],\"type\":\"scatter\"},{\"line\":{\"color\":\"#333333\",\"width\":2},\"mode\":\"lines\",\"name\":\"\",\"x\":[202,189],\"y\":[190,215],\"type\":\"scatter\"},{\"line\":{\"color\":\"#333333\",\"width\":2},\"mode\":\"lines\",\"name\":\"\",\"x\":[202,155],\"y\":[190,165],\"type\":\"scatter\"},{\"line\":{\"color\":\"#333333\",\"width\":2},\"mode\":\"lines\",\"name\":\"\",\"x\":[621,668],\"y\":[552,504],\"type\":\"scatter\"},{\"line\":{\"color\":\"#00d5ff\",\"width\":2},\"mode\":\"lines\",\"name\":\"\",\"x\":[621,604],\"y\":[552,591],\"type\":\"scatter\"},{\"line\":{\"color\":\"#00d5ff\",\"width\":2},\"mode\":\"lines\",\"name\":\"\",\"x\":[607,686],\"y\":[445,496],\"type\":\"scatter\"},{\"line\":{\"color\":\"#333333\",\"width\":2},\"mode\":\"lines\",\"name\":\"\",\"x\":[289,240],\"y\":[192,231],\"type\":\"scatter\"},{\"line\":{\"color\":\"#00d5ff\",\"width\":2},\"mode\":\"lines\",\"name\":\"\",\"x\":[289,246],\"y\":[192,182],\"type\":\"scatter\"},{\"line\":{\"color\":\"#333333\",\"width\":2},\"mode\":\"lines\",\"name\":\"\",\"x\":[289,356],\"y\":[192,197],\"type\":\"scatter\"},{\"line\":{\"color\":\"#333333\",\"width\":2},\"mode\":\"lines\",\"name\":\"\",\"x\":[246,240],\"y\":[182,231],\"type\":\"scatter\"},{\"line\":{\"color\":\"#00d5ff\",\"width\":2},\"mode\":\"lines\",\"name\":\"\",\"x\":[246,269],\"y\":[182,145],\"type\":\"scatter\"},{\"line\":{\"color\":\"#00d5ff\",\"width\":2},\"mode\":\"lines\",\"name\":\"\",\"x\":[655,694],\"y\":[253,281],\"type\":\"scatter\"},{\"line\":{\"color\":\"#00d5ff\",\"width\":2},\"mode\":\"lines\",\"name\":\"\",\"x\":[655,617],\"y\":[253,280],\"type\":\"scatter\"},{\"line\":{\"color\":\"#333333\",\"width\":2},\"mode\":\"lines\",\"name\":\"\",\"x\":[552,580],\"y\":[219,266],\"type\":\"scatter\"},{\"line\":{\"color\":\"#333333\",\"width\":2},\"mode\":\"lines\",\"name\":\"\",\"x\":[552,551],\"y\":[219,254],\"type\":\"scatter\"},{\"line\":{\"color\":\"#00d5ff\",\"width\":2},\"mode\":\"lines\",\"name\":\"\",\"x\":[552,528],\"y\":[219,225],\"type\":\"scatter\"},{\"line\":{\"color\":\"#00d5ff\",\"width\":2},\"mode\":\"lines\",\"name\":\"\",\"x\":[552,600],\"y\":[219,212],\"type\":\"scatter\"},{\"line\":{\"color\":\"#333333\",\"width\":2},\"mode\":\"lines\",\"name\":\"\",\"x\":[297,238],\"y\":[248,246],\"type\":\"scatter\"},{\"line\":{\"color\":\"#00d5ff\",\"width\":2},\"mode\":\"lines\",\"name\":\"\",\"x\":[413,412],\"y\":[539,553],\"type\":\"scatter\"},{\"line\":{\"color\":\"#333333\",\"width\":2},\"mode\":\"lines\",\"name\":\"\",\"x\":[528,509],\"y\":[225,242],\"type\":\"scatter\"},{\"line\":{\"color\":\"#333333\",\"width\":2},\"mode\":\"lines\",\"name\":\"\",\"x\":[528,551],\"y\":[225,254],\"type\":\"scatter\"},{\"line\":{\"color\":\"#333333\",\"width\":2},\"mode\":\"lines\",\"name\":\"\",\"x\":[528,506],\"y\":[225,196],\"type\":\"scatter\"},{\"line\":{\"color\":\"#333333\",\"width\":2},\"mode\":\"lines\",\"name\":\"\",\"x\":[617,619],\"y\":[280,305],\"type\":\"scatter\"},{\"line\":{\"color\":\"#333333\",\"width\":2},\"mode\":\"lines\",\"name\":\"\",\"x\":[617,607],\"y\":[280,303],\"type\":\"scatter\"},{\"line\":{\"color\":\"#333333\",\"width\":2},\"mode\":\"lines\",\"name\":\"\",\"x\":[617,611],\"y\":[280,242],\"type\":\"scatter\"},{\"line\":{\"color\":\"#00d5ff\",\"width\":2},\"mode\":\"lines\",\"name\":\"\",\"x\":[611,634],\"y\":[425,399],\"type\":\"scatter\"},{\"line\":{\"color\":\"#333333\",\"width\":2},\"mode\":\"lines\",\"name\":\"\",\"x\":[532,591],\"y\":[142,157],\"type\":\"scatter\"},{\"line\":{\"color\":\"#00d5ff\",\"width\":2},\"mode\":\"lines\",\"name\":\"\",\"x\":[532,594],\"y\":[142,132],\"type\":\"scatter\"},{\"line\":{\"color\":\"#333333\",\"width\":2},\"mode\":\"lines\",\"name\":\"\",\"x\":[412,404],\"y\":[553,590],\"type\":\"scatter\"},{\"line\":{\"color\":\"#333333\",\"width\":2},\"mode\":\"lines\",\"name\":\"\",\"x\":[326,323],\"y\":[375,325],\"type\":\"scatter\"},{\"line\":{\"color\":\"#333333\",\"width\":2},\"mode\":\"lines\",\"name\":\"\",\"x\":[326,328],\"y\":[375,423],\"type\":\"scatter\"},{\"line\":{\"color\":\"#00d5ff\",\"width\":2},\"mode\":\"lines\",\"name\":\"\",\"x\":[326,294],\"y\":[375,375],\"type\":\"scatter\"},{\"line\":{\"color\":\"#333333\",\"width\":2},\"mode\":\"lines\",\"name\":\"\",\"x\":[538,524],\"y\":[105,52],\"type\":\"scatter\"},{\"line\":{\"color\":\"#333333\",\"width\":2},\"mode\":\"lines\",\"name\":\"\",\"x\":[538,596],\"y\":[105,116],\"type\":\"scatter\"}],                        {\"template\":{\"data\":{\"histogram2dcontour\":[{\"type\":\"histogram2dcontour\",\"colorbar\":{\"outlinewidth\":0,\"ticks\":\"\"},\"colorscale\":[[0.0,\"#0d0887\"],[0.1111111111111111,\"#46039f\"],[0.2222222222222222,\"#7201a8\"],[0.3333333333333333,\"#9c179e\"],[0.4444444444444444,\"#bd3786\"],[0.5555555555555556,\"#d8576b\"],[0.6666666666666666,\"#ed7953\"],[0.7777777777777778,\"#fb9f3a\"],[0.8888888888888888,\"#fdca26\"],[1.0,\"#f0f921\"]]}],\"choropleth\":[{\"type\":\"choropleth\",\"colorbar\":{\"outlinewidth\":0,\"ticks\":\"\"}}],\"histogram2d\":[{\"type\":\"histogram2d\",\"colorbar\":{\"outlinewidth\":0,\"ticks\":\"\"},\"colorscale\":[[0.0,\"#0d0887\"],[0.1111111111111111,\"#46039f\"],[0.2222222222222222,\"#7201a8\"],[0.3333333333333333,\"#9c179e\"],[0.4444444444444444,\"#bd3786\"],[0.5555555555555556,\"#d8576b\"],[0.6666666666666666,\"#ed7953\"],[0.7777777777777778,\"#fb9f3a\"],[0.8888888888888888,\"#fdca26\"],[1.0,\"#f0f921\"]]}],\"heatmap\":[{\"type\":\"heatmap\",\"colorbar\":{\"outlinewidth\":0,\"ticks\":\"\"},\"colorscale\":[[0.0,\"#0d0887\"],[0.1111111111111111,\"#46039f\"],[0.2222222222222222,\"#7201a8\"],[0.3333333333333333,\"#9c179e\"],[0.4444444444444444,\"#bd3786\"],[0.5555555555555556,\"#d8576b\"],[0.6666666666666666,\"#ed7953\"],[0.7777777777777778,\"#fb9f3a\"],[0.8888888888888888,\"#fdca26\"],[1.0,\"#f0f921\"]]}],\"heatmapgl\":[{\"type\":\"heatmapgl\",\"colorbar\":{\"outlinewidth\":0,\"ticks\":\"\"},\"colorscale\":[[0.0,\"#0d0887\"],[0.1111111111111111,\"#46039f\"],[0.2222222222222222,\"#7201a8\"],[0.3333333333333333,\"#9c179e\"],[0.4444444444444444,\"#bd3786\"],[0.5555555555555556,\"#d8576b\"],[0.6666666666666666,\"#ed7953\"],[0.7777777777777778,\"#fb9f3a\"],[0.8888888888888888,\"#fdca26\"],[1.0,\"#f0f921\"]]}],\"contourcarpet\":[{\"type\":\"contourcarpet\",\"colorbar\":{\"outlinewidth\":0,\"ticks\":\"\"}}],\"contour\":[{\"type\":\"contour\",\"colorbar\":{\"outlinewidth\":0,\"ticks\":\"\"},\"colorscale\":[[0.0,\"#0d0887\"],[0.1111111111111111,\"#46039f\"],[0.2222222222222222,\"#7201a8\"],[0.3333333333333333,\"#9c179e\"],[0.4444444444444444,\"#bd3786\"],[0.5555555555555556,\"#d8576b\"],[0.6666666666666666,\"#ed7953\"],[0.7777777777777778,\"#fb9f3a\"],[0.8888888888888888,\"#fdca26\"],[1.0,\"#f0f921\"]]}],\"surface\":[{\"type\":\"surface\",\"colorbar\":{\"outlinewidth\":0,\"ticks\":\"\"},\"colorscale\":[[0.0,\"#0d0887\"],[0.1111111111111111,\"#46039f\"],[0.2222222222222222,\"#7201a8\"],[0.3333333333333333,\"#9c179e\"],[0.4444444444444444,\"#bd3786\"],[0.5555555555555556,\"#d8576b\"],[0.6666666666666666,\"#ed7953\"],[0.7777777777777778,\"#fb9f3a\"],[0.8888888888888888,\"#fdca26\"],[1.0,\"#f0f921\"]]}],\"mesh3d\":[{\"type\":\"mesh3d\",\"colorbar\":{\"outlinewidth\":0,\"ticks\":\"\"}}],\"scatter\":[{\"fillpattern\":{\"fillmode\":\"overlay\",\"size\":10,\"solidity\":0.2},\"type\":\"scatter\"}],\"parcoords\":[{\"type\":\"parcoords\",\"line\":{\"colorbar\":{\"outlinewidth\":0,\"ticks\":\"\"}}}],\"scatterpolargl\":[{\"type\":\"scatterpolargl\",\"marker\":{\"colorbar\":{\"outlinewidth\":0,\"ticks\":\"\"}}}],\"bar\":[{\"error_x\":{\"color\":\"#2a3f5f\"},\"error_y\":{\"color\":\"#2a3f5f\"},\"marker\":{\"line\":{\"color\":\"#E5ECF6\",\"width\":0.5},\"pattern\":{\"fillmode\":\"overlay\",\"size\":10,\"solidity\":0.2}},\"type\":\"bar\"}],\"scattergeo\":[{\"type\":\"scattergeo\",\"marker\":{\"colorbar\":{\"outlinewidth\":0,\"ticks\":\"\"}}}],\"scatterpolar\":[{\"type\":\"scatterpolar\",\"marker\":{\"colorbar\":{\"outlinewidth\":0,\"ticks\":\"\"}}}],\"histogram\":[{\"marker\":{\"pattern\":{\"fillmode\":\"overlay\",\"size\":10,\"solidity\":0.2}},\"type\":\"histogram\"}],\"scattergl\":[{\"type\":\"scattergl\",\"marker\":{\"colorbar\":{\"outlinewidth\":0,\"ticks\":\"\"}}}],\"scatter3d\":[{\"type\":\"scatter3d\",\"line\":{\"colorbar\":{\"outlinewidth\":0,\"ticks\":\"\"}},\"marker\":{\"colorbar\":{\"outlinewidth\":0,\"ticks\":\"\"}}}],\"scattermapbox\":[{\"type\":\"scattermapbox\",\"marker\":{\"colorbar\":{\"outlinewidth\":0,\"ticks\":\"\"}}}],\"scatterternary\":[{\"type\":\"scatterternary\",\"marker\":{\"colorbar\":{\"outlinewidth\":0,\"ticks\":\"\"}}}],\"scattercarpet\":[{\"type\":\"scattercarpet\",\"marker\":{\"colorbar\":{\"outlinewidth\":0,\"ticks\":\"\"}}}],\"carpet\":[{\"aaxis\":{\"endlinecolor\":\"#2a3f5f\",\"gridcolor\":\"white\",\"linecolor\":\"white\",\"minorgridcolor\":\"white\",\"startlinecolor\":\"#2a3f5f\"},\"baxis\":{\"endlinecolor\":\"#2a3f5f\",\"gridcolor\":\"white\",\"linecolor\":\"white\",\"minorgridcolor\":\"white\",\"startlinecolor\":\"#2a3f5f\"},\"type\":\"carpet\"}],\"table\":[{\"cells\":{\"fill\":{\"color\":\"#EBF0F8\"},\"line\":{\"color\":\"white\"}},\"header\":{\"fill\":{\"color\":\"#C8D4E3\"},\"line\":{\"color\":\"white\"}},\"type\":\"table\"}],\"barpolar\":[{\"marker\":{\"line\":{\"color\":\"#E5ECF6\",\"width\":0.5},\"pattern\":{\"fillmode\":\"overlay\",\"size\":10,\"solidity\":0.2}},\"type\":\"barpolar\"}],\"pie\":[{\"automargin\":true,\"type\":\"pie\"}]},\"layout\":{\"autotypenumbers\":\"strict\",\"colorway\":[\"#636efa\",\"#EF553B\",\"#00cc96\",\"#ab63fa\",\"#FFA15A\",\"#19d3f3\",\"#FF6692\",\"#B6E880\",\"#FF97FF\",\"#FECB52\"],\"font\":{\"color\":\"#2a3f5f\"},\"hovermode\":\"closest\",\"hoverlabel\":{\"align\":\"left\"},\"paper_bgcolor\":\"white\",\"plot_bgcolor\":\"#E5ECF6\",\"polar\":{\"bgcolor\":\"#E5ECF6\",\"angularaxis\":{\"gridcolor\":\"white\",\"linecolor\":\"white\",\"ticks\":\"\"},\"radialaxis\":{\"gridcolor\":\"white\",\"linecolor\":\"white\",\"ticks\":\"\"}},\"ternary\":{\"bgcolor\":\"#E5ECF6\",\"aaxis\":{\"gridcolor\":\"white\",\"linecolor\":\"white\",\"ticks\":\"\"},\"baxis\":{\"gridcolor\":\"white\",\"linecolor\":\"white\",\"ticks\":\"\"},\"caxis\":{\"gridcolor\":\"white\",\"linecolor\":\"white\",\"ticks\":\"\"}},\"coloraxis\":{\"colorbar\":{\"outlinewidth\":0,\"ticks\":\"\"}},\"colorscale\":{\"sequential\":[[0.0,\"#0d0887\"],[0.1111111111111111,\"#46039f\"],[0.2222222222222222,\"#7201a8\"],[0.3333333333333333,\"#9c179e\"],[0.4444444444444444,\"#bd3786\"],[0.5555555555555556,\"#d8576b\"],[0.6666666666666666,\"#ed7953\"],[0.7777777777777778,\"#fb9f3a\"],[0.8888888888888888,\"#fdca26\"],[1.0,\"#f0f921\"]],\"sequentialminus\":[[0.0,\"#0d0887\"],[0.1111111111111111,\"#46039f\"],[0.2222222222222222,\"#7201a8\"],[0.3333333333333333,\"#9c179e\"],[0.4444444444444444,\"#bd3786\"],[0.5555555555555556,\"#d8576b\"],[0.6666666666666666,\"#ed7953\"],[0.7777777777777778,\"#fb9f3a\"],[0.8888888888888888,\"#fdca26\"],[1.0,\"#f0f921\"]],\"diverging\":[[0,\"#8e0152\"],[0.1,\"#c51b7d\"],[0.2,\"#de77ae\"],[0.3,\"#f1b6da\"],[0.4,\"#fde0ef\"],[0.5,\"#f7f7f7\"],[0.6,\"#e6f5d0\"],[0.7,\"#b8e186\"],[0.8,\"#7fbc41\"],[0.9,\"#4d9221\"],[1,\"#276419\"]]},\"xaxis\":{\"gridcolor\":\"white\",\"linecolor\":\"white\",\"ticks\":\"\",\"title\":{\"standoff\":15},\"zerolinecolor\":\"white\",\"automargin\":true,\"zerolinewidth\":2},\"yaxis\":{\"gridcolor\":\"white\",\"linecolor\":\"white\",\"ticks\":\"\",\"title\":{\"standoff\":15},\"zerolinecolor\":\"white\",\"automargin\":true,\"zerolinewidth\":2},\"scene\":{\"xaxis\":{\"backgroundcolor\":\"#E5ECF6\",\"gridcolor\":\"white\",\"linecolor\":\"white\",\"showbackground\":true,\"ticks\":\"\",\"zerolinecolor\":\"white\",\"gridwidth\":2},\"yaxis\":{\"backgroundcolor\":\"#E5ECF6\",\"gridcolor\":\"white\",\"linecolor\":\"white\",\"showbackground\":true,\"ticks\":\"\",\"zerolinecolor\":\"white\",\"gridwidth\":2},\"zaxis\":{\"backgroundcolor\":\"#E5ECF6\",\"gridcolor\":\"white\",\"linecolor\":\"white\",\"showbackground\":true,\"ticks\":\"\",\"zerolinecolor\":\"white\",\"gridwidth\":2}},\"shapedefaults\":{\"line\":{\"color\":\"#2a3f5f\"}},\"annotationdefaults\":{\"arrowcolor\":\"#2a3f5f\",\"arrowhead\":0,\"arrowwidth\":1},\"geo\":{\"bgcolor\":\"white\",\"landcolor\":\"#E5ECF6\",\"subunitcolor\":\"white\",\"showland\":true,\"showlakes\":true,\"lakecolor\":\"white\"},\"title\":{\"x\":0.05},\"mapbox\":{\"style\":\"light\"}}},\"width\":750,\"height\":750,\"plot_bgcolor\":\"white\",\"showlegend\":false},                        {\"responsive\": true}                    ).then(function(){\n",
       "                            \n",
       "var gd = document.getElementById('3f774b4a-0c54-4288-a1f9-8be388ef5b34');\n",
       "var x = new MutationObserver(function (mutations, observer) {{\n",
       "        var display = window.getComputedStyle(gd).display;\n",
       "        if (!display || display === 'none') {{\n",
       "            console.log([gd, 'removed!']);\n",
       "            Plotly.purge(gd);\n",
       "            observer.disconnect();\n",
       "        }}\n",
       "}});\n",
       "\n",
       "// Listen for the removal of the full notebook cells\n",
       "var notebookContainer = gd.closest('#notebook-container');\n",
       "if (notebookContainer) {{\n",
       "    x.observe(notebookContainer, {childList: true});\n",
       "}}\n",
       "\n",
       "// Listen for the clearing of the current output cell\n",
       "var outputEl = gd.closest('.output');\n",
       "if (outputEl) {{\n",
       "    x.observe(outputEl, {childList: true});\n",
       "}}\n",
       "\n",
       "                        })                };                });            </script>        </div>"
      ]
     },
     "metadata": {},
     "output_type": "display_data"
    }
   ],
   "source": [
    "fig = go.Figure()\n",
    "\n",
    "# 幅を固定\n",
    "fig.update_layout(\n",
    "    width=750,\n",
    "    height=750,\n",
    ")\n",
    "\n",
    "# 背景を白に変更\n",
    "fig.update_layout(plot_bgcolor='white')\n",
    "\n",
    "grid_x = []\n",
    "grid_y = []\n",
    "    \n",
    "for node in draw_node_list:\n",
    "    x, y = pos_list[node]\n",
    "    \n",
    "    grid_x.append(x)\n",
    "    grid_y.append(y)\n",
    "\n",
    "label = list(map(str, draw_node_list))\n",
    "\n",
    "fig.add_trace(\n",
    "    go.Scatter(x=grid_x, y=grid_y, mode='markers+text', text=label, marker={'size': 6, 'color': '#333333'}, name='', textposition='top left')\n",
    ")\n",
    "\n",
    "drawed = set()\n",
    "\n",
    "for node in draw_node_list:\n",
    "    if node not in node_list:\n",
    "        continue\n",
    "        \n",
    "    from_x, from_y = pos_list[node]\n",
    "\n",
    "    for i, to, w in edge_info_list[node]:\n",
    "        if (node, to) in drawed:\n",
    "            continue\n",
    "            \n",
    "        to_x, to_y = pos_list[to]\n",
    "        \n",
    "        line_def = {'width': 2, 'color': '#333333'}\n",
    "        \n",
    "        if (node, to) in orig_node_pair:\n",
    "                line_def = {'width': 2, 'color': '#00d5ff'}\n",
    "            \n",
    "        fig.add_trace(\n",
    "            go.Scatter(x=[from_x, to_x], y=[from_y, to_y], mode='lines', line=line_def, name='')\n",
    "        )\n",
    "        \n",
    "        drawed.add((node, to))\n",
    "        drawed.add((to, node))\n",
    "        \n",
    "fig.update_layout(showlegend=False)        \n",
    "\n",
    "fig.show()"
   ]
  },
  {
   "cell_type": "code",
   "execution_count": 176,
   "metadata": {},
   "outputs": [
    {
     "data": {
      "application/vnd.plotly.v1+json": {
       "config": {
        "plotlyServerURL": "https://plot.ly"
       },
       "data": [
        {
         "marker": {
          "color": "#333333",
          "size": 6
         },
         "mode": "markers+text",
         "name": "",
         "text": [
          "4",
          "10",
          "12",
          "16",
          "17",
          "18",
          "20",
          "22",
          "27",
          "29",
          "30",
          "34",
          "35",
          "37",
          "38",
          "44",
          "45",
          "48",
          "49",
          "55",
          "56",
          "58",
          "59",
          "60",
          "61",
          "62",
          "64",
          "68",
          "69",
          "70",
          "71",
          "75",
          "77",
          "80",
          "81",
          "82",
          "84",
          "85",
          "91",
          "92",
          "93",
          "96",
          "97",
          "99",
          "101",
          "103",
          "106",
          "108",
          "109",
          "110",
          "112",
          "114",
          "122",
          "124",
          "128",
          "129",
          "132",
          "133",
          "134",
          "138",
          "141",
          "146",
          "147",
          "148",
          "152",
          "153",
          "155",
          "162",
          "163",
          "164",
          "166",
          "171",
          "172",
          "177",
          "181",
          "186",
          "187",
          "188",
          "190",
          "199",
          "200",
          "202",
          "206",
          "207",
          "211",
          "213",
          "214",
          "216",
          "219",
          "220",
          "222",
          "229",
          "233",
          "235",
          "238",
          "244",
          "247",
          "248",
          "249",
          "251",
          "254",
          "255",
          "259",
          "263",
          "264",
          "265",
          "266",
          "268",
          "270",
          "273",
          "274",
          "275",
          "277",
          "281",
          "282",
          "283",
          "284",
          "285",
          "287",
          "288",
          "290",
          "294",
          "295",
          "296",
          "297",
          "303",
          "307",
          "313",
          "316",
          "321",
          "322",
          "324",
          "325",
          "329",
          "333",
          "338",
          "339",
          "341",
          "343",
          "344",
          "348",
          "350",
          "352",
          "355",
          "357",
          "358",
          "359",
          "361",
          "363",
          "364",
          "365",
          "368",
          "369",
          "370",
          "374",
          "376",
          "378",
          "380",
          "382",
          "383",
          "385",
          "386",
          "388",
          "390",
          "398",
          "399",
          "402",
          "407",
          "409",
          "410",
          "414",
          "418",
          "420",
          "422",
          "423",
          "427",
          "429",
          "430",
          "432",
          "438",
          "441",
          "444",
          "445",
          "446",
          "448",
          "449",
          "451",
          "454",
          "455",
          "457",
          "460",
          "461",
          "466",
          "471",
          "472",
          "473",
          "476",
          "477",
          "479",
          "480",
          "483",
          "485",
          "487",
          "488",
          "491",
          "493",
          "495",
          "497",
          "498",
          "499",
          "500"
         ],
         "textposition": "top left",
         "type": "scatter",
         "x": [
          283,
          428,
          573,
          735,
          827,
          204,
          634,
          232,
          785,
          479,
          573,
          524,
          350,
          487,
          588,
          578,
          804,
          465,
          309,
          534,
          848,
          375,
          369,
          803,
          121,
          591,
          500,
          785,
          442,
          535,
          864,
          334,
          686,
          589,
          524,
          502,
          388,
          486,
          222,
          485,
          591,
          551,
          228,
          506,
          804,
          661,
          607,
          644,
          504,
          642,
          689,
          798,
          704,
          357,
          418,
          294,
          774,
          166,
          201,
          749,
          391,
          842,
          541,
          365,
          673,
          337,
          248,
          835,
          531,
          269,
          344,
          330,
          231,
          503,
          254,
          718,
          430,
          532,
          544,
          350,
          421,
          392,
          485,
          837,
          230,
          565,
          771,
          933,
          250,
          385,
          370,
          839,
          251,
          469,
          443,
          436,
          580,
          686,
          825,
          618,
          712,
          793,
          292,
          435,
          357,
          604,
          365,
          190,
          495,
          240,
          596,
          521,
          716,
          479,
          325,
          346,
          417,
          243,
          553,
          570,
          483,
          607,
          99,
          513,
          668,
          383,
          509,
          600,
          830,
          755,
          801,
          570,
          420,
          694,
          594,
          720,
          604,
          375,
          922,
          498,
          621,
          546,
          364,
          883,
          646,
          478,
          601,
          215,
          897,
          787,
          767,
          678,
          702,
          910,
          519,
          305,
          536,
          312,
          410,
          494,
          215,
          525,
          596,
          283,
          556,
          404,
          409,
          505,
          327,
          391,
          472,
          723,
          821,
          571,
          202,
          155,
          621,
          924,
          607,
          289,
          509,
          238,
          246,
          411,
          655,
          552,
          297,
          323,
          413,
          528,
          617,
          508,
          368,
          611,
          714,
          619,
          391,
          487,
          643,
          356,
          405,
          532,
          175,
          412,
          326,
          611,
          538,
          445,
          189,
          328,
          458
         ],
         "y": [
          281,
          396,
          418,
          183,
          124,
          336,
          399,
          354,
          503,
          113,
          187,
          297,
          550,
          225,
          640,
          289,
          470,
          449,
          463,
          403,
          339,
          564,
          228,
          204,
          400,
          157,
          105,
          485,
          562,
          342,
          275,
          288,
          496,
          372,
          52,
          252,
          456,
          489,
          376,
          172,
          427,
          254,
          419,
          196,
          416,
          370,
          303,
          382,
          373,
          597,
          361,
          434,
          321,
          506,
          270,
          375,
          294,
          388,
          225,
          307,
          178,
          290,
          261,
          246,
          222,
          524,
          468,
          242,
          372,
          145,
          618,
          312,
          168,
          541,
          356,
          536,
          421,
          315,
          319,
          392,
          498,
          258,
          455,
          301,
          397,
          508,
          207,
          324,
          441,
          537,
          205,
          353,
          452,
          104,
          324,
          476,
          266,
          159,
          326,
          592,
          228,
          617,
          517,
          230,
          463,
          591,
          621,
          270,
          418,
          231,
          116,
          447,
          419,
          536,
          258,
          212,
          436,
          328,
          577,
          401,
          546,
          334,
          332,
          602,
          504,
          433,
          242,
          212,
          207,
          449,
          285,
          265,
          159,
          281,
          132,
          476,
          433,
          274,
          235,
          386,
          403,
          403,
          541,
          190,
          583,
          131,
          513,
          247,
          285,
          188,
          623,
          388,
          293,
          263,
          329,
          550,
          122,
          231,
          397,
          182,
          368,
          178,
          390,
          350,
          296,
          590,
          313,
          118,
          462,
          394,
          553,
          239,
          445,
          456,
          190,
          165,
          552,
          382,
          445,
          192,
          565,
          246,
          182,
          600,
          253,
          219,
          248,
          325,
          539,
          225,
          280,
          360,
          130,
          425,
          434,
          305,
          297,
          366,
          287,
          197,
          253,
          142,
          483,
          553,
          375,
          242,
          105,
          619,
          215,
          423,
          265
         ]
        },
        {
         "line": {
          "color": "#00d5ff",
          "width": 3
         },
         "mode": "lines",
         "name": "",
         "type": "scatter",
         "x": [
          283,
          243
         ],
         "y": [
          281,
          328
         ]
        },
        {
         "line": {
          "color": "#333333",
          "width": 2
         },
         "mode": "lines",
         "name": "",
         "type": "scatter",
         "x": [
          283,
          330
         ],
         "y": [
          281,
          312
         ]
        },
        {
         "line": {
          "color": "#00d5ff",
          "width": 3
         },
         "mode": "lines",
         "name": "",
         "type": "scatter",
         "x": [
          283,
          297
         ],
         "y": [
          281,
          248
         ]
        },
        {
         "line": {
          "color": "#00d5ff",
          "dash": "dot",
          "width": 3
         },
         "mode": "lines",
         "name": "",
         "type": "scatter",
         "x": [
          428,
          498
         ],
         "y": [
          396,
          386
         ]
        },
        {
         "line": {
          "color": "#00d5ff",
          "width": 3
         },
         "mode": "lines",
         "name": "",
         "type": "scatter",
         "x": [
          428,
          443
         ],
         "y": [
          396,
          324
         ]
        },
        {
         "line": {
          "color": "#00d5ff",
          "width": 3
         },
         "mode": "lines",
         "name": "",
         "type": "scatter",
         "x": [
          428,
          430
         ],
         "y": [
          396,
          421
         ]
        },
        {
         "line": {
          "color": "#00d5ff",
          "dash": "dot",
          "width": 3
         },
         "mode": "lines",
         "name": "",
         "type": "scatter",
         "x": [
          232,
          215
         ],
         "y": [
          354,
          368
         ]
        },
        {
         "line": {
          "color": "#00d5ff",
          "dash": "dot",
          "width": 3
         },
         "mode": "lines",
         "name": "",
         "type": "scatter",
         "x": [
          232,
          222
         ],
         "y": [
          354,
          376
         ]
        },
        {
         "line": {
          "color": "#333333",
          "width": 2
         },
         "mode": "lines",
         "name": "",
         "type": "scatter",
         "x": [
          232,
          243
         ],
         "y": [
          354,
          328
         ]
        },
        {
         "line": {
          "color": "#00d5ff",
          "width": 3
         },
         "mode": "lines",
         "name": "",
         "type": "scatter",
         "x": [
          232,
          254
         ],
         "y": [
          354,
          356
         ]
        },
        {
         "line": {
          "color": "#00d5ff",
          "width": 3
         },
         "mode": "lines",
         "name": "",
         "type": "scatter",
         "x": [
          479,
          500
         ],
         "y": [
          113,
          105
         ]
        },
        {
         "line": {
          "color": "#00d5ff",
          "width": 3
         },
         "mode": "lines",
         "name": "",
         "type": "scatter",
         "x": [
          479,
          478
         ],
         "y": [
          113,
          131
         ]
        },
        {
         "line": {
          "color": "#333333",
          "width": 2
         },
         "mode": "lines",
         "name": "",
         "type": "scatter",
         "x": [
          479,
          505
         ],
         "y": [
          113,
          118
         ]
        },
        {
         "line": {
          "color": "#ec1818",
          "width": 3
         },
         "mode": "lines",
         "name": "",
         "type": "scatter",
         "x": [
          524,
          556
         ],
         "y": [
          297,
          296
         ]
        },
        {
         "line": {
          "color": "#00d5ff",
          "width": 3
         },
         "mode": "lines",
         "name": "",
         "type": "scatter",
         "x": [
          524,
          502
         ],
         "y": [
          297,
          252
         ]
        },
        {
         "line": {
          "color": "#00d5ff",
          "dash": "dot",
          "width": 3
         },
         "mode": "lines",
         "name": "",
         "type": "scatter",
         "x": [
          524,
          443
         ],
         "y": [
          297,
          324
         ]
        },
        {
         "line": {
          "color": "#00d5ff",
          "width": 3
         },
         "mode": "lines",
         "name": "",
         "type": "scatter",
         "x": [
          487,
          458
         ],
         "y": [
          225,
          265
         ]
        },
        {
         "line": {
          "color": "#00d5ff",
          "dash": "dot",
          "width": 3
         },
         "mode": "lines",
         "name": "",
         "type": "scatter",
         "x": [
          487,
          509
         ],
         "y": [
          225,
          242
         ]
        },
        {
         "line": {
          "color": "#333333",
          "width": 2
         },
         "mode": "lines",
         "name": "",
         "type": "scatter",
         "x": [
          487,
          528
         ],
         "y": [
          225,
          225
         ]
        },
        {
         "line": {
          "color": "#00d5ff",
          "width": 3
         },
         "mode": "lines",
         "name": "",
         "type": "scatter",
         "x": [
          487,
          506
         ],
         "y": [
          225,
          196
         ]
        },
        {
         "line": {
          "color": "#333333",
          "width": 2
         },
         "mode": "lines",
         "name": "",
         "type": "scatter",
         "x": [
          487,
          435
         ],
         "y": [
          225,
          230
         ]
        },
        {
         "line": {
          "color": "#00d5ff",
          "width": 3
         },
         "mode": "lines",
         "name": "",
         "type": "scatter",
         "x": [
          487,
          485
         ],
         "y": [
          225,
          172
         ]
        },
        {
         "line": {
          "color": "#00d5ff",
          "width": 3
         },
         "mode": "lines",
         "name": "",
         "type": "scatter",
         "x": [
          578,
          617
         ],
         "y": [
          289,
          280
         ]
        },
        {
         "line": {
          "color": "#00d5ff",
          "width": 3
         },
         "mode": "lines",
         "name": "",
         "type": "scatter",
         "x": [
          578,
          607
         ],
         "y": [
          289,
          303
         ]
        },
        {
         "line": {
          "color": "#00d5ff",
          "width": 3
         },
         "mode": "lines",
         "name": "",
         "type": "scatter",
         "x": [
          578,
          556
         ],
         "y": [
          289,
          296
         ]
        },
        {
         "line": {
          "color": "#333333",
          "width": 2
         },
         "mode": "lines",
         "name": "",
         "type": "scatter",
         "x": [
          578,
          607
         ],
         "y": [
          289,
          334
         ]
        },
        {
         "line": {
          "color": "#00d5ff",
          "width": 3
         },
         "mode": "lines",
         "name": "",
         "type": "scatter",
         "x": [
          465,
          430
         ],
         "y": [
          449,
          421
         ]
        },
        {
         "line": {
          "color": "#00d5ff",
          "dash": "dot",
          "width": 3
         },
         "mode": "lines",
         "name": "",
         "type": "scatter",
         "x": [
          465,
          436
         ],
         "y": [
          449,
          476
         ]
        },
        {
         "line": {
          "color": "#00d5ff",
          "width": 3
         },
         "mode": "lines",
         "name": "",
         "type": "scatter",
         "x": [
          465,
          485
         ],
         "y": [
          449,
          455
         ]
        },
        {
         "line": {
          "color": "#00d5ff",
          "width": 3
         },
         "mode": "lines",
         "name": "",
         "type": "scatter",
         "x": [
          309,
          251
         ],
         "y": [
          463,
          452
         ]
        },
        {
         "line": {
          "color": "#00d5ff",
          "width": 3
         },
         "mode": "lines",
         "name": "",
         "type": "scatter",
         "x": [
          309,
          250
         ],
         "y": [
          463,
          441
         ]
        },
        {
         "line": {
          "color": "#00d5ff",
          "width": 3
         },
         "mode": "lines",
         "name": "",
         "type": "scatter",
         "x": [
          309,
          337
         ],
         "y": [
          463,
          524
         ]
        },
        {
         "line": {
          "color": "#333333",
          "width": 2
         },
         "mode": "lines",
         "name": "",
         "type": "scatter",
         "x": [
          309,
          292
         ],
         "y": [
          463,
          517
         ]
        },
        {
         "line": {
          "color": "#00d5ff",
          "width": 3
         },
         "mode": "lines",
         "name": "",
         "type": "scatter",
         "x": [
          309,
          248
         ],
         "y": [
          463,
          468
         ]
        },
        {
         "line": {
          "color": "#00d5ff",
          "width": 3
         },
         "mode": "lines",
         "name": "",
         "type": "scatter",
         "x": [
          534,
          531
         ],
         "y": [
          403,
          372
         ]
        },
        {
         "line": {
          "color": "#00d5ff",
          "width": 3
         },
         "mode": "lines",
         "name": "",
         "type": "scatter",
         "x": [
          534,
          495
         ],
         "y": [
          403,
          418
         ]
        },
        {
         "line": {
          "color": "#ec1818",
          "width": 3
         },
         "mode": "lines",
         "name": "",
         "type": "scatter",
         "x": [
          534,
          498
         ],
         "y": [
          403,
          386
         ]
        },
        {
         "line": {
          "color": "#00d5ff",
          "width": 3
         },
         "mode": "lines",
         "name": "",
         "type": "scatter",
         "x": [
          848,
          933
         ],
         "y": [
          339,
          324
         ]
        },
        {
         "line": {
          "color": "#00d5ff",
          "width": 3
         },
         "mode": "lines",
         "name": "",
         "type": "scatter",
         "x": [
          848,
          825
         ],
         "y": [
          339,
          326
         ]
        },
        {
         "line": {
          "color": "#00d5ff",
          "width": 3
         },
         "mode": "lines",
         "name": "",
         "type": "scatter",
         "x": [
          848,
          924
         ],
         "y": [
          339,
          382
         ]
        },
        {
         "line": {
          "color": "#00d5ff",
          "dash": "dot",
          "width": 3
         },
         "mode": "lines",
         "name": "",
         "type": "scatter",
         "x": [
          848,
          839
         ],
         "y": [
          339,
          353
         ]
        },
        {
         "line": {
          "color": "#00d5ff",
          "width": 3
         },
         "mode": "lines",
         "name": "",
         "type": "scatter",
         "x": [
          375,
          385
         ],
         "y": [
          564,
          537
         ]
        },
        {
         "line": {
          "color": "#333333",
          "width": 2
         },
         "mode": "lines",
         "name": "",
         "type": "scatter",
         "x": [
          375,
          412
         ],
         "y": [
          564,
          553
         ]
        },
        {
         "line": {
          "color": "#00d5ff",
          "width": 3
         },
         "mode": "lines",
         "name": "",
         "type": "scatter",
         "x": [
          375,
          404
         ],
         "y": [
          564,
          590
         ]
        },
        {
         "line": {
          "color": "#00d5ff",
          "width": 3
         },
         "mode": "lines",
         "name": "",
         "type": "scatter",
         "x": [
          375,
          364
         ],
         "y": [
          564,
          541
         ]
        },
        {
         "line": {
          "color": "#00d5ff",
          "width": 3
         },
         "mode": "lines",
         "name": "",
         "type": "scatter",
         "x": [
          375,
          344
         ],
         "y": [
          564,
          618
         ]
        },
        {
         "line": {
          "color": "#00d5ff",
          "width": 3
         },
         "mode": "lines",
         "name": "",
         "type": "scatter",
         "x": [
          375,
          365
         ],
         "y": [
          564,
          621
         ]
        },
        {
         "line": {
          "color": "#00d5ff",
          "width": 3
         },
         "mode": "lines",
         "name": "",
         "type": "scatter",
         "x": [
          375,
          350
         ],
         "y": [
          564,
          550
         ]
        },
        {
         "line": {
          "color": "#00d5ff",
          "width": 3
         },
         "mode": "lines",
         "name": "",
         "type": "scatter",
         "x": [
          803,
          830
         ],
         "y": [
          204,
          207
         ]
        },
        {
         "line": {
          "color": "#333333",
          "width": 2
         },
         "mode": "lines",
         "name": "",
         "type": "scatter",
         "x": [
          803,
          787
         ],
         "y": [
          204,
          188
         ]
        },
        {
         "line": {
          "color": "#00d5ff",
          "width": 3
         },
         "mode": "lines",
         "name": "",
         "type": "scatter",
         "x": [
          803,
          771
         ],
         "y": [
          204,
          207
         ]
        },
        {
         "line": {
          "color": "#333333",
          "width": 2
         },
         "mode": "lines",
         "name": "",
         "type": "scatter",
         "x": [
          500,
          469
         ],
         "y": [
          105,
          104
         ]
        },
        {
         "line": {
          "color": "#333333",
          "width": 2
         },
         "mode": "lines",
         "name": "",
         "type": "scatter",
         "x": [
          500,
          505
         ],
         "y": [
          105,
          118
         ]
        },
        {
         "line": {
          "color": "#00d5ff",
          "dash": "dot",
          "width": 3
         },
         "mode": "lines",
         "name": "",
         "type": "scatter",
         "x": [
          500,
          524
         ],
         "y": [
          105,
          52
         ]
        },
        {
         "line": {
          "color": "#00d5ff",
          "width": 3
         },
         "mode": "lines",
         "name": "",
         "type": "scatter",
         "x": [
          442,
          412
         ],
         "y": [
          562,
          553
         ]
        },
        {
         "line": {
          "color": "#333333",
          "width": 2
         },
         "mode": "lines",
         "name": "",
         "type": "scatter",
         "x": [
          442,
          413
         ],
         "y": [
          562,
          539
         ]
        },
        {
         "line": {
          "color": "#00d5ff",
          "width": 3
         },
         "mode": "lines",
         "name": "",
         "type": "scatter",
         "x": [
          442,
          411
         ],
         "y": [
          562,
          600
         ]
        },
        {
         "line": {
          "color": "#00d5ff",
          "width": 3
         },
         "mode": "lines",
         "name": "",
         "type": "scatter",
         "x": [
          442,
          472
         ],
         "y": [
          562,
          553
         ]
        },
        {
         "line": {
          "color": "#00d5ff",
          "width": 3
         },
         "mode": "lines",
         "name": "",
         "type": "scatter",
         "x": [
          442,
          445
         ],
         "y": [
          562,
          619
         ]
        },
        {
         "line": {
          "color": "#00d5ff",
          "width": 3
         },
         "mode": "lines",
         "name": "",
         "type": "scatter",
         "x": [
          535,
          544
         ],
         "y": [
          342,
          319
         ]
        },
        {
         "line": {
          "color": "#00d5ff",
          "width": 3
         },
         "mode": "lines",
         "name": "",
         "type": "scatter",
         "x": [
          535,
          532
         ],
         "y": [
          342,
          315
         ]
        },
        {
         "line": {
          "color": "#00d5ff",
          "width": 3
         },
         "mode": "lines",
         "name": "",
         "type": "scatter",
         "x": [
          535,
          519
         ],
         "y": [
          342,
          329
         ]
        },
        {
         "line": {
          "color": "#00d5ff",
          "width": 3
         },
         "mode": "lines",
         "name": "",
         "type": "scatter",
         "x": [
          535,
          531
         ],
         "y": [
          342,
          372
         ]
        },
        {
         "line": {
          "color": "#333333",
          "width": 2
         },
         "mode": "lines",
         "name": "",
         "type": "scatter",
         "x": [
          535,
          508
         ],
         "y": [
          342,
          360
         ]
        },
        {
         "line": {
          "color": "#00d5ff",
          "width": 3
         },
         "mode": "lines",
         "name": "",
         "type": "scatter",
         "x": [
          502,
          541
         ],
         "y": [
          252,
          261
         ]
        },
        {
         "line": {
          "color": "#333333",
          "width": 2
         },
         "mode": "lines",
         "name": "",
         "type": "scatter",
         "x": [
          502,
          458
         ],
         "y": [
          252,
          265
         ]
        },
        {
         "line": {
          "color": "#ec1818",
          "width": 3
         },
         "mode": "lines",
         "name": "",
         "type": "scatter",
         "x": [
          388,
          357
         ],
         "y": [
          456,
          463
         ]
        },
        {
         "line": {
          "color": "#ec1818",
          "width": 3
         },
         "mode": "lines",
         "name": "",
         "type": "scatter",
         "x": [
          388,
          417
         ],
         "y": [
          456,
          436
         ]
        },
        {
         "line": {
          "color": "#00d5ff",
          "dash": "dot",
          "width": 3
         },
         "mode": "lines",
         "name": "",
         "type": "scatter",
         "x": [
          388,
          436
         ],
         "y": [
          456,
          476
         ]
        },
        {
         "line": {
          "color": "#00d5ff",
          "width": 3
         },
         "mode": "lines",
         "name": "",
         "type": "scatter",
         "x": [
          486,
          436
         ],
         "y": [
          489,
          476
         ]
        },
        {
         "line": {
          "color": "#ec1818",
          "width": 3
         },
         "mode": "lines",
         "name": "",
         "type": "scatter",
         "x": [
          486,
          479
         ],
         "y": [
          489,
          536
         ]
        },
        {
         "line": {
          "color": "#333333",
          "width": 2
         },
         "mode": "lines",
         "name": "",
         "type": "scatter",
         "x": [
          486,
          503
         ],
         "y": [
          489,
          541
         ]
        },
        {
         "line": {
          "color": "#ec1818",
          "width": 3
         },
         "mode": "lines",
         "name": "",
         "type": "scatter",
         "x": [
          486,
          485
         ],
         "y": [
          489,
          455
         ]
        },
        {
         "line": {
          "color": "#333333",
          "width": 2
         },
         "mode": "lines",
         "name": "",
         "type": "scatter",
         "x": [
          485,
          494
         ],
         "y": [
          172,
          182
         ]
        },
        {
         "line": {
          "color": "#333333",
          "width": 2
         },
         "mode": "lines",
         "name": "",
         "type": "scatter",
         "x": [
          485,
          420
         ],
         "y": [
          172,
          159
         ]
        },
        {
         "line": {
          "color": "#333333",
          "width": 2
         },
         "mode": "lines",
         "name": "",
         "type": "scatter",
         "x": [
          485,
          525
         ],
         "y": [
          172,
          178
         ]
        },
        {
         "line": {
          "color": "#00d5ff",
          "dash": "dot",
          "width": 3
         },
         "mode": "lines",
         "name": "",
         "type": "scatter",
         "x": [
          485,
          532
         ],
         "y": [
          172,
          142
         ]
        },
        {
         "line": {
          "color": "#00d5ff",
          "dash": "dot",
          "width": 3
         },
         "mode": "lines",
         "name": "",
         "type": "scatter",
         "x": [
          591,
          604
         ],
         "y": [
          427,
          433
         ]
        },
        {
         "line": {
          "color": "#00d5ff",
          "width": 3
         },
         "mode": "lines",
         "name": "",
         "type": "scatter",
         "x": [
          591,
          596
         ],
         "y": [
          427,
          390
         ]
        },
        {
         "line": {
          "color": "#ec1818",
          "width": 3
         },
         "mode": "lines",
         "name": "",
         "type": "scatter",
         "x": [
          591,
          607
         ],
         "y": [
          427,
          445
         ]
        },
        {
         "line": {
          "color": "#00d5ff",
          "dash": "dot",
          "width": 3
         },
         "mode": "lines",
         "name": "",
         "type": "scatter",
         "x": [
          591,
          571
         ],
         "y": [
          427,
          456
         ]
        },
        {
         "line": {
          "color": "#00d5ff",
          "width": 3
         },
         "mode": "lines",
         "name": "",
         "type": "scatter",
         "x": [
          228,
          166
         ],
         "y": [
          419,
          388
         ]
        },
        {
         "line": {
          "color": "#333333",
          "width": 2
         },
         "mode": "lines",
         "name": "",
         "type": "scatter",
         "x": [
          228,
          175
         ],
         "y": [
          419,
          483
         ]
        },
        {
         "line": {
          "color": "#333333",
          "width": 2
         },
         "mode": "lines",
         "name": "",
         "type": "scatter",
         "x": [
          228,
          251
         ],
         "y": [
          419,
          452
         ]
        },
        {
         "line": {
          "color": "#00d5ff",
          "width": 3
         },
         "mode": "lines",
         "name": "",
         "type": "scatter",
         "x": [
          228,
          250
         ],
         "y": [
          419,
          441
         ]
        },
        {
         "line": {
          "color": "#00d5ff",
          "width": 3
         },
         "mode": "lines",
         "name": "",
         "type": "scatter",
         "x": [
          804,
          755
         ],
         "y": [
          416,
          449
         ]
        },
        {
         "line": {
          "color": "#333333",
          "width": 2
         },
         "mode": "lines",
         "name": "",
         "type": "scatter",
         "x": [
          804,
          749
         ],
         "y": [
          416,
          307
         ]
        },
        {
         "line": {
          "color": "#333333",
          "width": 2
         },
         "mode": "lines",
         "name": "",
         "type": "scatter",
         "x": [
          804,
          825
         ],
         "y": [
          416,
          326
         ]
        },
        {
         "line": {
          "color": "#ec1818",
          "width": 3
         },
         "mode": "lines",
         "name": "",
         "type": "scatter",
         "x": [
          804,
          839
         ],
         "y": [
          416,
          353
         ]
        },
        {
         "line": {
          "color": "#333333",
          "width": 2
         },
         "mode": "lines",
         "name": "",
         "type": "scatter",
         "x": [
          804,
          821
         ],
         "y": [
          416,
          445
         ]
        },
        {
         "line": {
          "color": "#00d5ff",
          "width": 3
         },
         "mode": "lines",
         "name": "",
         "type": "scatter",
         "x": [
          661,
          643
         ],
         "y": [
          370,
          287
         ]
        },
        {
         "line": {
          "color": "#333333",
          "width": 2
         },
         "mode": "lines",
         "name": "",
         "type": "scatter",
         "x": [
          661,
          619
         ],
         "y": [
          370,
          305
         ]
        },
        {
         "line": {
          "color": "#00d5ff",
          "width": 3
         },
         "mode": "lines",
         "name": "",
         "type": "scatter",
         "x": [
          661,
          689
         ],
         "y": [
          370,
          361
         ]
        },
        {
         "line": {
          "color": "#00d5ff",
          "width": 3
         },
         "mode": "lines",
         "name": "",
         "type": "scatter",
         "x": [
          661,
          644
         ],
         "y": [
          370,
          382
         ]
        },
        {
         "line": {
          "color": "#00d5ff",
          "width": 3
         },
         "mode": "lines",
         "name": "",
         "type": "scatter",
         "x": [
          661,
          704
         ],
         "y": [
          370,
          321
         ]
        },
        {
         "line": {
          "color": "#333333",
          "width": 2
         },
         "mode": "lines",
         "name": "",
         "type": "scatter",
         "x": [
          661,
          678
         ],
         "y": [
          370,
          388
         ]
        },
        {
         "line": {
          "color": "#00d5ff",
          "width": 3
         },
         "mode": "lines",
         "name": "",
         "type": "scatter",
         "x": [
          644,
          621
         ],
         "y": [
          382,
          403
         ]
        },
        {
         "line": {
          "color": "#333333",
          "width": 2
         },
         "mode": "lines",
         "name": "",
         "type": "scatter",
         "x": [
          644,
          589
         ],
         "y": [
          382,
          372
         ]
        },
        {
         "line": {
          "color": "#333333",
          "width": 2
         },
         "mode": "lines",
         "name": "",
         "type": "scatter",
         "x": [
          644,
          678
         ],
         "y": [
          382,
          388
         ]
        },
        {
         "line": {
          "color": "#333333",
          "width": 2
         },
         "mode": "lines",
         "name": "",
         "type": "scatter",
         "x": [
          644,
          596
         ],
         "y": [
          382,
          390
         ]
        },
        {
         "line": {
          "color": "#333333",
          "width": 2
         },
         "mode": "lines",
         "name": "",
         "type": "scatter",
         "x": [
          689,
          704
         ],
         "y": [
          361,
          321
         ]
        },
        {
         "line": {
          "color": "#00d5ff",
          "width": 3
         },
         "mode": "lines",
         "name": "",
         "type": "scatter",
         "x": [
          689,
          749
         ],
         "y": [
          361,
          307
         ]
        },
        {
         "line": {
          "color": "#00d5ff",
          "width": 3
         },
         "mode": "lines",
         "name": "",
         "type": "scatter",
         "x": [
          357,
          357
         ],
         "y": [
          506,
          463
         ]
        },
        {
         "line": {
          "color": "#00d5ff",
          "width": 3
         },
         "mode": "lines",
         "name": "",
         "type": "scatter",
         "x": [
          357,
          337
         ],
         "y": [
          506,
          524
         ]
        },
        {
         "line": {
          "color": "#00d5ff",
          "width": 3
         },
         "mode": "lines",
         "name": "",
         "type": "scatter",
         "x": [
          357,
          327
         ],
         "y": [
          506,
          462
         ]
        },
        {
         "line": {
          "color": "#00d5ff",
          "dash": "dot",
          "width": 3
         },
         "mode": "lines",
         "name": "",
         "type": "scatter",
         "x": [
          418,
          443
         ],
         "y": [
          270,
          324
         ]
        },
        {
         "line": {
          "color": "#ec1818",
          "width": 3
         },
         "mode": "lines",
         "name": "",
         "type": "scatter",
         "x": [
          418,
          391
         ],
         "y": [
          270,
          297
         ]
        },
        {
         "line": {
          "color": "#00d5ff",
          "dash": "dot",
          "width": 3
         },
         "mode": "lines",
         "name": "",
         "type": "scatter",
         "x": [
          418,
          405
         ],
         "y": [
          270,
          253
         ]
        },
        {
         "line": {
          "color": "#00d5ff",
          "width": 3
         },
         "mode": "lines",
         "name": "",
         "type": "scatter",
         "x": [
          418,
          458
         ],
         "y": [
          270,
          265
         ]
        },
        {
         "line": {
          "color": "#00d5ff",
          "width": 3
         },
         "mode": "lines",
         "name": "",
         "type": "scatter",
         "x": [
          418,
          435
         ],
         "y": [
          270,
          230
         ]
        },
        {
         "line": {
          "color": "#ec1818",
          "width": 3
         },
         "mode": "lines",
         "name": "",
         "type": "scatter",
         "x": [
          166,
          222
         ],
         "y": [
          388,
          376
         ]
        },
        {
         "line": {
          "color": "#ec1818",
          "width": 3
         },
         "mode": "lines",
         "name": "",
         "type": "scatter",
         "x": [
          166,
          215
         ],
         "y": [
          388,
          368
         ]
        },
        {
         "line": {
          "color": "#333333",
          "width": 2
         },
         "mode": "lines",
         "name": "",
         "type": "scatter",
         "x": [
          166,
          230
         ],
         "y": [
          388,
          397
         ]
        },
        {
         "line": {
          "color": "#00d5ff",
          "width": 3
         },
         "mode": "lines",
         "name": "",
         "type": "scatter",
         "x": [
          166,
          121
         ],
         "y": [
          388,
          400
         ]
        },
        {
         "line": {
          "color": "#00d5ff",
          "width": 3
         },
         "mode": "lines",
         "name": "",
         "type": "scatter",
         "x": [
          201,
          189
         ],
         "y": [
          225,
          215
         ]
        },
        {
         "line": {
          "color": "#00d5ff",
          "width": 3
         },
         "mode": "lines",
         "name": "",
         "type": "scatter",
         "x": [
          201,
          240
         ],
         "y": [
          225,
          231
         ]
        },
        {
         "line": {
          "color": "#00d5ff",
          "width": 3
         },
         "mode": "lines",
         "name": "",
         "type": "scatter",
         "x": [
          201,
          190
         ],
         "y": [
          225,
          270
         ]
        },
        {
         "line": {
          "color": "#00d5ff",
          "width": 3
         },
         "mode": "lines",
         "name": "",
         "type": "scatter",
         "x": [
          201,
          202
         ],
         "y": [
          225,
          190
         ]
        },
        {
         "line": {
          "color": "#333333",
          "width": 2
         },
         "mode": "lines",
         "name": "",
         "type": "scatter",
         "x": [
          201,
          215
         ],
         "y": [
          225,
          247
         ]
        },
        {
         "line": {
          "color": "#333333",
          "width": 2
         },
         "mode": "lines",
         "name": "",
         "type": "scatter",
         "x": [
          749,
          716
         ],
         "y": [
          307,
          419
         ]
        },
        {
         "line": {
          "color": "#333333",
          "width": 2
         },
         "mode": "lines",
         "name": "",
         "type": "scatter",
         "x": [
          749,
          702
         ],
         "y": [
          307,
          293
         ]
        },
        {
         "line": {
          "color": "#00d5ff",
          "width": 3
         },
         "mode": "lines",
         "name": "",
         "type": "scatter",
         "x": [
          749,
          825
         ],
         "y": [
          307,
          326
         ]
        },
        {
         "line": {
          "color": "#333333",
          "width": 2
         },
         "mode": "lines",
         "name": "",
         "type": "scatter",
         "x": [
          749,
          704
         ],
         "y": [
          307,
          321
         ]
        },
        {
         "line": {
          "color": "#00d5ff",
          "width": 3
         },
         "mode": "lines",
         "name": "",
         "type": "scatter",
         "x": [
          842,
          837
         ],
         "y": [
          290,
          301
         ]
        },
        {
         "line": {
          "color": "#00d5ff",
          "width": 3
         },
         "mode": "lines",
         "name": "",
         "type": "scatter",
         "x": [
          842,
          864
         ],
         "y": [
          290,
          275
         ]
        },
        {
         "line": {
          "color": "#00d5ff",
          "width": 3
         },
         "mode": "lines",
         "name": "",
         "type": "scatter",
         "x": [
          842,
          835
         ],
         "y": [
          290,
          242
         ]
        },
        {
         "line": {
          "color": "#333333",
          "width": 2
         },
         "mode": "lines",
         "name": "",
         "type": "scatter",
         "x": [
          842,
          801
         ],
         "y": [
          290,
          285
         ]
        },
        {
         "line": {
          "color": "#333333",
          "width": 2
         },
         "mode": "lines",
         "name": "",
         "type": "scatter",
         "x": [
          541,
          528
         ],
         "y": [
          261,
          225
         ]
        },
        {
         "line": {
          "color": "#00d5ff",
          "dash": "dot",
          "width": 3
         },
         "mode": "lines",
         "name": "",
         "type": "scatter",
         "x": [
          541,
          551
         ],
         "y": [
          261,
          254
         ]
        },
        {
         "line": {
          "color": "#333333",
          "width": 2
         },
         "mode": "lines",
         "name": "",
         "type": "scatter",
         "x": [
          541,
          509
         ],
         "y": [
          261,
          242
         ]
        },
        {
         "line": {
          "color": "#333333",
          "width": 2
         },
         "mode": "lines",
         "name": "",
         "type": "scatter",
         "x": [
          365,
          375
         ],
         "y": [
          246,
          274
         ]
        },
        {
         "line": {
          "color": "#333333",
          "width": 2
         },
         "mode": "lines",
         "name": "",
         "type": "scatter",
         "x": [
          365,
          334
         ],
         "y": [
          246,
          288
         ]
        },
        {
         "line": {
          "color": "#00d5ff",
          "width": 3
         },
         "mode": "lines",
         "name": "",
         "type": "scatter",
         "x": [
          365,
          325
         ],
         "y": [
          246,
          258
         ]
        },
        {
         "line": {
          "color": "#333333",
          "width": 2
         },
         "mode": "lines",
         "name": "",
         "type": "scatter",
         "x": [
          365,
          369
         ],
         "y": [
          246,
          228
         ]
        },
        {
         "line": {
          "color": "#00d5ff",
          "width": 3
         },
         "mode": "lines",
         "name": "",
         "type": "scatter",
         "x": [
          365,
          392
         ],
         "y": [
          246,
          258
         ]
        },
        {
         "line": {
          "color": "#00d5ff",
          "width": 3
         },
         "mode": "lines",
         "name": "",
         "type": "scatter",
         "x": [
          673,
          686
         ],
         "y": [
          222,
          159
         ]
        },
        {
         "line": {
          "color": "#00d5ff",
          "width": 3
         },
         "mode": "lines",
         "name": "",
         "type": "scatter",
         "x": [
          673,
          712
         ],
         "y": [
          222,
          228
         ]
        },
        {
         "line": {
          "color": "#00d5ff",
          "width": 3
         },
         "mode": "lines",
         "name": "",
         "type": "scatter",
         "x": [
          673,
          655
         ],
         "y": [
          222,
          253
         ]
        },
        {
         "line": {
          "color": "#333333",
          "width": 2
         },
         "mode": "lines",
         "name": "",
         "type": "scatter",
         "x": [
          673,
          694
         ],
         "y": [
          222,
          281
         ]
        },
        {
         "line": {
          "color": "#333333",
          "width": 2
         },
         "mode": "lines",
         "name": "",
         "type": "scatter",
         "x": [
          673,
          600
         ],
         "y": [
          222,
          212
         ]
        },
        {
         "line": {
          "color": "#333333",
          "width": 2
         },
         "mode": "lines",
         "name": "",
         "type": "scatter",
         "x": [
          673,
          611
         ],
         "y": [
          222,
          242
         ]
        },
        {
         "line": {
          "color": "#00d5ff",
          "width": 3
         },
         "mode": "lines",
         "name": "",
         "type": "scatter",
         "x": [
          337,
          364
         ],
         "y": [
          524,
          541
         ]
        },
        {
         "line": {
          "color": "#333333",
          "width": 2
         },
         "mode": "lines",
         "name": "",
         "type": "scatter",
         "x": [
          337,
          350
         ],
         "y": [
          524,
          550
         ]
        },
        {
         "line": {
          "color": "#333333",
          "width": 2
         },
         "mode": "lines",
         "name": "",
         "type": "scatter",
         "x": [
          337,
          305
         ],
         "y": [
          524,
          550
         ]
        },
        {
         "line": {
          "color": "#00d5ff",
          "width": 3
         },
         "mode": "lines",
         "name": "",
         "type": "scatter",
         "x": [
          337,
          292
         ],
         "y": [
          524,
          517
         ]
        },
        {
         "line": {
          "color": "#333333",
          "width": 2
         },
         "mode": "lines",
         "name": "",
         "type": "scatter",
         "x": [
          835,
          801
         ],
         "y": [
          242,
          285
         ]
        },
        {
         "line": {
          "color": "#333333",
          "width": 2
         },
         "mode": "lines",
         "name": "",
         "type": "scatter",
         "x": [
          835,
          864
         ],
         "y": [
          242,
          275
         ]
        },
        {
         "line": {
          "color": "#00d5ff",
          "width": 3
         },
         "mode": "lines",
         "name": "",
         "type": "scatter",
         "x": [
          835,
          910
         ],
         "y": [
          242,
          263
         ]
        },
        {
         "line": {
          "color": "#333333",
          "width": 2
         },
         "mode": "lines",
         "name": "",
         "type": "scatter",
         "x": [
          835,
          830
         ],
         "y": [
          242,
          207
         ]
        },
        {
         "line": {
          "color": "#333333",
          "width": 2
         },
         "mode": "lines",
         "name": "",
         "type": "scatter",
         "x": [
          531,
          570
         ],
         "y": [
          372,
          401
         ]
        },
        {
         "line": {
          "color": "#333333",
          "width": 2
         },
         "mode": "lines",
         "name": "",
         "type": "scatter",
         "x": [
          531,
          504
         ],
         "y": [
          372,
          373
         ]
        },
        {
         "line": {
          "color": "#00d5ff",
          "width": 3
         },
         "mode": "lines",
         "name": "",
         "type": "scatter",
         "x": [
          531,
          546
         ],
         "y": [
          372,
          403
         ]
        },
        {
         "line": {
          "color": "#333333",
          "width": 2
         },
         "mode": "lines",
         "name": "",
         "type": "scatter",
         "x": [
          531,
          498
         ],
         "y": [
          372,
          386
         ]
        },
        {
         "line": {
          "color": "#ec1818",
          "width": 3
         },
         "mode": "lines",
         "name": "",
         "type": "scatter",
         "x": [
          231,
          269
         ],
         "y": [
          168,
          145
         ]
        },
        {
         "line": {
          "color": "#00d5ff",
          "width": 3
         },
         "mode": "lines",
         "name": "",
         "type": "scatter",
         "x": [
          231,
          202
         ],
         "y": [
          168,
          190
         ]
        },
        {
         "line": {
          "color": "#333333",
          "width": 2
         },
         "mode": "lines",
         "name": "",
         "type": "scatter",
         "x": [
          231,
          155
         ],
         "y": [
          168,
          165
         ]
        },
        {
         "line": {
          "color": "#333333",
          "width": 2
         },
         "mode": "lines",
         "name": "",
         "type": "scatter",
         "x": [
          503,
          553
         ],
         "y": [
          541,
          577
         ]
        },
        {
         "line": {
          "color": "#00d5ff",
          "width": 3
         },
         "mode": "lines",
         "name": "",
         "type": "scatter",
         "x": [
          503,
          565
         ],
         "y": [
          541,
          508
         ]
        },
        {
         "line": {
          "color": "#00d5ff",
          "width": 3
         },
         "mode": "lines",
         "name": "",
         "type": "scatter",
         "x": [
          503,
          483
         ],
         "y": [
          541,
          546
         ]
        },
        {
         "line": {
          "color": "#00d5ff",
          "width": 3
         },
         "mode": "lines",
         "name": "",
         "type": "scatter",
         "x": [
          254,
          283
         ],
         "y": [
          356,
          350
         ]
        },
        {
         "line": {
          "color": "#00d5ff",
          "width": 3
         },
         "mode": "lines",
         "name": "",
         "type": "scatter",
         "x": [
          254,
          230
         ],
         "y": [
          356,
          397
         ]
        },
        {
         "line": {
          "color": "#00d5ff",
          "width": 3
         },
         "mode": "lines",
         "name": "",
         "type": "scatter",
         "x": [
          254,
          243
         ],
         "y": [
          356,
          328
         ]
        },
        {
         "line": {
          "color": "#00d5ff",
          "width": 3
         },
         "mode": "lines",
         "name": "",
         "type": "scatter",
         "x": [
          718,
          720
         ],
         "y": [
          536,
          476
         ]
        },
        {
         "line": {
          "color": "#00d5ff",
          "width": 3
         },
         "mode": "lines",
         "name": "",
         "type": "scatter",
         "x": [
          718,
          646
         ],
         "y": [
          536,
          583
         ]
        },
        {
         "line": {
          "color": "#333333",
          "width": 2
         },
         "mode": "lines",
         "name": "",
         "type": "scatter",
         "x": [
          718,
          686
         ],
         "y": [
          536,
          496
         ]
        },
        {
         "line": {
          "color": "#333333",
          "width": 2
         },
         "mode": "lines",
         "name": "",
         "type": "scatter",
         "x": [
          718,
          793
         ],
         "y": [
          536,
          617
         ]
        },
        {
         "line": {
          "color": "#333333",
          "width": 2
         },
         "mode": "lines",
         "name": "",
         "type": "scatter",
         "x": [
          718,
          767
         ],
         "y": [
          536,
          623
         ]
        },
        {
         "line": {
          "color": "#00d5ff",
          "width": 3
         },
         "mode": "lines",
         "name": "",
         "type": "scatter",
         "x": [
          430,
          410
         ],
         "y": [
          421,
          397
         ]
        },
        {
         "line": {
          "color": "#333333",
          "width": 2
         },
         "mode": "lines",
         "name": "",
         "type": "scatter",
         "x": [
          544,
          532
         ],
         "y": [
          319,
          315
         ]
        },
        {
         "line": {
          "color": "#00d5ff",
          "width": 3
         },
         "mode": "lines",
         "name": "",
         "type": "scatter",
         "x": [
          544,
          607
         ],
         "y": [
          319,
          334
         ]
        },
        {
         "line": {
          "color": "#333333",
          "width": 2
         },
         "mode": "lines",
         "name": "",
         "type": "scatter",
         "x": [
          544,
          589
         ],
         "y": [
          319,
          372
         ]
        },
        {
         "line": {
          "color": "#00d5ff",
          "width": 3
         },
         "mode": "lines",
         "name": "",
         "type": "scatter",
         "x": [
          544,
          556
         ],
         "y": [
          319,
          296
         ]
        },
        {
         "line": {
          "color": "#00d5ff",
          "dash": "dot",
          "width": 3
         },
         "mode": "lines",
         "name": "",
         "type": "scatter",
         "x": [
          350,
          326
         ],
         "y": [
          392,
          375
         ]
        },
        {
         "line": {
          "color": "#ec1818",
          "width": 3
         },
         "mode": "lines",
         "name": "",
         "type": "scatter",
         "x": [
          350,
          409
         ],
         "y": [
          392,
          313
         ]
        },
        {
         "line": {
          "color": "#00d5ff",
          "dash": "dot",
          "width": 3
         },
         "mode": "lines",
         "name": "",
         "type": "scatter",
         "x": [
          350,
          323
         ],
         "y": [
          392,
          325
         ]
        },
        {
         "line": {
          "color": "#ec1818",
          "width": 3
         },
         "mode": "lines",
         "name": "",
         "type": "scatter",
         "x": [
          350,
          391
         ],
         "y": [
          392,
          394
         ]
        },
        {
         "line": {
          "color": "#00d5ff",
          "dash": "dot",
          "width": 3
         },
         "mode": "lines",
         "name": "",
         "type": "scatter",
         "x": [
          350,
          383
         ],
         "y": [
          392,
          433
         ]
        },
        {
         "line": {
          "color": "#ec1818",
          "width": 3
         },
         "mode": "lines",
         "name": "",
         "type": "scatter",
         "x": [
          350,
          328
         ],
         "y": [
          392,
          423
         ]
        },
        {
         "line": {
          "color": "#ec1818",
          "width": 3
         },
         "mode": "lines",
         "name": "",
         "type": "scatter",
         "x": [
          421,
          479
         ],
         "y": [
          498,
          536
         ]
        },
        {
         "line": {
          "color": "#ec1818",
          "dash": "dot",
          "width": 3
         },
         "mode": "lines",
         "name": "",
         "type": "scatter",
         "x": [
          421,
          436
         ],
         "y": [
          498,
          476
         ]
        },
        {
         "line": {
          "color": "#ec1818",
          "dash": "dot",
          "width": 3
         },
         "mode": "lines",
         "name": "",
         "type": "scatter",
         "x": [
          421,
          385
         ],
         "y": [
          498,
          537
         ]
        },
        {
         "line": {
          "color": "#00d5ff",
          "width": 3
         },
         "mode": "lines",
         "name": "",
         "type": "scatter",
         "x": [
          392,
          369
         ],
         "y": [
          258,
          228
         ]
        },
        {
         "line": {
          "color": "#00d5ff",
          "width": 3
         },
         "mode": "lines",
         "name": "",
         "type": "scatter",
         "x": [
          392,
          375
         ],
         "y": [
          258,
          274
         ]
        },
        {
         "line": {
          "color": "#ec1818",
          "width": 3
         },
         "mode": "lines",
         "name": "",
         "type": "scatter",
         "x": [
          392,
          405
         ],
         "y": [
          258,
          253
         ]
        },
        {
         "line": {
          "color": "#00d5ff",
          "width": 3
         },
         "mode": "lines",
         "name": "",
         "type": "scatter",
         "x": [
          392,
          391
         ],
         "y": [
          258,
          297
         ]
        },
        {
         "line": {
          "color": "#00d5ff",
          "width": 3
         },
         "mode": "lines",
         "name": "",
         "type": "scatter",
         "x": [
          485,
          495
         ],
         "y": [
          455,
          418
         ]
        },
        {
         "line": {
          "color": "#00d5ff",
          "width": 3
         },
         "mode": "lines",
         "name": "",
         "type": "scatter",
         "x": [
          837,
          897
         ],
         "y": [
          301,
          285
         ]
        },
        {
         "line": {
          "color": "#00d5ff",
          "width": 3
         },
         "mode": "lines",
         "name": "",
         "type": "scatter",
         "x": [
          837,
          825
         ],
         "y": [
          301,
          326
         ]
        },
        {
         "line": {
          "color": "#00d5ff",
          "width": 3
         },
         "mode": "lines",
         "name": "",
         "type": "scatter",
         "x": [
          565,
          601
         ],
         "y": [
          508,
          513
         ]
        },
        {
         "line": {
          "color": "#333333",
          "width": 2
         },
         "mode": "lines",
         "name": "",
         "type": "scatter",
         "x": [
          565,
          553
         ],
         "y": [
          508,
          577
         ]
        },
        {
         "line": {
          "color": "#00d5ff",
          "width": 3
         },
         "mode": "lines",
         "name": "",
         "type": "scatter",
         "x": [
          771,
          723
         ],
         "y": [
          207,
          239
         ]
        },
        {
         "line": {
          "color": "#333333",
          "width": 2
         },
         "mode": "lines",
         "name": "",
         "type": "scatter",
         "x": [
          771,
          774
         ],
         "y": [
          207,
          294
         ]
        },
        {
         "line": {
          "color": "#333333",
          "width": 2
         },
         "mode": "lines",
         "name": "",
         "type": "scatter",
         "x": [
          771,
          735
         ],
         "y": [
          207,
          183
         ]
        },
        {
         "line": {
          "color": "#333333",
          "width": 2
         },
         "mode": "lines",
         "name": "",
         "type": "scatter",
         "x": [
          250,
          328
         ],
         "y": [
          441,
          423
         ]
        },
        {
         "line": {
          "color": "#333333",
          "width": 2
         },
         "mode": "lines",
         "name": "",
         "type": "scatter",
         "x": [
          250,
          294
         ],
         "y": [
          441,
          375
         ]
        },
        {
         "line": {
          "color": "#333333",
          "width": 2
         },
         "mode": "lines",
         "name": "",
         "type": "scatter",
         "x": [
          250,
          251
         ],
         "y": [
          441,
          452
         ]
        },
        {
         "line": {
          "color": "#00d5ff",
          "width": 3
         },
         "mode": "lines",
         "name": "",
         "type": "scatter",
         "x": [
          385,
          412
         ],
         "y": [
          537,
          553
         ]
        },
        {
         "line": {
          "color": "#333333",
          "width": 2
         },
         "mode": "lines",
         "name": "",
         "type": "scatter",
         "x": [
          443,
          487
         ],
         "y": [
          324,
          366
         ]
        },
        {
         "line": {
          "color": "#333333",
          "width": 2
         },
         "mode": "lines",
         "name": "",
         "type": "scatter",
         "x": [
          443,
          410
         ],
         "y": [
          324,
          397
         ]
        },
        {
         "line": {
          "color": "#00d5ff",
          "dash": "dot",
          "width": 3
         },
         "mode": "lines",
         "name": "",
         "type": "scatter",
         "x": [
          436,
          417
         ],
         "y": [
          476,
          436
         ]
        },
        {
         "line": {
          "color": "#00d5ff",
          "width": 3
         },
         "mode": "lines",
         "name": "",
         "type": "scatter",
         "x": [
          825,
          801
         ],
         "y": [
          326,
          285
         ]
        },
        {
         "line": {
          "color": "#333333",
          "width": 2
         },
         "mode": "lines",
         "name": "",
         "type": "scatter",
         "x": [
          825,
          774
         ],
         "y": [
          326,
          294
         ]
        },
        {
         "line": {
          "color": "#333333",
          "width": 2
         },
         "mode": "lines",
         "name": "",
         "type": "scatter",
         "x": [
          618,
          604
         ],
         "y": [
          592,
          591
         ]
        },
        {
         "line": {
          "color": "#00d5ff",
          "width": 3
         },
         "mode": "lines",
         "name": "",
         "type": "scatter",
         "x": [
          618,
          646
         ],
         "y": [
          592,
          583
         ]
        },
        {
         "line": {
          "color": "#00d5ff",
          "width": 3
         },
         "mode": "lines",
         "name": "",
         "type": "scatter",
         "x": [
          618,
          621
         ],
         "y": [
          592,
          552
         ]
        },
        {
         "line": {
          "color": "#00d5ff",
          "width": 3
         },
         "mode": "lines",
         "name": "",
         "type": "scatter",
         "x": [
          618,
          642
         ],
         "y": [
          592,
          597
         ]
        },
        {
         "line": {
          "color": "#00d5ff",
          "width": 3
         },
         "mode": "lines",
         "name": "",
         "type": "scatter",
         "x": [
          712,
          723
         ],
         "y": [
          228,
          239
         ]
        },
        {
         "line": {
          "color": "#333333",
          "width": 2
         },
         "mode": "lines",
         "name": "",
         "type": "scatter",
         "x": [
          712,
          694
         ],
         "y": [
          228,
          281
         ]
        },
        {
         "line": {
          "color": "#00d5ff",
          "width": 3
         },
         "mode": "lines",
         "name": "",
         "type": "scatter",
         "x": [
          712,
          735
         ],
         "y": [
          228,
          183
         ]
        },
        {
         "line": {
          "color": "#333333",
          "width": 2
         },
         "mode": "lines",
         "name": "",
         "type": "scatter",
         "x": [
          435,
          405
         ],
         "y": [
          230,
          253
         ]
        },
        {
         "line": {
          "color": "#00d5ff",
          "width": 3
         },
         "mode": "lines",
         "name": "",
         "type": "scatter",
         "x": [
          435,
          420
         ],
         "y": [
          230,
          159
         ]
        },
        {
         "line": {
          "color": "#333333",
          "width": 2
         },
         "mode": "lines",
         "name": "",
         "type": "scatter",
         "x": [
          435,
          369
         ],
         "y": [
          230,
          228
         ]
        },
        {
         "line": {
          "color": "#333333",
          "width": 2
         },
         "mode": "lines",
         "name": "",
         "type": "scatter",
         "x": [
          435,
          370
         ],
         "y": [
          230,
          205
         ]
        },
        {
         "line": {
          "color": "#333333",
          "width": 2
         },
         "mode": "lines",
         "name": "",
         "type": "scatter",
         "x": [
          357,
          327
         ],
         "y": [
          463,
          462
         ]
        },
        {
         "line": {
          "color": "#ec1818",
          "width": 3
         },
         "mode": "lines",
         "name": "",
         "type": "scatter",
         "x": [
          357,
          383
         ],
         "y": [
          463,
          433
         ]
        },
        {
         "line": {
          "color": "#333333",
          "width": 2
         },
         "mode": "lines",
         "name": "",
         "type": "scatter",
         "x": [
          190,
          215
         ],
         "y": [
          270,
          247
         ]
        },
        {
         "line": {
          "color": "#00d5ff",
          "width": 3
         },
         "mode": "lines",
         "name": "",
         "type": "scatter",
         "x": [
          190,
          243
         ],
         "y": [
          270,
          328
         ]
        },
        {
         "line": {
          "color": "#333333",
          "width": 2
         },
         "mode": "lines",
         "name": "",
         "type": "scatter",
         "x": [
          190,
          238
         ],
         "y": [
          270,
          246
         ]
        },
        {
         "line": {
          "color": "#333333",
          "width": 2
         },
         "mode": "lines",
         "name": "",
         "type": "scatter",
         "x": [
          190,
          99
         ],
         "y": [
          270,
          332
         ]
        },
        {
         "line": {
          "color": "#00d5ff",
          "width": 3
         },
         "mode": "lines",
         "name": "",
         "type": "scatter",
         "x": [
          495,
          521
         ],
         "y": [
          418,
          447
         ]
        },
        {
         "line": {
          "color": "#00d5ff",
          "dash": "dot",
          "width": 3
         },
         "mode": "lines",
         "name": "",
         "type": "scatter",
         "x": [
          521,
          571
         ],
         "y": [
          447,
          456
         ]
        },
        {
         "line": {
          "color": "#00d5ff",
          "width": 3
         },
         "mode": "lines",
         "name": "",
         "type": "scatter",
         "x": [
          521,
          573
         ],
         "y": [
          447,
          418
         ]
        },
        {
         "line": {
          "color": "#00d5ff",
          "width": 3
         },
         "mode": "lines",
         "name": "",
         "type": "scatter",
         "x": [
          479,
          483
         ],
         "y": [
          536,
          546
         ]
        },
        {
         "line": {
          "color": "#00d5ff",
          "width": 3
         },
         "mode": "lines",
         "name": "",
         "type": "scatter",
         "x": [
          479,
          413
         ],
         "y": [
          536,
          539
         ]
        },
        {
         "line": {
          "color": "#00d5ff",
          "dash": "dot",
          "width": 3
         },
         "mode": "lines",
         "name": "",
         "type": "scatter",
         "x": [
          325,
          312
         ],
         "y": [
          258,
          231
         ]
        },
        {
         "line": {
          "color": "#333333",
          "width": 2
         },
         "mode": "lines",
         "name": "",
         "type": "scatter",
         "x": [
          325,
          346
         ],
         "y": [
          258,
          212
         ]
        },
        {
         "line": {
          "color": "#00d5ff",
          "dash": "dot",
          "width": 3
         },
         "mode": "lines",
         "name": "",
         "type": "scatter",
         "x": [
          417,
          383
         ],
         "y": [
          436,
          433
         ]
        },
        {
         "line": {
          "color": "#00d5ff",
          "width": 3
         },
         "mode": "lines",
         "name": "",
         "type": "scatter",
         "x": [
          243,
          238
         ],
         "y": [
          328,
          246
         ]
        },
        {
         "line": {
          "color": "#00d5ff",
          "width": 3
         },
         "mode": "lines",
         "name": "",
         "type": "scatter",
         "x": [
          243,
          204
         ],
         "y": [
          328,
          336
         ]
        },
        {
         "line": {
          "color": "#00d5ff",
          "width": 3
         },
         "mode": "lines",
         "name": "",
         "type": "scatter",
         "x": [
          553,
          588
         ],
         "y": [
          577,
          640
         ]
        },
        {
         "line": {
          "color": "#00d5ff",
          "width": 3
         },
         "mode": "lines",
         "name": "",
         "type": "scatter",
         "x": [
          553,
          621
         ],
         "y": [
          577,
          552
         ]
        },
        {
         "line": {
          "color": "#00d5ff",
          "width": 3
         },
         "mode": "lines",
         "name": "",
         "type": "scatter",
         "x": [
          553,
          509
         ],
         "y": [
          577,
          565
         ]
        },
        {
         "line": {
          "color": "#333333",
          "width": 2
         },
         "mode": "lines",
         "name": "",
         "type": "scatter",
         "x": [
          553,
          513
         ],
         "y": [
          577,
          602
         ]
        },
        {
         "line": {
          "color": "#333333",
          "width": 2
         },
         "mode": "lines",
         "name": "",
         "type": "scatter",
         "x": [
          483,
          509
         ],
         "y": [
          546,
          565
         ]
        },
        {
         "line": {
          "color": "#00d5ff",
          "width": 3
         },
         "mode": "lines",
         "name": "",
         "type": "scatter",
         "x": [
          830,
          827
         ],
         "y": [
          207,
          124
         ]
        },
        {
         "line": {
          "color": "#00d5ff",
          "width": 3
         },
         "mode": "lines",
         "name": "",
         "type": "scatter",
         "x": [
          830,
          883
         ],
         "y": [
          207,
          190
         ]
        },
        {
         "line": {
          "color": "#00d5ff",
          "width": 3
         },
         "mode": "lines",
         "name": "",
         "type": "scatter",
         "x": [
          755,
          804
         ],
         "y": [
          449,
          470
         ]
        },
        {
         "line": {
          "color": "#333333",
          "width": 2
         },
         "mode": "lines",
         "name": "",
         "type": "scatter",
         "x": [
          755,
          785
         ],
         "y": [
          449,
          485
         ]
        },
        {
         "line": {
          "color": "#333333",
          "width": 2
         },
         "mode": "lines",
         "name": "",
         "type": "scatter",
         "x": [
          755,
          716
         ],
         "y": [
          449,
          419
         ]
        },
        {
         "line": {
          "color": "#00d5ff",
          "width": 3
         },
         "mode": "lines",
         "name": "",
         "type": "scatter",
         "x": [
          755,
          798
         ],
         "y": [
          449,
          434
         ]
        },
        {
         "line": {
          "color": "#00d5ff",
          "width": 3
         },
         "mode": "lines",
         "name": "",
         "type": "scatter",
         "x": [
          755,
          720
         ],
         "y": [
          449,
          476
         ]
        },
        {
         "line": {
          "color": "#00d5ff",
          "width": 3
         },
         "mode": "lines",
         "name": "",
         "type": "scatter",
         "x": [
          570,
          552
         ],
         "y": [
          265,
          219
         ]
        },
        {
         "line": {
          "color": "#00d5ff",
          "width": 3
         },
         "mode": "lines",
         "name": "",
         "type": "scatter",
         "x": [
          570,
          556
         ],
         "y": [
          265,
          296
         ]
        },
        {
         "line": {
          "color": "#00d5ff",
          "width": 3
         },
         "mode": "lines",
         "name": "",
         "type": "scatter",
         "x": [
          570,
          580
         ],
         "y": [
          265,
          266
         ]
        },
        {
         "line": {
          "color": "#333333",
          "width": 2
         },
         "mode": "lines",
         "name": "",
         "type": "scatter",
         "x": [
          420,
          391
         ],
         "y": [
          159,
          178
         ]
        },
        {
         "line": {
          "color": "#00d5ff",
          "width": 3
         },
         "mode": "lines",
         "name": "",
         "type": "scatter",
         "x": [
          420,
          368
         ],
         "y": [
          159,
          130
         ]
        },
        {
         "line": {
          "color": "#00d5ff",
          "width": 3
         },
         "mode": "lines",
         "name": "",
         "type": "scatter",
         "x": [
          420,
          478
         ],
         "y": [
          159,
          131
         ]
        },
        {
         "line": {
          "color": "#00d5ff",
          "width": 3
         },
         "mode": "lines",
         "name": "",
         "type": "scatter",
         "x": [
          720,
          785
         ],
         "y": [
          476,
          485
         ]
        },
        {
         "line": {
          "color": "#00d5ff",
          "width": 3
         },
         "mode": "lines",
         "name": "",
         "type": "scatter",
         "x": [
          720,
          785
         ],
         "y": [
          476,
          503
         ]
        },
        {
         "line": {
          "color": "#333333",
          "width": 2
         },
         "mode": "lines",
         "name": "",
         "type": "scatter",
         "x": [
          720,
          714
         ],
         "y": [
          476,
          434
         ]
        },
        {
         "line": {
          "color": "#00d5ff",
          "width": 3
         },
         "mode": "lines",
         "name": "",
         "type": "scatter",
         "x": [
          604,
          611
         ],
         "y": [
          433,
          425
         ]
        },
        {
         "line": {
          "color": "#ec1818",
          "width": 3
         },
         "mode": "lines",
         "name": "",
         "type": "scatter",
         "x": [
          604,
          607
         ],
         "y": [
          433,
          445
         ]
        },
        {
         "line": {
          "color": "#333333",
          "width": 2
         },
         "mode": "lines",
         "name": "",
         "type": "scatter",
         "x": [
          621,
          634
         ],
         "y": [
          403,
          399
         ]
        },
        {
         "line": {
          "color": "#00d5ff",
          "width": 3
         },
         "mode": "lines",
         "name": "",
         "type": "scatter",
         "x": [
          621,
          611
         ],
         "y": [
          403,
          425
         ]
        },
        {
         "line": {
          "color": "#333333",
          "width": 2
         },
         "mode": "lines",
         "name": "",
         "type": "scatter",
         "x": [
          364,
          350
         ],
         "y": [
          541,
          550
         ]
        },
        {
         "line": {
          "color": "#00d5ff",
          "dash": "dot",
          "width": 3
         },
         "mode": "lines",
         "name": "",
         "type": "scatter",
         "x": [
          883,
          922
         ],
         "y": [
          190,
          235
         ]
        },
        {
         "line": {
          "color": "#333333",
          "width": 2
         },
         "mode": "lines",
         "name": "",
         "type": "scatter",
         "x": [
          883,
          827
         ],
         "y": [
          190,
          124
         ]
        },
        {
         "line": {
          "color": "#333333",
          "width": 2
         },
         "mode": "lines",
         "name": "",
         "type": "scatter",
         "x": [
          646,
          668
         ],
         "y": [
          583,
          504
         ]
        },
        {
         "line": {
          "color": "#333333",
          "width": 2
         },
         "mode": "lines",
         "name": "",
         "type": "scatter",
         "x": [
          646,
          642
         ],
         "y": [
          583,
          597
         ]
        },
        {
         "line": {
          "color": "#333333",
          "width": 2
         },
         "mode": "lines",
         "name": "",
         "type": "scatter",
         "x": [
          646,
          767
         ],
         "y": [
          583,
          623
         ]
        },
        {
         "line": {
          "color": "#00d5ff",
          "width": 3
         },
         "mode": "lines",
         "name": "",
         "type": "scatter",
         "x": [
          478,
          505
         ],
         "y": [
          131,
          118
         ]
        },
        {
         "line": {
          "color": "#00d5ff",
          "width": 3
         },
         "mode": "lines",
         "name": "",
         "type": "scatter",
         "x": [
          478,
          469
         ],
         "y": [
          131,
          104
         ]
        },
        {
         "line": {
          "color": "#333333",
          "width": 2
         },
         "mode": "lines",
         "name": "",
         "type": "scatter",
         "x": [
          478,
          532
         ],
         "y": [
          131,
          142
         ]
        },
        {
         "line": {
          "color": "#00d5ff",
          "width": 3
         },
         "mode": "lines",
         "name": "",
         "type": "scatter",
         "x": [
          601,
          668
         ],
         "y": [
          513,
          504
         ]
        },
        {
         "line": {
          "color": "#333333",
          "width": 2
         },
         "mode": "lines",
         "name": "",
         "type": "scatter",
         "x": [
          601,
          621
         ],
         "y": [
          513,
          552
         ]
        },
        {
         "line": {
          "color": "#00d5ff",
          "width": 3
         },
         "mode": "lines",
         "name": "",
         "type": "scatter",
         "x": [
          601,
          607
         ],
         "y": [
          513,
          445
         ]
        },
        {
         "line": {
          "color": "#ec1818",
          "width": 3
         },
         "mode": "lines",
         "name": "",
         "type": "scatter",
         "x": [
          601,
          571
         ],
         "y": [
          513,
          456
         ]
        },
        {
         "line": {
          "color": "#333333",
          "width": 2
         },
         "mode": "lines",
         "name": "",
         "type": "scatter",
         "x": [
          910,
          933
         ],
         "y": [
          263,
          324
         ]
        },
        {
         "line": {
          "color": "#ec1818",
          "width": 3
         },
         "mode": "lines",
         "name": "",
         "type": "scatter",
         "x": [
          910,
          922
         ],
         "y": [
          263,
          235
         ]
        },
        {
         "line": {
          "color": "#333333",
          "width": 2
         },
         "mode": "lines",
         "name": "",
         "type": "scatter",
         "x": [
          536,
          594
         ],
         "y": [
          122,
          132
         ]
        },
        {
         "line": {
          "color": "#333333",
          "width": 2
         },
         "mode": "lines",
         "name": "",
         "type": "scatter",
         "x": [
          536,
          505
         ],
         "y": [
          122,
          118
         ]
        },
        {
         "line": {
          "color": "#00d5ff",
          "width": 3
         },
         "mode": "lines",
         "name": "",
         "type": "scatter",
         "x": [
          536,
          538
         ],
         "y": [
          122,
          105
         ]
        },
        {
         "line": {
          "color": "#00d5ff",
          "width": 3
         },
         "mode": "lines",
         "name": "",
         "type": "scatter",
         "x": [
          536,
          532
         ],
         "y": [
          122,
          142
         ]
        },
        {
         "line": {
          "color": "#00d5ff",
          "width": 3
         },
         "mode": "lines",
         "name": "",
         "type": "scatter",
         "x": [
          312,
          289
         ],
         "y": [
          231,
          192
         ]
        },
        {
         "line": {
          "color": "#ec1818",
          "width": 3
         },
         "mode": "lines",
         "name": "",
         "type": "scatter",
         "x": [
          312,
          297
         ],
         "y": [
          231,
          248
         ]
        },
        {
         "line": {
          "color": "#00d5ff",
          "dash": "dot",
          "width": 3
         },
         "mode": "lines",
         "name": "",
         "type": "scatter",
         "x": [
          410,
          409
         ],
         "y": [
          397,
          313
         ]
        },
        {
         "line": {
          "color": "#00d5ff",
          "dash": "dot",
          "width": 3
         },
         "mode": "lines",
         "name": "",
         "type": "scatter",
         "x": [
          410,
          391
         ],
         "y": [
          397,
          394
         ]
        },
        {
         "line": {
          "color": "#333333",
          "width": 2
         },
         "mode": "lines",
         "name": "",
         "type": "scatter",
         "x": [
          525,
          494
         ],
         "y": [
          178,
          182
         ]
        },
        {
         "line": {
          "color": "#ec1818",
          "width": 3
         },
         "mode": "lines",
         "name": "",
         "type": "scatter",
         "x": [
          525,
          532
         ],
         "y": [
          178,
          142
         ]
        },
        {
         "line": {
          "color": "#333333",
          "width": 2
         },
         "mode": "lines",
         "name": "",
         "type": "scatter",
         "x": [
          525,
          573
         ],
         "y": [
          178,
          187
         ]
        },
        {
         "line": {
          "color": "#00d5ff",
          "width": 3
         },
         "mode": "lines",
         "name": "",
         "type": "scatter",
         "x": [
          525,
          528
         ],
         "y": [
          178,
          225
         ]
        },
        {
         "line": {
          "color": "#00d5ff",
          "width": 3
         },
         "mode": "lines",
         "name": "",
         "type": "scatter",
         "x": [
          283,
          326
         ],
         "y": [
          350,
          375
         ]
        },
        {
         "line": {
          "color": "#333333",
          "width": 2
         },
         "mode": "lines",
         "name": "",
         "type": "scatter",
         "x": [
          283,
          294
         ],
         "y": [
          350,
          375
         ]
        },
        {
         "line": {
          "color": "#333333",
          "width": 2
         },
         "mode": "lines",
         "name": "",
         "type": "scatter",
         "x": [
          556,
          532
         ],
         "y": [
          296,
          315
         ]
        },
        {
         "line": {
          "color": "#333333",
          "width": 2
         },
         "mode": "lines",
         "name": "",
         "type": "scatter",
         "x": [
          409,
          391
         ],
         "y": [
          313,
          394
         ]
        },
        {
         "line": {
          "color": "#00d5ff",
          "width": 3
         },
         "mode": "lines",
         "name": "",
         "type": "scatter",
         "x": [
          409,
          391
         ],
         "y": [
          313,
          297
         ]
        },
        {
         "line": {
          "color": "#00d5ff",
          "width": 3
         },
         "mode": "lines",
         "name": "",
         "type": "scatter",
         "x": [
          409,
          330
         ],
         "y": [
          313,
          312
         ]
        },
        {
         "line": {
          "color": "#333333",
          "width": 2
         },
         "mode": "lines",
         "name": "",
         "type": "scatter",
         "x": [
          409,
          323
         ],
         "y": [
          313,
          325
         ]
        },
        {
         "line": {
          "color": "#00d5ff",
          "width": 3
         },
         "mode": "lines",
         "name": "",
         "type": "scatter",
         "x": [
          327,
          328
         ],
         "y": [
          462,
          423
         ]
        },
        {
         "line": {
          "color": "#00d5ff",
          "width": 3
         },
         "mode": "lines",
         "name": "",
         "type": "scatter",
         "x": [
          472,
          509
         ],
         "y": [
          553,
          565
         ]
        },
        {
         "line": {
          "color": "#00d5ff",
          "width": 3
         },
         "mode": "lines",
         "name": "",
         "type": "scatter",
         "x": [
          472,
          513
         ],
         "y": [
          553,
          602
         ]
        },
        {
         "line": {
          "color": "#00d5ff",
          "width": 3
         },
         "mode": "lines",
         "name": "",
         "type": "scatter",
         "x": [
          723,
          774
         ],
         "y": [
          239,
          294
         ]
        },
        {
         "line": {
          "color": "#333333",
          "width": 2
         },
         "mode": "lines",
         "name": "",
         "type": "scatter",
         "x": [
          202,
          189
         ],
         "y": [
          190,
          215
         ]
        },
        {
         "line": {
          "color": "#333333",
          "width": 2
         },
         "mode": "lines",
         "name": "",
         "type": "scatter",
         "x": [
          202,
          155
         ],
         "y": [
          190,
          165
         ]
        },
        {
         "line": {
          "color": "#333333",
          "width": 2
         },
         "mode": "lines",
         "name": "",
         "type": "scatter",
         "x": [
          621,
          668
         ],
         "y": [
          552,
          504
         ]
        },
        {
         "line": {
          "color": "#00d5ff",
          "width": 3
         },
         "mode": "lines",
         "name": "",
         "type": "scatter",
         "x": [
          621,
          604
         ],
         "y": [
          552,
          591
         ]
        },
        {
         "line": {
          "color": "#00d5ff",
          "width": 3
         },
         "mode": "lines",
         "name": "",
         "type": "scatter",
         "x": [
          607,
          686
         ],
         "y": [
          445,
          496
         ]
        },
        {
         "line": {
          "color": "#333333",
          "width": 2
         },
         "mode": "lines",
         "name": "",
         "type": "scatter",
         "x": [
          289,
          240
         ],
         "y": [
          192,
          231
         ]
        },
        {
         "line": {
          "color": "#00d5ff",
          "width": 3
         },
         "mode": "lines",
         "name": "",
         "type": "scatter",
         "x": [
          289,
          246
         ],
         "y": [
          192,
          182
         ]
        },
        {
         "line": {
          "color": "#333333",
          "width": 2
         },
         "mode": "lines",
         "name": "",
         "type": "scatter",
         "x": [
          289,
          356
         ],
         "y": [
          192,
          197
         ]
        },
        {
         "line": {
          "color": "#333333",
          "width": 2
         },
         "mode": "lines",
         "name": "",
         "type": "scatter",
         "x": [
          246,
          240
         ],
         "y": [
          182,
          231
         ]
        },
        {
         "line": {
          "color": "#00d5ff",
          "dash": "dot",
          "width": 3
         },
         "mode": "lines",
         "name": "",
         "type": "scatter",
         "x": [
          246,
          269
         ],
         "y": [
          182,
          145
         ]
        },
        {
         "line": {
          "color": "#00d5ff",
          "width": 3
         },
         "mode": "lines",
         "name": "",
         "type": "scatter",
         "x": [
          655,
          694
         ],
         "y": [
          253,
          281
         ]
        },
        {
         "line": {
          "color": "#00d5ff",
          "width": 3
         },
         "mode": "lines",
         "name": "",
         "type": "scatter",
         "x": [
          655,
          617
         ],
         "y": [
          253,
          280
         ]
        },
        {
         "line": {
          "color": "#333333",
          "width": 2
         },
         "mode": "lines",
         "name": "",
         "type": "scatter",
         "x": [
          552,
          580
         ],
         "y": [
          219,
          266
         ]
        },
        {
         "line": {
          "color": "#ec1818",
          "width": 3
         },
         "mode": "lines",
         "name": "",
         "type": "scatter",
         "x": [
          552,
          551
         ],
         "y": [
          219,
          254
         ]
        },
        {
         "line": {
          "color": "#00d5ff",
          "width": 3
         },
         "mode": "lines",
         "name": "",
         "type": "scatter",
         "x": [
          552,
          528
         ],
         "y": [
          219,
          225
         ]
        },
        {
         "line": {
          "color": "#00d5ff",
          "width": 3
         },
         "mode": "lines",
         "name": "",
         "type": "scatter",
         "x": [
          552,
          600
         ],
         "y": [
          219,
          212
         ]
        },
        {
         "line": {
          "color": "#333333",
          "width": 2
         },
         "mode": "lines",
         "name": "",
         "type": "scatter",
         "x": [
          297,
          238
         ],
         "y": [
          248,
          246
         ]
        },
        {
         "line": {
          "color": "#00d5ff",
          "width": 3
         },
         "mode": "lines",
         "name": "",
         "type": "scatter",
         "x": [
          413,
          412
         ],
         "y": [
          539,
          553
         ]
        },
        {
         "line": {
          "color": "#ec1818",
          "width": 3
         },
         "mode": "lines",
         "name": "",
         "type": "scatter",
         "x": [
          528,
          509
         ],
         "y": [
          225,
          242
         ]
        },
        {
         "line": {
          "color": "#333333",
          "width": 2
         },
         "mode": "lines",
         "name": "",
         "type": "scatter",
         "x": [
          528,
          551
         ],
         "y": [
          225,
          254
         ]
        },
        {
         "line": {
          "color": "#333333",
          "width": 2
         },
         "mode": "lines",
         "name": "",
         "type": "scatter",
         "x": [
          528,
          506
         ],
         "y": [
          225,
          196
         ]
        },
        {
         "line": {
          "color": "#333333",
          "width": 2
         },
         "mode": "lines",
         "name": "",
         "type": "scatter",
         "x": [
          617,
          619
         ],
         "y": [
          280,
          305
         ]
        },
        {
         "line": {
          "color": "#333333",
          "width": 2
         },
         "mode": "lines",
         "name": "",
         "type": "scatter",
         "x": [
          617,
          607
         ],
         "y": [
          280,
          303
         ]
        },
        {
         "line": {
          "color": "#333333",
          "width": 2
         },
         "mode": "lines",
         "name": "",
         "type": "scatter",
         "x": [
          617,
          611
         ],
         "y": [
          280,
          242
         ]
        },
        {
         "line": {
          "color": "#00d5ff",
          "width": 3
         },
         "mode": "lines",
         "name": "",
         "type": "scatter",
         "x": [
          611,
          634
         ],
         "y": [
          425,
          399
         ]
        },
        {
         "line": {
          "color": "#333333",
          "width": 2
         },
         "mode": "lines",
         "name": "",
         "type": "scatter",
         "x": [
          532,
          591
         ],
         "y": [
          142,
          157
         ]
        },
        {
         "line": {
          "color": "#00d5ff",
          "width": 3
         },
         "mode": "lines",
         "name": "",
         "type": "scatter",
         "x": [
          532,
          594
         ],
         "y": [
          142,
          132
         ]
        },
        {
         "line": {
          "color": "#333333",
          "width": 2
         },
         "mode": "lines",
         "name": "",
         "type": "scatter",
         "x": [
          412,
          404
         ],
         "y": [
          553,
          590
         ]
        },
        {
         "line": {
          "color": "#ec1818",
          "width": 3
         },
         "mode": "lines",
         "name": "",
         "type": "scatter",
         "x": [
          326,
          323
         ],
         "y": [
          375,
          325
         ]
        },
        {
         "line": {
          "color": "#ec1818",
          "width": 3
         },
         "mode": "lines",
         "name": "",
         "type": "scatter",
         "x": [
          326,
          328
         ],
         "y": [
          375,
          423
         ]
        },
        {
         "line": {
          "color": "#00d5ff",
          "width": 3
         },
         "mode": "lines",
         "name": "",
         "type": "scatter",
         "x": [
          326,
          294
         ],
         "y": [
          375,
          375
         ]
        },
        {
         "line": {
          "color": "#ec1818",
          "width": 3
         },
         "mode": "lines",
         "name": "",
         "type": "scatter",
         "x": [
          538,
          524
         ],
         "y": [
          105,
          52
         ]
        },
        {
         "line": {
          "color": "#333333",
          "width": 2
         },
         "mode": "lines",
         "name": "",
         "type": "scatter",
         "x": [
          538,
          596
         ],
         "y": [
          105,
          116
         ]
        }
       ],
       "layout": {
        "height": 750,
        "plot_bgcolor": "white",
        "showlegend": false,
        "template": {
         "data": {
          "bar": [
           {
            "error_x": {
             "color": "#2a3f5f"
            },
            "error_y": {
             "color": "#2a3f5f"
            },
            "marker": {
             "line": {
              "color": "#E5ECF6",
              "width": 0.5
             },
             "pattern": {
              "fillmode": "overlay",
              "size": 10,
              "solidity": 0.2
             }
            },
            "type": "bar"
           }
          ],
          "barpolar": [
           {
            "marker": {
             "line": {
              "color": "#E5ECF6",
              "width": 0.5
             },
             "pattern": {
              "fillmode": "overlay",
              "size": 10,
              "solidity": 0.2
             }
            },
            "type": "barpolar"
           }
          ],
          "carpet": [
           {
            "aaxis": {
             "endlinecolor": "#2a3f5f",
             "gridcolor": "white",
             "linecolor": "white",
             "minorgridcolor": "white",
             "startlinecolor": "#2a3f5f"
            },
            "baxis": {
             "endlinecolor": "#2a3f5f",
             "gridcolor": "white",
             "linecolor": "white",
             "minorgridcolor": "white",
             "startlinecolor": "#2a3f5f"
            },
            "type": "carpet"
           }
          ],
          "choropleth": [
           {
            "colorbar": {
             "outlinewidth": 0,
             "ticks": ""
            },
            "type": "choropleth"
           }
          ],
          "contour": [
           {
            "colorbar": {
             "outlinewidth": 0,
             "ticks": ""
            },
            "colorscale": [
             [
              0,
              "#0d0887"
             ],
             [
              0.1111111111111111,
              "#46039f"
             ],
             [
              0.2222222222222222,
              "#7201a8"
             ],
             [
              0.3333333333333333,
              "#9c179e"
             ],
             [
              0.4444444444444444,
              "#bd3786"
             ],
             [
              0.5555555555555556,
              "#d8576b"
             ],
             [
              0.6666666666666666,
              "#ed7953"
             ],
             [
              0.7777777777777778,
              "#fb9f3a"
             ],
             [
              0.8888888888888888,
              "#fdca26"
             ],
             [
              1,
              "#f0f921"
             ]
            ],
            "type": "contour"
           }
          ],
          "contourcarpet": [
           {
            "colorbar": {
             "outlinewidth": 0,
             "ticks": ""
            },
            "type": "contourcarpet"
           }
          ],
          "heatmap": [
           {
            "colorbar": {
             "outlinewidth": 0,
             "ticks": ""
            },
            "colorscale": [
             [
              0,
              "#0d0887"
             ],
             [
              0.1111111111111111,
              "#46039f"
             ],
             [
              0.2222222222222222,
              "#7201a8"
             ],
             [
              0.3333333333333333,
              "#9c179e"
             ],
             [
              0.4444444444444444,
              "#bd3786"
             ],
             [
              0.5555555555555556,
              "#d8576b"
             ],
             [
              0.6666666666666666,
              "#ed7953"
             ],
             [
              0.7777777777777778,
              "#fb9f3a"
             ],
             [
              0.8888888888888888,
              "#fdca26"
             ],
             [
              1,
              "#f0f921"
             ]
            ],
            "type": "heatmap"
           }
          ],
          "heatmapgl": [
           {
            "colorbar": {
             "outlinewidth": 0,
             "ticks": ""
            },
            "colorscale": [
             [
              0,
              "#0d0887"
             ],
             [
              0.1111111111111111,
              "#46039f"
             ],
             [
              0.2222222222222222,
              "#7201a8"
             ],
             [
              0.3333333333333333,
              "#9c179e"
             ],
             [
              0.4444444444444444,
              "#bd3786"
             ],
             [
              0.5555555555555556,
              "#d8576b"
             ],
             [
              0.6666666666666666,
              "#ed7953"
             ],
             [
              0.7777777777777778,
              "#fb9f3a"
             ],
             [
              0.8888888888888888,
              "#fdca26"
             ],
             [
              1,
              "#f0f921"
             ]
            ],
            "type": "heatmapgl"
           }
          ],
          "histogram": [
           {
            "marker": {
             "pattern": {
              "fillmode": "overlay",
              "size": 10,
              "solidity": 0.2
             }
            },
            "type": "histogram"
           }
          ],
          "histogram2d": [
           {
            "colorbar": {
             "outlinewidth": 0,
             "ticks": ""
            },
            "colorscale": [
             [
              0,
              "#0d0887"
             ],
             [
              0.1111111111111111,
              "#46039f"
             ],
             [
              0.2222222222222222,
              "#7201a8"
             ],
             [
              0.3333333333333333,
              "#9c179e"
             ],
             [
              0.4444444444444444,
              "#bd3786"
             ],
             [
              0.5555555555555556,
              "#d8576b"
             ],
             [
              0.6666666666666666,
              "#ed7953"
             ],
             [
              0.7777777777777778,
              "#fb9f3a"
             ],
             [
              0.8888888888888888,
              "#fdca26"
             ],
             [
              1,
              "#f0f921"
             ]
            ],
            "type": "histogram2d"
           }
          ],
          "histogram2dcontour": [
           {
            "colorbar": {
             "outlinewidth": 0,
             "ticks": ""
            },
            "colorscale": [
             [
              0,
              "#0d0887"
             ],
             [
              0.1111111111111111,
              "#46039f"
             ],
             [
              0.2222222222222222,
              "#7201a8"
             ],
             [
              0.3333333333333333,
              "#9c179e"
             ],
             [
              0.4444444444444444,
              "#bd3786"
             ],
             [
              0.5555555555555556,
              "#d8576b"
             ],
             [
              0.6666666666666666,
              "#ed7953"
             ],
             [
              0.7777777777777778,
              "#fb9f3a"
             ],
             [
              0.8888888888888888,
              "#fdca26"
             ],
             [
              1,
              "#f0f921"
             ]
            ],
            "type": "histogram2dcontour"
           }
          ],
          "mesh3d": [
           {
            "colorbar": {
             "outlinewidth": 0,
             "ticks": ""
            },
            "type": "mesh3d"
           }
          ],
          "parcoords": [
           {
            "line": {
             "colorbar": {
              "outlinewidth": 0,
              "ticks": ""
             }
            },
            "type": "parcoords"
           }
          ],
          "pie": [
           {
            "automargin": true,
            "type": "pie"
           }
          ],
          "scatter": [
           {
            "fillpattern": {
             "fillmode": "overlay",
             "size": 10,
             "solidity": 0.2
            },
            "type": "scatter"
           }
          ],
          "scatter3d": [
           {
            "line": {
             "colorbar": {
              "outlinewidth": 0,
              "ticks": ""
             }
            },
            "marker": {
             "colorbar": {
              "outlinewidth": 0,
              "ticks": ""
             }
            },
            "type": "scatter3d"
           }
          ],
          "scattercarpet": [
           {
            "marker": {
             "colorbar": {
              "outlinewidth": 0,
              "ticks": ""
             }
            },
            "type": "scattercarpet"
           }
          ],
          "scattergeo": [
           {
            "marker": {
             "colorbar": {
              "outlinewidth": 0,
              "ticks": ""
             }
            },
            "type": "scattergeo"
           }
          ],
          "scattergl": [
           {
            "marker": {
             "colorbar": {
              "outlinewidth": 0,
              "ticks": ""
             }
            },
            "type": "scattergl"
           }
          ],
          "scattermapbox": [
           {
            "marker": {
             "colorbar": {
              "outlinewidth": 0,
              "ticks": ""
             }
            },
            "type": "scattermapbox"
           }
          ],
          "scatterpolar": [
           {
            "marker": {
             "colorbar": {
              "outlinewidth": 0,
              "ticks": ""
             }
            },
            "type": "scatterpolar"
           }
          ],
          "scatterpolargl": [
           {
            "marker": {
             "colorbar": {
              "outlinewidth": 0,
              "ticks": ""
             }
            },
            "type": "scatterpolargl"
           }
          ],
          "scatterternary": [
           {
            "marker": {
             "colorbar": {
              "outlinewidth": 0,
              "ticks": ""
             }
            },
            "type": "scatterternary"
           }
          ],
          "surface": [
           {
            "colorbar": {
             "outlinewidth": 0,
             "ticks": ""
            },
            "colorscale": [
             [
              0,
              "#0d0887"
             ],
             [
              0.1111111111111111,
              "#46039f"
             ],
             [
              0.2222222222222222,
              "#7201a8"
             ],
             [
              0.3333333333333333,
              "#9c179e"
             ],
             [
              0.4444444444444444,
              "#bd3786"
             ],
             [
              0.5555555555555556,
              "#d8576b"
             ],
             [
              0.6666666666666666,
              "#ed7953"
             ],
             [
              0.7777777777777778,
              "#fb9f3a"
             ],
             [
              0.8888888888888888,
              "#fdca26"
             ],
             [
              1,
              "#f0f921"
             ]
            ],
            "type": "surface"
           }
          ],
          "table": [
           {
            "cells": {
             "fill": {
              "color": "#EBF0F8"
             },
             "line": {
              "color": "white"
             }
            },
            "header": {
             "fill": {
              "color": "#C8D4E3"
             },
             "line": {
              "color": "white"
             }
            },
            "type": "table"
           }
          ]
         },
         "layout": {
          "annotationdefaults": {
           "arrowcolor": "#2a3f5f",
           "arrowhead": 0,
           "arrowwidth": 1
          },
          "autotypenumbers": "strict",
          "coloraxis": {
           "colorbar": {
            "outlinewidth": 0,
            "ticks": ""
           }
          },
          "colorscale": {
           "diverging": [
            [
             0,
             "#8e0152"
            ],
            [
             0.1,
             "#c51b7d"
            ],
            [
             0.2,
             "#de77ae"
            ],
            [
             0.3,
             "#f1b6da"
            ],
            [
             0.4,
             "#fde0ef"
            ],
            [
             0.5,
             "#f7f7f7"
            ],
            [
             0.6,
             "#e6f5d0"
            ],
            [
             0.7,
             "#b8e186"
            ],
            [
             0.8,
             "#7fbc41"
            ],
            [
             0.9,
             "#4d9221"
            ],
            [
             1,
             "#276419"
            ]
           ],
           "sequential": [
            [
             0,
             "#0d0887"
            ],
            [
             0.1111111111111111,
             "#46039f"
            ],
            [
             0.2222222222222222,
             "#7201a8"
            ],
            [
             0.3333333333333333,
             "#9c179e"
            ],
            [
             0.4444444444444444,
             "#bd3786"
            ],
            [
             0.5555555555555556,
             "#d8576b"
            ],
            [
             0.6666666666666666,
             "#ed7953"
            ],
            [
             0.7777777777777778,
             "#fb9f3a"
            ],
            [
             0.8888888888888888,
             "#fdca26"
            ],
            [
             1,
             "#f0f921"
            ]
           ],
           "sequentialminus": [
            [
             0,
             "#0d0887"
            ],
            [
             0.1111111111111111,
             "#46039f"
            ],
            [
             0.2222222222222222,
             "#7201a8"
            ],
            [
             0.3333333333333333,
             "#9c179e"
            ],
            [
             0.4444444444444444,
             "#bd3786"
            ],
            [
             0.5555555555555556,
             "#d8576b"
            ],
            [
             0.6666666666666666,
             "#ed7953"
            ],
            [
             0.7777777777777778,
             "#fb9f3a"
            ],
            [
             0.8888888888888888,
             "#fdca26"
            ],
            [
             1,
             "#f0f921"
            ]
           ]
          },
          "colorway": [
           "#636efa",
           "#EF553B",
           "#00cc96",
           "#ab63fa",
           "#FFA15A",
           "#19d3f3",
           "#FF6692",
           "#B6E880",
           "#FF97FF",
           "#FECB52"
          ],
          "font": {
           "color": "#2a3f5f"
          },
          "geo": {
           "bgcolor": "white",
           "lakecolor": "white",
           "landcolor": "#E5ECF6",
           "showlakes": true,
           "showland": true,
           "subunitcolor": "white"
          },
          "hoverlabel": {
           "align": "left"
          },
          "hovermode": "closest",
          "mapbox": {
           "style": "light"
          },
          "paper_bgcolor": "white",
          "plot_bgcolor": "#E5ECF6",
          "polar": {
           "angularaxis": {
            "gridcolor": "white",
            "linecolor": "white",
            "ticks": ""
           },
           "bgcolor": "#E5ECF6",
           "radialaxis": {
            "gridcolor": "white",
            "linecolor": "white",
            "ticks": ""
           }
          },
          "scene": {
           "xaxis": {
            "backgroundcolor": "#E5ECF6",
            "gridcolor": "white",
            "gridwidth": 2,
            "linecolor": "white",
            "showbackground": true,
            "ticks": "",
            "zerolinecolor": "white"
           },
           "yaxis": {
            "backgroundcolor": "#E5ECF6",
            "gridcolor": "white",
            "gridwidth": 2,
            "linecolor": "white",
            "showbackground": true,
            "ticks": "",
            "zerolinecolor": "white"
           },
           "zaxis": {
            "backgroundcolor": "#E5ECF6",
            "gridcolor": "white",
            "gridwidth": 2,
            "linecolor": "white",
            "showbackground": true,
            "ticks": "",
            "zerolinecolor": "white"
           }
          },
          "shapedefaults": {
           "line": {
            "color": "#2a3f5f"
           }
          },
          "ternary": {
           "aaxis": {
            "gridcolor": "white",
            "linecolor": "white",
            "ticks": ""
           },
           "baxis": {
            "gridcolor": "white",
            "linecolor": "white",
            "ticks": ""
           },
           "bgcolor": "#E5ECF6",
           "caxis": {
            "gridcolor": "white",
            "linecolor": "white",
            "ticks": ""
           }
          },
          "title": {
           "x": 0.05
          },
          "xaxis": {
           "automargin": true,
           "gridcolor": "white",
           "linecolor": "white",
           "ticks": "",
           "title": {
            "standoff": 15
           },
           "zerolinecolor": "white",
           "zerolinewidth": 2
          },
          "yaxis": {
           "automargin": true,
           "gridcolor": "white",
           "linecolor": "white",
           "ticks": "",
           "title": {
            "standoff": 15
           },
           "zerolinecolor": "white",
           "zerolinewidth": 2
          }
         }
        },
        "width": 750
       }
      },
      "text/html": [
       "<div>                            <div id=\"3a07e99e-42d6-4add-9fcb-305b62ae9b75\" class=\"plotly-graph-div\" style=\"height:750px; width:750px;\"></div>            <script type=\"text/javascript\">                require([\"plotly\"], function(Plotly) {                    window.PLOTLYENV=window.PLOTLYENV || {};                                    if (document.getElementById(\"3a07e99e-42d6-4add-9fcb-305b62ae9b75\")) {                    Plotly.newPlot(                        \"3a07e99e-42d6-4add-9fcb-305b62ae9b75\",                        [{\"marker\":{\"color\":\"#333333\",\"size\":6},\"mode\":\"markers+text\",\"name\":\"\",\"text\":[\"4\",\"10\",\"12\",\"16\",\"17\",\"18\",\"20\",\"22\",\"27\",\"29\",\"30\",\"34\",\"35\",\"37\",\"38\",\"44\",\"45\",\"48\",\"49\",\"55\",\"56\",\"58\",\"59\",\"60\",\"61\",\"62\",\"64\",\"68\",\"69\",\"70\",\"71\",\"75\",\"77\",\"80\",\"81\",\"82\",\"84\",\"85\",\"91\",\"92\",\"93\",\"96\",\"97\",\"99\",\"101\",\"103\",\"106\",\"108\",\"109\",\"110\",\"112\",\"114\",\"122\",\"124\",\"128\",\"129\",\"132\",\"133\",\"134\",\"138\",\"141\",\"146\",\"147\",\"148\",\"152\",\"153\",\"155\",\"162\",\"163\",\"164\",\"166\",\"171\",\"172\",\"177\",\"181\",\"186\",\"187\",\"188\",\"190\",\"199\",\"200\",\"202\",\"206\",\"207\",\"211\",\"213\",\"214\",\"216\",\"219\",\"220\",\"222\",\"229\",\"233\",\"235\",\"238\",\"244\",\"247\",\"248\",\"249\",\"251\",\"254\",\"255\",\"259\",\"263\",\"264\",\"265\",\"266\",\"268\",\"270\",\"273\",\"274\",\"275\",\"277\",\"281\",\"282\",\"283\",\"284\",\"285\",\"287\",\"288\",\"290\",\"294\",\"295\",\"296\",\"297\",\"303\",\"307\",\"313\",\"316\",\"321\",\"322\",\"324\",\"325\",\"329\",\"333\",\"338\",\"339\",\"341\",\"343\",\"344\",\"348\",\"350\",\"352\",\"355\",\"357\",\"358\",\"359\",\"361\",\"363\",\"364\",\"365\",\"368\",\"369\",\"370\",\"374\",\"376\",\"378\",\"380\",\"382\",\"383\",\"385\",\"386\",\"388\",\"390\",\"398\",\"399\",\"402\",\"407\",\"409\",\"410\",\"414\",\"418\",\"420\",\"422\",\"423\",\"427\",\"429\",\"430\",\"432\",\"438\",\"441\",\"444\",\"445\",\"446\",\"448\",\"449\",\"451\",\"454\",\"455\",\"457\",\"460\",\"461\",\"466\",\"471\",\"472\",\"473\",\"476\",\"477\",\"479\",\"480\",\"483\",\"485\",\"487\",\"488\",\"491\",\"493\",\"495\",\"497\",\"498\",\"499\",\"500\"],\"textposition\":\"top left\",\"x\":[283,428,573,735,827,204,634,232,785,479,573,524,350,487,588,578,804,465,309,534,848,375,369,803,121,591,500,785,442,535,864,334,686,589,524,502,388,486,222,485,591,551,228,506,804,661,607,644,504,642,689,798,704,357,418,294,774,166,201,749,391,842,541,365,673,337,248,835,531,269,344,330,231,503,254,718,430,532,544,350,421,392,485,837,230,565,771,933,250,385,370,839,251,469,443,436,580,686,825,618,712,793,292,435,357,604,365,190,495,240,596,521,716,479,325,346,417,243,553,570,483,607,99,513,668,383,509,600,830,755,801,570,420,694,594,720,604,375,922,498,621,546,364,883,646,478,601,215,897,787,767,678,702,910,519,305,536,312,410,494,215,525,596,283,556,404,409,505,327,391,472,723,821,571,202,155,621,924,607,289,509,238,246,411,655,552,297,323,413,528,617,508,368,611,714,619,391,487,643,356,405,532,175,412,326,611,538,445,189,328,458],\"y\":[281,396,418,183,124,336,399,354,503,113,187,297,550,225,640,289,470,449,463,403,339,564,228,204,400,157,105,485,562,342,275,288,496,372,52,252,456,489,376,172,427,254,419,196,416,370,303,382,373,597,361,434,321,506,270,375,294,388,225,307,178,290,261,246,222,524,468,242,372,145,618,312,168,541,356,536,421,315,319,392,498,258,455,301,397,508,207,324,441,537,205,353,452,104,324,476,266,159,326,592,228,617,517,230,463,591,621,270,418,231,116,447,419,536,258,212,436,328,577,401,546,334,332,602,504,433,242,212,207,449,285,265,159,281,132,476,433,274,235,386,403,403,541,190,583,131,513,247,285,188,623,388,293,263,329,550,122,231,397,182,368,178,390,350,296,590,313,118,462,394,553,239,445,456,190,165,552,382,445,192,565,246,182,600,253,219,248,325,539,225,280,360,130,425,434,305,297,366,287,197,253,142,483,553,375,242,105,619,215,423,265],\"type\":\"scatter\"},{\"line\":{\"color\":\"#00d5ff\",\"width\":3},\"mode\":\"lines\",\"name\":\"\",\"x\":[283,243],\"y\":[281,328],\"type\":\"scatter\"},{\"line\":{\"color\":\"#333333\",\"width\":2},\"mode\":\"lines\",\"name\":\"\",\"x\":[283,330],\"y\":[281,312],\"type\":\"scatter\"},{\"line\":{\"color\":\"#00d5ff\",\"width\":3},\"mode\":\"lines\",\"name\":\"\",\"x\":[283,297],\"y\":[281,248],\"type\":\"scatter\"},{\"line\":{\"color\":\"#00d5ff\",\"dash\":\"dot\",\"width\":3},\"mode\":\"lines\",\"name\":\"\",\"x\":[428,498],\"y\":[396,386],\"type\":\"scatter\"},{\"line\":{\"color\":\"#00d5ff\",\"width\":3},\"mode\":\"lines\",\"name\":\"\",\"x\":[428,443],\"y\":[396,324],\"type\":\"scatter\"},{\"line\":{\"color\":\"#00d5ff\",\"width\":3},\"mode\":\"lines\",\"name\":\"\",\"x\":[428,430],\"y\":[396,421],\"type\":\"scatter\"},{\"line\":{\"color\":\"#00d5ff\",\"dash\":\"dot\",\"width\":3},\"mode\":\"lines\",\"name\":\"\",\"x\":[232,215],\"y\":[354,368],\"type\":\"scatter\"},{\"line\":{\"color\":\"#00d5ff\",\"dash\":\"dot\",\"width\":3},\"mode\":\"lines\",\"name\":\"\",\"x\":[232,222],\"y\":[354,376],\"type\":\"scatter\"},{\"line\":{\"color\":\"#333333\",\"width\":2},\"mode\":\"lines\",\"name\":\"\",\"x\":[232,243],\"y\":[354,328],\"type\":\"scatter\"},{\"line\":{\"color\":\"#00d5ff\",\"width\":3},\"mode\":\"lines\",\"name\":\"\",\"x\":[232,254],\"y\":[354,356],\"type\":\"scatter\"},{\"line\":{\"color\":\"#00d5ff\",\"width\":3},\"mode\":\"lines\",\"name\":\"\",\"x\":[479,500],\"y\":[113,105],\"type\":\"scatter\"},{\"line\":{\"color\":\"#00d5ff\",\"width\":3},\"mode\":\"lines\",\"name\":\"\",\"x\":[479,478],\"y\":[113,131],\"type\":\"scatter\"},{\"line\":{\"color\":\"#333333\",\"width\":2},\"mode\":\"lines\",\"name\":\"\",\"x\":[479,505],\"y\":[113,118],\"type\":\"scatter\"},{\"line\":{\"color\":\"#ec1818\",\"width\":3},\"mode\":\"lines\",\"name\":\"\",\"x\":[524,556],\"y\":[297,296],\"type\":\"scatter\"},{\"line\":{\"color\":\"#00d5ff\",\"width\":3},\"mode\":\"lines\",\"name\":\"\",\"x\":[524,502],\"y\":[297,252],\"type\":\"scatter\"},{\"line\":{\"color\":\"#00d5ff\",\"dash\":\"dot\",\"width\":3},\"mode\":\"lines\",\"name\":\"\",\"x\":[524,443],\"y\":[297,324],\"type\":\"scatter\"},{\"line\":{\"color\":\"#00d5ff\",\"width\":3},\"mode\":\"lines\",\"name\":\"\",\"x\":[487,458],\"y\":[225,265],\"type\":\"scatter\"},{\"line\":{\"color\":\"#00d5ff\",\"dash\":\"dot\",\"width\":3},\"mode\":\"lines\",\"name\":\"\",\"x\":[487,509],\"y\":[225,242],\"type\":\"scatter\"},{\"line\":{\"color\":\"#333333\",\"width\":2},\"mode\":\"lines\",\"name\":\"\",\"x\":[487,528],\"y\":[225,225],\"type\":\"scatter\"},{\"line\":{\"color\":\"#00d5ff\",\"width\":3},\"mode\":\"lines\",\"name\":\"\",\"x\":[487,506],\"y\":[225,196],\"type\":\"scatter\"},{\"line\":{\"color\":\"#333333\",\"width\":2},\"mode\":\"lines\",\"name\":\"\",\"x\":[487,435],\"y\":[225,230],\"type\":\"scatter\"},{\"line\":{\"color\":\"#00d5ff\",\"width\":3},\"mode\":\"lines\",\"name\":\"\",\"x\":[487,485],\"y\":[225,172],\"type\":\"scatter\"},{\"line\":{\"color\":\"#00d5ff\",\"width\":3},\"mode\":\"lines\",\"name\":\"\",\"x\":[578,617],\"y\":[289,280],\"type\":\"scatter\"},{\"line\":{\"color\":\"#00d5ff\",\"width\":3},\"mode\":\"lines\",\"name\":\"\",\"x\":[578,607],\"y\":[289,303],\"type\":\"scatter\"},{\"line\":{\"color\":\"#00d5ff\",\"width\":3},\"mode\":\"lines\",\"name\":\"\",\"x\":[578,556],\"y\":[289,296],\"type\":\"scatter\"},{\"line\":{\"color\":\"#333333\",\"width\":2},\"mode\":\"lines\",\"name\":\"\",\"x\":[578,607],\"y\":[289,334],\"type\":\"scatter\"},{\"line\":{\"color\":\"#00d5ff\",\"width\":3},\"mode\":\"lines\",\"name\":\"\",\"x\":[465,430],\"y\":[449,421],\"type\":\"scatter\"},{\"line\":{\"color\":\"#00d5ff\",\"dash\":\"dot\",\"width\":3},\"mode\":\"lines\",\"name\":\"\",\"x\":[465,436],\"y\":[449,476],\"type\":\"scatter\"},{\"line\":{\"color\":\"#00d5ff\",\"width\":3},\"mode\":\"lines\",\"name\":\"\",\"x\":[465,485],\"y\":[449,455],\"type\":\"scatter\"},{\"line\":{\"color\":\"#00d5ff\",\"width\":3},\"mode\":\"lines\",\"name\":\"\",\"x\":[309,251],\"y\":[463,452],\"type\":\"scatter\"},{\"line\":{\"color\":\"#00d5ff\",\"width\":3},\"mode\":\"lines\",\"name\":\"\",\"x\":[309,250],\"y\":[463,441],\"type\":\"scatter\"},{\"line\":{\"color\":\"#00d5ff\",\"width\":3},\"mode\":\"lines\",\"name\":\"\",\"x\":[309,337],\"y\":[463,524],\"type\":\"scatter\"},{\"line\":{\"color\":\"#333333\",\"width\":2},\"mode\":\"lines\",\"name\":\"\",\"x\":[309,292],\"y\":[463,517],\"type\":\"scatter\"},{\"line\":{\"color\":\"#00d5ff\",\"width\":3},\"mode\":\"lines\",\"name\":\"\",\"x\":[309,248],\"y\":[463,468],\"type\":\"scatter\"},{\"line\":{\"color\":\"#00d5ff\",\"width\":3},\"mode\":\"lines\",\"name\":\"\",\"x\":[534,531],\"y\":[403,372],\"type\":\"scatter\"},{\"line\":{\"color\":\"#00d5ff\",\"width\":3},\"mode\":\"lines\",\"name\":\"\",\"x\":[534,495],\"y\":[403,418],\"type\":\"scatter\"},{\"line\":{\"color\":\"#ec1818\",\"width\":3},\"mode\":\"lines\",\"name\":\"\",\"x\":[534,498],\"y\":[403,386],\"type\":\"scatter\"},{\"line\":{\"color\":\"#00d5ff\",\"width\":3},\"mode\":\"lines\",\"name\":\"\",\"x\":[848,933],\"y\":[339,324],\"type\":\"scatter\"},{\"line\":{\"color\":\"#00d5ff\",\"width\":3},\"mode\":\"lines\",\"name\":\"\",\"x\":[848,825],\"y\":[339,326],\"type\":\"scatter\"},{\"line\":{\"color\":\"#00d5ff\",\"width\":3},\"mode\":\"lines\",\"name\":\"\",\"x\":[848,924],\"y\":[339,382],\"type\":\"scatter\"},{\"line\":{\"color\":\"#00d5ff\",\"dash\":\"dot\",\"width\":3},\"mode\":\"lines\",\"name\":\"\",\"x\":[848,839],\"y\":[339,353],\"type\":\"scatter\"},{\"line\":{\"color\":\"#00d5ff\",\"width\":3},\"mode\":\"lines\",\"name\":\"\",\"x\":[375,385],\"y\":[564,537],\"type\":\"scatter\"},{\"line\":{\"color\":\"#333333\",\"width\":2},\"mode\":\"lines\",\"name\":\"\",\"x\":[375,412],\"y\":[564,553],\"type\":\"scatter\"},{\"line\":{\"color\":\"#00d5ff\",\"width\":3},\"mode\":\"lines\",\"name\":\"\",\"x\":[375,404],\"y\":[564,590],\"type\":\"scatter\"},{\"line\":{\"color\":\"#00d5ff\",\"width\":3},\"mode\":\"lines\",\"name\":\"\",\"x\":[375,364],\"y\":[564,541],\"type\":\"scatter\"},{\"line\":{\"color\":\"#00d5ff\",\"width\":3},\"mode\":\"lines\",\"name\":\"\",\"x\":[375,344],\"y\":[564,618],\"type\":\"scatter\"},{\"line\":{\"color\":\"#00d5ff\",\"width\":3},\"mode\":\"lines\",\"name\":\"\",\"x\":[375,365],\"y\":[564,621],\"type\":\"scatter\"},{\"line\":{\"color\":\"#00d5ff\",\"width\":3},\"mode\":\"lines\",\"name\":\"\",\"x\":[375,350],\"y\":[564,550],\"type\":\"scatter\"},{\"line\":{\"color\":\"#00d5ff\",\"width\":3},\"mode\":\"lines\",\"name\":\"\",\"x\":[803,830],\"y\":[204,207],\"type\":\"scatter\"},{\"line\":{\"color\":\"#333333\",\"width\":2},\"mode\":\"lines\",\"name\":\"\",\"x\":[803,787],\"y\":[204,188],\"type\":\"scatter\"},{\"line\":{\"color\":\"#00d5ff\",\"width\":3},\"mode\":\"lines\",\"name\":\"\",\"x\":[803,771],\"y\":[204,207],\"type\":\"scatter\"},{\"line\":{\"color\":\"#333333\",\"width\":2},\"mode\":\"lines\",\"name\":\"\",\"x\":[500,469],\"y\":[105,104],\"type\":\"scatter\"},{\"line\":{\"color\":\"#333333\",\"width\":2},\"mode\":\"lines\",\"name\":\"\",\"x\":[500,505],\"y\":[105,118],\"type\":\"scatter\"},{\"line\":{\"color\":\"#00d5ff\",\"dash\":\"dot\",\"width\":3},\"mode\":\"lines\",\"name\":\"\",\"x\":[500,524],\"y\":[105,52],\"type\":\"scatter\"},{\"line\":{\"color\":\"#00d5ff\",\"width\":3},\"mode\":\"lines\",\"name\":\"\",\"x\":[442,412],\"y\":[562,553],\"type\":\"scatter\"},{\"line\":{\"color\":\"#333333\",\"width\":2},\"mode\":\"lines\",\"name\":\"\",\"x\":[442,413],\"y\":[562,539],\"type\":\"scatter\"},{\"line\":{\"color\":\"#00d5ff\",\"width\":3},\"mode\":\"lines\",\"name\":\"\",\"x\":[442,411],\"y\":[562,600],\"type\":\"scatter\"},{\"line\":{\"color\":\"#00d5ff\",\"width\":3},\"mode\":\"lines\",\"name\":\"\",\"x\":[442,472],\"y\":[562,553],\"type\":\"scatter\"},{\"line\":{\"color\":\"#00d5ff\",\"width\":3},\"mode\":\"lines\",\"name\":\"\",\"x\":[442,445],\"y\":[562,619],\"type\":\"scatter\"},{\"line\":{\"color\":\"#00d5ff\",\"width\":3},\"mode\":\"lines\",\"name\":\"\",\"x\":[535,544],\"y\":[342,319],\"type\":\"scatter\"},{\"line\":{\"color\":\"#00d5ff\",\"width\":3},\"mode\":\"lines\",\"name\":\"\",\"x\":[535,532],\"y\":[342,315],\"type\":\"scatter\"},{\"line\":{\"color\":\"#00d5ff\",\"width\":3},\"mode\":\"lines\",\"name\":\"\",\"x\":[535,519],\"y\":[342,329],\"type\":\"scatter\"},{\"line\":{\"color\":\"#00d5ff\",\"width\":3},\"mode\":\"lines\",\"name\":\"\",\"x\":[535,531],\"y\":[342,372],\"type\":\"scatter\"},{\"line\":{\"color\":\"#333333\",\"width\":2},\"mode\":\"lines\",\"name\":\"\",\"x\":[535,508],\"y\":[342,360],\"type\":\"scatter\"},{\"line\":{\"color\":\"#00d5ff\",\"width\":3},\"mode\":\"lines\",\"name\":\"\",\"x\":[502,541],\"y\":[252,261],\"type\":\"scatter\"},{\"line\":{\"color\":\"#333333\",\"width\":2},\"mode\":\"lines\",\"name\":\"\",\"x\":[502,458],\"y\":[252,265],\"type\":\"scatter\"},{\"line\":{\"color\":\"#ec1818\",\"width\":3},\"mode\":\"lines\",\"name\":\"\",\"x\":[388,357],\"y\":[456,463],\"type\":\"scatter\"},{\"line\":{\"color\":\"#ec1818\",\"width\":3},\"mode\":\"lines\",\"name\":\"\",\"x\":[388,417],\"y\":[456,436],\"type\":\"scatter\"},{\"line\":{\"color\":\"#00d5ff\",\"dash\":\"dot\",\"width\":3},\"mode\":\"lines\",\"name\":\"\",\"x\":[388,436],\"y\":[456,476],\"type\":\"scatter\"},{\"line\":{\"color\":\"#00d5ff\",\"width\":3},\"mode\":\"lines\",\"name\":\"\",\"x\":[486,436],\"y\":[489,476],\"type\":\"scatter\"},{\"line\":{\"color\":\"#ec1818\",\"width\":3},\"mode\":\"lines\",\"name\":\"\",\"x\":[486,479],\"y\":[489,536],\"type\":\"scatter\"},{\"line\":{\"color\":\"#333333\",\"width\":2},\"mode\":\"lines\",\"name\":\"\",\"x\":[486,503],\"y\":[489,541],\"type\":\"scatter\"},{\"line\":{\"color\":\"#ec1818\",\"width\":3},\"mode\":\"lines\",\"name\":\"\",\"x\":[486,485],\"y\":[489,455],\"type\":\"scatter\"},{\"line\":{\"color\":\"#333333\",\"width\":2},\"mode\":\"lines\",\"name\":\"\",\"x\":[485,494],\"y\":[172,182],\"type\":\"scatter\"},{\"line\":{\"color\":\"#333333\",\"width\":2},\"mode\":\"lines\",\"name\":\"\",\"x\":[485,420],\"y\":[172,159],\"type\":\"scatter\"},{\"line\":{\"color\":\"#333333\",\"width\":2},\"mode\":\"lines\",\"name\":\"\",\"x\":[485,525],\"y\":[172,178],\"type\":\"scatter\"},{\"line\":{\"color\":\"#00d5ff\",\"dash\":\"dot\",\"width\":3},\"mode\":\"lines\",\"name\":\"\",\"x\":[485,532],\"y\":[172,142],\"type\":\"scatter\"},{\"line\":{\"color\":\"#00d5ff\",\"dash\":\"dot\",\"width\":3},\"mode\":\"lines\",\"name\":\"\",\"x\":[591,604],\"y\":[427,433],\"type\":\"scatter\"},{\"line\":{\"color\":\"#00d5ff\",\"width\":3},\"mode\":\"lines\",\"name\":\"\",\"x\":[591,596],\"y\":[427,390],\"type\":\"scatter\"},{\"line\":{\"color\":\"#ec1818\",\"width\":3},\"mode\":\"lines\",\"name\":\"\",\"x\":[591,607],\"y\":[427,445],\"type\":\"scatter\"},{\"line\":{\"color\":\"#00d5ff\",\"dash\":\"dot\",\"width\":3},\"mode\":\"lines\",\"name\":\"\",\"x\":[591,571],\"y\":[427,456],\"type\":\"scatter\"},{\"line\":{\"color\":\"#00d5ff\",\"width\":3},\"mode\":\"lines\",\"name\":\"\",\"x\":[228,166],\"y\":[419,388],\"type\":\"scatter\"},{\"line\":{\"color\":\"#333333\",\"width\":2},\"mode\":\"lines\",\"name\":\"\",\"x\":[228,175],\"y\":[419,483],\"type\":\"scatter\"},{\"line\":{\"color\":\"#333333\",\"width\":2},\"mode\":\"lines\",\"name\":\"\",\"x\":[228,251],\"y\":[419,452],\"type\":\"scatter\"},{\"line\":{\"color\":\"#00d5ff\",\"width\":3},\"mode\":\"lines\",\"name\":\"\",\"x\":[228,250],\"y\":[419,441],\"type\":\"scatter\"},{\"line\":{\"color\":\"#00d5ff\",\"width\":3},\"mode\":\"lines\",\"name\":\"\",\"x\":[804,755],\"y\":[416,449],\"type\":\"scatter\"},{\"line\":{\"color\":\"#333333\",\"width\":2},\"mode\":\"lines\",\"name\":\"\",\"x\":[804,749],\"y\":[416,307],\"type\":\"scatter\"},{\"line\":{\"color\":\"#333333\",\"width\":2},\"mode\":\"lines\",\"name\":\"\",\"x\":[804,825],\"y\":[416,326],\"type\":\"scatter\"},{\"line\":{\"color\":\"#ec1818\",\"width\":3},\"mode\":\"lines\",\"name\":\"\",\"x\":[804,839],\"y\":[416,353],\"type\":\"scatter\"},{\"line\":{\"color\":\"#333333\",\"width\":2},\"mode\":\"lines\",\"name\":\"\",\"x\":[804,821],\"y\":[416,445],\"type\":\"scatter\"},{\"line\":{\"color\":\"#00d5ff\",\"width\":3},\"mode\":\"lines\",\"name\":\"\",\"x\":[661,643],\"y\":[370,287],\"type\":\"scatter\"},{\"line\":{\"color\":\"#333333\",\"width\":2},\"mode\":\"lines\",\"name\":\"\",\"x\":[661,619],\"y\":[370,305],\"type\":\"scatter\"},{\"line\":{\"color\":\"#00d5ff\",\"width\":3},\"mode\":\"lines\",\"name\":\"\",\"x\":[661,689],\"y\":[370,361],\"type\":\"scatter\"},{\"line\":{\"color\":\"#00d5ff\",\"width\":3},\"mode\":\"lines\",\"name\":\"\",\"x\":[661,644],\"y\":[370,382],\"type\":\"scatter\"},{\"line\":{\"color\":\"#00d5ff\",\"width\":3},\"mode\":\"lines\",\"name\":\"\",\"x\":[661,704],\"y\":[370,321],\"type\":\"scatter\"},{\"line\":{\"color\":\"#333333\",\"width\":2},\"mode\":\"lines\",\"name\":\"\",\"x\":[661,678],\"y\":[370,388],\"type\":\"scatter\"},{\"line\":{\"color\":\"#00d5ff\",\"width\":3},\"mode\":\"lines\",\"name\":\"\",\"x\":[644,621],\"y\":[382,403],\"type\":\"scatter\"},{\"line\":{\"color\":\"#333333\",\"width\":2},\"mode\":\"lines\",\"name\":\"\",\"x\":[644,589],\"y\":[382,372],\"type\":\"scatter\"},{\"line\":{\"color\":\"#333333\",\"width\":2},\"mode\":\"lines\",\"name\":\"\",\"x\":[644,678],\"y\":[382,388],\"type\":\"scatter\"},{\"line\":{\"color\":\"#333333\",\"width\":2},\"mode\":\"lines\",\"name\":\"\",\"x\":[644,596],\"y\":[382,390],\"type\":\"scatter\"},{\"line\":{\"color\":\"#333333\",\"width\":2},\"mode\":\"lines\",\"name\":\"\",\"x\":[689,704],\"y\":[361,321],\"type\":\"scatter\"},{\"line\":{\"color\":\"#00d5ff\",\"width\":3},\"mode\":\"lines\",\"name\":\"\",\"x\":[689,749],\"y\":[361,307],\"type\":\"scatter\"},{\"line\":{\"color\":\"#00d5ff\",\"width\":3},\"mode\":\"lines\",\"name\":\"\",\"x\":[357,357],\"y\":[506,463],\"type\":\"scatter\"},{\"line\":{\"color\":\"#00d5ff\",\"width\":3},\"mode\":\"lines\",\"name\":\"\",\"x\":[357,337],\"y\":[506,524],\"type\":\"scatter\"},{\"line\":{\"color\":\"#00d5ff\",\"width\":3},\"mode\":\"lines\",\"name\":\"\",\"x\":[357,327],\"y\":[506,462],\"type\":\"scatter\"},{\"line\":{\"color\":\"#00d5ff\",\"dash\":\"dot\",\"width\":3},\"mode\":\"lines\",\"name\":\"\",\"x\":[418,443],\"y\":[270,324],\"type\":\"scatter\"},{\"line\":{\"color\":\"#ec1818\",\"width\":3},\"mode\":\"lines\",\"name\":\"\",\"x\":[418,391],\"y\":[270,297],\"type\":\"scatter\"},{\"line\":{\"color\":\"#00d5ff\",\"dash\":\"dot\",\"width\":3},\"mode\":\"lines\",\"name\":\"\",\"x\":[418,405],\"y\":[270,253],\"type\":\"scatter\"},{\"line\":{\"color\":\"#00d5ff\",\"width\":3},\"mode\":\"lines\",\"name\":\"\",\"x\":[418,458],\"y\":[270,265],\"type\":\"scatter\"},{\"line\":{\"color\":\"#00d5ff\",\"width\":3},\"mode\":\"lines\",\"name\":\"\",\"x\":[418,435],\"y\":[270,230],\"type\":\"scatter\"},{\"line\":{\"color\":\"#ec1818\",\"width\":3},\"mode\":\"lines\",\"name\":\"\",\"x\":[166,222],\"y\":[388,376],\"type\":\"scatter\"},{\"line\":{\"color\":\"#ec1818\",\"width\":3},\"mode\":\"lines\",\"name\":\"\",\"x\":[166,215],\"y\":[388,368],\"type\":\"scatter\"},{\"line\":{\"color\":\"#333333\",\"width\":2},\"mode\":\"lines\",\"name\":\"\",\"x\":[166,230],\"y\":[388,397],\"type\":\"scatter\"},{\"line\":{\"color\":\"#00d5ff\",\"width\":3},\"mode\":\"lines\",\"name\":\"\",\"x\":[166,121],\"y\":[388,400],\"type\":\"scatter\"},{\"line\":{\"color\":\"#00d5ff\",\"width\":3},\"mode\":\"lines\",\"name\":\"\",\"x\":[201,189],\"y\":[225,215],\"type\":\"scatter\"},{\"line\":{\"color\":\"#00d5ff\",\"width\":3},\"mode\":\"lines\",\"name\":\"\",\"x\":[201,240],\"y\":[225,231],\"type\":\"scatter\"},{\"line\":{\"color\":\"#00d5ff\",\"width\":3},\"mode\":\"lines\",\"name\":\"\",\"x\":[201,190],\"y\":[225,270],\"type\":\"scatter\"},{\"line\":{\"color\":\"#00d5ff\",\"width\":3},\"mode\":\"lines\",\"name\":\"\",\"x\":[201,202],\"y\":[225,190],\"type\":\"scatter\"},{\"line\":{\"color\":\"#333333\",\"width\":2},\"mode\":\"lines\",\"name\":\"\",\"x\":[201,215],\"y\":[225,247],\"type\":\"scatter\"},{\"line\":{\"color\":\"#333333\",\"width\":2},\"mode\":\"lines\",\"name\":\"\",\"x\":[749,716],\"y\":[307,419],\"type\":\"scatter\"},{\"line\":{\"color\":\"#333333\",\"width\":2},\"mode\":\"lines\",\"name\":\"\",\"x\":[749,702],\"y\":[307,293],\"type\":\"scatter\"},{\"line\":{\"color\":\"#00d5ff\",\"width\":3},\"mode\":\"lines\",\"name\":\"\",\"x\":[749,825],\"y\":[307,326],\"type\":\"scatter\"},{\"line\":{\"color\":\"#333333\",\"width\":2},\"mode\":\"lines\",\"name\":\"\",\"x\":[749,704],\"y\":[307,321],\"type\":\"scatter\"},{\"line\":{\"color\":\"#00d5ff\",\"width\":3},\"mode\":\"lines\",\"name\":\"\",\"x\":[842,837],\"y\":[290,301],\"type\":\"scatter\"},{\"line\":{\"color\":\"#00d5ff\",\"width\":3},\"mode\":\"lines\",\"name\":\"\",\"x\":[842,864],\"y\":[290,275],\"type\":\"scatter\"},{\"line\":{\"color\":\"#00d5ff\",\"width\":3},\"mode\":\"lines\",\"name\":\"\",\"x\":[842,835],\"y\":[290,242],\"type\":\"scatter\"},{\"line\":{\"color\":\"#333333\",\"width\":2},\"mode\":\"lines\",\"name\":\"\",\"x\":[842,801],\"y\":[290,285],\"type\":\"scatter\"},{\"line\":{\"color\":\"#333333\",\"width\":2},\"mode\":\"lines\",\"name\":\"\",\"x\":[541,528],\"y\":[261,225],\"type\":\"scatter\"},{\"line\":{\"color\":\"#00d5ff\",\"dash\":\"dot\",\"width\":3},\"mode\":\"lines\",\"name\":\"\",\"x\":[541,551],\"y\":[261,254],\"type\":\"scatter\"},{\"line\":{\"color\":\"#333333\",\"width\":2},\"mode\":\"lines\",\"name\":\"\",\"x\":[541,509],\"y\":[261,242],\"type\":\"scatter\"},{\"line\":{\"color\":\"#333333\",\"width\":2},\"mode\":\"lines\",\"name\":\"\",\"x\":[365,375],\"y\":[246,274],\"type\":\"scatter\"},{\"line\":{\"color\":\"#333333\",\"width\":2},\"mode\":\"lines\",\"name\":\"\",\"x\":[365,334],\"y\":[246,288],\"type\":\"scatter\"},{\"line\":{\"color\":\"#00d5ff\",\"width\":3},\"mode\":\"lines\",\"name\":\"\",\"x\":[365,325],\"y\":[246,258],\"type\":\"scatter\"},{\"line\":{\"color\":\"#333333\",\"width\":2},\"mode\":\"lines\",\"name\":\"\",\"x\":[365,369],\"y\":[246,228],\"type\":\"scatter\"},{\"line\":{\"color\":\"#00d5ff\",\"width\":3},\"mode\":\"lines\",\"name\":\"\",\"x\":[365,392],\"y\":[246,258],\"type\":\"scatter\"},{\"line\":{\"color\":\"#00d5ff\",\"width\":3},\"mode\":\"lines\",\"name\":\"\",\"x\":[673,686],\"y\":[222,159],\"type\":\"scatter\"},{\"line\":{\"color\":\"#00d5ff\",\"width\":3},\"mode\":\"lines\",\"name\":\"\",\"x\":[673,712],\"y\":[222,228],\"type\":\"scatter\"},{\"line\":{\"color\":\"#00d5ff\",\"width\":3},\"mode\":\"lines\",\"name\":\"\",\"x\":[673,655],\"y\":[222,253],\"type\":\"scatter\"},{\"line\":{\"color\":\"#333333\",\"width\":2},\"mode\":\"lines\",\"name\":\"\",\"x\":[673,694],\"y\":[222,281],\"type\":\"scatter\"},{\"line\":{\"color\":\"#333333\",\"width\":2},\"mode\":\"lines\",\"name\":\"\",\"x\":[673,600],\"y\":[222,212],\"type\":\"scatter\"},{\"line\":{\"color\":\"#333333\",\"width\":2},\"mode\":\"lines\",\"name\":\"\",\"x\":[673,611],\"y\":[222,242],\"type\":\"scatter\"},{\"line\":{\"color\":\"#00d5ff\",\"width\":3},\"mode\":\"lines\",\"name\":\"\",\"x\":[337,364],\"y\":[524,541],\"type\":\"scatter\"},{\"line\":{\"color\":\"#333333\",\"width\":2},\"mode\":\"lines\",\"name\":\"\",\"x\":[337,350],\"y\":[524,550],\"type\":\"scatter\"},{\"line\":{\"color\":\"#333333\",\"width\":2},\"mode\":\"lines\",\"name\":\"\",\"x\":[337,305],\"y\":[524,550],\"type\":\"scatter\"},{\"line\":{\"color\":\"#00d5ff\",\"width\":3},\"mode\":\"lines\",\"name\":\"\",\"x\":[337,292],\"y\":[524,517],\"type\":\"scatter\"},{\"line\":{\"color\":\"#333333\",\"width\":2},\"mode\":\"lines\",\"name\":\"\",\"x\":[835,801],\"y\":[242,285],\"type\":\"scatter\"},{\"line\":{\"color\":\"#333333\",\"width\":2},\"mode\":\"lines\",\"name\":\"\",\"x\":[835,864],\"y\":[242,275],\"type\":\"scatter\"},{\"line\":{\"color\":\"#00d5ff\",\"width\":3},\"mode\":\"lines\",\"name\":\"\",\"x\":[835,910],\"y\":[242,263],\"type\":\"scatter\"},{\"line\":{\"color\":\"#333333\",\"width\":2},\"mode\":\"lines\",\"name\":\"\",\"x\":[835,830],\"y\":[242,207],\"type\":\"scatter\"},{\"line\":{\"color\":\"#333333\",\"width\":2},\"mode\":\"lines\",\"name\":\"\",\"x\":[531,570],\"y\":[372,401],\"type\":\"scatter\"},{\"line\":{\"color\":\"#333333\",\"width\":2},\"mode\":\"lines\",\"name\":\"\",\"x\":[531,504],\"y\":[372,373],\"type\":\"scatter\"},{\"line\":{\"color\":\"#00d5ff\",\"width\":3},\"mode\":\"lines\",\"name\":\"\",\"x\":[531,546],\"y\":[372,403],\"type\":\"scatter\"},{\"line\":{\"color\":\"#333333\",\"width\":2},\"mode\":\"lines\",\"name\":\"\",\"x\":[531,498],\"y\":[372,386],\"type\":\"scatter\"},{\"line\":{\"color\":\"#ec1818\",\"width\":3},\"mode\":\"lines\",\"name\":\"\",\"x\":[231,269],\"y\":[168,145],\"type\":\"scatter\"},{\"line\":{\"color\":\"#00d5ff\",\"width\":3},\"mode\":\"lines\",\"name\":\"\",\"x\":[231,202],\"y\":[168,190],\"type\":\"scatter\"},{\"line\":{\"color\":\"#333333\",\"width\":2},\"mode\":\"lines\",\"name\":\"\",\"x\":[231,155],\"y\":[168,165],\"type\":\"scatter\"},{\"line\":{\"color\":\"#333333\",\"width\":2},\"mode\":\"lines\",\"name\":\"\",\"x\":[503,553],\"y\":[541,577],\"type\":\"scatter\"},{\"line\":{\"color\":\"#00d5ff\",\"width\":3},\"mode\":\"lines\",\"name\":\"\",\"x\":[503,565],\"y\":[541,508],\"type\":\"scatter\"},{\"line\":{\"color\":\"#00d5ff\",\"width\":3},\"mode\":\"lines\",\"name\":\"\",\"x\":[503,483],\"y\":[541,546],\"type\":\"scatter\"},{\"line\":{\"color\":\"#00d5ff\",\"width\":3},\"mode\":\"lines\",\"name\":\"\",\"x\":[254,283],\"y\":[356,350],\"type\":\"scatter\"},{\"line\":{\"color\":\"#00d5ff\",\"width\":3},\"mode\":\"lines\",\"name\":\"\",\"x\":[254,230],\"y\":[356,397],\"type\":\"scatter\"},{\"line\":{\"color\":\"#00d5ff\",\"width\":3},\"mode\":\"lines\",\"name\":\"\",\"x\":[254,243],\"y\":[356,328],\"type\":\"scatter\"},{\"line\":{\"color\":\"#00d5ff\",\"width\":3},\"mode\":\"lines\",\"name\":\"\",\"x\":[718,720],\"y\":[536,476],\"type\":\"scatter\"},{\"line\":{\"color\":\"#00d5ff\",\"width\":3},\"mode\":\"lines\",\"name\":\"\",\"x\":[718,646],\"y\":[536,583],\"type\":\"scatter\"},{\"line\":{\"color\":\"#333333\",\"width\":2},\"mode\":\"lines\",\"name\":\"\",\"x\":[718,686],\"y\":[536,496],\"type\":\"scatter\"},{\"line\":{\"color\":\"#333333\",\"width\":2},\"mode\":\"lines\",\"name\":\"\",\"x\":[718,793],\"y\":[536,617],\"type\":\"scatter\"},{\"line\":{\"color\":\"#333333\",\"width\":2},\"mode\":\"lines\",\"name\":\"\",\"x\":[718,767],\"y\":[536,623],\"type\":\"scatter\"},{\"line\":{\"color\":\"#00d5ff\",\"width\":3},\"mode\":\"lines\",\"name\":\"\",\"x\":[430,410],\"y\":[421,397],\"type\":\"scatter\"},{\"line\":{\"color\":\"#333333\",\"width\":2},\"mode\":\"lines\",\"name\":\"\",\"x\":[544,532],\"y\":[319,315],\"type\":\"scatter\"},{\"line\":{\"color\":\"#00d5ff\",\"width\":3},\"mode\":\"lines\",\"name\":\"\",\"x\":[544,607],\"y\":[319,334],\"type\":\"scatter\"},{\"line\":{\"color\":\"#333333\",\"width\":2},\"mode\":\"lines\",\"name\":\"\",\"x\":[544,589],\"y\":[319,372],\"type\":\"scatter\"},{\"line\":{\"color\":\"#00d5ff\",\"width\":3},\"mode\":\"lines\",\"name\":\"\",\"x\":[544,556],\"y\":[319,296],\"type\":\"scatter\"},{\"line\":{\"color\":\"#00d5ff\",\"dash\":\"dot\",\"width\":3},\"mode\":\"lines\",\"name\":\"\",\"x\":[350,326],\"y\":[392,375],\"type\":\"scatter\"},{\"line\":{\"color\":\"#ec1818\",\"width\":3},\"mode\":\"lines\",\"name\":\"\",\"x\":[350,409],\"y\":[392,313],\"type\":\"scatter\"},{\"line\":{\"color\":\"#00d5ff\",\"dash\":\"dot\",\"width\":3},\"mode\":\"lines\",\"name\":\"\",\"x\":[350,323],\"y\":[392,325],\"type\":\"scatter\"},{\"line\":{\"color\":\"#ec1818\",\"width\":3},\"mode\":\"lines\",\"name\":\"\",\"x\":[350,391],\"y\":[392,394],\"type\":\"scatter\"},{\"line\":{\"color\":\"#00d5ff\",\"dash\":\"dot\",\"width\":3},\"mode\":\"lines\",\"name\":\"\",\"x\":[350,383],\"y\":[392,433],\"type\":\"scatter\"},{\"line\":{\"color\":\"#ec1818\",\"width\":3},\"mode\":\"lines\",\"name\":\"\",\"x\":[350,328],\"y\":[392,423],\"type\":\"scatter\"},{\"line\":{\"color\":\"#ec1818\",\"width\":3},\"mode\":\"lines\",\"name\":\"\",\"x\":[421,479],\"y\":[498,536],\"type\":\"scatter\"},{\"line\":{\"color\":\"#ec1818\",\"dash\":\"dot\",\"width\":3},\"mode\":\"lines\",\"name\":\"\",\"x\":[421,436],\"y\":[498,476],\"type\":\"scatter\"},{\"line\":{\"color\":\"#ec1818\",\"dash\":\"dot\",\"width\":3},\"mode\":\"lines\",\"name\":\"\",\"x\":[421,385],\"y\":[498,537],\"type\":\"scatter\"},{\"line\":{\"color\":\"#00d5ff\",\"width\":3},\"mode\":\"lines\",\"name\":\"\",\"x\":[392,369],\"y\":[258,228],\"type\":\"scatter\"},{\"line\":{\"color\":\"#00d5ff\",\"width\":3},\"mode\":\"lines\",\"name\":\"\",\"x\":[392,375],\"y\":[258,274],\"type\":\"scatter\"},{\"line\":{\"color\":\"#ec1818\",\"width\":3},\"mode\":\"lines\",\"name\":\"\",\"x\":[392,405],\"y\":[258,253],\"type\":\"scatter\"},{\"line\":{\"color\":\"#00d5ff\",\"width\":3},\"mode\":\"lines\",\"name\":\"\",\"x\":[392,391],\"y\":[258,297],\"type\":\"scatter\"},{\"line\":{\"color\":\"#00d5ff\",\"width\":3},\"mode\":\"lines\",\"name\":\"\",\"x\":[485,495],\"y\":[455,418],\"type\":\"scatter\"},{\"line\":{\"color\":\"#00d5ff\",\"width\":3},\"mode\":\"lines\",\"name\":\"\",\"x\":[837,897],\"y\":[301,285],\"type\":\"scatter\"},{\"line\":{\"color\":\"#00d5ff\",\"width\":3},\"mode\":\"lines\",\"name\":\"\",\"x\":[837,825],\"y\":[301,326],\"type\":\"scatter\"},{\"line\":{\"color\":\"#00d5ff\",\"width\":3},\"mode\":\"lines\",\"name\":\"\",\"x\":[565,601],\"y\":[508,513],\"type\":\"scatter\"},{\"line\":{\"color\":\"#333333\",\"width\":2},\"mode\":\"lines\",\"name\":\"\",\"x\":[565,553],\"y\":[508,577],\"type\":\"scatter\"},{\"line\":{\"color\":\"#00d5ff\",\"width\":3},\"mode\":\"lines\",\"name\":\"\",\"x\":[771,723],\"y\":[207,239],\"type\":\"scatter\"},{\"line\":{\"color\":\"#333333\",\"width\":2},\"mode\":\"lines\",\"name\":\"\",\"x\":[771,774],\"y\":[207,294],\"type\":\"scatter\"},{\"line\":{\"color\":\"#333333\",\"width\":2},\"mode\":\"lines\",\"name\":\"\",\"x\":[771,735],\"y\":[207,183],\"type\":\"scatter\"},{\"line\":{\"color\":\"#333333\",\"width\":2},\"mode\":\"lines\",\"name\":\"\",\"x\":[250,328],\"y\":[441,423],\"type\":\"scatter\"},{\"line\":{\"color\":\"#333333\",\"width\":2},\"mode\":\"lines\",\"name\":\"\",\"x\":[250,294],\"y\":[441,375],\"type\":\"scatter\"},{\"line\":{\"color\":\"#333333\",\"width\":2},\"mode\":\"lines\",\"name\":\"\",\"x\":[250,251],\"y\":[441,452],\"type\":\"scatter\"},{\"line\":{\"color\":\"#00d5ff\",\"width\":3},\"mode\":\"lines\",\"name\":\"\",\"x\":[385,412],\"y\":[537,553],\"type\":\"scatter\"},{\"line\":{\"color\":\"#333333\",\"width\":2},\"mode\":\"lines\",\"name\":\"\",\"x\":[443,487],\"y\":[324,366],\"type\":\"scatter\"},{\"line\":{\"color\":\"#333333\",\"width\":2},\"mode\":\"lines\",\"name\":\"\",\"x\":[443,410],\"y\":[324,397],\"type\":\"scatter\"},{\"line\":{\"color\":\"#00d5ff\",\"dash\":\"dot\",\"width\":3},\"mode\":\"lines\",\"name\":\"\",\"x\":[436,417],\"y\":[476,436],\"type\":\"scatter\"},{\"line\":{\"color\":\"#00d5ff\",\"width\":3},\"mode\":\"lines\",\"name\":\"\",\"x\":[825,801],\"y\":[326,285],\"type\":\"scatter\"},{\"line\":{\"color\":\"#333333\",\"width\":2},\"mode\":\"lines\",\"name\":\"\",\"x\":[825,774],\"y\":[326,294],\"type\":\"scatter\"},{\"line\":{\"color\":\"#333333\",\"width\":2},\"mode\":\"lines\",\"name\":\"\",\"x\":[618,604],\"y\":[592,591],\"type\":\"scatter\"},{\"line\":{\"color\":\"#00d5ff\",\"width\":3},\"mode\":\"lines\",\"name\":\"\",\"x\":[618,646],\"y\":[592,583],\"type\":\"scatter\"},{\"line\":{\"color\":\"#00d5ff\",\"width\":3},\"mode\":\"lines\",\"name\":\"\",\"x\":[618,621],\"y\":[592,552],\"type\":\"scatter\"},{\"line\":{\"color\":\"#00d5ff\",\"width\":3},\"mode\":\"lines\",\"name\":\"\",\"x\":[618,642],\"y\":[592,597],\"type\":\"scatter\"},{\"line\":{\"color\":\"#00d5ff\",\"width\":3},\"mode\":\"lines\",\"name\":\"\",\"x\":[712,723],\"y\":[228,239],\"type\":\"scatter\"},{\"line\":{\"color\":\"#333333\",\"width\":2},\"mode\":\"lines\",\"name\":\"\",\"x\":[712,694],\"y\":[228,281],\"type\":\"scatter\"},{\"line\":{\"color\":\"#00d5ff\",\"width\":3},\"mode\":\"lines\",\"name\":\"\",\"x\":[712,735],\"y\":[228,183],\"type\":\"scatter\"},{\"line\":{\"color\":\"#333333\",\"width\":2},\"mode\":\"lines\",\"name\":\"\",\"x\":[435,405],\"y\":[230,253],\"type\":\"scatter\"},{\"line\":{\"color\":\"#00d5ff\",\"width\":3},\"mode\":\"lines\",\"name\":\"\",\"x\":[435,420],\"y\":[230,159],\"type\":\"scatter\"},{\"line\":{\"color\":\"#333333\",\"width\":2},\"mode\":\"lines\",\"name\":\"\",\"x\":[435,369],\"y\":[230,228],\"type\":\"scatter\"},{\"line\":{\"color\":\"#333333\",\"width\":2},\"mode\":\"lines\",\"name\":\"\",\"x\":[435,370],\"y\":[230,205],\"type\":\"scatter\"},{\"line\":{\"color\":\"#333333\",\"width\":2},\"mode\":\"lines\",\"name\":\"\",\"x\":[357,327],\"y\":[463,462],\"type\":\"scatter\"},{\"line\":{\"color\":\"#ec1818\",\"width\":3},\"mode\":\"lines\",\"name\":\"\",\"x\":[357,383],\"y\":[463,433],\"type\":\"scatter\"},{\"line\":{\"color\":\"#333333\",\"width\":2},\"mode\":\"lines\",\"name\":\"\",\"x\":[190,215],\"y\":[270,247],\"type\":\"scatter\"},{\"line\":{\"color\":\"#00d5ff\",\"width\":3},\"mode\":\"lines\",\"name\":\"\",\"x\":[190,243],\"y\":[270,328],\"type\":\"scatter\"},{\"line\":{\"color\":\"#333333\",\"width\":2},\"mode\":\"lines\",\"name\":\"\",\"x\":[190,238],\"y\":[270,246],\"type\":\"scatter\"},{\"line\":{\"color\":\"#333333\",\"width\":2},\"mode\":\"lines\",\"name\":\"\",\"x\":[190,99],\"y\":[270,332],\"type\":\"scatter\"},{\"line\":{\"color\":\"#00d5ff\",\"width\":3},\"mode\":\"lines\",\"name\":\"\",\"x\":[495,521],\"y\":[418,447],\"type\":\"scatter\"},{\"line\":{\"color\":\"#00d5ff\",\"dash\":\"dot\",\"width\":3},\"mode\":\"lines\",\"name\":\"\",\"x\":[521,571],\"y\":[447,456],\"type\":\"scatter\"},{\"line\":{\"color\":\"#00d5ff\",\"width\":3},\"mode\":\"lines\",\"name\":\"\",\"x\":[521,573],\"y\":[447,418],\"type\":\"scatter\"},{\"line\":{\"color\":\"#00d5ff\",\"width\":3},\"mode\":\"lines\",\"name\":\"\",\"x\":[479,483],\"y\":[536,546],\"type\":\"scatter\"},{\"line\":{\"color\":\"#00d5ff\",\"width\":3},\"mode\":\"lines\",\"name\":\"\",\"x\":[479,413],\"y\":[536,539],\"type\":\"scatter\"},{\"line\":{\"color\":\"#00d5ff\",\"dash\":\"dot\",\"width\":3},\"mode\":\"lines\",\"name\":\"\",\"x\":[325,312],\"y\":[258,231],\"type\":\"scatter\"},{\"line\":{\"color\":\"#333333\",\"width\":2},\"mode\":\"lines\",\"name\":\"\",\"x\":[325,346],\"y\":[258,212],\"type\":\"scatter\"},{\"line\":{\"color\":\"#00d5ff\",\"dash\":\"dot\",\"width\":3},\"mode\":\"lines\",\"name\":\"\",\"x\":[417,383],\"y\":[436,433],\"type\":\"scatter\"},{\"line\":{\"color\":\"#00d5ff\",\"width\":3},\"mode\":\"lines\",\"name\":\"\",\"x\":[243,238],\"y\":[328,246],\"type\":\"scatter\"},{\"line\":{\"color\":\"#00d5ff\",\"width\":3},\"mode\":\"lines\",\"name\":\"\",\"x\":[243,204],\"y\":[328,336],\"type\":\"scatter\"},{\"line\":{\"color\":\"#00d5ff\",\"width\":3},\"mode\":\"lines\",\"name\":\"\",\"x\":[553,588],\"y\":[577,640],\"type\":\"scatter\"},{\"line\":{\"color\":\"#00d5ff\",\"width\":3},\"mode\":\"lines\",\"name\":\"\",\"x\":[553,621],\"y\":[577,552],\"type\":\"scatter\"},{\"line\":{\"color\":\"#00d5ff\",\"width\":3},\"mode\":\"lines\",\"name\":\"\",\"x\":[553,509],\"y\":[577,565],\"type\":\"scatter\"},{\"line\":{\"color\":\"#333333\",\"width\":2},\"mode\":\"lines\",\"name\":\"\",\"x\":[553,513],\"y\":[577,602],\"type\":\"scatter\"},{\"line\":{\"color\":\"#333333\",\"width\":2},\"mode\":\"lines\",\"name\":\"\",\"x\":[483,509],\"y\":[546,565],\"type\":\"scatter\"},{\"line\":{\"color\":\"#00d5ff\",\"width\":3},\"mode\":\"lines\",\"name\":\"\",\"x\":[830,827],\"y\":[207,124],\"type\":\"scatter\"},{\"line\":{\"color\":\"#00d5ff\",\"width\":3},\"mode\":\"lines\",\"name\":\"\",\"x\":[830,883],\"y\":[207,190],\"type\":\"scatter\"},{\"line\":{\"color\":\"#00d5ff\",\"width\":3},\"mode\":\"lines\",\"name\":\"\",\"x\":[755,804],\"y\":[449,470],\"type\":\"scatter\"},{\"line\":{\"color\":\"#333333\",\"width\":2},\"mode\":\"lines\",\"name\":\"\",\"x\":[755,785],\"y\":[449,485],\"type\":\"scatter\"},{\"line\":{\"color\":\"#333333\",\"width\":2},\"mode\":\"lines\",\"name\":\"\",\"x\":[755,716],\"y\":[449,419],\"type\":\"scatter\"},{\"line\":{\"color\":\"#00d5ff\",\"width\":3},\"mode\":\"lines\",\"name\":\"\",\"x\":[755,798],\"y\":[449,434],\"type\":\"scatter\"},{\"line\":{\"color\":\"#00d5ff\",\"width\":3},\"mode\":\"lines\",\"name\":\"\",\"x\":[755,720],\"y\":[449,476],\"type\":\"scatter\"},{\"line\":{\"color\":\"#00d5ff\",\"width\":3},\"mode\":\"lines\",\"name\":\"\",\"x\":[570,552],\"y\":[265,219],\"type\":\"scatter\"},{\"line\":{\"color\":\"#00d5ff\",\"width\":3},\"mode\":\"lines\",\"name\":\"\",\"x\":[570,556],\"y\":[265,296],\"type\":\"scatter\"},{\"line\":{\"color\":\"#00d5ff\",\"width\":3},\"mode\":\"lines\",\"name\":\"\",\"x\":[570,580],\"y\":[265,266],\"type\":\"scatter\"},{\"line\":{\"color\":\"#333333\",\"width\":2},\"mode\":\"lines\",\"name\":\"\",\"x\":[420,391],\"y\":[159,178],\"type\":\"scatter\"},{\"line\":{\"color\":\"#00d5ff\",\"width\":3},\"mode\":\"lines\",\"name\":\"\",\"x\":[420,368],\"y\":[159,130],\"type\":\"scatter\"},{\"line\":{\"color\":\"#00d5ff\",\"width\":3},\"mode\":\"lines\",\"name\":\"\",\"x\":[420,478],\"y\":[159,131],\"type\":\"scatter\"},{\"line\":{\"color\":\"#00d5ff\",\"width\":3},\"mode\":\"lines\",\"name\":\"\",\"x\":[720,785],\"y\":[476,485],\"type\":\"scatter\"},{\"line\":{\"color\":\"#00d5ff\",\"width\":3},\"mode\":\"lines\",\"name\":\"\",\"x\":[720,785],\"y\":[476,503],\"type\":\"scatter\"},{\"line\":{\"color\":\"#333333\",\"width\":2},\"mode\":\"lines\",\"name\":\"\",\"x\":[720,714],\"y\":[476,434],\"type\":\"scatter\"},{\"line\":{\"color\":\"#00d5ff\",\"width\":3},\"mode\":\"lines\",\"name\":\"\",\"x\":[604,611],\"y\":[433,425],\"type\":\"scatter\"},{\"line\":{\"color\":\"#ec1818\",\"width\":3},\"mode\":\"lines\",\"name\":\"\",\"x\":[604,607],\"y\":[433,445],\"type\":\"scatter\"},{\"line\":{\"color\":\"#333333\",\"width\":2},\"mode\":\"lines\",\"name\":\"\",\"x\":[621,634],\"y\":[403,399],\"type\":\"scatter\"},{\"line\":{\"color\":\"#00d5ff\",\"width\":3},\"mode\":\"lines\",\"name\":\"\",\"x\":[621,611],\"y\":[403,425],\"type\":\"scatter\"},{\"line\":{\"color\":\"#333333\",\"width\":2},\"mode\":\"lines\",\"name\":\"\",\"x\":[364,350],\"y\":[541,550],\"type\":\"scatter\"},{\"line\":{\"color\":\"#00d5ff\",\"dash\":\"dot\",\"width\":3},\"mode\":\"lines\",\"name\":\"\",\"x\":[883,922],\"y\":[190,235],\"type\":\"scatter\"},{\"line\":{\"color\":\"#333333\",\"width\":2},\"mode\":\"lines\",\"name\":\"\",\"x\":[883,827],\"y\":[190,124],\"type\":\"scatter\"},{\"line\":{\"color\":\"#333333\",\"width\":2},\"mode\":\"lines\",\"name\":\"\",\"x\":[646,668],\"y\":[583,504],\"type\":\"scatter\"},{\"line\":{\"color\":\"#333333\",\"width\":2},\"mode\":\"lines\",\"name\":\"\",\"x\":[646,642],\"y\":[583,597],\"type\":\"scatter\"},{\"line\":{\"color\":\"#333333\",\"width\":2},\"mode\":\"lines\",\"name\":\"\",\"x\":[646,767],\"y\":[583,623],\"type\":\"scatter\"},{\"line\":{\"color\":\"#00d5ff\",\"width\":3},\"mode\":\"lines\",\"name\":\"\",\"x\":[478,505],\"y\":[131,118],\"type\":\"scatter\"},{\"line\":{\"color\":\"#00d5ff\",\"width\":3},\"mode\":\"lines\",\"name\":\"\",\"x\":[478,469],\"y\":[131,104],\"type\":\"scatter\"},{\"line\":{\"color\":\"#333333\",\"width\":2},\"mode\":\"lines\",\"name\":\"\",\"x\":[478,532],\"y\":[131,142],\"type\":\"scatter\"},{\"line\":{\"color\":\"#00d5ff\",\"width\":3},\"mode\":\"lines\",\"name\":\"\",\"x\":[601,668],\"y\":[513,504],\"type\":\"scatter\"},{\"line\":{\"color\":\"#333333\",\"width\":2},\"mode\":\"lines\",\"name\":\"\",\"x\":[601,621],\"y\":[513,552],\"type\":\"scatter\"},{\"line\":{\"color\":\"#00d5ff\",\"width\":3},\"mode\":\"lines\",\"name\":\"\",\"x\":[601,607],\"y\":[513,445],\"type\":\"scatter\"},{\"line\":{\"color\":\"#ec1818\",\"width\":3},\"mode\":\"lines\",\"name\":\"\",\"x\":[601,571],\"y\":[513,456],\"type\":\"scatter\"},{\"line\":{\"color\":\"#333333\",\"width\":2},\"mode\":\"lines\",\"name\":\"\",\"x\":[910,933],\"y\":[263,324],\"type\":\"scatter\"},{\"line\":{\"color\":\"#ec1818\",\"width\":3},\"mode\":\"lines\",\"name\":\"\",\"x\":[910,922],\"y\":[263,235],\"type\":\"scatter\"},{\"line\":{\"color\":\"#333333\",\"width\":2},\"mode\":\"lines\",\"name\":\"\",\"x\":[536,594],\"y\":[122,132],\"type\":\"scatter\"},{\"line\":{\"color\":\"#333333\",\"width\":2},\"mode\":\"lines\",\"name\":\"\",\"x\":[536,505],\"y\":[122,118],\"type\":\"scatter\"},{\"line\":{\"color\":\"#00d5ff\",\"width\":3},\"mode\":\"lines\",\"name\":\"\",\"x\":[536,538],\"y\":[122,105],\"type\":\"scatter\"},{\"line\":{\"color\":\"#00d5ff\",\"width\":3},\"mode\":\"lines\",\"name\":\"\",\"x\":[536,532],\"y\":[122,142],\"type\":\"scatter\"},{\"line\":{\"color\":\"#00d5ff\",\"width\":3},\"mode\":\"lines\",\"name\":\"\",\"x\":[312,289],\"y\":[231,192],\"type\":\"scatter\"},{\"line\":{\"color\":\"#ec1818\",\"width\":3},\"mode\":\"lines\",\"name\":\"\",\"x\":[312,297],\"y\":[231,248],\"type\":\"scatter\"},{\"line\":{\"color\":\"#00d5ff\",\"dash\":\"dot\",\"width\":3},\"mode\":\"lines\",\"name\":\"\",\"x\":[410,409],\"y\":[397,313],\"type\":\"scatter\"},{\"line\":{\"color\":\"#00d5ff\",\"dash\":\"dot\",\"width\":3},\"mode\":\"lines\",\"name\":\"\",\"x\":[410,391],\"y\":[397,394],\"type\":\"scatter\"},{\"line\":{\"color\":\"#333333\",\"width\":2},\"mode\":\"lines\",\"name\":\"\",\"x\":[525,494],\"y\":[178,182],\"type\":\"scatter\"},{\"line\":{\"color\":\"#ec1818\",\"width\":3},\"mode\":\"lines\",\"name\":\"\",\"x\":[525,532],\"y\":[178,142],\"type\":\"scatter\"},{\"line\":{\"color\":\"#333333\",\"width\":2},\"mode\":\"lines\",\"name\":\"\",\"x\":[525,573],\"y\":[178,187],\"type\":\"scatter\"},{\"line\":{\"color\":\"#00d5ff\",\"width\":3},\"mode\":\"lines\",\"name\":\"\",\"x\":[525,528],\"y\":[178,225],\"type\":\"scatter\"},{\"line\":{\"color\":\"#00d5ff\",\"width\":3},\"mode\":\"lines\",\"name\":\"\",\"x\":[283,326],\"y\":[350,375],\"type\":\"scatter\"},{\"line\":{\"color\":\"#333333\",\"width\":2},\"mode\":\"lines\",\"name\":\"\",\"x\":[283,294],\"y\":[350,375],\"type\":\"scatter\"},{\"line\":{\"color\":\"#333333\",\"width\":2},\"mode\":\"lines\",\"name\":\"\",\"x\":[556,532],\"y\":[296,315],\"type\":\"scatter\"},{\"line\":{\"color\":\"#333333\",\"width\":2},\"mode\":\"lines\",\"name\":\"\",\"x\":[409,391],\"y\":[313,394],\"type\":\"scatter\"},{\"line\":{\"color\":\"#00d5ff\",\"width\":3},\"mode\":\"lines\",\"name\":\"\",\"x\":[409,391],\"y\":[313,297],\"type\":\"scatter\"},{\"line\":{\"color\":\"#00d5ff\",\"width\":3},\"mode\":\"lines\",\"name\":\"\",\"x\":[409,330],\"y\":[313,312],\"type\":\"scatter\"},{\"line\":{\"color\":\"#333333\",\"width\":2},\"mode\":\"lines\",\"name\":\"\",\"x\":[409,323],\"y\":[313,325],\"type\":\"scatter\"},{\"line\":{\"color\":\"#00d5ff\",\"width\":3},\"mode\":\"lines\",\"name\":\"\",\"x\":[327,328],\"y\":[462,423],\"type\":\"scatter\"},{\"line\":{\"color\":\"#00d5ff\",\"width\":3},\"mode\":\"lines\",\"name\":\"\",\"x\":[472,509],\"y\":[553,565],\"type\":\"scatter\"},{\"line\":{\"color\":\"#00d5ff\",\"width\":3},\"mode\":\"lines\",\"name\":\"\",\"x\":[472,513],\"y\":[553,602],\"type\":\"scatter\"},{\"line\":{\"color\":\"#00d5ff\",\"width\":3},\"mode\":\"lines\",\"name\":\"\",\"x\":[723,774],\"y\":[239,294],\"type\":\"scatter\"},{\"line\":{\"color\":\"#333333\",\"width\":2},\"mode\":\"lines\",\"name\":\"\",\"x\":[202,189],\"y\":[190,215],\"type\":\"scatter\"},{\"line\":{\"color\":\"#333333\",\"width\":2},\"mode\":\"lines\",\"name\":\"\",\"x\":[202,155],\"y\":[190,165],\"type\":\"scatter\"},{\"line\":{\"color\":\"#333333\",\"width\":2},\"mode\":\"lines\",\"name\":\"\",\"x\":[621,668],\"y\":[552,504],\"type\":\"scatter\"},{\"line\":{\"color\":\"#00d5ff\",\"width\":3},\"mode\":\"lines\",\"name\":\"\",\"x\":[621,604],\"y\":[552,591],\"type\":\"scatter\"},{\"line\":{\"color\":\"#00d5ff\",\"width\":3},\"mode\":\"lines\",\"name\":\"\",\"x\":[607,686],\"y\":[445,496],\"type\":\"scatter\"},{\"line\":{\"color\":\"#333333\",\"width\":2},\"mode\":\"lines\",\"name\":\"\",\"x\":[289,240],\"y\":[192,231],\"type\":\"scatter\"},{\"line\":{\"color\":\"#00d5ff\",\"width\":3},\"mode\":\"lines\",\"name\":\"\",\"x\":[289,246],\"y\":[192,182],\"type\":\"scatter\"},{\"line\":{\"color\":\"#333333\",\"width\":2},\"mode\":\"lines\",\"name\":\"\",\"x\":[289,356],\"y\":[192,197],\"type\":\"scatter\"},{\"line\":{\"color\":\"#333333\",\"width\":2},\"mode\":\"lines\",\"name\":\"\",\"x\":[246,240],\"y\":[182,231],\"type\":\"scatter\"},{\"line\":{\"color\":\"#00d5ff\",\"dash\":\"dot\",\"width\":3},\"mode\":\"lines\",\"name\":\"\",\"x\":[246,269],\"y\":[182,145],\"type\":\"scatter\"},{\"line\":{\"color\":\"#00d5ff\",\"width\":3},\"mode\":\"lines\",\"name\":\"\",\"x\":[655,694],\"y\":[253,281],\"type\":\"scatter\"},{\"line\":{\"color\":\"#00d5ff\",\"width\":3},\"mode\":\"lines\",\"name\":\"\",\"x\":[655,617],\"y\":[253,280],\"type\":\"scatter\"},{\"line\":{\"color\":\"#333333\",\"width\":2},\"mode\":\"lines\",\"name\":\"\",\"x\":[552,580],\"y\":[219,266],\"type\":\"scatter\"},{\"line\":{\"color\":\"#ec1818\",\"width\":3},\"mode\":\"lines\",\"name\":\"\",\"x\":[552,551],\"y\":[219,254],\"type\":\"scatter\"},{\"line\":{\"color\":\"#00d5ff\",\"width\":3},\"mode\":\"lines\",\"name\":\"\",\"x\":[552,528],\"y\":[219,225],\"type\":\"scatter\"},{\"line\":{\"color\":\"#00d5ff\",\"width\":3},\"mode\":\"lines\",\"name\":\"\",\"x\":[552,600],\"y\":[219,212],\"type\":\"scatter\"},{\"line\":{\"color\":\"#333333\",\"width\":2},\"mode\":\"lines\",\"name\":\"\",\"x\":[297,238],\"y\":[248,246],\"type\":\"scatter\"},{\"line\":{\"color\":\"#00d5ff\",\"width\":3},\"mode\":\"lines\",\"name\":\"\",\"x\":[413,412],\"y\":[539,553],\"type\":\"scatter\"},{\"line\":{\"color\":\"#ec1818\",\"width\":3},\"mode\":\"lines\",\"name\":\"\",\"x\":[528,509],\"y\":[225,242],\"type\":\"scatter\"},{\"line\":{\"color\":\"#333333\",\"width\":2},\"mode\":\"lines\",\"name\":\"\",\"x\":[528,551],\"y\":[225,254],\"type\":\"scatter\"},{\"line\":{\"color\":\"#333333\",\"width\":2},\"mode\":\"lines\",\"name\":\"\",\"x\":[528,506],\"y\":[225,196],\"type\":\"scatter\"},{\"line\":{\"color\":\"#333333\",\"width\":2},\"mode\":\"lines\",\"name\":\"\",\"x\":[617,619],\"y\":[280,305],\"type\":\"scatter\"},{\"line\":{\"color\":\"#333333\",\"width\":2},\"mode\":\"lines\",\"name\":\"\",\"x\":[617,607],\"y\":[280,303],\"type\":\"scatter\"},{\"line\":{\"color\":\"#333333\",\"width\":2},\"mode\":\"lines\",\"name\":\"\",\"x\":[617,611],\"y\":[280,242],\"type\":\"scatter\"},{\"line\":{\"color\":\"#00d5ff\",\"width\":3},\"mode\":\"lines\",\"name\":\"\",\"x\":[611,634],\"y\":[425,399],\"type\":\"scatter\"},{\"line\":{\"color\":\"#333333\",\"width\":2},\"mode\":\"lines\",\"name\":\"\",\"x\":[532,591],\"y\":[142,157],\"type\":\"scatter\"},{\"line\":{\"color\":\"#00d5ff\",\"width\":3},\"mode\":\"lines\",\"name\":\"\",\"x\":[532,594],\"y\":[142,132],\"type\":\"scatter\"},{\"line\":{\"color\":\"#333333\",\"width\":2},\"mode\":\"lines\",\"name\":\"\",\"x\":[412,404],\"y\":[553,590],\"type\":\"scatter\"},{\"line\":{\"color\":\"#ec1818\",\"width\":3},\"mode\":\"lines\",\"name\":\"\",\"x\":[326,323],\"y\":[375,325],\"type\":\"scatter\"},{\"line\":{\"color\":\"#ec1818\",\"width\":3},\"mode\":\"lines\",\"name\":\"\",\"x\":[326,328],\"y\":[375,423],\"type\":\"scatter\"},{\"line\":{\"color\":\"#00d5ff\",\"width\":3},\"mode\":\"lines\",\"name\":\"\",\"x\":[326,294],\"y\":[375,375],\"type\":\"scatter\"},{\"line\":{\"color\":\"#ec1818\",\"width\":3},\"mode\":\"lines\",\"name\":\"\",\"x\":[538,524],\"y\":[105,52],\"type\":\"scatter\"},{\"line\":{\"color\":\"#333333\",\"width\":2},\"mode\":\"lines\",\"name\":\"\",\"x\":[538,596],\"y\":[105,116],\"type\":\"scatter\"}],                        {\"template\":{\"data\":{\"histogram2dcontour\":[{\"type\":\"histogram2dcontour\",\"colorbar\":{\"outlinewidth\":0,\"ticks\":\"\"},\"colorscale\":[[0.0,\"#0d0887\"],[0.1111111111111111,\"#46039f\"],[0.2222222222222222,\"#7201a8\"],[0.3333333333333333,\"#9c179e\"],[0.4444444444444444,\"#bd3786\"],[0.5555555555555556,\"#d8576b\"],[0.6666666666666666,\"#ed7953\"],[0.7777777777777778,\"#fb9f3a\"],[0.8888888888888888,\"#fdca26\"],[1.0,\"#f0f921\"]]}],\"choropleth\":[{\"type\":\"choropleth\",\"colorbar\":{\"outlinewidth\":0,\"ticks\":\"\"}}],\"histogram2d\":[{\"type\":\"histogram2d\",\"colorbar\":{\"outlinewidth\":0,\"ticks\":\"\"},\"colorscale\":[[0.0,\"#0d0887\"],[0.1111111111111111,\"#46039f\"],[0.2222222222222222,\"#7201a8\"],[0.3333333333333333,\"#9c179e\"],[0.4444444444444444,\"#bd3786\"],[0.5555555555555556,\"#d8576b\"],[0.6666666666666666,\"#ed7953\"],[0.7777777777777778,\"#fb9f3a\"],[0.8888888888888888,\"#fdca26\"],[1.0,\"#f0f921\"]]}],\"heatmap\":[{\"type\":\"heatmap\",\"colorbar\":{\"outlinewidth\":0,\"ticks\":\"\"},\"colorscale\":[[0.0,\"#0d0887\"],[0.1111111111111111,\"#46039f\"],[0.2222222222222222,\"#7201a8\"],[0.3333333333333333,\"#9c179e\"],[0.4444444444444444,\"#bd3786\"],[0.5555555555555556,\"#d8576b\"],[0.6666666666666666,\"#ed7953\"],[0.7777777777777778,\"#fb9f3a\"],[0.8888888888888888,\"#fdca26\"],[1.0,\"#f0f921\"]]}],\"heatmapgl\":[{\"type\":\"heatmapgl\",\"colorbar\":{\"outlinewidth\":0,\"ticks\":\"\"},\"colorscale\":[[0.0,\"#0d0887\"],[0.1111111111111111,\"#46039f\"],[0.2222222222222222,\"#7201a8\"],[0.3333333333333333,\"#9c179e\"],[0.4444444444444444,\"#bd3786\"],[0.5555555555555556,\"#d8576b\"],[0.6666666666666666,\"#ed7953\"],[0.7777777777777778,\"#fb9f3a\"],[0.8888888888888888,\"#fdca26\"],[1.0,\"#f0f921\"]]}],\"contourcarpet\":[{\"type\":\"contourcarpet\",\"colorbar\":{\"outlinewidth\":0,\"ticks\":\"\"}}],\"contour\":[{\"type\":\"contour\",\"colorbar\":{\"outlinewidth\":0,\"ticks\":\"\"},\"colorscale\":[[0.0,\"#0d0887\"],[0.1111111111111111,\"#46039f\"],[0.2222222222222222,\"#7201a8\"],[0.3333333333333333,\"#9c179e\"],[0.4444444444444444,\"#bd3786\"],[0.5555555555555556,\"#d8576b\"],[0.6666666666666666,\"#ed7953\"],[0.7777777777777778,\"#fb9f3a\"],[0.8888888888888888,\"#fdca26\"],[1.0,\"#f0f921\"]]}],\"surface\":[{\"type\":\"surface\",\"colorbar\":{\"outlinewidth\":0,\"ticks\":\"\"},\"colorscale\":[[0.0,\"#0d0887\"],[0.1111111111111111,\"#46039f\"],[0.2222222222222222,\"#7201a8\"],[0.3333333333333333,\"#9c179e\"],[0.4444444444444444,\"#bd3786\"],[0.5555555555555556,\"#d8576b\"],[0.6666666666666666,\"#ed7953\"],[0.7777777777777778,\"#fb9f3a\"],[0.8888888888888888,\"#fdca26\"],[1.0,\"#f0f921\"]]}],\"mesh3d\":[{\"type\":\"mesh3d\",\"colorbar\":{\"outlinewidth\":0,\"ticks\":\"\"}}],\"scatter\":[{\"fillpattern\":{\"fillmode\":\"overlay\",\"size\":10,\"solidity\":0.2},\"type\":\"scatter\"}],\"parcoords\":[{\"type\":\"parcoords\",\"line\":{\"colorbar\":{\"outlinewidth\":0,\"ticks\":\"\"}}}],\"scatterpolargl\":[{\"type\":\"scatterpolargl\",\"marker\":{\"colorbar\":{\"outlinewidth\":0,\"ticks\":\"\"}}}],\"bar\":[{\"error_x\":{\"color\":\"#2a3f5f\"},\"error_y\":{\"color\":\"#2a3f5f\"},\"marker\":{\"line\":{\"color\":\"#E5ECF6\",\"width\":0.5},\"pattern\":{\"fillmode\":\"overlay\",\"size\":10,\"solidity\":0.2}},\"type\":\"bar\"}],\"scattergeo\":[{\"type\":\"scattergeo\",\"marker\":{\"colorbar\":{\"outlinewidth\":0,\"ticks\":\"\"}}}],\"scatterpolar\":[{\"type\":\"scatterpolar\",\"marker\":{\"colorbar\":{\"outlinewidth\":0,\"ticks\":\"\"}}}],\"histogram\":[{\"marker\":{\"pattern\":{\"fillmode\":\"overlay\",\"size\":10,\"solidity\":0.2}},\"type\":\"histogram\"}],\"scattergl\":[{\"type\":\"scattergl\",\"marker\":{\"colorbar\":{\"outlinewidth\":0,\"ticks\":\"\"}}}],\"scatter3d\":[{\"type\":\"scatter3d\",\"line\":{\"colorbar\":{\"outlinewidth\":0,\"ticks\":\"\"}},\"marker\":{\"colorbar\":{\"outlinewidth\":0,\"ticks\":\"\"}}}],\"scattermapbox\":[{\"type\":\"scattermapbox\",\"marker\":{\"colorbar\":{\"outlinewidth\":0,\"ticks\":\"\"}}}],\"scatterternary\":[{\"type\":\"scatterternary\",\"marker\":{\"colorbar\":{\"outlinewidth\":0,\"ticks\":\"\"}}}],\"scattercarpet\":[{\"type\":\"scattercarpet\",\"marker\":{\"colorbar\":{\"outlinewidth\":0,\"ticks\":\"\"}}}],\"carpet\":[{\"aaxis\":{\"endlinecolor\":\"#2a3f5f\",\"gridcolor\":\"white\",\"linecolor\":\"white\",\"minorgridcolor\":\"white\",\"startlinecolor\":\"#2a3f5f\"},\"baxis\":{\"endlinecolor\":\"#2a3f5f\",\"gridcolor\":\"white\",\"linecolor\":\"white\",\"minorgridcolor\":\"white\",\"startlinecolor\":\"#2a3f5f\"},\"type\":\"carpet\"}],\"table\":[{\"cells\":{\"fill\":{\"color\":\"#EBF0F8\"},\"line\":{\"color\":\"white\"}},\"header\":{\"fill\":{\"color\":\"#C8D4E3\"},\"line\":{\"color\":\"white\"}},\"type\":\"table\"}],\"barpolar\":[{\"marker\":{\"line\":{\"color\":\"#E5ECF6\",\"width\":0.5},\"pattern\":{\"fillmode\":\"overlay\",\"size\":10,\"solidity\":0.2}},\"type\":\"barpolar\"}],\"pie\":[{\"automargin\":true,\"type\":\"pie\"}]},\"layout\":{\"autotypenumbers\":\"strict\",\"colorway\":[\"#636efa\",\"#EF553B\",\"#00cc96\",\"#ab63fa\",\"#FFA15A\",\"#19d3f3\",\"#FF6692\",\"#B6E880\",\"#FF97FF\",\"#FECB52\"],\"font\":{\"color\":\"#2a3f5f\"},\"hovermode\":\"closest\",\"hoverlabel\":{\"align\":\"left\"},\"paper_bgcolor\":\"white\",\"plot_bgcolor\":\"#E5ECF6\",\"polar\":{\"bgcolor\":\"#E5ECF6\",\"angularaxis\":{\"gridcolor\":\"white\",\"linecolor\":\"white\",\"ticks\":\"\"},\"radialaxis\":{\"gridcolor\":\"white\",\"linecolor\":\"white\",\"ticks\":\"\"}},\"ternary\":{\"bgcolor\":\"#E5ECF6\",\"aaxis\":{\"gridcolor\":\"white\",\"linecolor\":\"white\",\"ticks\":\"\"},\"baxis\":{\"gridcolor\":\"white\",\"linecolor\":\"white\",\"ticks\":\"\"},\"caxis\":{\"gridcolor\":\"white\",\"linecolor\":\"white\",\"ticks\":\"\"}},\"coloraxis\":{\"colorbar\":{\"outlinewidth\":0,\"ticks\":\"\"}},\"colorscale\":{\"sequential\":[[0.0,\"#0d0887\"],[0.1111111111111111,\"#46039f\"],[0.2222222222222222,\"#7201a8\"],[0.3333333333333333,\"#9c179e\"],[0.4444444444444444,\"#bd3786\"],[0.5555555555555556,\"#d8576b\"],[0.6666666666666666,\"#ed7953\"],[0.7777777777777778,\"#fb9f3a\"],[0.8888888888888888,\"#fdca26\"],[1.0,\"#f0f921\"]],\"sequentialminus\":[[0.0,\"#0d0887\"],[0.1111111111111111,\"#46039f\"],[0.2222222222222222,\"#7201a8\"],[0.3333333333333333,\"#9c179e\"],[0.4444444444444444,\"#bd3786\"],[0.5555555555555556,\"#d8576b\"],[0.6666666666666666,\"#ed7953\"],[0.7777777777777778,\"#fb9f3a\"],[0.8888888888888888,\"#fdca26\"],[1.0,\"#f0f921\"]],\"diverging\":[[0,\"#8e0152\"],[0.1,\"#c51b7d\"],[0.2,\"#de77ae\"],[0.3,\"#f1b6da\"],[0.4,\"#fde0ef\"],[0.5,\"#f7f7f7\"],[0.6,\"#e6f5d0\"],[0.7,\"#b8e186\"],[0.8,\"#7fbc41\"],[0.9,\"#4d9221\"],[1,\"#276419\"]]},\"xaxis\":{\"gridcolor\":\"white\",\"linecolor\":\"white\",\"ticks\":\"\",\"title\":{\"standoff\":15},\"zerolinecolor\":\"white\",\"automargin\":true,\"zerolinewidth\":2},\"yaxis\":{\"gridcolor\":\"white\",\"linecolor\":\"white\",\"ticks\":\"\",\"title\":{\"standoff\":15},\"zerolinecolor\":\"white\",\"automargin\":true,\"zerolinewidth\":2},\"scene\":{\"xaxis\":{\"backgroundcolor\":\"#E5ECF6\",\"gridcolor\":\"white\",\"linecolor\":\"white\",\"showbackground\":true,\"ticks\":\"\",\"zerolinecolor\":\"white\",\"gridwidth\":2},\"yaxis\":{\"backgroundcolor\":\"#E5ECF6\",\"gridcolor\":\"white\",\"linecolor\":\"white\",\"showbackground\":true,\"ticks\":\"\",\"zerolinecolor\":\"white\",\"gridwidth\":2},\"zaxis\":{\"backgroundcolor\":\"#E5ECF6\",\"gridcolor\":\"white\",\"linecolor\":\"white\",\"showbackground\":true,\"ticks\":\"\",\"zerolinecolor\":\"white\",\"gridwidth\":2}},\"shapedefaults\":{\"line\":{\"color\":\"#2a3f5f\"}},\"annotationdefaults\":{\"arrowcolor\":\"#2a3f5f\",\"arrowhead\":0,\"arrowwidth\":1},\"geo\":{\"bgcolor\":\"white\",\"landcolor\":\"#E5ECF6\",\"subunitcolor\":\"white\",\"showland\":true,\"showlakes\":true,\"lakecolor\":\"white\"},\"title\":{\"x\":0.05},\"mapbox\":{\"style\":\"light\"}}},\"width\":750,\"height\":750,\"plot_bgcolor\":\"white\",\"showlegend\":false},                        {\"responsive\": true}                    ).then(function(){\n",
       "                            \n",
       "var gd = document.getElementById('3a07e99e-42d6-4add-9fcb-305b62ae9b75');\n",
       "var x = new MutationObserver(function (mutations, observer) {{\n",
       "        var display = window.getComputedStyle(gd).display;\n",
       "        if (!display || display === 'none') {{\n",
       "            console.log([gd, 'removed!']);\n",
       "            Plotly.purge(gd);\n",
       "            observer.disconnect();\n",
       "        }}\n",
       "}});\n",
       "\n",
       "// Listen for the removal of the full notebook cells\n",
       "var notebookContainer = gd.closest('#notebook-container');\n",
       "if (notebookContainer) {{\n",
       "    x.observe(notebookContainer, {childList: true});\n",
       "}}\n",
       "\n",
       "// Listen for the clearing of the current output cell\n",
       "var outputEl = gd.closest('.output');\n",
       "if (outputEl) {{\n",
       "    x.observe(outputEl, {childList: true});\n",
       "}}\n",
       "\n",
       "                        })                };                });            </script>        </div>"
      ]
     },
     "metadata": {},
     "output_type": "display_data"
    }
   ],
   "source": [
    "fig = go.Figure()\n",
    "\n",
    "# 幅を固定\n",
    "fig.update_layout(\n",
    "    width=750,\n",
    "    height=750,\n",
    ")\n",
    "\n",
    "# 背景を白に変更\n",
    "fig.update_layout(plot_bgcolor='white')    \n",
    "\n",
    "grid_x = []\n",
    "grid_y = []\n",
    "    \n",
    "for node in draw_node_list:\n",
    "    x, y = pos_list[node]\n",
    "    \n",
    "    grid_x.append(x)\n",
    "    grid_y.append(y)\n",
    "\n",
    "label = list(map(str, draw_node_list))\n",
    "\n",
    "fig.add_trace(\n",
    "    go.Scatter(x=grid_x, y=grid_y, mode='markers+text', text=label, marker={'size': 6, 'color': '#333333'}, name='', textposition='top left')\n",
    ")\n",
    "\n",
    "drawed = set()\n",
    "\n",
    "for node in draw_node_list:\n",
    "    if node not in node_list:\n",
    "        continue\n",
    "        \n",
    "    from_x, from_y = pos_list[node]\n",
    "\n",
    "    for i, to, w in edge_info_list[node]:\n",
    "        if (node, to) in drawed:\n",
    "            continue\n",
    "            \n",
    "        to_x, to_y = pos_list[to]\n",
    "        \n",
    "        line_def = {'width': 2, 'color': '#333333'}\n",
    "        \n",
    "        if (node, to) in orig_node_pair:\n",
    "            # 元は最短路               \n",
    "            if (node, to) in del_G12_node_pair:\n",
    "                line_def = {'width': 3, 'color': '#00d5ff'}\n",
    "            else:\n",
    "                line_def = {'width': 3, 'dash': 'dot', 'color': '#00d5ff'}\n",
    "        else:\n",
    "            # 元は最短路以外\n",
    "            if (node, to) in del_G1_node_pair:\n",
    "                line_def = {'width': 3, 'color': '#2cce2e'}\n",
    "\n",
    "            if (node, to) in del_G2_node_pair:\n",
    "                line_def = {'width': 3, 'color': '#ff47dd'}\n",
    "                \n",
    "            if (node, to) in del_G12_node_pair:\n",
    "                line_def = {'width': 3, 'color': '#ec1818'}\n",
    "        \n",
    "        if (node, to) in del_edge:\n",
    "            # 削除辺\n",
    "            line_def = {'width': 3, 'dash': 'dot', 'color': '#ec1818'}\n",
    "            \n",
    "        fig.add_trace(\n",
    "            go.Scatter(x=[from_x, to_x], y=[from_y, to_y], mode='lines', line=line_def, name='')\n",
    "        )\n",
    "        \n",
    "        drawed.add((node, to))\n",
    "        drawed.add((to, node))\n",
    "        \n",
    "fig.update_layout(showlegend=False)\n",
    "fig.show()"
   ]
  },
  {
   "cell_type": "code",
   "execution_count": null,
   "metadata": {},
   "outputs": [],
   "source": []
  },
  {
   "cell_type": "code",
   "execution_count": null,
   "metadata": {},
   "outputs": [],
   "source": []
  }
 ],
 "metadata": {
  "kernelspec": {
   "display_name": "Python 3",
   "language": "python",
   "name": "python3"
  },
  "language_info": {
   "codemirror_mode": {
    "name": "ipython",
    "version": 3
   },
   "file_extension": ".py",
   "mimetype": "text/x-python",
   "name": "python",
   "nbconvert_exporter": "python",
   "pygments_lexer": "ipython3",
   "version": "3.8.10"
  }
 },
 "nbformat": 4,
 "nbformat_minor": 4
}
