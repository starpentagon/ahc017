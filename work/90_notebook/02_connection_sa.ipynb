{
 "cells": [
  {
   "cell_type": "markdown",
   "metadata": {},
   "source": [
    "# テストの実行"
   ]
  },
  {
   "cell_type": "code",
   "execution_count": 35,
   "metadata": {},
   "outputs": [],
   "source": [
    "import os\n",
    "\n",
    "import time\n",
    "import datetime\n",
    "\n",
    "import subprocess\n",
    "import logging\n",
    "from concurrent import futures\n",
    "\n",
    "import numpy as np\n",
    "import pandas as pd"
   ]
  },
  {
   "cell_type": "code",
   "execution_count": 36,
   "metadata": {},
   "outputs": [],
   "source": [
    "TESTSET_DIR = os.path.join('/home', 'jupyter', 'work', '01_testset')\n",
    "PRJ_DIR = os.path.join('/home', 'jupyter', 'work', '03_connection_set')"
   ]
  },
  {
   "cell_type": "markdown",
   "metadata": {},
   "source": [
    "## マスタの読み込み"
   ]
  },
  {
   "cell_type": "code",
   "execution_count": 37,
   "metadata": {},
   "outputs": [],
   "source": [
    "pre_seed_df = pd.read_csv(os.path.join(TESTSET_DIR, '01_test_pre.csv'), usecols=['seed'])\n",
    "sys_seed_df = pd.read_csv(os.path.join(TESTSET_DIR, '02_test_sys.csv'), usecols=['seed'])\n",
    "stress_seed_df = pd.read_csv(os.path.join(TESTSET_DIR, '03_test_stress.csv'), usecols=['seed'])"
   ]
  },
  {
   "cell_type": "markdown",
   "metadata": {},
   "source": [
    "## 実行するロジックの指定"
   ]
  },
  {
   "cell_type": "code",
   "execution_count": 38,
   "metadata": {},
   "outputs": [],
   "source": [
    "# 実行プログラムにタグをつけておく\n",
    "PROG_TAG = 'sa_base_1k'"
   ]
  },
  {
   "cell_type": "code",
   "execution_count": 39,
   "metadata": {},
   "outputs": [],
   "source": [
    "def solve(seed, N, M, D, K, problem, prog_path):\n",
    "    start_time = time.perf_counter()\n",
    "    \n",
    "    command_str = 'echo {} | {}'.format(problem, prog_path)\n",
    "    res = subprocess.run(command_str, stdout=subprocess.PIPE, stderr=subprocess.PIPE, shell=True)\n",
    "\n",
    "    # 経過時間(ミリ秒単位)\n",
    "    e_time = time.perf_counter() - start_time\n",
    "    e_time = int(1000 * e_time)    \n",
    "    #print('{}'.format(prob_id))    \n",
    "    return (seed, N, M, D, K, e_time, res)"
   ]
  },
  {
   "cell_type": "code",
   "execution_count": 40,
   "metadata": {},
   "outputs": [],
   "source": [
    "def run_test(testset_name):\n",
    "    result_df = pd.DataFrame()\n",
    "    future_list = []\n",
    "\n",
    "    logger.info('Start')\n",
    "\n",
    "    testset_path = os.path.join(TESTSET_DIR, testset_name+'.csv')\n",
    "    testset_df = pd.read_csv(testset_path)\n",
    "\n",
    "    with futures.ThreadPoolExecutor(max_workers=9) as executor:\n",
    "        for _, row in testset_df.iterrows():\n",
    "            seed, N, M, D, K, problem = row\n",
    "\n",
    "            # バッチ実行\n",
    "            future = executor.submit(solve, seed=seed,  N=N, M=M, D=D, K=K, problem=problem, prog_path=prog_path)\n",
    "            future_list.append(future)\n",
    "\n",
    "        _ = futures.as_completed(fs=future_list)\n",
    "\n",
    "    for future in future_list:\n",
    "        seed, N, M, D, K, e_time, res = future.result()\n",
    "\n",
    "        # 結果をまとめる\n",
    "        solve_result = []\n",
    "        \n",
    "        solve_result.append(testset_name)\n",
    "\n",
    "        # 問題パラメタ\n",
    "        solve_result.append(seed)\n",
    "        solve_result.append(N)\n",
    "        solve_result.append(M)\n",
    "        solve_result.append(D)\n",
    "        solve_result.append(K)\n",
    "\n",
    "        # 経過時間\n",
    "        solve_result.append(e_time)\n",
    "        \n",
    "        try:\n",
    "            # 非連結になった日数\n",
    "            discon_days = int(res.stderr.decode('utf-8').split()[0].replace('DisConDay=', ''))\n",
    "\n",
    "            # 工事可能日数ごとの辺数\n",
    "            avail_0_cnt = int(res.stderr.decode('utf-8').split()[1].replace('Avail0=', ''))\n",
    "            avail_1_cnt = int(res.stderr.decode('utf-8').split()[2].replace('Avail1=', ''))\n",
    "            avail_2_cnt = int(res.stderr.decode('utf-8').split()[3].replace('Avail2=', ''))\n",
    "            avail_3_cnt = int(res.stderr.decode('utf-8').split()[4].replace('Avail3=', ''))\n",
    "\n",
    "            schedule_room = float(res.stderr.decode('utf-8').split()[5].replace('ScheduleRoom=', ''))\n",
    "                       \n",
    "        except Exception as e:\n",
    "            print('Error: seed={}'.format(seed))\n",
    "            print(e)\n",
    "            return\n",
    "\n",
    "        solve_result.append(discon_days)\n",
    "        solve_result.append(avail_0_cnt)\n",
    "        solve_result.append(avail_1_cnt)\n",
    "        solve_result.append(avail_2_cnt)\n",
    "        solve_result.append(avail_3_cnt)\n",
    "        \n",
    "        solve_result.append(schedule_room)\n",
    "\n",
    "        result_df = pd.concat([result_df, pd.DataFrame(solve_result).T], axis=0)\n",
    "\n",
    "    logger.info('finish!')\n",
    "    \n",
    "    # 結果を整形\n",
    "    result_df.index = range(result_df.shape[0])\n",
    "    result_df.columns = ['testset', 'seed', 'N', 'M', 'D', 'K', 'time', 'discon_days', 'avail_0_cnt', 'avail_1_cnt', 'avail_2_cnt', 'avail_3_cnt', 'schedule_room']\n",
    "\n",
    "    return result_df"
   ]
  },
  {
   "cell_type": "code",
   "execution_count": 48,
   "metadata": {},
   "outputs": [],
   "source": [
    "logger = logging.getLogger(__name__)\n",
    "\n",
    "fmt = \"%(asctime)s: %(message)s\"\n",
    "logging.basicConfig(level=logging.INFO, format=fmt)"
   ]
  },
  {
   "cell_type": "code",
   "execution_count": 54,
   "metadata": {},
   "outputs": [],
   "source": [
    "def get_summary_df(result_df):\n",
    "    # 全体サマリ\n",
    "    summary_all_df = pd.DataFrame()\n",
    "\n",
    "    for testset in np.unique(result_df['testset']):\n",
    "        test_result_df = result_df.query('testset == \"{}\"'.format(testset))\n",
    "\n",
    "        summary_df = pd.DataFrame(\n",
    "        {\n",
    "            'testset': [testset],\n",
    "            \n",
    "            'time_mean': [int(np.mean(test_result_df['time']))],\n",
    "            \n",
    "            'discon_days_mean': [(np.mean(test_result_df['discon_days']))],\n",
    "            'discon_days_min': [min(test_result_df['discon_days'])],\n",
    "            'discon_days_max': [max(test_result_df['discon_days'])],\n",
    "\n",
    "            'avail_0_cnt_mean': [np.mean(test_result_df['avail_0_cnt'])],\n",
    "            'avail_0_cnt_max': [max(test_result_df['avail_0_cnt'])],\n",
    "\n",
    "            'avail_1_cnt_mean': [np.mean(test_result_df['avail_1_cnt'])],\n",
    "            'avail_2_cnt_mean': [np.mean(test_result_df['avail_2_cnt'])],\n",
    "            'avail_3_cnt_mean': [np.mean(test_result_df['avail_3_cnt'])],\n",
    "\n",
    "            'schedule_room_mean': [np.mean(test_result_df['schedule_room'])],\n",
    "            'schedule_room_min': [min(test_result_df['schedule_room'])],\n",
    "\n",
    "            'time_max': [max(test_result_df['time'])],\n",
    "        })\n",
    "\n",
    "        summary_all_df = pd.concat([summary_all_df, summary_df], axis=0)   \n",
    "\n",
    "    summary_all_df['tag'] = PROG_TAG\n",
    "    summary_all_df = summary_all_df[['tag', 'testset', 'time_mean', \n",
    "                                     'discon_days_mean', 'discon_days_min', 'discon_days_max',\n",
    "                                     'avail_0_cnt_mean', 'avail_0_cnt_max',\n",
    "                                     'avail_1_cnt_mean', 'avail_2_cnt_mean', 'avail_3_cnt_mean',\n",
    "                                     'schedule_room_mean', 'schedule_room_min',\n",
    "                                     'time_max']]\n",
    "    \n",
    "    return summary_all_df"
   ]
  },
  {
   "cell_type": "code",
   "execution_count": 55,
   "metadata": {},
   "outputs": [
    {
     "name": "stderr",
     "output_type": "stream",
     "text": [
      "2023-01-29 15:35:11,723: Start\n",
      "2023-01-29 15:38:05,521: finish!\n"
     ]
    }
   ],
   "source": [
    "PROG_NAME_LIST = ['main']\n",
    "#PROG_NAME_LIST = ['main', 'main_off']\n",
    "\n",
    "#testset_name = '00_test_mini'\n",
    "#testset_name = '01_test_pre'\n",
    "#testset_name = '02_test_sys'\n",
    "testset_name = '03_test_stress'\n",
    "\n",
    "result_dict = {}\n",
    "summary_all_dict = {}\n",
    "\n",
    "for PROG_NAME in PROG_NAME_LIST:\n",
    "    prog_path = os.path.join(PRJ_DIR, PROG_NAME)\n",
    "    \n",
    "    result_df = pd.DataFrame()\n",
    "    \n",
    "    testset_result_df = run_test(testset_name)\n",
    "    result_df = pd.concat([result_df, testset_result_df], axis=0)\n",
    "    \n",
    "    result_dict[PROG_NAME] = result_df\n",
    "    summary_all_dict[PROG_NAME] = get_summary_df(result_df)    "
   ]
  },
  {
   "cell_type": "code",
   "execution_count": 56,
   "metadata": {},
   "outputs": [
    {
     "data": {
      "text/html": [
       "<div>\n",
       "<style scoped>\n",
       "    .dataframe tbody tr th:only-of-type {\n",
       "        vertical-align: middle;\n",
       "    }\n",
       "\n",
       "    .dataframe tbody tr th {\n",
       "        vertical-align: top;\n",
       "    }\n",
       "\n",
       "    .dataframe thead th {\n",
       "        text-align: right;\n",
       "    }\n",
       "</style>\n",
       "<table border=\"1\" class=\"dataframe\">\n",
       "  <thead>\n",
       "    <tr style=\"text-align: right;\">\n",
       "      <th></th>\n",
       "      <th>tag</th>\n",
       "      <th>testset</th>\n",
       "      <th>time_mean</th>\n",
       "      <th>discon_days_mean</th>\n",
       "      <th>discon_days_min</th>\n",
       "      <th>discon_days_max</th>\n",
       "      <th>avail_0_cnt_mean</th>\n",
       "      <th>avail_0_cnt_max</th>\n",
       "      <th>avail_1_cnt_mean</th>\n",
       "      <th>avail_2_cnt_mean</th>\n",
       "      <th>avail_3_cnt_mean</th>\n",
       "      <th>schedule_room_mean</th>\n",
       "      <th>schedule_room_min</th>\n",
       "      <th>time_max</th>\n",
       "    </tr>\n",
       "  </thead>\n",
       "  <tbody>\n",
       "    <tr>\n",
       "      <th>0</th>\n",
       "      <td>sa_base_1k</td>\n",
       "      <td>01_test_pre</td>\n",
       "      <td>164</td>\n",
       "      <td>0.0</td>\n",
       "      <td>0</td>\n",
       "      <td>0</td>\n",
       "      <td>0.0</td>\n",
       "      <td>0</td>\n",
       "      <td>11.28</td>\n",
       "      <td>33.7</td>\n",
       "      <td>62.18</td>\n",
       "      <td>10.785462</td>\n",
       "      <td>3.23881</td>\n",
       "      <td>311</td>\n",
       "    </tr>\n",
       "  </tbody>\n",
       "</table>\n",
       "</div>"
      ],
      "text/plain": [
       "          tag      testset  time_mean  discon_days_mean  discon_days_min  \\\n",
       "0  sa_base_1k  01_test_pre        164               0.0                0   \n",
       "\n",
       "   discon_days_max  avail_0_cnt_mean  avail_0_cnt_max  avail_1_cnt_mean  \\\n",
       "0                0               0.0                0             11.28   \n",
       "\n",
       "   avail_2_cnt_mean  avail_3_cnt_mean  schedule_room_mean  schedule_room_min  \\\n",
       "0              33.7             62.18           10.785462            3.23881   \n",
       "\n",
       "   time_max  \n",
       "0       311  "
      ]
     },
     "execution_count": 56,
     "metadata": {},
     "output_type": "execute_result"
    }
   ],
   "source": [
    "# pre test\n",
    "result_sub_df = pd.merge(pre_seed_df, result_df, on='seed')\n",
    "summary_df = get_summary_df(result_sub_df)\n",
    "summary_df['testset'] = '01_test_pre'\n",
    "\n",
    "summary_df"
   ]
  },
  {
   "cell_type": "code",
   "execution_count": 57,
   "metadata": {},
   "outputs": [
    {
     "data": {
      "text/html": [
       "<div>\n",
       "<style scoped>\n",
       "    .dataframe tbody tr th:only-of-type {\n",
       "        vertical-align: middle;\n",
       "    }\n",
       "\n",
       "    .dataframe tbody tr th {\n",
       "        vertical-align: top;\n",
       "    }\n",
       "\n",
       "    .dataframe thead th {\n",
       "        text-align: right;\n",
       "    }\n",
       "</style>\n",
       "<table border=\"1\" class=\"dataframe\">\n",
       "  <thead>\n",
       "    <tr style=\"text-align: right;\">\n",
       "      <th></th>\n",
       "      <th>tag</th>\n",
       "      <th>testset</th>\n",
       "      <th>time_mean</th>\n",
       "      <th>discon_days_mean</th>\n",
       "      <th>discon_days_min</th>\n",
       "      <th>discon_days_max</th>\n",
       "      <th>avail_0_cnt_mean</th>\n",
       "      <th>avail_0_cnt_max</th>\n",
       "      <th>avail_1_cnt_mean</th>\n",
       "      <th>avail_2_cnt_mean</th>\n",
       "      <th>avail_3_cnt_mean</th>\n",
       "      <th>schedule_room_mean</th>\n",
       "      <th>schedule_room_min</th>\n",
       "      <th>time_max</th>\n",
       "    </tr>\n",
       "  </thead>\n",
       "  <tbody>\n",
       "    <tr>\n",
       "      <th>0</th>\n",
       "      <td>sa_base_1k</td>\n",
       "      <td>02_test_sys</td>\n",
       "      <td>149</td>\n",
       "      <td>0.0</td>\n",
       "      <td>0</td>\n",
       "      <td>0</td>\n",
       "      <td>0.0</td>\n",
       "      <td>0</td>\n",
       "      <td>27.4715</td>\n",
       "      <td>57.428</td>\n",
       "      <td>92.2515</td>\n",
       "      <td>9.083988</td>\n",
       "      <td>1.95137</td>\n",
       "      <td>344</td>\n",
       "    </tr>\n",
       "  </tbody>\n",
       "</table>\n",
       "</div>"
      ],
      "text/plain": [
       "          tag      testset  time_mean  discon_days_mean  discon_days_min  \\\n",
       "0  sa_base_1k  02_test_sys        149               0.0                0   \n",
       "\n",
       "   discon_days_max  avail_0_cnt_mean  avail_0_cnt_max  avail_1_cnt_mean  \\\n",
       "0                0               0.0                0           27.4715   \n",
       "\n",
       "   avail_2_cnt_mean  avail_3_cnt_mean  schedule_room_mean  schedule_room_min  \\\n",
       "0            57.428           92.2515            9.083988            1.95137   \n",
       "\n",
       "   time_max  \n",
       "0       344  "
      ]
     },
     "execution_count": 57,
     "metadata": {},
     "output_type": "execute_result"
    }
   ],
   "source": [
    "# sys test\n",
    "summary_df = pd.DataFrame()\n",
    "\n",
    "if testset_name == '02_test_sys' or testset_name == '03_test_stress':\n",
    "    result_sub_df = pd.merge(sys_seed_df, result_df, on='seed')\n",
    "    summary_df = get_summary_df(result_sub_df)\n",
    "    summary_df['testset'] = '02_test_sys'\n",
    "\n",
    "summary_df"
   ]
  },
  {
   "cell_type": "code",
   "execution_count": 58,
   "metadata": {},
   "outputs": [
    {
     "data": {
      "text/html": [
       "<div>\n",
       "<style scoped>\n",
       "    .dataframe tbody tr th:only-of-type {\n",
       "        vertical-align: middle;\n",
       "    }\n",
       "\n",
       "    .dataframe tbody tr th {\n",
       "        vertical-align: top;\n",
       "    }\n",
       "\n",
       "    .dataframe thead th {\n",
       "        text-align: right;\n",
       "    }\n",
       "</style>\n",
       "<table border=\"1\" class=\"dataframe\">\n",
       "  <thead>\n",
       "    <tr style=\"text-align: right;\">\n",
       "      <th></th>\n",
       "      <th>tag</th>\n",
       "      <th>testset</th>\n",
       "      <th>time_mean</th>\n",
       "      <th>discon_days_mean</th>\n",
       "      <th>discon_days_min</th>\n",
       "      <th>discon_days_max</th>\n",
       "      <th>avail_0_cnt_mean</th>\n",
       "      <th>avail_0_cnt_max</th>\n",
       "      <th>avail_1_cnt_mean</th>\n",
       "      <th>avail_2_cnt_mean</th>\n",
       "      <th>avail_3_cnt_mean</th>\n",
       "      <th>schedule_room_mean</th>\n",
       "      <th>schedule_room_min</th>\n",
       "      <th>time_max</th>\n",
       "    </tr>\n",
       "  </thead>\n",
       "  <tbody>\n",
       "    <tr>\n",
       "      <th>0</th>\n",
       "      <td>sa_base_1k</td>\n",
       "      <td>03_test_stress</td>\n",
       "      <td>149</td>\n",
       "      <td>0.0</td>\n",
       "      <td>0</td>\n",
       "      <td>0</td>\n",
       "      <td>0.0</td>\n",
       "      <td>0</td>\n",
       "      <td>26.5303</td>\n",
       "      <td>56.4204</td>\n",
       "      <td>91.5712</td>\n",
       "      <td>9.091341</td>\n",
       "      <td>1.875</td>\n",
       "      <td>369</td>\n",
       "    </tr>\n",
       "  </tbody>\n",
       "</table>\n",
       "</div>"
      ],
      "text/plain": [
       "          tag         testset  time_mean  discon_days_mean  discon_days_min  \\\n",
       "0  sa_base_1k  03_test_stress        149               0.0                0   \n",
       "\n",
       "   discon_days_max  avail_0_cnt_mean  avail_0_cnt_max  avail_1_cnt_mean  \\\n",
       "0                0               0.0                0           26.5303   \n",
       "\n",
       "   avail_2_cnt_mean  avail_3_cnt_mean  schedule_room_mean  schedule_room_min  \\\n",
       "0           56.4204           91.5712            9.091341              1.875   \n",
       "\n",
       "   time_max  \n",
       "0       369  "
      ]
     },
     "execution_count": 58,
     "metadata": {},
     "output_type": "execute_result"
    }
   ],
   "source": [
    "# stress test\n",
    "summary_df = pd.DataFrame()\n",
    "\n",
    "if testset_name == '03_test_stress':\n",
    "    result_sub_df = pd.merge(stress_seed_df, result_df, on='seed')\n",
    "    summary_df = get_summary_df(result_sub_df)\n",
    "    summary_df['testset'] = '03_test_stress'\n",
    "\n",
    "summary_df"
   ]
  },
  {
   "cell_type": "code",
   "execution_count": null,
   "metadata": {},
   "outputs": [],
   "source": []
  },
  {
   "cell_type": "code",
   "execution_count": null,
   "metadata": {},
   "outputs": [],
   "source": []
  },
  {
   "cell_type": "code",
   "execution_count": null,
   "metadata": {},
   "outputs": [],
   "source": []
  },
  {
   "cell_type": "markdown",
   "metadata": {},
   "source": [
    "# 結果ログの保存"
   ]
  },
  {
   "cell_type": "code",
   "execution_count": 51,
   "metadata": {},
   "outputs": [],
   "source": [
    "t_now = datetime.datetime.now() + datetime.timedelta(hours=9)\n",
    "time_str = t_now.strftime('%Y%m%d_%H%M')\n",
    "\n",
    "for PROG_NAME in PROG_NAME_LIST:\n",
    "    result_df = result_dict[PROG_NAME]\n",
    "    \n",
    "    for testset in np.unique(result_df['testset']):\n",
    "        csv_df = result_df.query('testset == \"{}\"'.format(testset))\n",
    "        csv_df.to_csv(PRJ_DIR+'/result/{}_{}_{}_{}.csv'.format(time_str,PROG_TAG, testset, PROG_NAME), index=False)"
   ]
  },
  {
   "cell_type": "code",
   "execution_count": null,
   "metadata": {},
   "outputs": [],
   "source": []
  }
 ],
 "metadata": {
  "kernelspec": {
   "display_name": "Python 3",
   "language": "python",
   "name": "python3"
  },
  "language_info": {
   "codemirror_mode": {
    "name": "ipython",
    "version": 3
   },
   "file_extension": ".py",
   "mimetype": "text/x-python",
   "name": "python",
   "nbconvert_exporter": "python",
   "pygments_lexer": "ipython3",
   "version": "3.8.10"
  }
 },
 "nbformat": 4,
 "nbformat_minor": 4
}
